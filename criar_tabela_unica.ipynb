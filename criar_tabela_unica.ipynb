{
 "cells": [
  {
   "cell_type": "code",
   "execution_count": 1,
   "id": "652b6a12",
   "metadata": {
    "execution": {
     "iopub.execute_input": "2023-07-24T16:20:48.489568Z",
     "iopub.status.busy": "2023-07-24T16:20:48.488567Z",
     "iopub.status.idle": "2023-07-24T16:20:49.356566Z",
     "shell.execute_reply": "2023-07-24T16:20:49.355569Z"
    },
    "papermill": {
     "duration": 0.875962,
     "end_time": "2023-07-24T16:20:49.359565",
     "exception": false,
     "start_time": "2023-07-24T16:20:48.483603",
     "status": "completed"
    },
    "tags": []
   },
   "outputs": [],
   "source": [
    "import pandas as pd\n",
    "\n",
    "with open(\"canais.txt\", \"r\") as f:\n",
    "    canais = f.readlines()\n",
    "\n",
    "first_channel = canais[0].split(\"/@\")[-1].strip()"
   ]
  },
  {
   "cell_type": "code",
   "execution_count": 2,
   "id": "f0d4dd7b",
   "metadata": {
    "execution": {
     "iopub.execute_input": "2023-07-24T16:20:49.367566Z",
     "iopub.status.busy": "2023-07-24T16:20:49.366567Z",
     "iopub.status.idle": "2023-07-24T16:20:49.403080Z",
     "shell.execute_reply": "2023-07-24T16:20:49.402079Z"
    },
    "papermill": {
     "duration": 0.043516,
     "end_time": "2023-07-24T16:20:49.406080",
     "exception": false,
     "start_time": "2023-07-24T16:20:49.362564",
     "status": "completed"
    },
    "tags": []
   },
   "outputs": [],
   "source": [
    "lifetime = pd.read_csv(f\"./data/{first_channel}/lifetime.csv\")\n",
    "\n",
    "last_30 = pd.read_csv(f\"./data/{first_channel}/last_30days.csv\")"
   ]
  },
  {
   "cell_type": "code",
   "execution_count": 3,
   "id": "ab9cee05",
   "metadata": {
    "execution": {
     "iopub.execute_input": "2023-07-24T16:20:49.413080Z",
     "iopub.status.busy": "2023-07-24T16:20:49.413080Z",
     "iopub.status.idle": "2023-07-24T16:20:49.434078Z",
     "shell.execute_reply": "2023-07-24T16:20:49.433077Z"
    },
    "papermill": {
     "duration": 0.027999,
     "end_time": "2023-07-24T16:20:49.437080",
     "exception": false,
     "start_time": "2023-07-24T16:20:49.409081",
     "status": "completed"
    },
    "tags": []
   },
   "outputs": [],
   "source": [
    "lifetime_30days = (\n",
    "    pd.concat([lifetime, last_30], axis=1)\n",
    "    .drop(columns=[\"date_joined\", \"Channel\"])\n",
    "    .rename(\n",
    "        columns={\n",
    "            \"views\": \"views_last_30_days\",\n",
    "            \"subs\": \"subs_last_30_days\",\n",
    "            \"total_videos\": \"total_uploads\",\n",
    "        }\n",
    "    )\n",
    ")\n",
    "\n",
    "lifetime_30days.to_csv(f\"./data/{first_channel}/lifetime_30days.csv\", index=False)"
   ]
  },
  {
   "cell_type": "code",
   "execution_count": null,
   "id": "e002af00",
   "metadata": {
    "papermill": {
     "duration": 0.002996,
     "end_time": "2023-07-24T16:20:49.442079",
     "exception": false,
     "start_time": "2023-07-24T16:20:49.439083",
     "status": "completed"
    },
    "tags": []
   },
   "outputs": [],
   "source": []
  }
 ],
 "metadata": {
  "kernelspec": {
   "display_name": "venv",
   "language": "python",
   "name": "python3"
  },
  "language_info": {
   "codemirror_mode": {
    "name": "ipython",
    "version": 3
   },
   "file_extension": ".py",
   "mimetype": "text/x-python",
   "name": "python",
   "nbconvert_exporter": "python",
   "pygments_lexer": "ipython3",
   "version": "3.10.9"
  },
  "papermill": {
   "default_parameters": {},
   "duration": 3.896569,
   "end_time": "2023-07-24T16:20:49.780569",
   "environment_variables": {},
   "exception": null,
   "input_path": "criar_tabela_unica.ipynb",
   "output_path": "criar_tabela_unica.ipynb",
   "parameters": {},
   "start_time": "2023-07-24T16:20:45.884000",
   "version": "2.4.0"
  }
 },
 "nbformat": 4,
 "nbformat_minor": 5
}