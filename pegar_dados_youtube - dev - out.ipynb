{
 "cells": [
  {
   "cell_type": "code",
   "execution_count": 1,
   "id": "635b8866",
   "metadata": {
    "execution": {
     "iopub.execute_input": "2023-11-21T16:23:13.813252Z",
     "iopub.status.busy": "2023-11-21T16:23:13.812201Z",
     "iopub.status.idle": "2023-11-21T16:23:15.637593Z",
     "shell.execute_reply": "2023-11-21T16:23:15.636591Z"
    },
    "papermill": {
     "duration": 1.834394,
     "end_time": "2023-11-21T16:23:15.640593",
     "exception": false,
     "start_time": "2023-11-21T16:23:13.806199",
     "status": "completed"
    },
    "tags": []
   },
   "outputs": [],
   "source": [
    "# %%\n",
    "import re, json, time\n",
    "from selenium import webdriver\n",
    "import os\n",
    "\n",
    "\n",
    "from parsel import Selector\n",
    "\n",
    "import pandas as pd\n",
    "import numpy as np"
   ]
  },
  {
   "cell_type": "code",
   "execution_count": 2,
   "id": "f583d579",
   "metadata": {
    "execution": {
     "iopub.execute_input": "2023-11-21T16:23:15.652567Z",
     "iopub.status.busy": "2023-11-21T16:23:15.651572Z",
     "iopub.status.idle": "2023-11-21T16:23:15.712567Z",
     "shell.execute_reply": "2023-11-21T16:23:15.711566Z"
    },
    "papermill": {
     "duration": 0.069945,
     "end_time": "2023-11-21T16:23:15.715563",
     "exception": false,
     "start_time": "2023-11-21T16:23:15.645618",
     "status": "completed"
    },
    "tags": []
   },
   "outputs": [],
   "source": [
    "def scroll_page(url):\n",
    "    # service = Service(EdgeDriverManager().install())\n",
    "\n",
    "    # options = webdriver.EdgeOptions()\n",
    "    # options.add_argument(\"--headless\")\n",
    "    # options.add_argument(\"--lang=en\")\n",
    "    # options.add_argument(\n",
    "    #     \"user-agent=Mozilla/5.0 (Windows NT 10.0; Win64; x64) AppleWebKit/537.36 (KHTML, like Gecko) Edge/104.0.0.0 Safari/537.36\"\n",
    "    # )\n",
    "\n",
    "    driver = webdriver.Edge()\n",
    "    driver.get(url)\n",
    "    driver.implicitly_wait(10)\n",
    "\n",
    "    time.sleep(3)\n",
    "    selector = Selector(driver.page_source)\n",
    "    driver.quit()\n",
    "\n",
    "    return selector\n",
    "\n",
    "\n",
    "def scrape_all_data(selector):\n",
    "    youtube_video_page = []\n",
    "\n",
    "    all_script_tags = selector.css(\"script\").getall()\n",
    "\n",
    "    title = selector.css(\".title .ytd-video-primary-info-renderer::text\").get()\n",
    "\n",
    "    # https://regex101.com/r/gHeLwZ/1\n",
    "    views = int(\n",
    "        re.search(r\"(.*)\\s\", selector.css(\".view-count::text\").get())\n",
    "        .group()\n",
    "        .replace(\",\", \"\")\n",
    "    )\n",
    "\n",
    "    # https://regex101.com/r/9OGwJp/1\n",
    "    likes = int(\n",
    "        re.search(\n",
    "            r\"(.*)\\s\",\n",
    "            selector.css(\n",
    "                \"#top-level-buttons-computed > ytd-toggle-button-renderer:first-child #text::attr(aria-label)\"\n",
    "            ).get(),\n",
    "        )\n",
    "        .group()\n",
    "        .replace(\",\", \"\")\n",
    "    )\n",
    "\n",
    "    date = selector.css(\"#info-strings yt-formatted-string::text\").get()\n",
    "\n",
    "    duration = selector.css(\".ytp-time-duration::text\").get()\n",
    "\n",
    "    # https://regex101.com/r/0JNma3/1\n",
    "    keywords = (\n",
    "        \"\".join(\n",
    "            re.findall(r'\"keywords\":\\[(.*)\\],\"channelId\":\".*\"', str(all_script_tags))\n",
    "        )\n",
    "        .replace('\"', \"\")\n",
    "        .split(\",\")\n",
    "    )\n",
    "\n",
    "    # https://regex101.com/r/9VhH1s/1\n",
    "    thumbnail = re.findall(\n",
    "        r'\\[{\"url\":\"(\\S+)\",\"width\":\\d*,\"height\":\\d*},', str(all_script_tags)\n",
    "    )[0].split('\",')[0]\n",
    "\n",
    "    channel = {\n",
    "        # https://regex101.com/r/xFUzq5/1\n",
    "        \"id\": \"\".join(\n",
    "            re.findall(r'\"channelId\":\"(.*)\",\"isOwnerViewing\"', str(all_script_tags))\n",
    "        ),\n",
    "        \"name\": selector.css(\"#channel-name a::text\").get(),\n",
    "        \"link\": f'https://www.youtube.com{selector.css(\"#channel-name a::attr(href)\").get()}',\n",
    "        \"subscribers\": selector.css(\"#owner-sub-count::text\").get(),\n",
    "        \"thumbnail\": selector.css(\"#img::attr(src)\").get(),\n",
    "    }\n",
    "\n",
    "    description = selector.css(\n",
    "        \".ytd-expandable-video-description-body-renderer span:nth-child(1)::text\"\n",
    "    ).get()\n",
    "\n",
    "    hash_tags = [\n",
    "        {\n",
    "            \"name\": hash_tag.css(\"::text\").get(),\n",
    "            \"link\": f'https://www.youtube.com{hash_tag.css(\"::attr(href)\").get()}',\n",
    "        }\n",
    "        for hash_tag in selector.css(\n",
    "            \".ytd-expandable-video-description-body-renderer a\"\n",
    "        )\n",
    "    ]\n",
    "\n",
    "    # https://regex101.com/r/onRk9j/1\n",
    "    category = \"\".join(\n",
    "        re.findall(r'\"category\":\"(.*)\",\"publishDate\"', str(all_script_tags))\n",
    "    )\n",
    "\n",
    "    comments_amount = int(\n",
    "        selector.css(\"#count .count-text span:nth-child(1)::text\")\n",
    "        .get()\n",
    "        .replace(\",\", \"\")\n",
    "    )\n",
    "\n",
    "    comments = []\n",
    "\n",
    "    for comment in selector.css(\"#contents > ytd-comment-thread-renderer\"):\n",
    "        comments.append(\n",
    "            {\n",
    "                \"author\": comment.css(\"#author-text span::text\").get().strip(),\n",
    "                \"link\": f'https://www.youtube.com{comment.css(\"#author-text::attr(href)\").get()}',\n",
    "                \"date\": comment.css(\".published-time-text a::text\").get(),\n",
    "                \"likes\": comment.css(\"#vote-count-middle::text\").get().strip(),\n",
    "                \"comment\": comment.css(\"#content-text::text\").get(),\n",
    "                \"avatar\": comment.css(\"#author-thumbnail #img::attr(src)\").get(),\n",
    "            }\n",
    "        )\n",
    "\n",
    "    suggested_videos = []\n",
    "\n",
    "    for video in selector.css(\"ytd-compact-video-renderer\"):\n",
    "        suggested_videos.append(\n",
    "            {\n",
    "                \"title\": video.css(\"#video-title::text\").get().strip(),\n",
    "                \"link\": f'https://www.youtube.com{video.css(\"#thumbnail::attr(href)\").get()}',\n",
    "                \"channel_name\": video.css(\"#channel-name #text::text\").get(),\n",
    "                \"date\": video.css(\"#metadata-line span:nth-child(2)::text\").get(),\n",
    "                \"views\": video.css(\"#metadata-line span:nth-child(1)::text\").get(),\n",
    "                \"duration\": video.css(\"#overlays #text::text\").get().strip(),\n",
    "                \"thumbnail\": video.css(\"#thumbnail img::attr(src)\").get(),\n",
    "            }\n",
    "        )\n",
    "\n",
    "    youtube_video_page.append(\n",
    "        {\n",
    "            \"title\": title,\n",
    "            \"views\": views,\n",
    "            \"likes\": likes,\n",
    "            \"date\": date,\n",
    "            \"duration\": duration,\n",
    "            \"channel\": channel,\n",
    "            \"keywords\": keywords,\n",
    "            \"thumbnail\": thumbnail,\n",
    "            \"description\": description,\n",
    "            \"hash_tags\": hash_tags,\n",
    "            \"category\": category,\n",
    "            \"suggested_videos\": suggested_videos,\n",
    "            \"comments_amount\": comments_amount,\n",
    "            \"comments\": comments,\n",
    "        }\n",
    "    )\n",
    "\n",
    "    print(json.dumps(youtube_video_page, indent=2, ensure_ascii=False))\n",
    "\n",
    "\n",
    "def get_info_from_channel(channel_link: str):\n",
    "    driver = webdriver.Edge()\n",
    "\n",
    "    driver.get(channel_link)\n",
    "    driver.maximize_window()\n",
    "\n",
    "    time.sleep(5)\n",
    "\n",
    "    selector = Selector(text=driver.page_source)\n",
    "    driver.quit()\n",
    "\n",
    "    # channel title\n",
    "    channel_title = selector.css(\"#text-container #text::text\").get()\n",
    "\n",
    "    # date joined //*[@id=\"right-column\"]/yt-formatted-string[2]/span[2]\n",
    "    date_joined = selector.css(\n",
    "        \"#additional-info-container > table > tbody > tr:nth-child(7) > td:nth-child(2) > yt-attributed-string > span > span::text\"\n",
    "    ).get()\n",
    "\n",
    "    print(date_joined)\n",
    "\n",
    "    # total views //*[@id=\"right-column\"]/yt-formatted-string[3]\n",
    "\n",
    "    total_views = selector.css(\n",
    "        \"#additional-info-container > table > tbody > tr:nth-child(6) > td:nth-child(2)::text\"\n",
    "    ).get()\n",
    "\n",
    "    # total subs //*[@id=\"subscriber-count\"]\n",
    "\n",
    "    total_subs = selector.css(\"#subscriber-count::text\").get()\n",
    "\n",
    "    # total videos //*[@id=\"videos-count\"]/span[1]\n",
    "\n",
    "    total_videos = selector.css(\"#videos-count > span:nth-child(1)::text\").get()\n",
    "\n",
    "    channel_info = {\n",
    "        \"channel_title\": channel_title,\n",
    "        \"date_joined\": date_joined,\n",
    "        \"total_views\": total_views,\n",
    "        \"total_subs\": total_subs,\n",
    "        \"total_videos\": total_videos,\n",
    "    }\n",
    "\n",
    "    print(json.dumps(channel_info, indent=2, ensure_ascii=False))\n",
    "\n",
    "    return pd.DataFrame(channel_info, index=[0])\n",
    "\n",
    "\n",
    "def get_info_from_video(selector):\n",
    "    # title\n",
    "    title = \"\".join(selector.xpath('//*[@id=\"title\"]/h1//text()').getall()).strip()\n",
    "\n",
    "    # date\n",
    "    date = selector.css(\"#info-strings yt-formatted-string::text\").get()\n",
    "\n",
    "    # views\n",
    "    views = selector.css(\"span.bold.style-scope.yt-formatted-string::text\").get()\n",
    "\n",
    "    # likes\n",
    "    likes = selector.css(\n",
    "        \"#segmented-like-button > ytd-toggle-button-renderer > yt-button-shape > button::attr(aria-label)\"\n",
    "    ).get()\n",
    "\n",
    "    # comments\n",
    "    comments = selector.css(\"yt-formatted-string::text\").getall()\n",
    "    next_item = None\n",
    "    for i, item in enumerate(comments):\n",
    "        if item == \"Comentários\":\n",
    "            if i < len(comments) - 1:\n",
    "                next_item = comments[i + 1]\n",
    "                break\n",
    "\n",
    "    comments_amount = next_item\n",
    "\n",
    "    # keywords\n",
    "    # all_script_tags = selector.css(\"script\").getall()\n",
    "    # keywords = (\n",
    "    #     \"\".join(\n",
    "    #         re.findall(r'\"keywords\":\\[(.*)\\],\"channelId\":\".*\"', str(all_script_tags))\n",
    "    #     )\n",
    "    #     .replace('\"', \"\")\n",
    "    #     .split(\",\")\n",
    "    # )\n",
    "\n",
    "    print(title, views, likes, date, comments_amount)\n",
    "\n",
    "    try:\n",
    "        likes = re.search(r\"(\\d+)\", likes).group()\n",
    "    except Exception as e:\n",
    "        likes = 0\n",
    "    # views = re.search(r\"(\\d+)\", views).group()\n",
    "\n",
    "    return pd.DataFrame.from_dict(\n",
    "        {\n",
    "            \"title\": [title],\n",
    "            \"views\": [views],\n",
    "            \"likes\": [likes],\n",
    "            \"date\": [date],\n",
    "            \"comments_amount\": [comments_amount],\n",
    "            # \"keywords\": [keywords],\n",
    "        }\n",
    "    )\n",
    "\n",
    "\n",
    "def parse_channel(selector) -> pd.DataFrame:\n",
    "    subscribers = selector.css(\n",
    "        \"#subscriber-count.style-scope.ytd-c4-tabbed-header-renderer::text\"\n",
    "    ).get()\n",
    "\n",
    "    # subscribers = re.search(r\"(\\d+)\", subscribers).group()\n",
    "\n",
    "    # get recent 5 videos\n",
    "    channel_name = selector.css(\n",
    "        \"div#channel-header-container yt-formatted-string#text::text\"\n",
    "    ).get()\n",
    "\n",
    "    if channel_name is None:\n",
    "        channel_name = selector.css(\"div#channel-header-container h1#text::text\").get()\n",
    "\n",
    "    print(\"Channel name: \", channel_name)\n",
    "\n",
    "    videos = selector.css(\n",
    "        \"div.style-scope.ytd-rich-item-renderer ytd-rich-grid-media div.style-scope.ytd-rich-grid-media a#thumbnail.yt-simple-endpoint.inline-block.style-scope.ytd-thumbnail::attr(href)\"\n",
    "    ).getall()[:5]\n",
    "\n",
    "    u, ind = np.unique(videos, return_index=True)\n",
    "    videos = u[np.argsort(ind)]\n",
    "\n",
    "    df = pd.DataFrame()\n",
    "    for v in videos:\n",
    "        print(\"Video: \", v)\n",
    "\n",
    "        result = scroll_page(f\"https://www.youtube.com{v}\")\n",
    "\n",
    "        info = get_info_from_video(result)\n",
    "        info[\"channel_name\"] = channel_name\n",
    "        info[\"subscribers\"] = subscribers\n",
    "        # print(info)\n",
    "\n",
    "        df = pd.concat([df, info])\n",
    "        # df = df.append(info, ignore_index=True)\n",
    "\n",
    "    print(\"Videos i got: \", len(videos))\n",
    "    return df\n",
    "\n",
    "\n",
    "def parse_top_channel(channel_link: str) -> pd.DataFrame:\n",
    "    from selenium.webdriver.support.ui import WebDriverWait\n",
    "    from selenium.webdriver.support import expected_conditions as EC\n",
    "    from selenium.webdriver.common.by import By\n",
    "\n",
    "    driver = webdriver.Edge()\n",
    "    wait = WebDriverWait(driver, 3)\n",
    "    driver.implicitly_wait(10)\n",
    "\n",
    "    driver.get(channel_link)\n",
    "    driver.maximize_window()\n",
    "\n",
    "    # //*[@id=\"chips\"]/yt-chip-cloud-chip-renderer[2]\n",
    "    # wait for page to load\n",
    "\n",
    "    try:\n",
    "        wait.until(\n",
    "            EC.presence_of_element_located(\n",
    "                (By.XPATH, '//*[@id=\"chips\"]/yt-chip-cloud-chip-renderer[2]')\n",
    "            )\n",
    "        ).click()\n",
    "    except Exception as e:\n",
    "        print(\"Nao possui aba de videos em alta\")\n",
    "        # return empty dataframe\n",
    "        # return pd.DataFrame()\n",
    "\n",
    "    time.sleep(3)\n",
    "    selector = Selector(text=driver.page_source)\n",
    "    driver.quit()\n",
    "\n",
    "    channel_name = (\n",
    "        selector.css(\"div#channel-header-container yt-formatted-string#text::text\")\n",
    "        .get()\n",
    "        .strip()\n",
    "    )\n",
    "\n",
    "    videos = selector.css(\n",
    "        \"div.style-scope.ytd-rich-item-renderer ytd-rich-grid-media div.style-scope.ytd-rich-grid-media a#thumbnail.yt-simple-endpoint.inline-block.style-scope.ytd-thumbnail::attr(href)\"\n",
    "    ).getall()[:5]\n",
    "\n",
    "    u, ind = np.unique(videos, return_index=True)\n",
    "    videos = u[np.argsort(ind)]\n",
    "\n",
    "    df = pd.DataFrame()\n",
    "    for v in videos:\n",
    "        # print(\"Video: \", v)\n",
    "\n",
    "        result = scroll_page(f\"https://www.youtube.com{v}\")\n",
    "\n",
    "        info = get_info_from_video(result)\n",
    "        print(info)\n",
    "        info[\"channel_name\"] = channel_name\n",
    "        # print(info)\n",
    "\n",
    "        df = pd.concat([df, info])\n",
    "        # df = df.append(info, ignore_index=True)\n",
    "\n",
    "    print(\"Videos i got: \", len(videos))\n",
    "    return df"
   ]
  },
  {
   "attachments": {},
   "cell_type": "markdown",
   "id": "8832a998",
   "metadata": {
    "papermill": {
     "duration": 0.003992,
     "end_time": "2023-11-21T16:23:15.723567",
     "exception": false,
     "start_time": "2023-11-21T16:23:15.719575",
     "status": "completed"
    },
    "tags": []
   },
   "source": [
    "Pegar dados"
   ]
  },
  {
   "cell_type": "code",
   "execution_count": 3,
   "id": "3846da54",
   "metadata": {
    "execution": {
     "iopub.execute_input": "2023-11-21T16:23:15.734562Z",
     "iopub.status.busy": "2023-11-21T16:23:15.733594Z",
     "iopub.status.idle": "2023-11-21T16:39:20.078643Z",
     "shell.execute_reply": "2023-11-21T16:39:20.074584Z"
    },
    "papermill": {
     "duration": 964.358038,
     "end_time": "2023-11-21T16:39:20.084606",
     "exception": false,
     "start_time": "2023-11-21T16:23:15.726568",
     "status": "completed"
    },
    "tags": []
   },
   "outputs": [
    {
     "name": "stdout",
     "output_type": "stream",
     "text": [
      "Channel name:  Syngenta Digital Brasil\n",
      "Video:  /watch?v=6a1a2bVrXjM\n"
     ]
    },
    {
     "name": "stdout",
     "output_type": "stream",
     "text": [
      "Caminho da inovação  visualizações   Marque este vídeo como \"Gostei\" com mais 2 pessoas 20 de nov. de 2023 Transcrição\n",
      "Video:  /watch?v=qZMXpQbX0Sk\n"
     ]
    },
    {
     "name": "stdout",
     "output_type": "stream",
     "text": [
      "Qual praga está colocando a sua lavoura em risco? 90 visualizações Marque este vídeo como \"Gostei\" com mais 3 pessoas 19 de set. de 2023 Transcrição\n",
      "Video:  /watch?v=8ArzJ042mj0\n"
     ]
    },
    {
     "name": "stdout",
     "output_type": "stream",
     "text": [
      "Plataforma Cropwise - Soluções conectadas, sem retrabalho. 207 visualizações Marque este vídeo como \"Gostei\" com mais 1 pessoa 8 de set. de 2023 Transcrição\n",
      "Video:  /watch?v=zIg-gZRfLM8\n"
     ]
    },
    {
     "name": "stdout",
     "output_type": "stream",
     "text": [
      "Digital no suporte a tomada de decisão. 512 visualizações Marque este vídeo como \"Gostei\" com mais 16 pessoas 29 de jun. de 2023 1\n",
      "Video:  /watch?v=xqUzwhGsu_w\n"
     ]
    },
    {
     "name": "stdout",
     "output_type": "stream",
     "text": [
      "Cases de Reinvenção de 2022 170 visualizações Marque este vídeo como \"Gostei\" com mais 6 pessoas 5 de jan. de 2023 Transcrição\n",
      "Videos i got:  5\n"
     ]
    },
    {
     "name": "stdout",
     "output_type": "stream",
     "text": [
      "Cropwise Protector | Pré-plantio: monitoramento de daninhas 127 mil visualizações Marque este vídeo como \"Gostei\" com mais 24 pessoas 4 de nov. de 2020 Transcrição\n",
      "                                               title                  views  \\\n",
      "0  Cropwise Protector | Pré-plantio: monitorament...  127 mil visualizações   \n",
      "\n",
      "  likes               date comments_amount  \n",
      "0    24  4 de nov. de 2020     Transcrição  \n"
     ]
    },
    {
     "name": "stdout",
     "output_type": "stream",
     "text": [
      "Syngenta Digital | Chegou a evolução da agricultura digital 114 mil visualizações Marque este vídeo como \"Gostei\" com mais 92 pessoas 15 de jun. de 2020 2\n",
      "                                               title                  views  \\\n",
      "0  Syngenta Digital | Chegou a evolução da agricu...  114 mil visualizações   \n",
      "\n",
      "  likes                date comments_amount  \n",
      "0    92  15 de jun. de 2020               2  \n"
     ]
    },
    {
     "name": "stdout",
     "output_type": "stream",
     "text": [
      "#WeConnectAg: Tecnologia na agricultura é aposta para produtividade 58 mil visualizações Marque este vídeo como \"Gostei\" com mais 4 pessoas 10 de fev. de 2020 Transcrição\n",
      "                                               title                 views  \\\n",
      "0  #WeConnectAg: Tecnologia na agricultura é apos...  58 mil visualizações   \n",
      "\n",
      "  likes                date comments_amount  \n",
      "0     4  10 de fev. de 2020     Transcrição  \n"
     ]
    },
    {
     "name": "stdout",
     "output_type": "stream",
     "text": [
      "#WeConnectAg: estamos vivendo a quarta revolução agrícola? 54 mil visualizações Marque este vídeo como \"Gostei\" com mais 2 pessoas 3 de fev. de 2020 1\n",
      "                                               title                 views  \\\n",
      "0  #WeConnectAg: estamos vivendo a quarta revoluç...  54 mil visualizações   \n",
      "\n",
      "  likes               date comments_amount  \n",
      "0     2  3 de fev. de 2020               1  \n"
     ]
    },
    {
     "name": "stdout",
     "output_type": "stream",
     "text": [
      "#WeConnectAg: Mudanças climáticas pedem nova agricultura United Nations Marque este vídeo como \"Gostei\" com mais 2 pessoas 5 de fev. de 2020 1\n",
      "                                               title           views likes  \\\n",
      "0  #WeConnectAg: Mudanças climáticas pedem nova a...  United Nations     2   \n",
      "\n",
      "                date comments_amount  \n",
      "0  5 de fev. de 2020               1  \n",
      "Videos i got:  5\n"
     ]
    },
    {
     "name": "stdout",
     "output_type": "stream",
     "text": [
      "Inscreveu-se em 25 de jul. de 2014\n",
      "{\n",
      "  \"channel_title\": \"Syngenta Digital Brasil\",\n",
      "  \"date_joined\": \"Inscreveu-se em 25 de jul. de 2014\",\n",
      "  \"total_views\": \"833.066 visualizações\",\n",
      "  \"total_subs\": \"3,26 mil inscritos\",\n",
      "  \"total_videos\": \"141\"\n",
      "}\n"
     ]
    },
    {
     "name": "stdout",
     "output_type": "stream",
     "text": [
      "Channel name:  Farmbox\n",
      "Video:  /watch?v=I92iBEQ-Ljk\n"
     ]
    },
    {
     "name": "stdout",
     "output_type": "stream",
     "text": [
      "Do plantio à colheita, ao seu lado! 111 visualizações Marque este vídeo como \"Gostei\" com mais 15 pessoas 9 de out. de 2023 5\n",
      "Video:  /watch?v=sYqpcIzA49Q\n"
     ]
    },
    {
     "name": "stdout",
     "output_type": "stream",
     "text": [
      "Conheça o Labs: Um mundo de possibilidades dentro do Farmbox. 🌱 143 visualizações Marque este vídeo como \"Gostei\" com mais 17 pessoas 3 de ago. de 2023 4\n",
      "Video:  /watch?v=NAObwZ2gzE0\n"
     ]
    },
    {
     "name": "stdout",
     "output_type": "stream",
     "text": [
      "Agroimpar e Farmbox - História de sucesso 111 visualizações Marque este vídeo como \"Gostei\" com mais 12 pessoas 27 de abr. de 2023 5\n",
      "Video:  /watch?v=qZXsN55UJOE\n"
     ]
    },
    {
     "name": "stdout",
     "output_type": "stream",
     "text": [
      " None None None None\n",
      "Video:  /watch?v=6g3B9toQN4c\n"
     ]
    },
    {
     "name": "stdout",
     "output_type": "stream",
     "text": [
      "Alex Bruno - Fazenda Estrela Boscoli 420 visualizações Marque este vídeo como \"Gostei\" com mais 52 pessoas 3 de jan. de 2023 3\n",
      "Videos i got:  5\n"
     ]
    },
    {
     "name": "stdout",
     "output_type": "stream",
     "text": [
      " None None None None\n",
      "  title views  likes  date comments_amount\n",
      "0        None      0  None            None\n"
     ]
    },
    {
     "name": "stdout",
     "output_type": "stream",
     "text": [
      "Gestão agronômica na palma da mão 6,3 mil visualizações Marque este vídeo como \"Gostei\" com mais 21 pessoas 8 de jul. de 2022 1\n",
      "                               title                  views likes  \\\n",
      "0  Gestão agronômica na palma da mão  6,3 mil visualizações    21   \n",
      "\n",
      "                date comments_amount  \n",
      "0  8 de jul. de 2022               1  \n"
     ]
    },
    {
     "name": "stdout",
     "output_type": "stream",
     "text": [
      "Farmbox: Poder de Gestão Agronômica 2,4 mil visualizações Marque este vídeo como \"Gostei\" com mais 20 pessoas 27 de abr. de 2020 Transcrição\n",
      "                                 title                  views likes  \\\n",
      "0  Farmbox: Poder de Gestão Agronômica  2,4 mil visualizações    20   \n",
      "\n",
      "                 date comments_amount  \n",
      "0  27 de abr. de 2020     Transcrição  \n"
     ]
    },
    {
     "name": "stdout",
     "output_type": "stream",
     "text": [
      "Franciosi Agro e Farmbox 1,8 mil visualizações Marque este vídeo como \"Gostei\" com mais 61 pessoas 1 de set. de 2021 1\n",
      "                      title                  views likes               date  \\\n",
      "0  Franciosi Agro e Farmbox  1,8 mil visualizações    61  1 de set. de 2021   \n",
      "\n",
      "  comments_amount  \n",
      "0               1  \n"
     ]
    },
    {
     "name": "stdout",
     "output_type": "stream",
     "text": [
      "Ricardo Atarasi - Fazenda 7 Povos 1,3 mil visualizações Marque este vídeo como \"Gostei\" com mais 62 pessoas 16 de ago. de 2021 1\n",
      "                               title                  views likes  \\\n",
      "0  Ricardo Atarasi - Fazenda 7 Povos  1,3 mil visualizações    62   \n",
      "\n",
      "                 date comments_amount  \n",
      "0  16 de ago. de 2021               1  \n",
      "Videos i got:  5\n"
     ]
    },
    {
     "name": "stdout",
     "output_type": "stream",
     "text": [
      "Inscreveu-se em 29 de jul. de 2019\n",
      "{\n",
      "  \"channel_title\": \"Farmbox\",\n",
      "  \"date_joined\": \"Inscreveu-se em 29 de jul. de 2019\",\n",
      "  \"total_views\": \"27.752 visualizações\",\n",
      "  \"total_subs\": \"553 inscritos\",\n",
      "  \"total_videos\": \"32\"\n",
      "}\n"
     ]
    },
    {
     "name": "stdout",
     "output_type": "stream",
     "text": [
      "Channel name:  xarvio Digital Farming Solutions\n",
      "Video:  /watch?v=avzyuqMkRUI\n"
     ]
    },
    {
     "name": "stdout",
     "output_type": "stream",
     "text": [
      "xarvio John Deere - Optimierung der Pflanzenproduktion 47 visualizações Marque este vídeo como \"Gostei\" com mais 0 pessoa 12 de nov. de 2023 Transcrição\n",
      "Video:  /watch?v=t06SNUvkZW8\n"
     ]
    },
    {
     "name": "stdout",
     "output_type": "stream",
     "text": [
      "xarvio John Deere Distributor ENG 27 visualizações Marque este vídeo como \"Gostei\" com mais 1 pessoa 12 de nov. de 2023 Transcrição\n",
      "Video:  /watch?v=EACPffcFxcU\n"
     ]
    },
    {
     "name": "stdout",
     "output_type": "stream",
     "text": [
      "xarvio John Deere - Heikos Erfahrungsbericht - Das Prinzip und seine Vorteile 118 visualizações Marque este vídeo como \"Gostei\" com mais 1 pessoa 11 de nov. de 2023 Transcrição\n",
      "Video:  /watch?v=LKbGZm9aalY\n"
     ]
    },
    {
     "name": "stdout",
     "output_type": "stream",
     "text": [
      "xarvio John Deere - Heiko's Testimonial on the approach and the benefits 11 visualizações Marque este vídeo como \"Gostei\" com mais 0 pessoa 11 de nov. de 2023 Transcrição\n",
      "Video:  /watch?v=2qTCFupJRZo\n"
     ]
    },
    {
     "name": "stdout",
     "output_type": "stream",
     "text": [
      "xarvio und John Deere - Ein erfolgreiches Pilotprojekt 23 visualizações Marque este vídeo como \"Gostei\" com mais 1 pessoa 11 de nov. de 2023 Transcrição\n",
      "Videos i got:  5\n"
     ]
    },
    {
     "name": "stdout",
     "output_type": "stream",
     "text": [
      "xarvio SCOUTING स्काउटिंग -कृषक मित्र 6,9 mi de visualizações Marque este vídeo como \"Gostei\" com mais 115 pessoas 22 de abr. de 2021 3\n",
      "                                   title                    views likes  \\\n",
      "0  xarvio SCOUTING स्काउटिंग -कृषक मित्र  6,9 mi de visualizações   115   \n",
      "\n",
      "                 date comments_amount  \n",
      "0  22 de abr. de 2021               3  \n"
     ]
    },
    {
     "name": "stdout",
     "output_type": "stream",
     "text": [
      "xarvio SCOUTING - Asistentul agricol din buzunarul dvs. 2,8 mi de visualizações Marque este vídeo como \"Gostei\" com mais 13 pessoas 27 de abr. de 2021 xarvio SCOUTING - Asistentul agricol din buzunarul dvs.\n",
      "                                               title                    views  \\\n",
      "0  xarvio SCOUTING - Asistentul agricol din buzun...  2,8 mi de visualizações   \n",
      "\n",
      "  likes                date                                    comments_amount  \n",
      "0    13  27 de abr. de 2021  xarvio SCOUTING - Asistentul agricol din buzun...  \n"
     ]
    },
    {
     "name": "stdout",
     "output_type": "stream",
     "text": [
      "xarvio SCOUTING (ES) 2,7 mi de visualizações Marque este vídeo como \"Gostei\" com mais 14 pessoas 27 de abr. de 2021 xarvio SCOUTING (ES)\n",
      "                  title                    views likes                date  \\\n",
      "0  xarvio SCOUTING (ES)  2,7 mi de visualizações    14  27 de abr. de 2021   \n",
      "\n",
      "        comments_amount  \n",
      "0  xarvio SCOUTING (ES)  \n"
     ]
    },
    {
     "name": "stdout",
     "output_type": "stream",
     "text": [
      "xarvio FIELD MANAGER [EN] 1,9 mi de visualizações Marque este vídeo como \"Gostei\" com mais 43 pessoas 11 de abr. de 2019 1\n",
      "                       title                    views likes  \\\n",
      "0  xarvio FIELD MANAGER [EN]  1,9 mi de visualizações    43   \n",
      "\n",
      "                 date comments_amount  \n",
      "0  11 de abr. de 2019               1  \n"
     ]
    },
    {
     "name": "stdout",
     "output_type": "stream",
     "text": [
      "xarvio SCOUTING (PL) Automatyczna diagnostyka pól 934 mil visualizações Marque este vídeo como \"Gostei\" com mais 17 pessoas 3 de set. de 2020 1\n",
      "                                               title                  views  \\\n",
      "0  xarvio SCOUTING (PL) Automatyczna diagnostyka pól  934 mil visualizações   \n",
      "\n",
      "  likes               date comments_amount  \n",
      "0    17  3 de set. de 2020               1  \n",
      "Videos i got:  5\n"
     ]
    },
    {
     "name": "stdout",
     "output_type": "stream",
     "text": [
      "Inscreveu-se em 1 de abr. de 2019\n",
      "{\n",
      "  \"channel_title\": \"xarvio Digital Farming Solutions\",\n",
      "  \"date_joined\": \"Inscreveu-se em 1 de abr. de 2019\",\n",
      "  \"total_views\": \"19.743.313 visualizações\",\n",
      "  \"total_subs\": \"1,99 mil inscritos\",\n",
      "  \"total_videos\": \"363\"\n",
      "}\n"
     ]
    },
    {
     "name": "stdout",
     "output_type": "stream",
     "text": [
      "Channel name:  FieldView TV\n",
      "Video:  /watch?v=jEJXF_-Ejhg\n"
     ]
    },
    {
     "name": "stdout",
     "output_type": "stream",
     "text": [
      "Melhores funcionalidades digitais para a gestão da fazenda | Conexão FieldView™ 222 visualizações Marque este vídeo como \"Gostei\" com mais 3 pessoas 24 de out. de 2023 Transcrição\n",
      "Video:  /watch?v=UcxZCemHFU4\n"
     ]
    },
    {
     "name": "stdout",
     "output_type": "stream",
     "text": [
      "Usando os pins georreferenciados | Conexão FieldView™️ 725 visualizações Marque este vídeo como \"Gostei\" com mais 2 pessoas 17 de out. de 2023 Transcrição\n",
      "Video:  /watch?v=u0GNdJG066A\n"
     ]
    },
    {
     "name": "stdout",
     "output_type": "stream",
     "text": [
      "Qual é o melhor manejo contra anomalia da soja? 39 visualizações Marque este vídeo como \"Gostei\" com mais 4 pessoas 11 de out. de 2023 Transcrição\n",
      "Video:  /watch?v=keRHuU1EUec\n"
     ]
    },
    {
     "name": "stdout",
     "output_type": "stream",
     "text": [
      "3 agricultores que usaram o monitoramento digital a seu favor | Conexão FieldView™ 442 visualizações Marque este vídeo como \"Gostei\" com mais 6 pessoas 10 de out. de 2023 Transcrição\n",
      "Video:  /watch?v=Za5KRhA0ito\n"
     ]
    },
    {
     "name": "stdout",
     "output_type": "stream",
     "text": [
      "Diagnóstico FieldView™, como usar? | Conexão FieldView™ 68 visualizações Marque este vídeo como \"Gostei\" com mais 7 pessoas 3 de out. de 2023 Transcrição\n",
      "Videos i got:  5\n"
     ]
    },
    {
     "name": "stdout",
     "output_type": "stream",
     "text": [
      "Mas afinal, o que é o FieldView™? - Ep. 21 823 mil visualizações Marque este vídeo como \"Gostei\" com mais 254 pessoas 15 de mai. de 2018 7\n",
      "                                        title                  views likes  \\\n",
      "0  Mas afinal, o que é o FieldView™? - Ep. 21  823 mil visualizações   254   \n",
      "\n",
      "                 date comments_amount  \n",
      "0  15 de mai. de 2018               7  \n"
     ]
    },
    {
     "name": "stdout",
     "output_type": "stream",
     "text": [
      "FieldView™ – Teaser – Você conecta e evolui_ 627 mil visualizações Marque este vídeo como \"Gostei\" com mais 35 pessoas 3 de mai. de 2023 Transcrição\n",
      "                                          title                  views likes  \\\n",
      "0  FieldView™ – Teaser – Você conecta e evolui_  627 mil visualizações    35   \n",
      "\n",
      "                date comments_amount  \n",
      "0  3 de mai. de 2023     Transcrição  \n"
     ]
    },
    {
     "name": "stdout",
     "output_type": "stream",
     "text": [
      "Sua Fazenda Digital – FieldView™ – Você conecta e evolui_ 625 mil visualizações Marque este vídeo como \"Gostei\" com mais 44 pessoas 24 de mai. de 2023 Transcrição\n",
      "                                               title                  views  \\\n",
      "0  Sua Fazenda Digital – FieldView™ – Você conect...  625 mil visualizações   \n",
      "\n",
      "  likes                date comments_amount  \n",
      "0    44  24 de mai. de 2023     Transcrição  \n"
     ]
    },
    {
     "name": "stdout",
     "output_type": "stream",
     "text": [
      "Você conecta e evolui_ 605 mil visualizações Marque este vídeo como \"Gostei\" com mais 21 pessoas 10 de mai. de 2023 2\n",
      "                    title                  views likes                date  \\\n",
      "0  Você conecta e evolui_  605 mil visualizações    21  10 de mai. de 2023   \n",
      "\n",
      "  comments_amount  \n",
      "0               2  \n"
     ]
    },
    {
     "name": "stdout",
     "output_type": "stream",
     "text": [
      "De pai para filho – FieldView™ – Você conecta e evolui_ 519 mil visualizações Marque este vídeo como \"Gostei\" com mais 8 pessoas 17 de mai. de 2023 Transcrição\n",
      "                                               title                  views  \\\n",
      "0  De pai para filho – FieldView™ – Você conecta ...  519 mil visualizações   \n",
      "\n",
      "  likes                date comments_amount  \n",
      "0     8  17 de mai. de 2023     Transcrição  \n",
      "Videos i got:  5\n"
     ]
    },
    {
     "name": "stdout",
     "output_type": "stream",
     "text": [
      "Inscreveu-se em 9 de out. de 2015\n",
      "{\n",
      "  \"channel_title\": \"FieldView TV\",\n",
      "  \"date_joined\": \"Inscreveu-se em 9 de out. de 2015\",\n",
      "  \"total_views\": \"10.345.865 visualizações\",\n",
      "  \"total_subs\": \"10,6 mil inscritos\",\n",
      "  \"total_videos\": \"289\"\n",
      "}\n"
     ]
    },
    {
     "name": "stdout",
     "output_type": "stream",
     "text": [
      "Channel name:  Aegro\n",
      "Video:  /watch?v=EgxE-4S0s70\n"
     ]
    },
    {
     "name": "stdout",
     "output_type": "stream",
     "text": [
      "9 anos de Aegro 73 visualizações Marque este vídeo como \"Gostei\" com mais 5 pessoas 1 de nov. de 2023 Transcrição\n",
      "Video:  /watch?v=U0ZwJpTDc18\n"
     ]
    },
    {
     "name": "stdout",
     "output_type": "stream",
     "text": [
      "Como a Fazenda 4 Maravilhas integrou informações essenciais da pecuária e lavoura com o Aegro 1,2 mil visualizações Marque este vídeo como \"Gostei\" com mais 15 pessoas 25 de out. de 2023 Transcrição\n",
      "Video:  /watch?v=Vi97Qmp5y94\n"
     ]
    },
    {
     "name": "stdout",
     "output_type": "stream",
     "text": [
      "Como a Fazenda Agro Ivers alcançou 42% de margem de lucro na safra utilizando o Aegro 30 mil visualizações Marque este vídeo como \"Gostei\" com mais 115 pessoas 21 de set. de 2023 Transcrição\n",
      "Video:  /watch?v=C9X9eBrCFxY\n"
     ]
    },
    {
     "name": "stdout",
     "output_type": "stream",
     "text": [
      "Como a Fazenda Alvorada Bueno dobrou a quantidade de área plantada utilizando o Aegro 27 mil visualizações Marque este vídeo como \"Gostei\" com mais 37 pessoas 25 de ago. de 2023 Transcrição\n",
      "Video:  /watch?v=uthccjcgekw\n"
     ]
    },
    {
     "name": "stdout",
     "output_type": "stream",
     "text": [
      "Como o grupo Nutriva Cereais maximizou sua rentabilidade usando o Aegro 115 mil visualizações Marque este vídeo como \"Gostei\" com mais 222 pessoas 2 de jun. de 2023 3\n",
      "Videos i got:  5\n"
     ]
    },
    {
     "name": "stdout",
     "output_type": "stream",
     "text": [
      "História de sucesso #SouAegro - George Vital 175 mil visualizações Marque este vídeo como \"Gostei\" com mais 79 pessoas 8 de mar. de 2023 2\n",
      "                                          title                  views likes  \\\n",
      "0  História de sucesso #SouAegro - George Vital  175 mil visualizações    79   \n",
      "\n",
      "                date comments_amount  \n",
      "0  8 de mar. de 2023               2  \n"
     ]
    },
    {
     "name": "stdout",
     "output_type": "stream",
     "text": [
      "Como o grupo Nutriva Cereais maximizou sua rentabilidade usando o Aegro 115 mil visualizações Marque este vídeo como \"Gostei\" com mais 222 pessoas 2 de jun. de 2023 3\n",
      "                                               title                  views  \\\n",
      "0  Como o grupo Nutriva Cereais maximizou sua ren...  115 mil visualizações   \n",
      "\n",
      "  likes               date comments_amount  \n",
      "0   222  2 de jun. de 2023               3  \n"
     ]
    },
    {
     "name": "stdout",
     "output_type": "stream",
     "text": [
      "Conheça o aplicativo Aegro para gestão de fazendas 106 mil visualizações Marque este vídeo como \"Gostei\" com mais 33 pessoas 27 de out. de 2020 Conheça o aplicativo Aegro para gestão de fazendas\n",
      "                                               title                  views  \\\n",
      "0  Conheça o aplicativo Aegro para gestão de faze...  106 mil visualizações   \n",
      "\n",
      "  likes                date                                    comments_amount  \n",
      "0    33  27 de out. de 2020  Conheça o aplicativo Aegro para gestão de faze...  \n"
     ]
    },
    {
     "name": "stdout",
     "output_type": "stream",
     "text": [
      "História de sucesso #SouAegro - Oberdan Ermita 104 mil visualizações Marque este vídeo como \"Gostei\" com mais 57 pessoas 28 de mar. de 2023 Transcrição\n",
      "                                            title                  views  \\\n",
      "0  História de sucesso #SouAegro - Oberdan Ermita  104 mil visualizações   \n",
      "\n",
      "  likes                date comments_amount  \n",
      "0    57  28 de mar. de 2023     Transcrição  \n"
     ]
    },
    {
     "name": "stdout",
     "output_type": "stream",
     "text": [
      " None None None None\n",
      "  title views  likes  date comments_amount\n",
      "0        None      0  None            None\n",
      "Videos i got:  5\n"
     ]
    },
    {
     "name": "stdout",
     "output_type": "stream",
     "text": [
      "Inscreveu-se em 27 de jun. de 2015\n",
      "{\n",
      "  \"channel_title\": \"Aegro\",\n",
      "  \"date_joined\": \"Inscreveu-se em 27 de jun. de 2015\",\n",
      "  \"total_views\": \"1.014.378 visualizações\",\n",
      "  \"total_subs\": \"9,11 mil inscritos\",\n",
      "  \"total_videos\": \"169\"\n",
      "}\n"
     ]
    }
   ],
   "source": [
    "# %%\n",
    "with open(\"canais.txt\", \"r\") as f:\n",
    "    # read each line as a item in a list and remove the \\n\n",
    "    canais = [line.strip() for line in f.readlines()]\n",
    "\n",
    "base_path = f\"./data/{canais[0].split('@')[-1]}/\"\n",
    "\n",
    "df = pd.DataFrame()\n",
    "df_top = pd.DataFrame()\n",
    "df_lifetime = pd.DataFrame()\n",
    "for ch in canais:\n",
    "    # recent videos\n",
    "    result = scroll_page(ch + \"/videos\")\n",
    "    df_channel = parse_channel(result)\n",
    "    df = pd.concat([df, df_channel])\n",
    "\n",
    "    # # top videos\n",
    "    df_top_channel = parse_top_channel(ch + \"/videos\")\n",
    "    df_top = pd.concat([df_top, df_top_channel])\n",
    "\n",
    "    # lifetime info\n",
    "    df_lifetime_channel = get_info_from_channel(ch + \"/about\")\n",
    "    df_lifetime = pd.concat([df_lifetime, df_lifetime_channel])\n",
    "\n",
    "\n",
    "os.makedirs(base_path, exist_ok=True)\n",
    "\n",
    "df.to_csv(base_path + \"videos.csv\", index=False)\n",
    "df_top.to_csv(base_path + \"top_videos.csv\", index=False)\n",
    "df_lifetime.to_csv(base_path + \"lifetime.csv\", index=False)"
   ]
  },
  {
   "attachments": {},
   "cell_type": "markdown",
   "id": "ec517bf2",
   "metadata": {
    "papermill": {
     "duration": 0.010001,
     "end_time": "2023-11-21T16:39:20.107583",
     "exception": false,
     "start_time": "2023-11-21T16:39:20.097582",
     "status": "completed"
    },
    "tags": []
   },
   "source": [
    "last 30 days"
   ]
  },
  {
   "cell_type": "code",
   "execution_count": 4,
   "id": "e87f972f",
   "metadata": {
    "execution": {
     "iopub.execute_input": "2023-11-21T16:39:20.140582Z",
     "iopub.status.busy": "2023-11-21T16:39:20.139581Z",
     "iopub.status.idle": "2023-11-21T16:40:56.869349Z",
     "shell.execute_reply": "2023-11-21T16:40:56.867374Z"
    },
    "papermill": {
     "duration": 96.761755,
     "end_time": "2023-11-21T16:40:56.881337",
     "exception": false,
     "start_time": "2023-11-21T16:39:20.119582",
     "status": "completed"
    },
    "tags": []
   },
   "outputs": [
    {
     "name": "stdout",
     "output_type": "stream",
     "text": [
      "['@syngentadigitalbrasil', '@Farmboxapp', '@xarvioDigitalFarmingSolutions', '@FieldViewTV', '@Aegro']\n"
     ]
    }
   ],
   "source": [
    "# read channel IDs\n",
    "\n",
    "with open(\"canais.txt\", \"r\") as f:\n",
    "    canais = f.readlines()\n",
    "\n",
    "\n",
    "canais = [c.strip() for c in canais]\n",
    "# take only the string after the last slash\n",
    "canais = [c.split(\"/\")[-1] for c in canais]\n",
    "\n",
    "print(canais)\n",
    "\n",
    "base_url = \"https://socialblade.com/youtube/channel/\"\n",
    "\n",
    "social_blade_data = []\n",
    "for c in canais:\n",
    "    response = scroll_page(base_url + c)\n",
    "\n",
    "    # last 30 days views #socialblade-user-content > div:nth-child(23) > div:nth-child(3) > span\n",
    "    views = response.css(\n",
    "        \"#socialblade-user-content > div:nth-child(23) > div:nth-child(3) > span::text\"\n",
    "    ).get()\n",
    "    subs = response.css(\n",
    "        \"#socialblade-user-content > div:nth-child(23) > div:nth-child(2) > span::text\"\n",
    "    ).get()\n",
    "\n",
    "    if views is None or subs is None:\n",
    "        views = response.css(\n",
    "            \"#socialblade-user-content > div:nth-child(16) > div:nth-child(3) > span::text\"\n",
    "        ).get()\n",
    "        subs = response.css(\n",
    "            \"#socialblade-user-content > div:nth-child(16) > div:nth-child(2) > span::text\"\n",
    "        ).get()\n",
    "\n",
    "    social_blade_data.append({\"Channel\": c, \"views\": views, \"subs\": subs})\n",
    "\n",
    "last_30days = pd.DataFrame(social_blade_data)\n",
    "last_30days = last_30days.fillna(\"0\")\n",
    "\n",
    "last_30days.to_parquet(\n",
    "    f'data/{canais[0].split(\"@\")[-1]}/last_30_days.parquet', index=False\n",
    ")"
   ]
  }
 ],
 "metadata": {
  "kernelspec": {
   "display_name": "venv",
   "language": "python",
   "name": "python3"
  },
  "language_info": {
   "codemirror_mode": {
    "name": "ipython",
    "version": 3
   },
   "file_extension": ".py",
   "mimetype": "text/x-python",
   "name": "python",
   "nbconvert_exporter": "python",
   "pygments_lexer": "ipython3",
   "version": "3.10.9"
  },
  "papermill": {
   "default_parameters": {},
   "duration": 1069.823217,
   "end_time": "2023-11-21T16:40:57.484464",
   "environment_variables": {},
   "exception": null,
   "input_path": "pegar_dados_youtube - dev.ipynb",
   "output_path": "pegar_dados_youtube - dev - out.ipynb",
   "parameters": {},
   "start_time": "2023-11-21T16:23:07.661247",
   "version": "2.4.0"
  }
 },
 "nbformat": 4,
 "nbformat_minor": 5
}