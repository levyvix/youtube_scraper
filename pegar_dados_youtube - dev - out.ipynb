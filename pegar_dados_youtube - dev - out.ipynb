{
 "cells": [
  {
   "cell_type": "code",
   "execution_count": 1,
   "id": "635b8866",
   "metadata": {
    "execution": {
     "iopub.execute_input": "2023-12-05T16:45:10.258161Z",
     "iopub.status.busy": "2023-12-05T16:45:10.257160Z",
     "iopub.status.idle": "2023-12-05T16:45:11.943848Z",
     "shell.execute_reply": "2023-12-05T16:45:11.942848Z"
    },
    "papermill": {
     "duration": 1.695723,
     "end_time": "2023-12-05T16:45:11.946849",
     "exception": false,
     "start_time": "2023-12-05T16:45:10.251126",
     "status": "completed"
    },
    "tags": []
   },
   "outputs": [],
   "source": [
    "# %%\n",
    "import re, json, time\n",
    "from selenium import webdriver\n",
    "import os\n",
    "\n",
    "\n",
    "from parsel import Selector\n",
    "\n",
    "import pandas as pd\n",
    "import numpy as np"
   ]
  },
  {
   "cell_type": "code",
   "execution_count": 2,
   "id": "f583d579",
   "metadata": {
    "execution": {
     "iopub.execute_input": "2023-12-05T16:45:11.959848Z",
     "iopub.status.busy": "2023-12-05T16:45:11.958849Z",
     "iopub.status.idle": "2023-12-05T16:45:12.007169Z",
     "shell.execute_reply": "2023-12-05T16:45:12.006246Z"
    },
    "papermill": {
     "duration": 0.0564,
     "end_time": "2023-12-05T16:45:12.010249",
     "exception": false,
     "start_time": "2023-12-05T16:45:11.953849",
     "status": "completed"
    },
    "tags": []
   },
   "outputs": [],
   "source": [
    "def scroll_page(url):\n",
    "    # service = Service(EdgeDriverManager().install())\n",
    "\n",
    "    # options = webdriver.EdgeOptions()\n",
    "    # options.add_argument(\"--headless\")\n",
    "    # options.add_argument(\"--lang=en\")\n",
    "    # options.add_argument(\n",
    "    #     \"user-agent=Mozilla/5.0 (Windows NT 10.0; Win64; x64) AppleWebKit/537.36 (KHTML, like Gecko) Edge/104.0.0.0 Safari/537.36\"\n",
    "    # )\n",
    "\n",
    "    driver = webdriver.Edge()\n",
    "    driver.get(url)\n",
    "    driver.implicitly_wait(10)\n",
    "\n",
    "    time.sleep(3)\n",
    "    selector = Selector(driver.page_source)\n",
    "    driver.quit()\n",
    "\n",
    "    return selector\n",
    "\n",
    "\n",
    "def scrape_all_data(selector):\n",
    "    youtube_video_page = []\n",
    "\n",
    "    all_script_tags = selector.css(\"script\").getall()\n",
    "\n",
    "    title = selector.css(\".title .ytd-video-primary-info-renderer::text\").get()\n",
    "\n",
    "    # https://regex101.com/r/gHeLwZ/1\n",
    "    views = int(\n",
    "        re.search(r\"(.*)\\s\", selector.css(\".view-count::text\").get())\n",
    "        .group()\n",
    "        .replace(\",\", \"\")\n",
    "    )\n",
    "\n",
    "    # https://regex101.com/r/9OGwJp/1\n",
    "    likes = int(\n",
    "        re.search(\n",
    "            r\"(.*)\\s\",\n",
    "            selector.css(\n",
    "                \"#top-level-buttons-computed > ytd-toggle-button-renderer:first-child #text::attr(aria-label)\"\n",
    "            ).get(),\n",
    "        )\n",
    "        .group()\n",
    "        .replace(\",\", \"\")\n",
    "    )\n",
    "\n",
    "    date = selector.css(\"#info-strings yt-formatted-string::text\").get()\n",
    "\n",
    "    duration = selector.css(\".ytp-time-duration::text\").get()\n",
    "\n",
    "    # https://regex101.com/r/0JNma3/1\n",
    "    keywords = (\n",
    "        \"\".join(\n",
    "            re.findall(r'\"keywords\":\\[(.*)\\],\"channelId\":\".*\"', str(all_script_tags))\n",
    "        )\n",
    "        .replace('\"', \"\")\n",
    "        .split(\",\")\n",
    "    )\n",
    "\n",
    "    # https://regex101.com/r/9VhH1s/1\n",
    "    thumbnail = re.findall(\n",
    "        r'\\[{\"url\":\"(\\S+)\",\"width\":\\d*,\"height\":\\d*},', str(all_script_tags)\n",
    "    )[0].split('\",')[0]\n",
    "\n",
    "    channel = {\n",
    "        # https://regex101.com/r/xFUzq5/1\n",
    "        \"id\": \"\".join(\n",
    "            re.findall(r'\"channelId\":\"(.*)\",\"isOwnerViewing\"', str(all_script_tags))\n",
    "        ),\n",
    "        \"name\": selector.css(\"#channel-name a::text\").get(),\n",
    "        \"link\": f'https://www.youtube.com{selector.css(\"#channel-name a::attr(href)\").get()}',\n",
    "        \"subscribers\": selector.css(\"#owner-sub-count::text\").get(),\n",
    "        \"thumbnail\": selector.css(\"#img::attr(src)\").get(),\n",
    "    }\n",
    "\n",
    "    description = selector.css(\n",
    "        \".ytd-expandable-video-description-body-renderer span:nth-child(1)::text\"\n",
    "    ).get()\n",
    "\n",
    "    hash_tags = [\n",
    "        {\n",
    "            \"name\": hash_tag.css(\"::text\").get(),\n",
    "            \"link\": f'https://www.youtube.com{hash_tag.css(\"::attr(href)\").get()}',\n",
    "        }\n",
    "        for hash_tag in selector.css(\n",
    "            \".ytd-expandable-video-description-body-renderer a\"\n",
    "        )\n",
    "    ]\n",
    "\n",
    "    # https://regex101.com/r/onRk9j/1\n",
    "    category = \"\".join(\n",
    "        re.findall(r'\"category\":\"(.*)\",\"publishDate\"', str(all_script_tags))\n",
    "    )\n",
    "\n",
    "    comments_amount = int(\n",
    "        selector.css(\"#count .count-text span:nth-child(1)::text\")\n",
    "        .get()\n",
    "        .replace(\",\", \"\")\n",
    "    )\n",
    "\n",
    "    comments = []\n",
    "\n",
    "    for comment in selector.css(\"#contents > ytd-comment-thread-renderer\"):\n",
    "        comments.append(\n",
    "            {\n",
    "                \"author\": comment.css(\"#author-text span::text\").get().strip(),\n",
    "                \"link\": f'https://www.youtube.com{comment.css(\"#author-text::attr(href)\").get()}',\n",
    "                \"date\": comment.css(\".published-time-text a::text\").get(),\n",
    "                \"likes\": comment.css(\"#vote-count-middle::text\").get().strip(),\n",
    "                \"comment\": comment.css(\"#content-text::text\").get(),\n",
    "                \"avatar\": comment.css(\"#author-thumbnail #img::attr(src)\").get(),\n",
    "            }\n",
    "        )\n",
    "\n",
    "    suggested_videos = []\n",
    "\n",
    "    for video in selector.css(\"ytd-compact-video-renderer\"):\n",
    "        suggested_videos.append(\n",
    "            {\n",
    "                \"title\": video.css(\"#video-title::text\").get().strip(),\n",
    "                \"link\": f'https://www.youtube.com{video.css(\"#thumbnail::attr(href)\").get()}',\n",
    "                \"channel_name\": video.css(\"#channel-name #text::text\").get(),\n",
    "                \"date\": video.css(\"#metadata-line span:nth-child(2)::text\").get(),\n",
    "                \"views\": video.css(\"#metadata-line span:nth-child(1)::text\").get(),\n",
    "                \"duration\": video.css(\"#overlays #text::text\").get().strip(),\n",
    "                \"thumbnail\": video.css(\"#thumbnail img::attr(src)\").get(),\n",
    "            }\n",
    "        )\n",
    "\n",
    "    youtube_video_page.append(\n",
    "        {\n",
    "            \"title\": title,\n",
    "            \"views\": views,\n",
    "            \"likes\": likes,\n",
    "            \"date\": date,\n",
    "            \"duration\": duration,\n",
    "            \"channel\": channel,\n",
    "            \"keywords\": keywords,\n",
    "            \"thumbnail\": thumbnail,\n",
    "            \"description\": description,\n",
    "            \"hash_tags\": hash_tags,\n",
    "            \"category\": category,\n",
    "            \"suggested_videos\": suggested_videos,\n",
    "            \"comments_amount\": comments_amount,\n",
    "            \"comments\": comments,\n",
    "        }\n",
    "    )\n",
    "\n",
    "    print(json.dumps(youtube_video_page, indent=2, ensure_ascii=False))\n",
    "\n",
    "\n",
    "def get_info_from_channel(channel_link: str):\n",
    "    driver = webdriver.Edge()\n",
    "\n",
    "    driver.get(channel_link)\n",
    "    driver.maximize_window()\n",
    "\n",
    "    time.sleep(5)\n",
    "\n",
    "    selector = Selector(text=driver.page_source)\n",
    "    driver.quit()\n",
    "\n",
    "    # channel title\n",
    "    channel_title = selector.css(\"#text-container #text::text\").get()\n",
    "\n",
    "    # date joined //*[@id=\"right-column\"]/yt-formatted-string[2]/span[2]\n",
    "    date_joined = selector.css(\n",
    "        \"#additional-info-container > table > tbody > tr:nth-child(7) > td:nth-child(2) > yt-attributed-string > span > span::text\"\n",
    "    ).get()\n",
    "\n",
    "    print(date_joined)\n",
    "\n",
    "    # total views //*[@id=\"right-column\"]/yt-formatted-string[3]\n",
    "\n",
    "    total_views = selector.css(\n",
    "        \"#additional-info-container > table > tbody > tr:nth-child(6) > td:nth-child(2)::text\"\n",
    "    ).get()\n",
    "\n",
    "    # total subs //*[@id=\"subscriber-count\"]\n",
    "\n",
    "    total_subs = selector.css(\"#subscriber-count::text\").get()\n",
    "\n",
    "    # total videos //*[@id=\"videos-count\"]/span[1]\n",
    "\n",
    "    total_videos = selector.css(\"#videos-count > span:nth-child(1)::text\").get()\n",
    "\n",
    "    channel_info = {\n",
    "        \"channel_title\": channel_title,\n",
    "        \"date_joined\": date_joined,\n",
    "        \"total_views\": total_views,\n",
    "        \"total_subs\": total_subs,\n",
    "        \"total_videos\": total_videos,\n",
    "    }\n",
    "\n",
    "    print(json.dumps(channel_info, indent=2, ensure_ascii=False))\n",
    "\n",
    "    return pd.DataFrame(channel_info, index=[0])\n",
    "\n",
    "\n",
    "def get_info_from_video(selector):\n",
    "    # title\n",
    "    title = \"\".join(selector.xpath('//*[@id=\"title\"]/h1//text()').getall()).strip()\n",
    "\n",
    "    # date\n",
    "    date = selector.css(\"#info-strings yt-formatted-string::text\").get()\n",
    "\n",
    "    # views\n",
    "    views = selector.css(\"span.bold.style-scope.yt-formatted-string::text\").get()\n",
    "\n",
    "    # likes\n",
    "    likes = selector.css(\n",
    "        \"#segmented-like-button > ytd-toggle-button-renderer > yt-button-shape > button::attr(aria-label)\"\n",
    "    ).get()\n",
    "\n",
    "    # comments\n",
    "    comments = selector.css(\"yt-formatted-string::text\").getall()\n",
    "    next_item = None\n",
    "    for i, item in enumerate(comments):\n",
    "        if item == \"Comentários\":\n",
    "            if i < len(comments) - 1:\n",
    "                next_item = comments[i + 1]\n",
    "                break\n",
    "\n",
    "    comments_amount = next_item\n",
    "\n",
    "    # keywords\n",
    "    # all_script_tags = selector.css(\"script\").getall()\n",
    "    # keywords = (\n",
    "    #     \"\".join(\n",
    "    #         re.findall(r'\"keywords\":\\[(.*)\\],\"channelId\":\".*\"', str(all_script_tags))\n",
    "    #     )\n",
    "    #     .replace('\"', \"\")\n",
    "    #     .split(\",\")\n",
    "    # )\n",
    "\n",
    "    print(title, views, likes, date, comments_amount)\n",
    "\n",
    "    try:\n",
    "        likes = re.search(r\"(\\d+)\", likes).group()\n",
    "    except Exception as e:\n",
    "        likes = 0\n",
    "    # views = re.search(r\"(\\d+)\", views).group()\n",
    "\n",
    "    return pd.DataFrame.from_dict(\n",
    "        {\n",
    "            \"title\": [title],\n",
    "            \"views\": [views],\n",
    "            \"likes\": [likes],\n",
    "            \"date\": [date],\n",
    "            \"comments_amount\": [comments_amount],\n",
    "            # \"keywords\": [keywords],\n",
    "        }\n",
    "    )\n",
    "\n",
    "\n",
    "def parse_channel(selector) -> pd.DataFrame:\n",
    "    subscribers = selector.css(\n",
    "        \"#subscriber-count.style-scope.ytd-c4-tabbed-header-renderer::text\"\n",
    "    ).get()\n",
    "\n",
    "    # subscribers = re.search(r\"(\\d+)\", subscribers).group()\n",
    "\n",
    "    # get recent 5 videos\n",
    "    channel_name = selector.css(\n",
    "        \"div#channel-header-container yt-formatted-string#text::text\"\n",
    "    ).get()\n",
    "\n",
    "    if channel_name is None:\n",
    "        channel_name = selector.css(\"div#channel-header-container h1#text::text\").get()\n",
    "\n",
    "    print(\"Channel name: \", channel_name)\n",
    "\n",
    "    videos = selector.css(\n",
    "        \"div.style-scope.ytd-rich-item-renderer ytd-rich-grid-media div.style-scope.ytd-rich-grid-media a#thumbnail.yt-simple-endpoint.inline-block.style-scope.ytd-thumbnail::attr(href)\"\n",
    "    ).getall()[:5]\n",
    "\n",
    "    u, ind = np.unique(videos, return_index=True)\n",
    "    videos = u[np.argsort(ind)]\n",
    "\n",
    "    df = pd.DataFrame()\n",
    "    for v in videos:\n",
    "        print(\"Video: \", v)\n",
    "\n",
    "        result = scroll_page(f\"https://www.youtube.com{v}\")\n",
    "\n",
    "        info = get_info_from_video(result)\n",
    "        info[\"channel_name\"] = channel_name\n",
    "        info[\"subscribers\"] = subscribers\n",
    "        # print(info)\n",
    "\n",
    "        df = pd.concat([df, info])\n",
    "        # df = df.append(info, ignore_index=True)\n",
    "\n",
    "    print(\"Videos i got: \", len(videos))\n",
    "    return df\n",
    "\n",
    "\n",
    "def parse_top_channel(channel_link: str) -> pd.DataFrame:\n",
    "    from selenium.webdriver.support.ui import WebDriverWait\n",
    "    from selenium.webdriver.support import expected_conditions as EC\n",
    "    from selenium.webdriver.common.by import By\n",
    "\n",
    "    driver = webdriver.Edge()\n",
    "    wait = WebDriverWait(driver, 3)\n",
    "    driver.implicitly_wait(10)\n",
    "\n",
    "    driver.get(channel_link)\n",
    "    driver.maximize_window()\n",
    "\n",
    "    # //*[@id=\"chips\"]/yt-chip-cloud-chip-renderer[2]\n",
    "    # wait for page to load\n",
    "\n",
    "    try:\n",
    "        wait.until(\n",
    "            EC.presence_of_element_located(\n",
    "                (By.XPATH, '//*[@id=\"chips\"]/yt-chip-cloud-chip-renderer[2]')\n",
    "            )\n",
    "        ).click()\n",
    "    except Exception as e:\n",
    "        print(\"Nao possui aba de videos em alta\")\n",
    "        # return empty dataframe\n",
    "        # return pd.DataFrame()\n",
    "\n",
    "    time.sleep(3)\n",
    "    selector = Selector(text=driver.page_source)\n",
    "    driver.quit()\n",
    "\n",
    "    channel_name = (\n",
    "        selector.css(\"div#channel-header-container yt-formatted-string#text::text\")\n",
    "        .get()\n",
    "        .strip()\n",
    "    )\n",
    "\n",
    "    videos = selector.css(\n",
    "        \"div.style-scope.ytd-rich-item-renderer ytd-rich-grid-media div.style-scope.ytd-rich-grid-media a#thumbnail.yt-simple-endpoint.inline-block.style-scope.ytd-thumbnail::attr(href)\"\n",
    "    ).getall()[:5]\n",
    "\n",
    "    u, ind = np.unique(videos, return_index=True)\n",
    "    videos = u[np.argsort(ind)]\n",
    "\n",
    "    df = pd.DataFrame()\n",
    "    for v in videos:\n",
    "        # print(\"Video: \", v)\n",
    "\n",
    "        result = scroll_page(f\"https://www.youtube.com{v}\")\n",
    "\n",
    "        info = get_info_from_video(result)\n",
    "        print(info)\n",
    "        info[\"channel_name\"] = channel_name\n",
    "        # print(info)\n",
    "\n",
    "        df = pd.concat([df, info])\n",
    "        # df = df.append(info, ignore_index=True)\n",
    "\n",
    "    print(\"Videos i got: \", len(videos))\n",
    "    return df"
   ]
  },
  {
   "cell_type": "code",
   "execution_count": 3,
   "id": "91648d78",
   "metadata": {
    "execution": {
     "iopub.execute_input": "2023-12-05T16:45:12.019136Z",
     "iopub.status.busy": "2023-12-05T16:45:12.019136Z",
     "iopub.status.idle": "2023-12-05T16:45:29.763626Z",
     "shell.execute_reply": "2023-12-05T16:45:29.762511Z"
    },
    "papermill": {
     "duration": 17.753295,
     "end_time": "2023-12-05T16:45:29.766628",
     "exception": false,
     "start_time": "2023-12-05T16:45:12.013333",
     "status": "completed"
    },
    "tags": []
   },
   "outputs": [
    {
     "data": {
      "text/plain": [
       "<Selector query=None data='<html style=\"font-size: 10px;font-fam...'>"
      ]
     },
     "execution_count": 3,
     "metadata": {},
     "output_type": "execute_result"
    }
   ],
   "source": [
    "scroll_page(\"https://www.youtube.com/watch?v=5qap5aO4i9A\")"
   ]
  },
  {
   "attachments": {},
   "cell_type": "markdown",
   "id": "8832a998",
   "metadata": {
    "papermill": {
     "duration": 0.004148,
     "end_time": "2023-12-05T16:45:29.775071",
     "exception": false,
     "start_time": "2023-12-05T16:45:29.770923",
     "status": "completed"
    },
    "tags": []
   },
   "source": [
    "Pegar dados"
   ]
  },
  {
   "cell_type": "code",
   "execution_count": 4,
   "id": "3846da54",
   "metadata": {
    "execution": {
     "iopub.execute_input": "2023-12-05T16:45:29.785306Z",
     "iopub.status.busy": "2023-12-05T16:45:29.784305Z",
     "iopub.status.idle": "2023-12-05T16:55:00.725536Z",
     "shell.execute_reply": "2023-12-05T16:55:00.721538Z"
    },
    "papermill": {
     "duration": 570.952612,
     "end_time": "2023-12-05T16:55:00.731538",
     "exception": false,
     "start_time": "2023-12-05T16:45:29.778926",
     "status": "completed"
    },
    "tags": []
   },
   "outputs": [
    {
     "name": "stdout",
     "output_type": "stream",
     "text": [
      "Channel name:  Espaçolaser\n",
      "Video:  /watch?v=R0N39dn-FmE\n"
     ]
    },
    {
     "name": "stdout",
     "output_type": "stream",
     "text": [
      " None None None None\n",
      "Video:  /watch?v=xYJH-9lKF90\n"
     ]
    },
    {
     "name": "stdout",
     "output_type": "stream",
     "text": [
      "Espaçolaser: Depilação ainda é um pesadelo para você? 1,8 mil visualizações Marque este vídeo como \"Gostei\" com mais 8 pessoas 23 de out. de 2023 None\n",
      "Video:  /watch?v=uQX5TrpPTlM\n"
     ]
    },
    {
     "name": "stdout",
     "output_type": "stream",
     "text": [
      "Outubro OFF Espaçolaser 1,1 mil visualizações None 29 de set. de 2023 None\n",
      "Video:  /watch?v=tsI6uIoeTnM\n"
     ]
    },
    {
     "name": "stdout",
     "output_type": "stream",
     "text": [
      "Minha História de Amor Espaçolaser 362 visualizações Marque este vídeo como \"Gostei\" com mais 7 pessoas 15 de ago. de 2023 2\n",
      "Video:  /watch?v=48slw7lRYRg\n"
     ]
    },
    {
     "name": "stdout",
     "output_type": "stream",
     "text": [
      "Minha História de Amor Espaçolaser 182 visualizações Marque este vídeo como \"Gostei\" com mais 7 pessoas 15 de ago. de 2023 Transcrição\n",
      "Videos i got:  5\n"
     ]
    },
    {
     "name": "stdout",
     "output_type": "stream",
     "text": [
      "B-U-G-A-M-O-S e queremos bugar você também! 994 mil visualizações Marque este vídeo como \"Gostei\" com mais 133 pessoas Estreou em 16 de mai. de 2021 None\n",
      "                                         title                  views likes  \\\n",
      "0  B-U-G-A-M-O-S e queremos bugar você também!  994 mil visualizações   133   \n",
      "\n",
      "                            date comments_amount  \n",
      "0  Estreou em 16 de mai. de 2021            None  \n"
     ]
    },
    {
     "name": "stdout",
     "output_type": "stream",
     "text": [
      "O mundo evoluiu. A depilação também. 250 mil visualizações None 12 de mai. de 2022 10\n",
      "                                  title                  views  likes  \\\n",
      "0  O mundo evoluiu. A depilação também.  250 mil visualizações      0   \n",
      "\n",
      "                 date comments_amount  \n",
      "0  12 de mai. de 2022              10  \n"
     ]
    },
    {
     "name": "stdout",
     "output_type": "stream",
     "text": [
      "Ganhe 3 Sessões de Depilação a Laser 119 mil visualizações None 14 de nov. de 2019 Ganhe 3 Sessões de Depilação a Laser\n",
      "                                  title                  views  likes  \\\n",
      "0  Ganhe 3 Sessões de Depilação a Laser  119 mil visualizações      0   \n",
      "\n",
      "                 date                       comments_amount  \n",
      "0  14 de nov. de 2019  Ganhe 3 Sessões de Depilação a Laser  \n"
     ]
    },
    {
     "name": "stdout",
     "output_type": "stream",
     "text": [
      "Espaçolaser: dói? 98 mil visualizações None 12 de mai. de 2022 18\n",
      "               title                 views  likes                date  \\\n",
      "0  Espaçolaser: dói?  98 mil visualizações      0  12 de mai. de 2022   \n",
      "\n",
      "  comments_amount  \n",
      "0              18  \n"
     ]
    },
    {
     "name": "stdout",
     "output_type": "stream",
     "text": [
      "Como é Feita a Depilação a Laser | Espaçolaser 93 mil visualizações Marque este vídeo como \"Gostei\" com mais 1.812 pessoas 3 de jun. de 2020 None\n",
      "                                            title                 views likes  \\\n",
      "0  Como é Feita a Depilação a Laser | Espaçolaser  93 mil visualizações     1   \n",
      "\n",
      "                date comments_amount  \n",
      "0  3 de jun. de 2020            None  \n",
      "Videos i got:  5\n"
     ]
    },
    {
     "name": "stdout",
     "output_type": "stream",
     "text": [
      "Inscreveu-se em 23 de abr. de 2018\n",
      "{\n",
      "  \"channel_title\": \"Espaçolaser\",\n",
      "  \"date_joined\": \"Inscreveu-se em 23 de abr. de 2018\",\n",
      "  \"total_views\": \"2.296.857 visualizações\",\n",
      "  \"total_subs\": \"14,3 mil inscritos\",\n",
      "  \"total_videos\": \"109\"\n",
      "}\n"
     ]
    },
    {
     "name": "stdout",
     "output_type": "stream",
     "text": [
      "Channel name:  GiOlaser | Inspirada em você\n",
      "Video:  /watch?v=5t0WaIbUcl4\n"
     ]
    },
    {
     "name": "stdout",
     "output_type": "stream",
     "text": [
      "Transformando Vidas Rosangela 18 visualizações None 26 de out. de 2023 Transcrição\n",
      "Video:  /watch?v=r5Fv0De0veY\n"
     ]
    },
    {
     "name": "stdout",
     "output_type": "stream",
     "text": [
      "Polineiry e Alisson Transformando Vidas 49 visualizações None 26 de out. de 2023 Transcrição\n",
      "Video:  /watch?v=lpk-pfJ0u7Q\n"
     ]
    },
    {
     "name": "stdout",
     "output_type": "stream",
     "text": [
      "Cuidado de pai para filho 122 visualizações Marque este vídeo como \"Gostei\" com mais 5 pessoas 26 de out. de 2023 Transcrição\n",
      "Video:  /watch?v=BRz6y1MYwng\n"
     ]
    },
    {
     "name": "stdout",
     "output_type": "stream",
     "text": [
      "Transformando Vidas Faustino e Vanessa 15 visualizações Marque este vídeo como \"Gostei\" com mais 0 pessoa 26 de out. de 2023 Transcrição\n",
      "Video:  /watch?v=IUNBReB-J7g\n"
     ]
    },
    {
     "name": "stdout",
     "output_type": "stream",
     "text": [
      "GiOlaser Flagship - Anália Franco | Grande Inauguração 146 visualizações Marque este vídeo como \"Gostei\" com mais 5 pessoas 25 de ago. de 2023 None\n",
      "Videos i got:  5\n"
     ]
    },
    {
     "name": "stdout",
     "output_type": "stream",
     "text": [
      "Depilação a laser | GiOlaser 181 mil visualizações None 7 de abr. de 2022 None\n",
      "                          title                  views  likes  \\\n",
      "0  Depilação a laser | GiOlaser  181 mil visualizações      0   \n",
      "\n",
      "                date comments_amount  \n",
      "0  7 de abr. de 2022            None  \n"
     ]
    },
    {
     "name": "stdout",
     "output_type": "stream",
     "text": [
      "GiOlaser | Inspirada em você 152 mil visualizações None 15 de mar. de 2022 None\n",
      "                          title                  views  likes  \\\n",
      "0  GiOlaser | Inspirada em você  152 mil visualizações      0   \n",
      "\n",
      "                 date comments_amount  \n",
      "0  15 de mar. de 2022            None  \n"
     ]
    },
    {
     "name": "stdout",
     "output_type": "stream",
     "text": [
      "Dia das mães | GiOlaser 57 mil visualizações None 27 de abr. de 2022 None\n",
      "                     title                 views  likes                date  \\\n",
      "0  Dia das mães | GiOlaser  57 mil visualizações      0  27 de abr. de 2022   \n",
      "\n",
      "  comments_amount  \n",
      "0            None  \n"
     ]
    },
    {
     "name": "stdout",
     "output_type": "stream",
     "text": [
      "Seja um franqueado GiOlaser! 16 mil visualizações None 21 de nov. de 2022 1\n",
      "                          title                 views  likes  \\\n",
      "0  Seja um franqueado GiOlaser!  16 mil visualizações      0   \n",
      "\n",
      "                 date comments_amount  \n",
      "0  21 de nov. de 2022               1  \n"
     ]
    },
    {
     "name": "stdout",
     "output_type": "stream",
     "text": [
      "Saúde e beleza acessível para todos | GiOlaser 9,4 mil visualizações None 31 de mar. de 2022 None\n",
      "                                            title                  views  \\\n",
      "0  Saúde e beleza acessível para todos | GiOlaser  9,4 mil visualizações   \n",
      "\n",
      "   likes                date comments_amount  \n",
      "0      0  31 de mar. de 2022            None  \n",
      "Videos i got:  5\n"
     ]
    },
    {
     "name": "stdout",
     "output_type": "stream",
     "text": [
      "Inscreveu-se em 12 de dez. de 2017\n",
      "{\n",
      "  \"channel_title\": \"GiOlaser | Inspirada em você\",\n",
      "  \"date_joined\": \"Inscreveu-se em 12 de dez. de 2017\",\n",
      "  \"total_views\": \"484.091 visualizações\",\n",
      "  \"total_subs\": \"732 inscritos\",\n",
      "  \"total_videos\": \"80\"\n",
      "}\n"
     ]
    },
    {
     "name": "stdout",
     "output_type": "stream",
     "text": [
      "Channel name:  Onodera Estética\n",
      "Video:  /watch?v=KKsr0PiPv_M\n"
     ]
    },
    {
     "name": "stdout",
     "output_type": "stream",
     "text": [
      "NATAL ENTRE AMIGAS - ONODERA 29 visualizações Marque este vídeo como \"Gostei\" com mais 0 pessoa 1 de dez. de 2023 Transcrição\n",
      "Video:  /watch?v=jN3x2N64Z0M\n"
     ]
    },
    {
     "name": "stdout",
     "output_type": "stream",
     "text": [
      "TRATAMENTO ONODERA - LASER LAVIEEN 87 visualizações None 1 de ago. de 2023 Transcrição\n",
      "Video:  /watch?v=_FZ5VbJ_QRc\n"
     ]
    },
    {
     "name": "stdout",
     "output_type": "stream",
     "text": [
      "ONOCAST com Edna Onodera e Dani Magagna. | Fê Palermo 97 visualizações None 18 de jul. de 2023 1\n",
      "Video:  /watch?v=2K6yaBFel_g\n"
     ]
    },
    {
     "name": "stdout",
     "output_type": "stream",
     "text": [
      "ONOCAST com Edna Onodera e Dani Magagna. | Dani Junco 65 visualizações Marque este vídeo como \"Gostei\" com mais 3 pessoas Estreou em 30 de jun. de 2023 Transcrição\n",
      "Video:  /watch?v=gjmEKDcp-Z8\n"
     ]
    },
    {
     "name": "stdout",
     "output_type": "stream",
     "text": [
      "ONOCAST com Edna Onodera e Dani Magagna. | Cacau Aguiar 115 visualizações None Estreou em 17 de mai. de 2023 Transcrição\n",
      "Videos i got:  5\n"
     ]
    },
    {
     "name": "stdout",
     "output_type": "stream",
     "text": [
      "ONOCAST com Edna Onodera e Dani Magagna. | Cris Duarte 264 visualizações None Estreou em 17 de abr. de 2023 1\n",
      "                                               title              views  \\\n",
      "0  ONOCAST com Edna Onodera e Dani Magagna. | Cri...  264 visualizações   \n",
      "\n",
      "   likes                           date comments_amount  \n",
      "0      0  Estreou em 17 de abr. de 2023               1  \n"
     ]
    },
    {
     "name": "stdout",
     "output_type": "stream",
     "text": [
      " None None None None\n",
      "  title views  likes  date comments_amount\n",
      "0        None      0  None            None\n"
     ]
    },
    {
     "name": "stdout",
     "output_type": "stream",
     "text": [
      "ONOCAST com Edna Onodera e Dani Magagna. | Cacau Aguiar 115 visualizações None Estreou em 17 de mai. de 2023 Transcrição\n",
      "                                               title              views  \\\n",
      "0  ONOCAST com Edna Onodera e Dani Magagna. | Cac...  115 visualizações   \n",
      "\n",
      "   likes                           date comments_amount  \n",
      "0      0  Estreou em 17 de mai. de 2023     Transcrição  \n"
     ]
    },
    {
     "name": "stdout",
     "output_type": "stream",
     "text": [
      "ONODERA 42 ANOS: CONHEÇA A TRAJETÓRIAS DESSAS MULHERES REAIS 102 visualizações Marque este vídeo como \"Gostei\" com mais 4 pessoas 5 de abr. de 2023 Transcrição\n",
      "                                               title              views likes  \\\n",
      "0  ONODERA 42 ANOS: CONHEÇA A TRAJETÓRIAS DESSAS ...  102 visualizações     4   \n",
      "\n",
      "                date comments_amount  \n",
      "0  5 de abr. de 2023     Transcrição  \n"
     ]
    },
    {
     "name": "stdout",
     "output_type": "stream",
     "text": [
      "ONOCAST com Edna Onodera e Dani Magagna. | Fê Palermo 97 visualizações None 18 de jul. de 2023 1\n",
      "                                               title             views  likes  \\\n",
      "0  ONOCAST com Edna Onodera e Dani Magagna. | Fê ...  97 visualizações      0   \n",
      "\n",
      "                 date comments_amount  \n",
      "0  18 de jul. de 2023               1  \n",
      "Videos i got:  5\n"
     ]
    },
    {
     "name": "stdout",
     "output_type": "stream",
     "text": [
      "Inscreveu-se em 20 de mar. de 2023\n",
      "{\n",
      "  \"channel_title\": \"Onodera Estética\",\n",
      "  \"date_joined\": \"Inscreveu-se em 20 de mar. de 2023\",\n",
      "  \"total_views\": \"1.277 visualizações\",\n",
      "  \"total_subs\": \"45 inscritos\",\n",
      "  \"total_videos\": \"19\"\n",
      "}\n"
     ]
    }
   ],
   "source": [
    "# %%\n",
    "with open(\"canais.txt\", \"r\") as f:\n",
    "    # read each line as a item in a list and remove the \\n\n",
    "    canais = [line.strip() for line in f.readlines()]\n",
    "\n",
    "base_path = f\"./data/{canais[0].split('@')[-1]}/\"\n",
    "\n",
    "df = pd.DataFrame()\n",
    "df_top = pd.DataFrame()\n",
    "df_lifetime = pd.DataFrame()\n",
    "for ch in canais:\n",
    "    # recent videos\n",
    "    result = scroll_page(ch + \"/videos\")\n",
    "    df_channel = parse_channel(result)\n",
    "    df = pd.concat([df, df_channel])\n",
    "\n",
    "    # # top videos\n",
    "    df_top_channel = parse_top_channel(ch + \"/videos\")\n",
    "    df_top = pd.concat([df_top, df_top_channel])\n",
    "\n",
    "    # lifetime info\n",
    "    df_lifetime_channel = get_info_from_channel(ch + \"/about\")\n",
    "    df_lifetime = pd.concat([df_lifetime, df_lifetime_channel])\n",
    "\n",
    "\n",
    "os.makedirs(base_path, exist_ok=True)\n",
    "\n",
    "df.to_csv(base_path + \"videos.csv\", index=False)\n",
    "df_top.to_csv(base_path + \"top_videos.csv\", index=False)\n",
    "df_lifetime.to_csv(base_path + \"lifetime.csv\", index=False)"
   ]
  },
  {
   "attachments": {},
   "cell_type": "markdown",
   "id": "ec517bf2",
   "metadata": {
    "papermill": {
     "duration": 0.011002,
     "end_time": "2023-12-05T16:55:00.752539",
     "exception": false,
     "start_time": "2023-12-05T16:55:00.741537",
     "status": "completed"
    },
    "tags": []
   },
   "source": [
    "last 30 days"
   ]
  },
  {
   "cell_type": "code",
   "execution_count": 5,
   "id": "e87f972f",
   "metadata": {
    "execution": {
     "iopub.execute_input": "2023-12-05T16:55:00.790536Z",
     "iopub.status.busy": "2023-12-05T16:55:00.788536Z",
     "iopub.status.idle": "2023-12-05T16:55:56.253711Z",
     "shell.execute_reply": "2023-12-05T16:55:56.252728Z"
    },
    "papermill": {
     "duration": 55.49217,
     "end_time": "2023-12-05T16:55:56.257706",
     "exception": false,
     "start_time": "2023-12-05T16:55:00.765536",
     "status": "completed"
    },
    "tags": []
   },
   "outputs": [
    {
     "name": "stdout",
     "output_type": "stream",
     "text": [
      "['@EspacolaserNews', '@giolaseroficial', '@Onodera.Estetica']\n"
     ]
    }
   ],
   "source": [
    "# read channel IDs\n",
    "\n",
    "with open(\"canais.txt\", \"r\") as f:\n",
    "    canais = f.readlines()\n",
    "\n",
    "\n",
    "canais = [c.strip() for c in canais]\n",
    "# take only the string after the last slash\n",
    "canais = [c.split(\"/\")[-1] for c in canais]\n",
    "\n",
    "print(canais)\n",
    "\n",
    "base_url = \"https://socialblade.com/youtube/channel/\"\n",
    "\n",
    "social_blade_data = []\n",
    "for c in canais:\n",
    "    response = scroll_page(base_url + c)\n",
    "\n",
    "    # last 30 days views #socialblade-user-content > div:nth-child(23) > div:nth-child(3) > span\n",
    "    views = response.css(\n",
    "        \"#socialblade-user-content > div:nth-child(23) > div:nth-child(3) > span::text\"\n",
    "    ).get()\n",
    "    subs = response.css(\n",
    "        \"#socialblade-user-content > div:nth-child(23) > div:nth-child(2) > span::text\"\n",
    "    ).get()\n",
    "\n",
    "    if views is None or subs is None:\n",
    "        views = response.css(\n",
    "            \"#socialblade-user-content > div:nth-child(16) > div:nth-child(3) > span::text\"\n",
    "        ).get()\n",
    "        subs = response.css(\n",
    "            \"#socialblade-user-content > div:nth-child(16) > div:nth-child(2) > span::text\"\n",
    "        ).get()\n",
    "\n",
    "    social_blade_data.append({\"Channel\": c, \"views\": views, \"subs\": subs})\n",
    "\n",
    "last_30days = pd.DataFrame(social_blade_data)\n",
    "last_30days = last_30days.fillna(\"0\")\n",
    "\n",
    "last_30days.to_parquet(\n",
    "    f'data/{canais[0].split(\"@\")[-1]}/last_30_days.parquet', index=False\n",
    ")"
   ]
  }
 ],
 "metadata": {
  "kernelspec": {
   "display_name": "venv",
   "language": "python",
   "name": "python3"
  },
  "language_info": {
   "codemirror_mode": {
    "name": "ipython",
    "version": 3
   },
   "file_extension": ".py",
   "mimetype": "text/x-python",
   "name": "python",
   "nbconvert_exporter": "python",
   "pygments_lexer": "ipython3",
   "version": "3.10.9"
  },
  "papermill": {
   "default_parameters": {},
   "duration": 651.302611,
   "end_time": "2023-12-05T16:55:56.836813",
   "environment_variables": {},
   "exception": null,
   "input_path": "pegar_dados_youtube - dev.ipynb",
   "output_path": "pegar_dados_youtube - dev - out.ipynb",
   "parameters": {},
   "start_time": "2023-12-05T16:45:05.534202",
   "version": "2.4.0"
  }
 },
 "nbformat": 4,
 "nbformat_minor": 5
}