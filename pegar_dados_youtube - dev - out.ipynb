{
 "cells": [
  {
   "cell_type": "code",
   "execution_count": 1,
   "id": "635b8866",
   "metadata": {
    "execution": {
     "iopub.execute_input": "2023-11-16T16:01:58.546163Z",
     "iopub.status.busy": "2023-11-16T16:01:58.545159Z",
     "iopub.status.idle": "2023-11-16T16:02:07.975292Z",
     "shell.execute_reply": "2023-11-16T16:02:07.974291Z"
    },
    "papermill": {
     "duration": 9.439102,
     "end_time": "2023-11-16T16:02:07.978289",
     "exception": false,
     "start_time": "2023-11-16T16:01:58.539187",
     "status": "completed"
    },
    "tags": []
   },
   "outputs": [],
   "source": [
    "# %%\n",
    "import re, json, time\n",
    "from selenium import webdriver\n",
    "import os\n",
    "\n",
    "\n",
    "from parsel import Selector\n",
    "\n",
    "import pandas as pd\n",
    "import numpy as np"
   ]
  },
  {
   "cell_type": "code",
   "execution_count": 2,
   "id": "f583d579",
   "metadata": {
    "execution": {
     "iopub.execute_input": "2023-11-16T16:02:07.990291Z",
     "iopub.status.busy": "2023-11-16T16:02:07.989292Z",
     "iopub.status.idle": "2023-11-16T16:02:08.037299Z",
     "shell.execute_reply": "2023-11-16T16:02:08.036322Z"
    },
    "papermill": {
     "duration": 0.05703,
     "end_time": "2023-11-16T16:02:08.040321",
     "exception": false,
     "start_time": "2023-11-16T16:02:07.983291",
     "status": "completed"
    },
    "tags": []
   },
   "outputs": [],
   "source": [
    "def scroll_page(url):\n",
    "    # service = Service(EdgeDriverManager().install())\n",
    "\n",
    "    # options = webdriver.EdgeOptions()\n",
    "    # options.add_argument(\"--headless\")\n",
    "    # options.add_argument(\"--lang=en\")\n",
    "    # options.add_argument(\n",
    "    #     \"user-agent=Mozilla/5.0 (Windows NT 10.0; Win64; x64) AppleWebKit/537.36 (KHTML, like Gecko) Edge/104.0.0.0 Safari/537.36\"\n",
    "    # )\n",
    "\n",
    "    driver = webdriver.Edge()\n",
    "    driver.get(url)\n",
    "    driver.implicitly_wait(10)\n",
    "\n",
    "    time.sleep(3)\n",
    "    selector = Selector(driver.page_source)\n",
    "    driver.quit()\n",
    "\n",
    "    return selector\n",
    "\n",
    "\n",
    "def scrape_all_data(selector):\n",
    "    youtube_video_page = []\n",
    "\n",
    "    all_script_tags = selector.css(\"script\").getall()\n",
    "\n",
    "    title = selector.css(\".title .ytd-video-primary-info-renderer::text\").get()\n",
    "\n",
    "    # https://regex101.com/r/gHeLwZ/1\n",
    "    views = int(\n",
    "        re.search(r\"(.*)\\s\", selector.css(\".view-count::text\").get())\n",
    "        .group()\n",
    "        .replace(\",\", \"\")\n",
    "    )\n",
    "\n",
    "    # https://regex101.com/r/9OGwJp/1\n",
    "    likes = int(\n",
    "        re.search(\n",
    "            r\"(.*)\\s\",\n",
    "            selector.css(\n",
    "                \"#top-level-buttons-computed > ytd-toggle-button-renderer:first-child #text::attr(aria-label)\"\n",
    "            ).get(),\n",
    "        )\n",
    "        .group()\n",
    "        .replace(\",\", \"\")\n",
    "    )\n",
    "\n",
    "    date = selector.css(\"#info-strings yt-formatted-string::text\").get()\n",
    "\n",
    "    duration = selector.css(\".ytp-time-duration::text\").get()\n",
    "\n",
    "    # https://regex101.com/r/0JNma3/1\n",
    "    keywords = (\n",
    "        \"\".join(\n",
    "            re.findall(r'\"keywords\":\\[(.*)\\],\"channelId\":\".*\"', str(all_script_tags))\n",
    "        )\n",
    "        .replace('\"', \"\")\n",
    "        .split(\",\")\n",
    "    )\n",
    "\n",
    "    # https://regex101.com/r/9VhH1s/1\n",
    "    thumbnail = re.findall(\n",
    "        r'\\[{\"url\":\"(\\S+)\",\"width\":\\d*,\"height\":\\d*},', str(all_script_tags)\n",
    "    )[0].split('\",')[0]\n",
    "\n",
    "    channel = {\n",
    "        # https://regex101.com/r/xFUzq5/1\n",
    "        \"id\": \"\".join(\n",
    "            re.findall(r'\"channelId\":\"(.*)\",\"isOwnerViewing\"', str(all_script_tags))\n",
    "        ),\n",
    "        \"name\": selector.css(\"#channel-name a::text\").get(),\n",
    "        \"link\": f'https://www.youtube.com{selector.css(\"#channel-name a::attr(href)\").get()}',\n",
    "        \"subscribers\": selector.css(\"#owner-sub-count::text\").get(),\n",
    "        \"thumbnail\": selector.css(\"#img::attr(src)\").get(),\n",
    "    }\n",
    "\n",
    "    description = selector.css(\n",
    "        \".ytd-expandable-video-description-body-renderer span:nth-child(1)::text\"\n",
    "    ).get()\n",
    "\n",
    "    hash_tags = [\n",
    "        {\n",
    "            \"name\": hash_tag.css(\"::text\").get(),\n",
    "            \"link\": f'https://www.youtube.com{hash_tag.css(\"::attr(href)\").get()}',\n",
    "        }\n",
    "        for hash_tag in selector.css(\n",
    "            \".ytd-expandable-video-description-body-renderer a\"\n",
    "        )\n",
    "    ]\n",
    "\n",
    "    # https://regex101.com/r/onRk9j/1\n",
    "    category = \"\".join(\n",
    "        re.findall(r'\"category\":\"(.*)\",\"publishDate\"', str(all_script_tags))\n",
    "    )\n",
    "\n",
    "    comments_amount = int(\n",
    "        selector.css(\"#count .count-text span:nth-child(1)::text\")\n",
    "        .get()\n",
    "        .replace(\",\", \"\")\n",
    "    )\n",
    "\n",
    "    comments = []\n",
    "\n",
    "    for comment in selector.css(\"#contents > ytd-comment-thread-renderer\"):\n",
    "        comments.append(\n",
    "            {\n",
    "                \"author\": comment.css(\"#author-text span::text\").get().strip(),\n",
    "                \"link\": f'https://www.youtube.com{comment.css(\"#author-text::attr(href)\").get()}',\n",
    "                \"date\": comment.css(\".published-time-text a::text\").get(),\n",
    "                \"likes\": comment.css(\"#vote-count-middle::text\").get().strip(),\n",
    "                \"comment\": comment.css(\"#content-text::text\").get(),\n",
    "                \"avatar\": comment.css(\"#author-thumbnail #img::attr(src)\").get(),\n",
    "            }\n",
    "        )\n",
    "\n",
    "    suggested_videos = []\n",
    "\n",
    "    for video in selector.css(\"ytd-compact-video-renderer\"):\n",
    "        suggested_videos.append(\n",
    "            {\n",
    "                \"title\": video.css(\"#video-title::text\").get().strip(),\n",
    "                \"link\": f'https://www.youtube.com{video.css(\"#thumbnail::attr(href)\").get()}',\n",
    "                \"channel_name\": video.css(\"#channel-name #text::text\").get(),\n",
    "                \"date\": video.css(\"#metadata-line span:nth-child(2)::text\").get(),\n",
    "                \"views\": video.css(\"#metadata-line span:nth-child(1)::text\").get(),\n",
    "                \"duration\": video.css(\"#overlays #text::text\").get().strip(),\n",
    "                \"thumbnail\": video.css(\"#thumbnail img::attr(src)\").get(),\n",
    "            }\n",
    "        )\n",
    "\n",
    "    youtube_video_page.append(\n",
    "        {\n",
    "            \"title\": title,\n",
    "            \"views\": views,\n",
    "            \"likes\": likes,\n",
    "            \"date\": date,\n",
    "            \"duration\": duration,\n",
    "            \"channel\": channel,\n",
    "            \"keywords\": keywords,\n",
    "            \"thumbnail\": thumbnail,\n",
    "            \"description\": description,\n",
    "            \"hash_tags\": hash_tags,\n",
    "            \"category\": category,\n",
    "            \"suggested_videos\": suggested_videos,\n",
    "            \"comments_amount\": comments_amount,\n",
    "            \"comments\": comments,\n",
    "        }\n",
    "    )\n",
    "\n",
    "    print(json.dumps(youtube_video_page, indent=2, ensure_ascii=False))\n",
    "\n",
    "\n",
    "def get_info_from_channel(channel_link: str):\n",
    "    driver = webdriver.Edge()\n",
    "\n",
    "    driver.get(channel_link)\n",
    "    driver.maximize_window()\n",
    "\n",
    "    time.sleep(5)\n",
    "\n",
    "    selector = Selector(text=driver.page_source)\n",
    "    driver.quit()\n",
    "\n",
    "    # channel title\n",
    "    channel_title = selector.css(\"#text-container #text::text\").get()\n",
    "\n",
    "    # date joined //*[@id=\"right-column\"]/yt-formatted-string[2]/span[2]\n",
    "    date_joined = selector.css(\n",
    "        \"#additional-info-container > table > tbody > tr:nth-child(7) > td:nth-child(2) > yt-attributed-string > span > span::text\"\n",
    "    ).get()\n",
    "\n",
    "    print(date_joined)\n",
    "\n",
    "    # total views //*[@id=\"right-column\"]/yt-formatted-string[3]\n",
    "\n",
    "    total_views = selector.css(\n",
    "        \"#additional-info-container > table > tbody > tr:nth-child(6) > td:nth-child(2)::text\"\n",
    "    ).get()\n",
    "\n",
    "    # total subs //*[@id=\"subscriber-count\"]\n",
    "\n",
    "    total_subs = selector.css(\"#subscriber-count::text\").get()\n",
    "\n",
    "    # total videos //*[@id=\"videos-count\"]/span[1]\n",
    "\n",
    "    total_videos = selector.css(\"#videos-count > span:nth-child(1)::text\").get()\n",
    "\n",
    "    channel_info = {\n",
    "        \"channel_title\": channel_title,\n",
    "        \"date_joined\": date_joined,\n",
    "        \"total_views\": total_views,\n",
    "        \"total_subs\": total_subs,\n",
    "        \"total_videos\": total_videos,\n",
    "    }\n",
    "\n",
    "    print(json.dumps(channel_info, indent=2, ensure_ascii=False))\n",
    "\n",
    "    return pd.DataFrame(channel_info, index=[0])\n",
    "\n",
    "\n",
    "def get_info_from_video(selector):\n",
    "    # title\n",
    "    title = \"\".join(selector.xpath('//*[@id=\"title\"]/h1//text()').getall()).strip()\n",
    "\n",
    "    # date\n",
    "    date = selector.css(\"#info-strings yt-formatted-string::text\").get()\n",
    "\n",
    "    # views\n",
    "    views = selector.css(\"span.bold.style-scope.yt-formatted-string::text\").get()\n",
    "\n",
    "    # likes\n",
    "    likes = selector.css(\n",
    "        \"#segmented-like-button > ytd-toggle-button-renderer > yt-button-shape > button::attr(aria-label)\"\n",
    "    ).get()\n",
    "\n",
    "    # comments\n",
    "    comments = selector.css(\"yt-formatted-string::text\").getall()\n",
    "    next_item = None\n",
    "    for i, item in enumerate(comments):\n",
    "        if item == \"Comentários\":\n",
    "            if i < len(comments) - 1:\n",
    "                next_item = comments[i + 1]\n",
    "                break\n",
    "\n",
    "    comments_amount = next_item\n",
    "\n",
    "    # keywords\n",
    "    # all_script_tags = selector.css(\"script\").getall()\n",
    "    # keywords = (\n",
    "    #     \"\".join(\n",
    "    #         re.findall(r'\"keywords\":\\[(.*)\\],\"channelId\":\".*\"', str(all_script_tags))\n",
    "    #     )\n",
    "    #     .replace('\"', \"\")\n",
    "    #     .split(\",\")\n",
    "    # )\n",
    "\n",
    "    print(title, views, likes, date, comments_amount)\n",
    "\n",
    "    try:\n",
    "        likes = re.search(r\"(\\d+)\", likes).group()\n",
    "    except Exception as e:\n",
    "        likes = 0\n",
    "    # views = re.search(r\"(\\d+)\", views).group()\n",
    "\n",
    "    return pd.DataFrame.from_dict(\n",
    "        {\n",
    "            \"title\": [title],\n",
    "            \"views\": [views],\n",
    "            \"likes\": [likes],\n",
    "            \"date\": [date],\n",
    "            \"comments_amount\": [comments_amount],\n",
    "            # \"keywords\": [keywords],\n",
    "        }\n",
    "    )\n",
    "\n",
    "\n",
    "def parse_channel(selector) -> pd.DataFrame:\n",
    "    subscribers = selector.css(\n",
    "        \"#subscriber-count.style-scope.ytd-c4-tabbed-header-renderer::text\"\n",
    "    ).get()\n",
    "\n",
    "    # subscribers = re.search(r\"(\\d+)\", subscribers).group()\n",
    "\n",
    "    # get recent 5 videos\n",
    "    channel_name = selector.css(\n",
    "        \"div#channel-header-container yt-formatted-string#text::text\"\n",
    "    ).get()\n",
    "\n",
    "    if channel_name is None:\n",
    "        channel_name = selector.css(\"div#channel-header-container h1#text::text\").get()\n",
    "\n",
    "    print(\"Channel name: \", channel_name)\n",
    "\n",
    "    videos = selector.css(\n",
    "        \"div.style-scope.ytd-rich-item-renderer ytd-rich-grid-media div.style-scope.ytd-rich-grid-media a#thumbnail.yt-simple-endpoint.inline-block.style-scope.ytd-thumbnail::attr(href)\"\n",
    "    ).getall()[:5]\n",
    "\n",
    "    u, ind = np.unique(videos, return_index=True)\n",
    "    videos = u[np.argsort(ind)]\n",
    "\n",
    "    df = pd.DataFrame()\n",
    "    for v in videos:\n",
    "        print(\"Video: \", v)\n",
    "\n",
    "        result = scroll_page(f\"https://www.youtube.com{v}\")\n",
    "\n",
    "        info = get_info_from_video(result)\n",
    "        info[\"channel_name\"] = channel_name\n",
    "        info[\"subscribers\"] = subscribers\n",
    "        # print(info)\n",
    "\n",
    "        df = pd.concat([df, info])\n",
    "        # df = df.append(info, ignore_index=True)\n",
    "\n",
    "    print(\"Videos i got: \", len(videos))\n",
    "    return df\n",
    "\n",
    "\n",
    "def parse_top_channel(channel_link: str) -> pd.DataFrame:\n",
    "    from selenium.webdriver.support.ui import WebDriverWait\n",
    "    from selenium.webdriver.support import expected_conditions as EC\n",
    "    from selenium.webdriver.common.by import By\n",
    "\n",
    "    driver = webdriver.Edge()\n",
    "    wait = WebDriverWait(driver, 3)\n",
    "    driver.implicitly_wait(10)\n",
    "\n",
    "    driver.get(channel_link)\n",
    "    driver.maximize_window()\n",
    "\n",
    "    # //*[@id=\"chips\"]/yt-chip-cloud-chip-renderer[2]\n",
    "    # wait for page to load\n",
    "\n",
    "    try:\n",
    "        wait.until(\n",
    "            EC.presence_of_element_located(\n",
    "                (By.XPATH, '//*[@id=\"chips\"]/yt-chip-cloud-chip-renderer[2]')\n",
    "            )\n",
    "        ).click()\n",
    "    except Exception as e:\n",
    "        print(\"Nao possui aba de videos em alta\")\n",
    "        # return empty dataframe\n",
    "        # return pd.DataFrame()\n",
    "\n",
    "    time.sleep(3)\n",
    "    selector = Selector(text=driver.page_source)\n",
    "    driver.quit()\n",
    "\n",
    "    channel_name = (\n",
    "        selector.css(\"div#channel-header-container yt-formatted-string#text::text\")\n",
    "        .get()\n",
    "        .strip()\n",
    "    )\n",
    "\n",
    "    videos = selector.css(\n",
    "        \"div.style-scope.ytd-rich-item-renderer ytd-rich-grid-media div.style-scope.ytd-rich-grid-media a#thumbnail.yt-simple-endpoint.inline-block.style-scope.ytd-thumbnail::attr(href)\"\n",
    "    ).getall()[:5]\n",
    "\n",
    "    u, ind = np.unique(videos, return_index=True)\n",
    "    videos = u[np.argsort(ind)]\n",
    "\n",
    "    df = pd.DataFrame()\n",
    "    for v in videos:\n",
    "        # print(\"Video: \", v)\n",
    "\n",
    "        result = scroll_page(f\"https://www.youtube.com{v}\")\n",
    "\n",
    "        info = get_info_from_video(result)\n",
    "        print(info)\n",
    "        info[\"channel_name\"] = channel_name\n",
    "        # print(info)\n",
    "\n",
    "        df = pd.concat([df, info])\n",
    "        # df = df.append(info, ignore_index=True)\n",
    "\n",
    "    print(\"Videos i got: \", len(videos))\n",
    "    return df"
   ]
  },
  {
   "attachments": {},
   "cell_type": "markdown",
   "id": "8832a998",
   "metadata": {
    "papermill": {
     "duration": 0.004,
     "end_time": "2023-11-16T16:02:08.049292",
     "exception": false,
     "start_time": "2023-11-16T16:02:08.045292",
     "status": "completed"
    },
    "tags": []
   },
   "source": [
    "Pegar dados"
   ]
  },
  {
   "cell_type": "code",
   "execution_count": 3,
   "id": "3846da54",
   "metadata": {
    "execution": {
     "iopub.execute_input": "2023-11-16T16:02:08.059321Z",
     "iopub.status.busy": "2023-11-16T16:02:08.058322Z",
     "iopub.status.idle": "2023-11-16T16:12:12.985868Z",
     "shell.execute_reply": "2023-11-16T16:12:12.982868Z"
    },
    "papermill": {
     "duration": 604.937573,
     "end_time": "2023-11-16T16:12:12.990865",
     "exception": false,
     "start_time": "2023-11-16T16:02:08.053292",
     "status": "completed"
    },
    "tags": []
   },
   "outputs": [
    {
     "name": "stdout",
     "output_type": "stream",
     "text": [
      "Channel name:  Sabores Ajinomoto\n",
      "Video:  /watch?v=SSgg0sbvbG4\n"
     ]
    },
    {
     "name": "stdout",
     "output_type": "stream",
     "text": [
      "AJI-NO-MOTO® reduz o sódio e deixa tudo gostoso! 2,6 mi de visualizações Marque este vídeo como \"Gostei\" com mais 5 pessoas 5 de out. de 2023 Transcrição\n",
      "Video:  /watch?v=1NZ4NfTermU\n"
     ]
    },
    {
     "name": "stdout",
     "output_type": "stream",
     "text": [
      "Experimente HONDASHI® Lamén! 583 mil visualizações Marque este vídeo como \"Gostei\" com mais 11 pessoas 3 de out. de 2023 Transcrição\n",
      "Video:  /watch?v=qETX0ApP8P0\n"
     ]
    },
    {
     "name": "stdout",
     "output_type": "stream",
     "text": [
      "Alimentação para Vencer - Kachimeshi® 109 mil visualizações Marque este vídeo como \"Gostei\" com mais 357 pessoas Estreou em 2 de out. de 2023 None\n",
      "Video:  /watch?v=OZ8XfyZpz_4\n"
     ]
    },
    {
     "name": "stdout",
     "output_type": "stream",
     "text": [
      "Menos sal, mesmo sabor: o compromisso da Ajinomoto! 18 mil visualizações Marque este vídeo como \"Gostei\" com mais 25 pessoas 1 de set. de 2023 Menos sal, mesmo sabor: o compromisso da Ajinomoto!\n",
      "Video:  /watch?v=-bPkKNiBiZk\n"
     ]
    },
    {
     "name": "stdout",
     "output_type": "stream",
     "text": [
      "Sabores sem Idade 70 mil visualizações Marque este vídeo como \"Gostei\" com mais 168 pessoas 7 de ago. de 2023 Transcrição\n",
      "Videos i got:  5\n"
     ]
    },
    {
     "name": "stdout",
     "output_type": "stream",
     "text": [
      "#EuSouDeCasa e amo comida caseira! 6,1 mi de visualizações Marque este vídeo como \"Gostei\" com mais 9 pessoas 3 de out. de 2022 Transcrição\n",
      "                                title                    views likes  \\\n",
      "0  #EuSouDeCasa e amo comida caseira!  6,1 mi de visualizações     9   \n",
      "\n",
      "                date comments_amount  \n",
      "0  3 de out. de 2022     Transcrição  \n"
     ]
    },
    {
     "name": "stdout",
     "output_type": "stream",
     "text": [
      "AJI-NO-MOTO® reduz o sódio e deixa tudo gostoso! 2,6 mi de visualizações Marque este vídeo como \"Gostei\" com mais 5 pessoas 5 de out. de 2023 Transcrição\n",
      "                                              title                    views  \\\n",
      "0  AJI-NO-MOTO® reduz o sódio e deixa tudo gostoso!  2,6 mi de visualizações   \n",
      "\n",
      "  likes               date comments_amount  \n",
      "0     5  5 de out. de 2023     Transcrição  \n"
     ]
    },
    {
     "name": "stdout",
     "output_type": "stream",
     "text": [
      "Saudade de Longe, Receita de Casa™ 2,6 mi de visualizações Marque este vídeo como \"Gostei\" com mais 98 pessoas 25 de ago. de 2020 6\n",
      "                                title                    views likes  \\\n",
      "0  Saudade de Longe, Receita de Casa™  2,6 mi de visualizações    98   \n",
      "\n",
      "                 date comments_amount  \n",
      "0  25 de ago. de 2020               6  \n"
     ]
    },
    {
     "name": "stdout",
     "output_type": "stream",
     "text": [
      "Promoção Sabores de Família da Ajinomoto 2,1 mi de visualizações Marque este vídeo como \"Gostei\" com mais 39 pessoas 18 de abr. de 2017 2\n",
      "                                      title                    views likes  \\\n",
      "0  Promoção Sabores de Família da Ajinomoto  2,1 mi de visualizações    39   \n",
      "\n",
      "                 date comments_amount  \n",
      "0  18 de abr. de 2017               2  \n"
     ]
    },
    {
     "name": "stdout",
     "output_type": "stream",
     "text": [
      "A cada receita, uma celebração​ - Receita de Casa™ 1,7 mi de visualizações Marque este vídeo como \"Gostei\" com mais 19 pessoas 28 de set. de 2021 1\n",
      "                                               title                    views  \\\n",
      "0  A cada receita, uma celebração​ - Receita de C...  1,7 mi de visualizações   \n",
      "\n",
      "  likes                date comments_amount  \n",
      "0    19  28 de set. de 2021               1  \n",
      "Videos i got:  5\n"
     ]
    },
    {
     "name": "stdout",
     "output_type": "stream",
     "text": [
      "Inscreveu-se em 31 de jul. de 2014\n",
      "{\n",
      "  \"channel_title\": \"Sabores Ajinomoto\",\n",
      "  \"date_joined\": \"Inscreveu-se em 31 de jul. de 2014\",\n",
      "  \"total_views\": \"36.678.728 visualizações\",\n",
      "  \"total_subs\": \"8,71 mil inscritos\",\n",
      "  \"total_videos\": \"246\"\n",
      "}\n"
     ]
    },
    {
     "name": "stdout",
     "output_type": "stream",
     "text": [
      "Channel name:  Knorr Brasil\n",
      "Video:  /watch?v=q4EUKYQYpmU\n"
     ]
    },
    {
     "name": "stdout",
     "output_type": "stream",
     "text": [
      "KNORR ZERO SAL | PROVE ANTES DE JULGAR 313 mil visualizações Marque este vídeo como \"Gostei\" com mais 3 pessoas 1 de nov. de 2023 1\n",
      "Video:  /watch?v=EyOX4mvaHxs\n"
     ]
    },
    {
     "name": "stdout",
     "output_type": "stream",
     "text": [
      "KNORR ZERO SAL | PROVE ANTES JULGAR 266 mil visualizações Marque este vídeo como \"Gostei\" com mais 10 pessoas 1 de nov. de 2023 1\n",
      "Video:  /watch?v=crQWRR4b4q8\n"
     ]
    },
    {
     "name": "stdout",
     "output_type": "stream",
     "text": [
      "KNORR ZERO SAL | PROVE ANTES DE JULGAR 276 mil visualizações Marque este vídeo como \"Gostei\" com mais 8 pessoas 1 de nov. de 2023 2\n",
      "Video:  /watch?v=R6aAbc2nH0o\n"
     ]
    },
    {
     "name": "stdout",
     "output_type": "stream",
     "text": [
      "KNORR ZERO SAL | PROVE ANTES DE JULGAR 129 mil visualizações Marque este vídeo como \"Gostei\" com mais 9 pessoas 1 de nov. de 2023 Transcrição\n",
      "Video:  /watch?v=SeCQXnB3gT4\n"
     ]
    },
    {
     "name": "stdout",
     "output_type": "stream",
     "text": [
      "KNORR ZERO SAL | PROVE ANTES DE JULGAR 986 mil visualizações Marque este vídeo como \"Gostei\" com mais 1 pessoa 10 de out. de 2023 Transcrição\n",
      "Videos i got:  5\n"
     ]
    },
    {
     "name": "stdout",
     "output_type": "stream",
     "text": [
      "Novo Knorr Zero Sal™ | 100% Sabor, 0% Sal 23 mi de visualizações Marque este vídeo como \"Gostei\" com mais 21 pessoas 20 de jun. de 2022 None\n",
      "                                       title                   views likes  \\\n",
      "0  Novo Knorr Zero Sal™ | 100% Sabor, 0% Sal  23 mi de visualizações    21   \n",
      "\n",
      "                 date comments_amount  \n",
      "0  20 de jun. de 2022            None  \n"
     ]
    },
    {
     "name": "stdout",
     "output_type": "stream",
     "text": [
      "Novo Tempero Knorr - #MeConheçaMelhor 14 mi de visualizações Marque este vídeo como \"Gostei\" com mais 200 pessoas 15 de ago. de 2017 59\n",
      "                                   title                   views likes  \\\n",
      "0  Novo Tempero Knorr - #MeConheçaMelhor  14 mi de visualizações   200   \n",
      "\n",
      "                 date comments_amount  \n",
      "0  15 de ago. de 2017              59  \n"
     ]
    },
    {
     "name": "stdout",
     "output_type": "stream",
     "text": [
      "knorr zerosal caldodegalinha 15s v5 1080p 9 mi de visualizações Marque este vídeo como \"Gostei\" com mais 7 pessoas 23 de ago. de 2022 5\n",
      "                                       title                  views likes  \\\n",
      "0  knorr zerosal caldodegalinha 15s v5 1080p  9 mi de visualizações     7   \n",
      "\n",
      "                 date comments_amount  \n",
      "0  23 de ago. de 2022               5  \n"
     ]
    },
    {
     "name": "stdout",
     "output_type": "stream",
     "text": [
      "Knorr - Me Conheça Melhor 6,3 mi de visualizações Marque este vídeo como \"Gostei\" com mais 783 pessoas 10 de ago. de 2017 203\n",
      "                       title                    views likes  \\\n",
      "0  Knorr - Me Conheça Melhor  6,3 mi de visualizações   783   \n",
      "\n",
      "                 date comments_amount  \n",
      "0  10 de ago. de 2017             203  \n"
     ]
    },
    {
     "name": "stdout",
     "output_type": "stream",
     "text": [
      "Knorr - Me Conheça Melhor 1,5 mi de visualizações Marque este vídeo como \"Gostei\" com mais 4.284 pessoas 10 de ago. de 2017 866\n",
      "                       title                    views likes  \\\n",
      "0  Knorr - Me Conheça Melhor  1,5 mi de visualizações     4   \n",
      "\n",
      "                 date comments_amount  \n",
      "0  10 de ago. de 2017             866  \n",
      "Videos i got:  5\n"
     ]
    },
    {
     "name": "stdout",
     "output_type": "stream",
     "text": [
      "Inscreveu-se em 9 de abr. de 2006\n",
      "{\n",
      "  \"channel_title\": \"Knorr Brasil\",\n",
      "  \"date_joined\": \"Inscreveu-se em 9 de abr. de 2006\",\n",
      "  \"total_views\": \"66.209.144 visualizações\",\n",
      "  \"total_subs\": \"17,6 mil inscritos\",\n",
      "  \"total_videos\": \"121\"\n",
      "}\n"
     ]
    },
    {
     "name": "stdout",
     "output_type": "stream",
     "text": [
      "Channel name:  Kitano\n",
      "Video:  /watch?v=ywBy35kuPDg\n"
     ]
    },
    {
     "name": "stdout",
     "output_type": "stream",
     "text": [
      "Chegou Kitano Churrasquear | Dry Rub 190 mil visualizações Marcar como \"Gostei\" 28 de fev. de 2023 None\n",
      "Video:  /watch?v=EkaeMehPV-4\n"
     ]
    },
    {
     "name": "stdout",
     "output_type": "stream",
     "text": [
      "Chegou Kitano Churrasquear | Dry Rub 709 visualizações Marcar como \"Gostei\" 28 de fev. de 2023 None\n",
      "Video:  /watch?v=zSfV3SXbwwY\n"
     ]
    },
    {
     "name": "stdout",
     "output_type": "stream",
     "text": [
      "Chegou Kitano Churrasquear 413 visualizações Marcar como \"Gostei\" 8 de fev. de 2023 None\n",
      "Video:  /watch?v=ziRoDBTUosA\n"
     ]
    },
    {
     "name": "stdout",
     "output_type": "stream",
     "text": [
      "Chegou Kitano Churrasquear 877 mil visualizações Marcar como \"Gostei\" 8 de fev. de 2023 None\n",
      "Video:  /watch?v=X6wepVvUEbs\n"
     ]
    },
    {
     "name": "stdout",
     "output_type": "stream",
     "text": [
      "Chegou Kitano Churrasquear | Kitano 934 mil visualizações Marcar como \"Gostei\" 3 de fev. de 2023 None\n",
      "Videos i got:  5\n"
     ]
    },
    {
     "name": "stdout",
     "output_type": "stream",
     "text": [
      "Kitano Churrasquear 8,3 mi de visualizações Marcar como \"Gostei\" 24 de jan. de 2023 None\n",
      "                 title                    views  likes                date  \\\n",
      "0  Kitano Churrasquear  8,3 mi de visualizações      0  24 de jan. de 2023   \n",
      "\n",
      "  comments_amount  \n",
      "0            None  \n"
     ]
    },
    {
     "name": "stdout",
     "output_type": "stream",
     "text": [
      "Kitano | O mais puro sabor 6,6 mi de visualizações Marcar como \"Gostei\" 4 de set. de 2017 None\n",
      "                        title                    views  likes  \\\n",
      "0  Kitano | O mais puro sabor  6,6 mi de visualizações      0   \n",
      "\n",
      "                date comments_amount  \n",
      "0  4 de set. de 2017            None  \n"
     ]
    },
    {
     "name": "stdout",
     "output_type": "stream",
     "text": [
      "Plantão de Kitano l Foca no Evaristo Costa 5,7 mi de visualizações Marque este vídeo como \"Gostei\" com mais 207 pessoas 21 de set. de 2018 15\n",
      "                                        title                    views likes  \\\n",
      "0  Plantão de Kitano l Foca no Evaristo Costa  5,7 mi de visualizações   207   \n",
      "\n",
      "                 date comments_amount  \n",
      "0  21 de set. de 2018              15  \n"
     ]
    },
    {
     "name": "stdout",
     "output_type": "stream",
     "text": [
      "Kitano – De onde vem o nosso sabor 3,3 mi de visualizações Marcar como \"Gostei\" 23 de ago. de 2016 None\n",
      "                                title                    views  likes  \\\n",
      "0  Kitano – De onde vem o nosso sabor  3,3 mi de visualizações      0   \n",
      "\n",
      "                 date comments_amount  \n",
      "0  23 de ago. de 2016            None  \n"
     ]
    },
    {
     "name": "stdout",
     "output_type": "stream",
     "text": [
      "Plantão de Kitano com Evaristo Costa 3 mi de visualizações Marque este vídeo como \"Gostei\" com mais 526 pessoas 19 de set. de 2018 24\n",
      "                                  title                  views likes  \\\n",
      "0  Plantão de Kitano com Evaristo Costa  3 mi de visualizações   526   \n",
      "\n",
      "                 date comments_amount  \n",
      "0  19 de set. de 2018              24  \n",
      "Videos i got:  5\n"
     ]
    },
    {
     "name": "stdout",
     "output_type": "stream",
     "text": [
      "Inscreveu-se em 23 de jul. de 2014\n",
      "{\n",
      "  \"channel_title\": \"Kitano\",\n",
      "  \"date_joined\": \"Inscreveu-se em 23 de jul. de 2014\",\n",
      "  \"total_views\": \"37.844.045 visualizações\",\n",
      "  \"total_subs\": \"4,1 mil inscritos\",\n",
      "  \"total_videos\": \"33\"\n",
      "}\n"
     ]
    }
   ],
   "source": [
    "# %%\n",
    "with open(\"canais.txt\", \"r\") as f:\n",
    "    # read each line as a item in a list and remove the \\n\n",
    "    canais = [line.strip() for line in f.readlines()]\n",
    "\n",
    "base_path = f\"./data/{canais[0].split('@')[-1]}/\"\n",
    "\n",
    "df = pd.DataFrame()\n",
    "df_top = pd.DataFrame()\n",
    "df_lifetime = pd.DataFrame()\n",
    "for ch in canais:\n",
    "    # recent videos\n",
    "    result = scroll_page(ch + \"/videos\")\n",
    "    df_channel = parse_channel(result)\n",
    "    df = pd.concat([df, df_channel])\n",
    "\n",
    "    # # top videos\n",
    "    df_top_channel = parse_top_channel(ch + \"/videos\")\n",
    "    df_top = pd.concat([df_top, df_top_channel])\n",
    "\n",
    "    # lifetime info\n",
    "    df_lifetime_channel = get_info_from_channel(ch + \"/about\")\n",
    "    df_lifetime = pd.concat([df_lifetime, df_lifetime_channel])\n",
    "\n",
    "\n",
    "os.makedirs(base_path, exist_ok=True)\n",
    "\n",
    "df.to_csv(base_path + \"videos.csv\", index=False)\n",
    "df_top.to_csv(base_path + \"top_videos.csv\", index=False)\n",
    "df_lifetime.to_csv(base_path + \"lifetime.csv\", index=False)"
   ]
  },
  {
   "attachments": {},
   "cell_type": "markdown",
   "id": "ec517bf2",
   "metadata": {
    "papermill": {
     "duration": 0.006999,
     "end_time": "2023-11-16T16:12:13.006868",
     "exception": false,
     "start_time": "2023-11-16T16:12:12.999869",
     "status": "completed"
    },
    "tags": []
   },
   "source": [
    "last 30 days"
   ]
  },
  {
   "cell_type": "code",
   "execution_count": 4,
   "id": "e87f972f",
   "metadata": {
    "execution": {
     "iopub.execute_input": "2023-11-16T16:12:13.033866Z",
     "iopub.status.busy": "2023-11-16T16:12:13.031866Z",
     "iopub.status.idle": "2023-11-16T16:13:15.395710Z",
     "shell.execute_reply": "2023-11-16T16:13:15.393750Z"
    },
    "papermill": {
     "duration": 62.386866,
     "end_time": "2023-11-16T16:13:15.400734",
     "exception": false,
     "start_time": "2023-11-16T16:12:13.013868",
     "status": "completed"
    },
    "tags": []
   },
   "outputs": [
    {
     "name": "stdout",
     "output_type": "stream",
     "text": [
      "['@SaboresAjinomoto', '@KnorrBrasil', '@kitanobrasil']\n"
     ]
    }
   ],
   "source": [
    "# read channel IDs\n",
    "\n",
    "with open(\"canais.txt\", \"r\") as f:\n",
    "    canais = f.readlines()\n",
    "\n",
    "\n",
    "canais = [c.strip() for c in canais]\n",
    "# take only the string after the last slash\n",
    "canais = [c.split(\"/\")[-1] for c in canais]\n",
    "\n",
    "print(canais)\n",
    "\n",
    "base_url = \"https://socialblade.com/youtube/channel/\"\n",
    "\n",
    "social_blade_data = []\n",
    "for c in canais:\n",
    "    response = scroll_page(base_url + c)\n",
    "\n",
    "    # last 30 days views #socialblade-user-content > div:nth-child(23) > div:nth-child(3) > span\n",
    "    views = response.css(\n",
    "        \"#socialblade-user-content > div:nth-child(23) > div:nth-child(3) > span::text\"\n",
    "    ).get()\n",
    "    subs = response.css(\n",
    "        \"#socialblade-user-content > div:nth-child(23) > div:nth-child(2) > span::text\"\n",
    "    ).get()\n",
    "\n",
    "    if views is None or subs is None:\n",
    "        views = response.css(\n",
    "            \"#socialblade-user-content > div:nth-child(16) > div:nth-child(3) > span::text\"\n",
    "        ).get()\n",
    "        subs = response.css(\n",
    "            \"#socialblade-user-content > div:nth-child(16) > div:nth-child(2) > span::text\"\n",
    "        ).get()\n",
    "\n",
    "    social_blade_data.append({\"Channel\": c, \"views\": views, \"subs\": subs})\n",
    "\n",
    "last_30days = pd.DataFrame(social_blade_data)\n",
    "last_30days = last_30days.fillna(\"0\")\n",
    "\n",
    "last_30days.to_parquet(\n",
    "    f'data/{canais[0].split(\"@\")[-1]}/last_30_days.parquet', index=False\n",
    ")"
   ]
  }
 ],
 "metadata": {
  "kernelspec": {
   "display_name": "venv",
   "language": "python",
   "name": "python3"
  },
  "language_info": {
   "codemirror_mode": {
    "name": "ipython",
    "version": 3
   },
   "file_extension": ".py",
   "mimetype": "text/x-python",
   "name": "python",
   "nbconvert_exporter": "python",
   "pygments_lexer": "ipython3",
   "version": "3.10.9"
  },
  "papermill": {
   "default_parameters": {},
   "duration": 682.277383,
   "end_time": "2023-11-16T16:13:16.008544",
   "environment_variables": {},
   "exception": null,
   "input_path": "pegar_dados_youtube - dev.ipynb",
   "output_path": "pegar_dados_youtube - dev - out.ipynb",
   "parameters": {},
   "start_time": "2023-11-16T16:01:53.731161",
   "version": "2.4.0"
  }
 },
 "nbformat": 4,
 "nbformat_minor": 5
}