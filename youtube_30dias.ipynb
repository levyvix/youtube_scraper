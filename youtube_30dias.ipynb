{
 "cells": [
  {
   "cell_type": "code",
   "execution_count": 8,
   "metadata": {},
   "outputs": [],
   "source": [
    "import re, json, time\n",
    "from selenium import webdriver\n",
    "\n",
    "# import By\n",
    "from selenium.webdriver.common.by import By\n",
    "from selenium.webdriver.chrome.service import Service\n",
    "\n",
    "# from webdriver_manager.chrome import ChromeDriverManager\n",
    "from parsel import Selector\n",
    "\n",
    "import pandas as pd\n",
    "import numpy as np\n",
    "\n",
    "\n",
    "def scroll_page(url):\n",
    "    # service = Service(ChromeDriverManager().install())\n",
    "\n",
    "    # options = webdriver.ChromeOptions()\n",
    "    # options.add_argument(\"--headless\")\n",
    "    # options.add_argument(\"--lang=en\")\n",
    "    # options.add_argument(\n",
    "    #     \"user-agent=Mozilla/5.0 (Windows NT 10.0; Win64; x64) AppleWebKit/537.36 (KHTML, like Gecko) Chrome/104.0.0.0 Safari/537.36\"\n",
    "    # )\n",
    "\n",
    "    driver = webdriver.Chrome()\n",
    "    driver.get(url)\n",
    "\n",
    "    # old_height = driver.execute_script(\n",
    "    #     \"\"\"\n",
    "    #     function getHeight() {\n",
    "    #         return document.querySelector('ytd-app').scrollHeight;\n",
    "    #     }\n",
    "    #     return getHeight();\n",
    "    # \"\"\"\n",
    "    # )\n",
    "\n",
    "    # while True:\n",
    "    #     driver.execute_script(\n",
    "    #         \"window.scrollTo(0, document.querySelector('ytd-app').scrollHeight)\"\n",
    "    #     )\n",
    "\n",
    "    #     time.sleep(2)\n",
    "\n",
    "    #     new_height = driver.execute_script(\n",
    "    #         \"\"\"\n",
    "    #         function getHeight() {\n",
    "    #             return document.querySelector('ytd-app').scrollHeight;\n",
    "    #         }\n",
    "    #         return getHeight();\n",
    "    #     \"\"\"\n",
    "    #     )\n",
    "\n",
    "    #     if new_height == old_height:\n",
    "    #         break\n",
    "\n",
    "    #     old_height = new_height\n",
    "\n",
    "    # time.sleep(3)\n",
    "    selector = Selector(driver.page_source)\n",
    "    driver.quit()\n",
    "\n",
    "    return selector\n",
    "\n"
   ]
  },
  {
   "cell_type": "code",
   "execution_count": 9,
   "metadata": {},
   "outputs": [
    {
     "name": "stdout",
     "output_type": "stream",
     "text": [
      "['@GUESS', '@calvinklein', '@usereserva', '@AnimaleBrasil']\n"
     ]
    }
   ],
   "source": [
    "# read channel IDs\n",
    "\n",
    "with open(\"canais.txt\", \"r\") as f:\n",
    "    canais = f.readlines()\n",
    "\n",
    "\n",
    "canais = [c.strip() for c in canais]\n",
    "# take only the string after the last slash\n",
    "canais = [c.split(\"/\")[-1] for c in canais]\n",
    "\n",
    "print(canais)\n"
   ]
  },
  {
   "cell_type": "code",
   "execution_count": 10,
   "metadata": {},
   "outputs": [],
   "source": [
    "base_url = \"https://socialblade.com/youtube/channel/\"\n",
    "\n",
    "social_blade_data = []\n",
    "for c in canais:\n",
    "    response = scroll_page(base_url + c)\n",
    "\n",
    "    # last 30 days views #socialblade-user-content > div:nth-child(23) > div:nth-child(3) > span\n",
    "    views = response.css('#socialblade-user-content > div:nth-child(23) > div:nth-child(3) > span::text').get()\n",
    "    likes = response.css(\"#socialblade-user-content > div:nth-child(23) > div:nth-child(2) > span::text\").get()\n",
    "\n",
    "    if views is None or likes is None:\n",
    "        views = response.css('#socialblade-user-content > div:nth-child(16) > div:nth-child(3) > span::text').get()\n",
    "        likes = response.css(\"#socialblade-user-content > div:nth-child(16) > div:nth-child(2) > span::text\").get()\n",
    "\n",
    "\n",
    "\n",
    "    social_blade_data.append({\"Channel\": c, \"views\": views, \"likes\": likes})\n"
   ]
  },
  {
   "cell_type": "code",
   "execution_count": 11,
   "metadata": {},
   "outputs": [],
   "source": [
    "last_30days = pd.DataFrame(social_blade_data)\n",
    "\n",
    "#socialblade-user-content > div:nth-child(16) > div:nth-child(3) > span\n",
    "\n",
    "#socialblade-user-content > div:nth-child(16) > div:nth-child(2) > span"
   ]
  },
  {
   "cell_type": "code",
   "execution_count": 12,
   "metadata": {},
   "outputs": [
    {
     "data": {
      "text/html": [
       "<div>\n",
       "<style scoped>\n",
       "    .dataframe tbody tr th:only-of-type {\n",
       "        vertical-align: middle;\n",
       "    }\n",
       "\n",
       "    .dataframe tbody tr th {\n",
       "        vertical-align: top;\n",
       "    }\n",
       "\n",
       "    .dataframe thead th {\n",
       "        text-align: right;\n",
       "    }\n",
       "</style>\n",
       "<table border=\"1\" class=\"dataframe\">\n",
       "  <thead>\n",
       "    <tr style=\"text-align: right;\">\n",
       "      <th></th>\n",
       "      <th>Channel</th>\n",
       "      <th>views</th>\n",
       "      <th>likes</th>\n",
       "    </tr>\n",
       "  </thead>\n",
       "  <tbody>\n",
       "    <tr>\n",
       "      <th>0</th>\n",
       "      <td>@GUESS</td>\n",
       "      <td>+265,586</td>\n",
       "      <td>+300</td>\n",
       "    </tr>\n",
       "    <tr>\n",
       "      <th>1</th>\n",
       "      <td>@calvinklein</td>\n",
       "      <td>+2,272,474</td>\n",
       "      <td>+6K</td>\n",
       "    </tr>\n",
       "    <tr>\n",
       "      <th>2</th>\n",
       "      <td>@usereserva</td>\n",
       "      <td>+54,371</td>\n",
       "      <td>+100</td>\n",
       "    </tr>\n",
       "    <tr>\n",
       "      <th>3</th>\n",
       "      <td>@AnimaleBrasil</td>\n",
       "      <td>+3,351</td>\n",
       "      <td>+500</td>\n",
       "    </tr>\n",
       "  </tbody>\n",
       "</table>\n",
       "</div>"
      ],
      "text/plain": [
       "          Channel       views likes\n",
       "0          @GUESS    +265,586  +300\n",
       "1    @calvinklein  +2,272,474   +6K\n",
       "2     @usereserva     +54,371  +100\n",
       "3  @AnimaleBrasil      +3,351  +500"
      ]
     },
     "execution_count": 12,
     "metadata": {},
     "output_type": "execute_result"
    }
   ],
   "source": [
    "last_30days"
   ]
  },
  {
   "cell_type": "code",
   "execution_count": 13,
   "metadata": {},
   "outputs": [],
   "source": [
    "def fix_views(view: pd.Series) -> pd.Series:\n",
    "\n",
    "    view = view.str.replace(\"+\", \"\").str.replace(\",\", \"\")\n",
    "\n",
    "    view = view.apply(lambda x: float(x.replace(\"K\", \"\")) * 1000 if 'K' in x else x)\n",
    "    view = view.apply(lambda x: float(x.replace(\"M\", \"\")) * 1000000 if 'M' in str(x) else x)\n",
    "\n",
    "    return view\n",
    "\n",
    "last_30days = last_30days.assign(\n",
    "    views=lambda x: fix_views(x[\"views\"]),\n",
    "    likes= lambda x: fix_views(x[\"likes\"])\n",
    "\n",
    "\n",
    ")"
   ]
  },
  {
   "cell_type": "code",
   "execution_count": 14,
   "metadata": {},
   "outputs": [],
   "source": [
    "# create folder for lead\n",
    "\n",
    "import os\n",
    "\n",
    "os.makedirs(f\"data/{canais[0].split('@')[-1]}\", exist_ok=True)\n"
   ]
  },
  {
   "cell_type": "code",
   "execution_count": 15,
   "metadata": {},
   "outputs": [],
   "source": [
    "\n",
    "\n",
    "last_30days.to_csv(f'data/{canais[0].split(\"@\")[-1]}/last_30days.csv', index=False)"
   ]
  },
  {
   "cell_type": "code",
   "execution_count": 16,
   "metadata": {},
   "outputs": [
    {
     "data": {
      "text/html": [
       "<div>\n",
       "<style scoped>\n",
       "    .dataframe tbody tr th:only-of-type {\n",
       "        vertical-align: middle;\n",
       "    }\n",
       "\n",
       "    .dataframe tbody tr th {\n",
       "        vertical-align: top;\n",
       "    }\n",
       "\n",
       "    .dataframe thead th {\n",
       "        text-align: right;\n",
       "    }\n",
       "</style>\n",
       "<table border=\"1\" class=\"dataframe\">\n",
       "  <thead>\n",
       "    <tr style=\"text-align: right;\">\n",
       "      <th></th>\n",
       "      <th>Channel</th>\n",
       "      <th>views</th>\n",
       "      <th>likes</th>\n",
       "    </tr>\n",
       "  </thead>\n",
       "  <tbody>\n",
       "    <tr>\n",
       "      <th>0</th>\n",
       "      <td>@GUESS</td>\n",
       "      <td>265586</td>\n",
       "      <td>300</td>\n",
       "    </tr>\n",
       "    <tr>\n",
       "      <th>1</th>\n",
       "      <td>@calvinklein</td>\n",
       "      <td>2272474</td>\n",
       "      <td>6000.0</td>\n",
       "    </tr>\n",
       "    <tr>\n",
       "      <th>2</th>\n",
       "      <td>@usereserva</td>\n",
       "      <td>54371</td>\n",
       "      <td>100</td>\n",
       "    </tr>\n",
       "    <tr>\n",
       "      <th>3</th>\n",
       "      <td>@AnimaleBrasil</td>\n",
       "      <td>3351</td>\n",
       "      <td>500</td>\n",
       "    </tr>\n",
       "  </tbody>\n",
       "</table>\n",
       "</div>"
      ],
      "text/plain": [
       "          Channel    views   likes\n",
       "0          @GUESS   265586     300\n",
       "1    @calvinklein  2272474  6000.0\n",
       "2     @usereserva    54371     100\n",
       "3  @AnimaleBrasil     3351     500"
      ]
     },
     "execution_count": 16,
     "metadata": {},
     "output_type": "execute_result"
    }
   ],
   "source": [
    "last_30days"
   ]
  },
  {
   "cell_type": "code",
   "execution_count": null,
   "metadata": {},
   "outputs": [],
   "source": []
  }
 ],
 "metadata": {
  "kernelspec": {
   "display_name": "venv",
   "language": "python",
   "name": "python3"
  },
  "language_info": {
   "codemirror_mode": {
    "name": "ipython",
    "version": 3
   },
   "file_extension": ".py",
   "mimetype": "text/x-python",
   "name": "python",
   "nbconvert_exporter": "python",
   "pygments_lexer": "ipython3",
   "version": "3.10.9"
  },
  "orig_nbformat": 4
 },
 "nbformat": 4,
 "nbformat_minor": 2
}
