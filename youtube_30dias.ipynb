{
 "cells": [
  {
   "cell_type": "code",
   "execution_count": 4,
   "metadata": {},
   "outputs": [],
   "source": [
    "import re, json, time\n",
    "from selenium import webdriver\n",
    "\n",
    "# import By\n",
    "from selenium.webdriver.common.by import By\n",
    "from selenium.webdriver.chrome.service import Service\n",
    "\n",
    "# from webdriver_manager.chrome import ChromeDriverManager\n",
    "from parsel import Selector\n",
    "\n",
    "import pandas as pd\n",
    "import numpy as np\n",
    "\n",
    "\n",
    "def scroll_page(url):\n",
    "    # service = Service(ChromeDriverManager().install())\n",
    "\n",
    "    # options = webdriver.ChromeOptions()\n",
    "    # options.add_argument(\"--headless\")\n",
    "    # options.add_argument(\"--lang=en\")\n",
    "    # options.add_argument(\n",
    "    #     \"user-agent=Mozilla/5.0 (Windows NT 10.0; Win64; x64) AppleWebKit/537.36 (KHTML, like Gecko) Chrome/104.0.0.0 Safari/537.36\"\n",
    "    # )\n",
    "\n",
    "    driver = webdriver.Chrome()\n",
    "    driver.get(url)\n",
    "\n",
    "    # old_height = driver.execute_script(\n",
    "    #     \"\"\"\n",
    "    #     function getHeight() {\n",
    "    #         return document.querySelector('ytd-app').scrollHeight;\n",
    "    #     }\n",
    "    #     return getHeight();\n",
    "    # \"\"\"\n",
    "    # )\n",
    "\n",
    "    # while True:\n",
    "    #     driver.execute_script(\n",
    "    #         \"window.scrollTo(0, document.querySelector('ytd-app').scrollHeight)\"\n",
    "    #     )\n",
    "\n",
    "    #     time.sleep(2)\n",
    "\n",
    "    #     new_height = driver.execute_script(\n",
    "    #         \"\"\"\n",
    "    #         function getHeight() {\n",
    "    #             return document.querySelector('ytd-app').scrollHeight;\n",
    "    #         }\n",
    "    #         return getHeight();\n",
    "    #     \"\"\"\n",
    "    #     )\n",
    "\n",
    "    #     if new_height == old_height:\n",
    "    #         break\n",
    "\n",
    "    #     old_height = new_height\n",
    "\n",
    "    # time.sleep(3)\n",
    "    selector = Selector(driver.page_source)\n",
    "    driver.quit()\n",
    "\n",
    "    return selector\n",
    "\n"
   ]
  },
  {
   "cell_type": "code",
   "execution_count": 5,
   "metadata": {},
   "outputs": [
    {
     "name": "stdout",
     "output_type": "stream",
     "text": [
      "['@dress_to', '@canalmariafilo', '@AnimaleBrasil']\n"
     ]
    }
   ],
   "source": [
    "# read channel IDs\n",
    "\n",
    "with open(\"canais.txt\", \"r\") as f:\n",
    "    canais = f.readlines()\n",
    "\n",
    "\n",
    "canais = [c.strip() for c in canais]\n",
    "# take only the string after the last slash\n",
    "canais = [c.split(\"/\")[-1] for c in canais]\n",
    "\n",
    "print(canais)\n"
   ]
  },
  {
   "cell_type": "code",
   "execution_count": 6,
   "metadata": {},
   "outputs": [],
   "source": [
    "base_url = \"https://socialblade.com/youtube/channel/\"\n",
    "\n",
    "social_blade_data = []\n",
    "for c in canais:\n",
    "    response = scroll_page(base_url + c)\n",
    "\n",
    "    # last 30 days views #socialblade-user-content > div:nth-child(23) > div:nth-child(3) > span\n",
    "    views = response.css('#socialblade-user-content > div:nth-child(23) > div:nth-child(3) > span::text').get()\n",
    "    subs = response.css(\"#socialblade-user-content > div:nth-child(23) > div:nth-child(2) > span::text\").get()\n",
    "\n",
    "    if views is None or subs is None:\n",
    "        views = response.css('#socialblade-user-content > div:nth-child(16) > div:nth-child(3) > span::text').get()\n",
    "        subs = response.css(\"#socialblade-user-content > div:nth-child(16) > div:nth-child(2) > span::text\").get()\n",
    "\n",
    "\n",
    "\n",
    "    social_blade_data.append({\"Channel\": c, \"views\": views, \"subs\": subs})\n"
   ]
  },
  {
   "cell_type": "code",
   "execution_count": 18,
   "metadata": {},
   "outputs": [],
   "source": [
    "last_30days = pd.DataFrame(social_blade_data)\n",
    "\n",
    "#socialblade-user-content > div:nth-child(16) > div:nth-child(3) > span\n",
    "\n",
    "#socialblade-user-content > div:nth-child(16) > div:nth-child(2) > span"
   ]
  },
  {
   "cell_type": "code",
   "execution_count": 19,
   "metadata": {},
   "outputs": [],
   "source": [
    "last_30days = last_30days.fillna('0')"
   ]
  },
  {
   "cell_type": "code",
   "execution_count": 20,
   "metadata": {},
   "outputs": [
    {
     "data": {
      "text/html": [
       "<div>\n",
       "<style scoped>\n",
       "    .dataframe tbody tr th:only-of-type {\n",
       "        vertical-align: middle;\n",
       "    }\n",
       "\n",
       "    .dataframe tbody tr th {\n",
       "        vertical-align: top;\n",
       "    }\n",
       "\n",
       "    .dataframe thead th {\n",
       "        text-align: right;\n",
       "    }\n",
       "</style>\n",
       "<table border=\"1\" class=\"dataframe\">\n",
       "  <thead>\n",
       "    <tr style=\"text-align: right;\">\n",
       "      <th></th>\n",
       "      <th>Channel</th>\n",
       "      <th>views</th>\n",
       "      <th>subs</th>\n",
       "    </tr>\n",
       "  </thead>\n",
       "  <tbody>\n",
       "    <tr>\n",
       "      <th>0</th>\n",
       "      <td>@dress_to</td>\n",
       "      <td>0</td>\n",
       "      <td>0</td>\n",
       "    </tr>\n",
       "    <tr>\n",
       "      <th>1</th>\n",
       "      <td>@canalmariafilo</td>\n",
       "      <td>+10,740</td>\n",
       "      <td>+60</td>\n",
       "    </tr>\n",
       "    <tr>\n",
       "      <th>2</th>\n",
       "      <td>@AnimaleBrasil</td>\n",
       "      <td>+3,573</td>\n",
       "      <td>+500</td>\n",
       "    </tr>\n",
       "  </tbody>\n",
       "</table>\n",
       "</div>"
      ],
      "text/plain": [
       "           Channel    views  subs\n",
       "0        @dress_to        0     0\n",
       "1  @canalmariafilo  +10,740   +60\n",
       "2   @AnimaleBrasil   +3,573  +500"
      ]
     },
     "execution_count": 20,
     "metadata": {},
     "output_type": "execute_result"
    }
   ],
   "source": [
    "last_30days"
   ]
  },
  {
   "cell_type": "code",
   "execution_count": 21,
   "metadata": {},
   "outputs": [
    {
     "name": "stdout",
     "output_type": "stream",
     "text": [
      "0        0\n",
      "1    10740\n",
      "2     3573\n",
      "Name: views, dtype: object\n",
      "0      0\n",
      "1     60\n",
      "2    500\n",
      "Name: subs, dtype: object\n"
     ]
    }
   ],
   "source": [
    "def fix_views(view: pd.Series) -> pd.Series:\n",
    "\n",
    "    view = view.str.replace(\"+\", \"\").str.replace(\",\", \"\")\n",
    "    print(view)\n",
    "\n",
    "    view = view.apply(lambda x: float(x.replace(\"K\", \"\")) * 1000 if 'K' in x else x)\n",
    "    view = view.apply(lambda x: float(x.replace(\"M\", \"\")) * 1000000 if 'M' in str(x) else x)\n",
    "\n",
    "    return view\n",
    "\n",
    "last_30days = last_30days.assign(\n",
    "    views=lambda x: fix_views(x[\"views\"]),\n",
    "    subs= lambda x: fix_views(x[\"subs\"])\n",
    ")"
   ]
  },
  {
   "cell_type": "code",
   "execution_count": 22,
   "metadata": {},
   "outputs": [],
   "source": [
    "# create folder for lead\n",
    "\n",
    "import os\n",
    "\n",
    "os.makedirs(f\"data/{canais[0].split('@')[-1]}\", exist_ok=True)\n"
   ]
  },
  {
   "cell_type": "code",
   "execution_count": 23,
   "metadata": {},
   "outputs": [],
   "source": [
    "\n",
    "\n",
    "last_30days.to_csv(f'data/{canais[0].split(\"@\")[-1]}/last_30days.csv', index=False)"
   ]
  },
  {
   "cell_type": "code",
   "execution_count": 24,
   "metadata": {},
   "outputs": [
    {
     "data": {
      "text/html": [
       "<div>\n",
       "<style scoped>\n",
       "    .dataframe tbody tr th:only-of-type {\n",
       "        vertical-align: middle;\n",
       "    }\n",
       "\n",
       "    .dataframe tbody tr th {\n",
       "        vertical-align: top;\n",
       "    }\n",
       "\n",
       "    .dataframe thead th {\n",
       "        text-align: right;\n",
       "    }\n",
       "</style>\n",
       "<table border=\"1\" class=\"dataframe\">\n",
       "  <thead>\n",
       "    <tr style=\"text-align: right;\">\n",
       "      <th></th>\n",
       "      <th>Channel</th>\n",
       "      <th>views</th>\n",
       "      <th>subs</th>\n",
       "    </tr>\n",
       "  </thead>\n",
       "  <tbody>\n",
       "    <tr>\n",
       "      <th>0</th>\n",
       "      <td>@dress_to</td>\n",
       "      <td>0</td>\n",
       "      <td>0</td>\n",
       "    </tr>\n",
       "    <tr>\n",
       "      <th>1</th>\n",
       "      <td>@canalmariafilo</td>\n",
       "      <td>10740</td>\n",
       "      <td>60</td>\n",
       "    </tr>\n",
       "    <tr>\n",
       "      <th>2</th>\n",
       "      <td>@AnimaleBrasil</td>\n",
       "      <td>3573</td>\n",
       "      <td>500</td>\n",
       "    </tr>\n",
       "  </tbody>\n",
       "</table>\n",
       "</div>"
      ],
      "text/plain": [
       "           Channel  views subs\n",
       "0        @dress_to      0    0\n",
       "1  @canalmariafilo  10740   60\n",
       "2   @AnimaleBrasil   3573  500"
      ]
     },
     "execution_count": 24,
     "metadata": {},
     "output_type": "execute_result"
    }
   ],
   "source": [
    "last_30days"
   ]
  },
  {
   "cell_type": "code",
   "execution_count": 25,
   "metadata": {},
   "outputs": [
    {
     "data": {
      "text/plain": [
       "datetime.timedelta(days=-5235, seconds=36046, microseconds=785137)"
      ]
     },
     "execution_count": 25,
     "metadata": {},
     "output_type": "execute_result"
    }
   ],
   "source": [
    "from datetime import datetime\n",
    "\n",
    "datetime(2009, 3, 18) - datetime.today()"
   ]
  }
 ],
 "metadata": {
  "kernelspec": {
   "display_name": "venv",
   "language": "python",
   "name": "python3"
  },
  "language_info": {
   "codemirror_mode": {
    "name": "ipython",
    "version": 3
   },
   "file_extension": ".py",
   "mimetype": "text/x-python",
   "name": "python",
   "nbconvert_exporter": "python",
   "pygments_lexer": "ipython3",
   "version": "3.10.9"
  },
  "orig_nbformat": 4
 },
 "nbformat": 4,
 "nbformat_minor": 2
}
