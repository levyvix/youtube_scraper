{
 "cells": [
  {
   "cell_type": "code",
   "execution_count": 1,
   "id": "635b8866",
   "metadata": {
    "execution": {
     "iopub.execute_input": "2023-10-24T14:22:26.059526Z",
     "iopub.status.busy": "2023-10-24T14:22:26.058527Z",
     "iopub.status.idle": "2023-10-24T14:22:27.762527Z",
     "shell.execute_reply": "2023-10-24T14:22:27.761526Z"
    },
    "papermill": {
     "duration": 1.718,
     "end_time": "2023-10-24T14:22:27.765523",
     "exception": false,
     "start_time": "2023-10-24T14:22:26.047523",
     "status": "completed"
    },
    "tags": []
   },
   "outputs": [],
   "source": [
    "# %%\n",
    "import re, json, time\n",
    "from selenium import webdriver\n",
    "import os\n",
    "\n",
    "\n",
    "\n",
    "from parsel import Selector\n",
    "\n",
    "import pandas as pd\n",
    "import numpy as np\n"
   ]
  },
  {
   "cell_type": "code",
   "execution_count": 2,
   "id": "f583d579",
   "metadata": {
    "execution": {
     "iopub.execute_input": "2023-10-24T14:22:27.777526Z",
     "iopub.status.busy": "2023-10-24T14:22:27.776536Z",
     "iopub.status.idle": "2023-10-24T14:22:27.825528Z",
     "shell.execute_reply": "2023-10-24T14:22:27.824526Z"
    },
    "papermill": {
     "duration": 0.058,
     "end_time": "2023-10-24T14:22:27.828527",
     "exception": false,
     "start_time": "2023-10-24T14:22:27.770527",
     "status": "completed"
    },
    "tags": []
   },
   "outputs": [],
   "source": [
    "def scroll_page(url):\n",
    "    # service = Service(EdgeDriverManager().install())\n",
    "\n",
    "    # options = webdriver.EdgeOptions()\n",
    "    # options.add_argument(\"--headless\")\n",
    "    # options.add_argument(\"--lang=en\")\n",
    "    # options.add_argument(\n",
    "    #     \"user-agent=Mozilla/5.0 (Windows NT 10.0; Win64; x64) AppleWebKit/537.36 (KHTML, like Gecko) Edge/104.0.0.0 Safari/537.36\"\n",
    "    # )\n",
    "\n",
    "    driver = webdriver.Edge()\n",
    "    driver.get(url)\n",
    "    driver.implicitly_wait(10)\n",
    "\n",
    "    time.sleep(3)\n",
    "    selector = Selector(driver.page_source)\n",
    "    driver.quit()\n",
    "\n",
    "    return selector\n",
    "\n",
    "\n",
    "def scrape_all_data(selector):\n",
    "    youtube_video_page = []\n",
    "\n",
    "    all_script_tags = selector.css(\"script\").getall()\n",
    "\n",
    "    title = selector.css(\".title .ytd-video-primary-info-renderer::text\").get()\n",
    "\n",
    "    # https://regex101.com/r/gHeLwZ/1\n",
    "    views = int(\n",
    "        re.search(r\"(.*)\\s\", selector.css(\".view-count::text\").get())\n",
    "        .group()\n",
    "        .replace(\",\", \"\")\n",
    "    )\n",
    "\n",
    "    # https://regex101.com/r/9OGwJp/1\n",
    "    likes = int(\n",
    "        re.search(\n",
    "            r\"(.*)\\s\",\n",
    "            selector.css(\n",
    "                \"#top-level-buttons-computed > ytd-toggle-button-renderer:first-child #text::attr(aria-label)\"\n",
    "            ).get(),\n",
    "        )\n",
    "        .group()\n",
    "        .replace(\",\", \"\")\n",
    "    )\n",
    "\n",
    "    date = selector.css(\"#info-strings yt-formatted-string::text\").get()\n",
    "\n",
    "    duration = selector.css(\".ytp-time-duration::text\").get()\n",
    "\n",
    "    # https://regex101.com/r/0JNma3/1\n",
    "    keywords = (\n",
    "        \"\".join(\n",
    "            re.findall(r'\"keywords\":\\[(.*)\\],\"channelId\":\".*\"', str(all_script_tags))\n",
    "        )\n",
    "        .replace('\"', \"\")\n",
    "        .split(\",\")\n",
    "    )\n",
    "\n",
    "    # https://regex101.com/r/9VhH1s/1\n",
    "    thumbnail = re.findall(\n",
    "        r'\\[{\"url\":\"(\\S+)\",\"width\":\\d*,\"height\":\\d*},', str(all_script_tags)\n",
    "    )[0].split('\",')[0]\n",
    "\n",
    "    channel = {\n",
    "        # https://regex101.com/r/xFUzq5/1\n",
    "        \"id\": \"\".join(\n",
    "            re.findall(r'\"channelId\":\"(.*)\",\"isOwnerViewing\"', str(all_script_tags))\n",
    "        ),\n",
    "        \"name\": selector.css(\"#channel-name a::text\").get(),\n",
    "        \"link\": f'https://www.youtube.com{selector.css(\"#channel-name a::attr(href)\").get()}',\n",
    "        \"subscribers\": selector.css(\"#owner-sub-count::text\").get(),\n",
    "        \"thumbnail\": selector.css(\"#img::attr(src)\").get(),\n",
    "    }\n",
    "\n",
    "    description = selector.css(\n",
    "        \".ytd-expandable-video-description-body-renderer span:nth-child(1)::text\"\n",
    "    ).get()\n",
    "\n",
    "    hash_tags = [\n",
    "        {\n",
    "            \"name\": hash_tag.css(\"::text\").get(),\n",
    "            \"link\": f'https://www.youtube.com{hash_tag.css(\"::attr(href)\").get()}',\n",
    "        }\n",
    "        for hash_tag in selector.css(\n",
    "            \".ytd-expandable-video-description-body-renderer a\"\n",
    "        )\n",
    "    ]\n",
    "\n",
    "    # https://regex101.com/r/onRk9j/1\n",
    "    category = \"\".join(\n",
    "        re.findall(r'\"category\":\"(.*)\",\"publishDate\"', str(all_script_tags))\n",
    "    )\n",
    "\n",
    "    comments_amount = int(\n",
    "        selector.css(\"#count .count-text span:nth-child(1)::text\")\n",
    "        .get()\n",
    "        .replace(\",\", \"\")\n",
    "    )\n",
    "\n",
    "    comments = []\n",
    "\n",
    "    for comment in selector.css(\"#contents > ytd-comment-thread-renderer\"):\n",
    "        comments.append(\n",
    "            {\n",
    "                \"author\": comment.css(\"#author-text span::text\").get().strip(),\n",
    "                \"link\": f'https://www.youtube.com{comment.css(\"#author-text::attr(href)\").get()}',\n",
    "                \"date\": comment.css(\".published-time-text a::text\").get(),\n",
    "                \"likes\": comment.css(\"#vote-count-middle::text\").get().strip(),\n",
    "                \"comment\": comment.css(\"#content-text::text\").get(),\n",
    "                \"avatar\": comment.css(\"#author-thumbnail #img::attr(src)\").get(),\n",
    "            }\n",
    "        )\n",
    "\n",
    "    suggested_videos = []\n",
    "\n",
    "    for video in selector.css(\"ytd-compact-video-renderer\"):\n",
    "        suggested_videos.append(\n",
    "            {\n",
    "                \"title\": video.css(\"#video-title::text\").get().strip(),\n",
    "                \"link\": f'https://www.youtube.com{video.css(\"#thumbnail::attr(href)\").get()}',\n",
    "                \"channel_name\": video.css(\"#channel-name #text::text\").get(),\n",
    "                \"date\": video.css(\"#metadata-line span:nth-child(2)::text\").get(),\n",
    "                \"views\": video.css(\"#metadata-line span:nth-child(1)::text\").get(),\n",
    "                \"duration\": video.css(\"#overlays #text::text\").get().strip(),\n",
    "                \"thumbnail\": video.css(\"#thumbnail img::attr(src)\").get(),\n",
    "            }\n",
    "        )\n",
    "\n",
    "    youtube_video_page.append(\n",
    "        {\n",
    "            \"title\": title,\n",
    "            \"views\": views,\n",
    "            \"likes\": likes,\n",
    "            \"date\": date,\n",
    "            \"duration\": duration,\n",
    "            \"channel\": channel,\n",
    "            \"keywords\": keywords,\n",
    "            \"thumbnail\": thumbnail,\n",
    "            \"description\": description,\n",
    "            \"hash_tags\": hash_tags,\n",
    "            \"category\": category,\n",
    "            \"suggested_videos\": suggested_videos,\n",
    "            \"comments_amount\": comments_amount,\n",
    "            \"comments\": comments,\n",
    "        }\n",
    "    )\n",
    "\n",
    "    print(json.dumps(youtube_video_page, indent=2, ensure_ascii=False))\n",
    "\n",
    "\n",
    "def get_info_from_channel(channel_link: str):\n",
    "    driver = webdriver.Edge()\n",
    "\n",
    "    driver.get(channel_link)\n",
    "    driver.maximize_window()\n",
    "\n",
    "    time.sleep(5)\n",
    "\n",
    "    selector = Selector(text=driver.page_source)\n",
    "    driver.quit()\n",
    "\n",
    "    # channel title\n",
    "    channel_title = selector.css(\"#text-container #text::text\").get()\n",
    "\n",
    "    # date joined //*[@id=\"right-column\"]/yt-formatted-string[2]/span[2]\n",
    "    date_joined = selector.css(\n",
    "        \"#right-column > yt-formatted-string:nth-child(2) > span:nth-child(2)::text\"\n",
    "    ).get()\n",
    "\n",
    "    # total views //*[@id=\"right-column\"]/yt-formatted-string[3]\n",
    "\n",
    "    total_views = selector.css(\n",
    "        \"#right-column > yt-formatted-string:nth-child(3)::text\"\n",
    "    ).get()\n",
    "\n",
    "    # total subs //*[@id=\"subscriber-count\"]\n",
    "\n",
    "    total_subs = selector.css(\"#subscriber-count::text\").get()\n",
    "\n",
    "    # total videos //*[@id=\"videos-count\"]/span[1]\n",
    "\n",
    "    total_videos = selector.css(\"#videos-count > span:nth-child(1)::text\").get()\n",
    "\n",
    "    channel_info = {\n",
    "        \"channel_title\": channel_title,\n",
    "        \"date_joined\": date_joined,\n",
    "        \"total_views\": total_views,\n",
    "        \"total_subs\": total_subs,\n",
    "        \"total_videos\": total_videos,\n",
    "    }\n",
    "\n",
    "    print(json.dumps(channel_info, indent=2, ensure_ascii=False))\n",
    "\n",
    "    return pd.DataFrame(channel_info, index=[0])\n",
    "\n",
    "\n",
    "def get_info_from_video(selector):\n",
    "    # title\n",
    "    title = ''.join(selector.xpath('//*[@id=\"title\"]/h1//text()').getall()).strip()\n",
    "\n",
    "    # date\n",
    "    date = selector.css(\"#info-strings yt-formatted-string::text\").get()\n",
    "\n",
    "    # views\n",
    "    views = selector.css(\"span.bold.style-scope.yt-formatted-string::text\").get()\n",
    "\n",
    "    # likes\n",
    "    likes = selector.css(\n",
    "        \"#segmented-like-button > ytd-toggle-button-renderer > yt-button-shape > button::attr(aria-label)\"\n",
    "    ).get()\n",
    "\n",
    "    # comments\n",
    "    comments = selector.css(\"yt-formatted-string::text\").getall()\n",
    "    next_item = None\n",
    "    for i, item in enumerate(comments):\n",
    "        if item == \"Comentários\":\n",
    "            if i < len(comments) - 1:\n",
    "                next_item = comments[i + 1]\n",
    "                break\n",
    "\n",
    "    comments_amount = next_item\n",
    "\n",
    "    # keywords\n",
    "    # all_script_tags = selector.css(\"script\").getall()\n",
    "    # keywords = (\n",
    "    #     \"\".join(\n",
    "    #         re.findall(r'\"keywords\":\\[(.*)\\],\"channelId\":\".*\"', str(all_script_tags))\n",
    "    #     )\n",
    "    #     .replace('\"', \"\")\n",
    "    #     .split(\",\")\n",
    "    # )\n",
    "\n",
    "    print(title, views, likes, date, comments_amount)\n",
    "\n",
    "    try:\n",
    "        likes = re.search(r\"(\\d+)\", likes).group()\n",
    "    except Exception as e:\n",
    "        likes = 0\n",
    "    # views = re.search(r\"(\\d+)\", views).group()\n",
    "\n",
    "    return pd.DataFrame.from_dict(\n",
    "        {\n",
    "            \"title\": [title],\n",
    "            \"views\": [views],\n",
    "            \"likes\": [likes],\n",
    "            \"date\": [date],\n",
    "            \"comments_amount\": [comments_amount],\n",
    "            # \"keywords\": [keywords],\n",
    "        }\n",
    "    )\n",
    "\n",
    "\n",
    "def parse_channel(selector) -> pd.DataFrame:\n",
    "    subscribers = selector.css(\n",
    "        \"#subscriber-count.style-scope.ytd-c4-tabbed-header-renderer::text\"\n",
    "    ).get()\n",
    "\n",
    "    # subscribers = re.search(r\"(\\d+)\", subscribers).group()\n",
    "\n",
    "    # get recent 5 videos\n",
    "    channel_name = (\n",
    "        selector.css(\"div#channel-header-container yt-formatted-string#text::text\")\n",
    "        .get()\n",
    "    )\n",
    "    \n",
    "    if channel_name is None:\n",
    "        channel_name = selector.css(\"div#channel-header-container h1#text::text\").get()\n",
    "        \n",
    "    print(\"Channel name: \", channel_name)\n",
    "\n",
    "    videos = selector.css(\n",
    "        \"div.style-scope.ytd-rich-item-renderer ytd-rich-grid-media div.style-scope.ytd-rich-grid-media a#thumbnail.yt-simple-endpoint.inline-block.style-scope.ytd-thumbnail::attr(href)\"\n",
    "    ).getall()[:5]\n",
    "\n",
    "    u, ind = np.unique(videos, return_index=True)\n",
    "    videos = u[np.argsort(ind)]\n",
    "\n",
    "    df = pd.DataFrame()\n",
    "    for v in videos:\n",
    "        print(\"Video: \", v)\n",
    "\n",
    "        result = scroll_page(f\"https://www.youtube.com{v}\")\n",
    "\n",
    "        info = get_info_from_video(result)\n",
    "        info[\"channel_name\"] = channel_name\n",
    "        info[\"subscribers\"] = subscribers\n",
    "        # print(info)\n",
    "\n",
    "        df = pd.concat([df, info])\n",
    "        # df = df.append(info, ignore_index=True)\n",
    "\n",
    "    print(\"Videos i got: \", len(videos))\n",
    "    return df\n",
    "\n",
    "\n",
    "def parse_top_channel(channel_link: str) -> pd.DataFrame:\n",
    "    from selenium.webdriver.support.ui import WebDriverWait\n",
    "    from selenium.webdriver.support import expected_conditions as EC\n",
    "    from selenium.webdriver.common.by import By\n",
    "\n",
    "    driver = webdriver.Edge()\n",
    "    wait = WebDriverWait(driver, 3)\n",
    "    driver.implicitly_wait(10)\n",
    "\n",
    "    driver.get(channel_link)\n",
    "    driver.maximize_window()\n",
    "\n",
    "    # //*[@id=\"chips\"]/yt-chip-cloud-chip-renderer[2]\n",
    "    # wait for page to load\n",
    "\n",
    "    try:\n",
    "        wait.until(\n",
    "            EC.presence_of_element_located(\n",
    "                (By.XPATH, '//*[@id=\"chips\"]/yt-chip-cloud-chip-renderer[2]')\n",
    "            )\n",
    "        ).click()\n",
    "    except Exception as e:\n",
    "        print(\"Nao possui aba de videos em alta\")\n",
    "        # return empty dataframe\n",
    "        # return pd.DataFrame()\n",
    "\n",
    "    time.sleep(3)\n",
    "    selector = Selector(text=driver.page_source)\n",
    "    driver.quit()\n",
    "\n",
    "    channel_name = (\n",
    "        selector.css(\"div#channel-header-container yt-formatted-string#text::text\")\n",
    "        .get()\n",
    "        .strip()\n",
    "    )\n",
    "\n",
    "    videos = selector.css(\n",
    "        \"div.style-scope.ytd-rich-item-renderer ytd-rich-grid-media div.style-scope.ytd-rich-grid-media a#thumbnail.yt-simple-endpoint.inline-block.style-scope.ytd-thumbnail::attr(href)\"\n",
    "    ).getall()[:5]\n",
    "\n",
    "    u, ind = np.unique(videos, return_index=True)\n",
    "    videos = u[np.argsort(ind)]\n",
    "\n",
    "    df = pd.DataFrame()\n",
    "    for v in videos:\n",
    "        # print(\"Video: \", v)\n",
    "\n",
    "        result = scroll_page(f\"https://www.youtube.com{v}\")\n",
    "\n",
    "        info = get_info_from_video(result)\n",
    "        print(info)\n",
    "        info[\"channel_name\"] = channel_name\n",
    "        # print(info)\n",
    "\n",
    "        df = pd.concat([df, info])\n",
    "        # df = df.append(info, ignore_index=True)\n",
    "\n",
    "    print(\"Videos i got: \", len(videos))\n",
    "    return df\n",
    "\n"
   ]
  },
  {
   "attachments": {},
   "cell_type": "markdown",
   "id": "8832a998",
   "metadata": {
    "papermill": {
     "duration": 0.004001,
     "end_time": "2023-10-24T14:22:27.836527",
     "exception": false,
     "start_time": "2023-10-24T14:22:27.832526",
     "status": "completed"
    },
    "tags": []
   },
   "source": [
    "Pegar dados"
   ]
  },
  {
   "cell_type": "code",
   "execution_count": 3,
   "id": "3846da54",
   "metadata": {
    "execution": {
     "iopub.execute_input": "2023-10-24T14:22:27.845527Z",
     "iopub.status.busy": "2023-10-24T14:22:27.844526Z",
     "iopub.status.idle": "2023-10-24T14:35:43.098591Z",
     "shell.execute_reply": "2023-10-24T14:35:43.095587Z"
    },
    "papermill": {
     "duration": 795.265064,
     "end_time": "2023-10-24T14:35:43.104590",
     "exception": false,
     "start_time": "2023-10-24T14:22:27.839526",
     "status": "completed"
    },
    "tags": []
   },
   "outputs": [
    {
     "name": "stdout",
     "output_type": "stream",
     "text": [
      "Channel name:  Interact IoT\n"
     ]
    },
    {
     "name": "stdout",
     "output_type": "stream",
     "text": [
      "Video:  /watch?v=wWrL69Gy3UQ\n"
     ]
    },
    {
     "name": "stdout",
     "output_type": "stream",
     "text": [
      "I vantaggi di Interact Pro 2,6 mil visualizações Marque este vídeo como \"Gostei\" com mais 1 pessoa 12 de out. de 2023 Transcrição\n",
      "Video:  /watch?v=nWMkS26DabU\n"
     ]
    },
    {
     "name": "stdout",
     "output_type": "stream",
     "text": [
      "How to set up your lights with Interact Pro 383 visualizações Marque este vídeo como \"Gostei\" com mais 1 pessoa 17 de ago. de 2023 How to set up your lights with Interact Pro\n",
      "Video:  /watch?v=o3xrGKS6010\n"
     ]
    },
    {
     "name": "stdout",
     "output_type": "stream",
     "text": [
      "Interact Sports - 1° Projeto de iluminação dinâmica no Brasil 62 visualizações Marque este vídeo como \"Gostei\" com mais 2 pessoas 14 de ago. de 2023 Transcrição\n",
      "Video:  /watch?v=P6NtAhwYe6s\n"
     ]
    },
    {
     "name": "stdout",
     "output_type": "stream",
     "text": [
      "Interact Contractor Video 75 visualizações Marque este vídeo como \"Gostei\" com mais 0 pessoa 14 de jul. de 2023 Transcrição\n",
      "Video:  /watch?v=GKJuaQxWY9o\n"
     ]
    },
    {
     "name": "stdout",
     "output_type": "stream",
     "text": [
      "Boost your connected city street lighting with Outdoor Multisensors 184 visualizações Marque este vídeo como \"Gostei\" com mais 0 pessoa 15 de jun. de 2023 Transcrição\n",
      "Videos i got:  5\n"
     ]
    },
    {
     "name": "stdout",
     "output_type": "stream",
     "text": [
      "Where lighting meets the IoT 723 mil visualizações Marque este vídeo como \"Gostei\" com mais 30 pessoas 5 de nov. de 2019 1\n",
      "                          title                  views likes  \\\n",
      "0  Where lighting meets the IoT  723 mil visualizações    30   \n",
      "\n",
      "                date comments_amount  \n",
      "0  5 de nov. de 2019               1  \n"
     ]
    },
    {
     "name": "stdout",
     "output_type": "stream",
     "text": [
      "Smartes Licht für jedes Unternehmen 366 mil visualizações Marque este vídeo como \"Gostei\" com mais 5 pessoas 29 de jul. de 2021 Transcrição\n",
      "                                 title                  views likes  \\\n",
      "0  Smartes Licht für jedes Unternehmen  366 mil visualizações     5   \n",
      "\n",
      "                 date comments_amount  \n",
      "0  29 de jul. de 2021     Transcrição  \n"
     ]
    },
    {
     "name": "stdout",
     "output_type": "stream",
     "text": [
      "Estadio Mario Alberto Kempes - Iluminación que revoluciona la experiencia deportiva 12 mil visualizações Marque este vídeo como \"Gostei\" com mais 151 pessoas 23 de nov. de 2021 10\n",
      "                                               title                 views  \\\n",
      "0  Estadio Mario Alberto Kempes - Iluminación que...  12 mil visualizações   \n",
      "\n",
      "  likes                date comments_amount  \n",
      "0   151  23 de nov. de 2021              10  \n"
     ]
    },
    {
     "name": "stdout",
     "output_type": "stream",
     "text": [
      "Interact Sports導入事例：豊田スタジアム 11 mil visualizações Marque este vídeo como \"Gostei\" com mais 119 pessoas 19 de set. de 2019 5\n",
      "                         title                 views likes  \\\n",
      "0  Interact Sports導入事例：豊田スタジアム  11 mil visualizações   119   \n",
      "\n",
      "                 date comments_amount  \n",
      "0  19 de set. de 2019               5  \n"
     ]
    },
    {
     "name": "stdout",
     "output_type": "stream",
     "text": [
      "Interact - Red Bull Arena Leipzig, Germany 11 mil visualizações Marque este vídeo como \"Gostei\" com mais 122 pessoas 3 de nov. de 2021 3\n",
      "                                        title                 views likes  \\\n",
      "0  Interact - Red Bull Arena Leipzig, Germany  11 mil visualizações   122   \n",
      "\n",
      "                date comments_amount  \n",
      "0  3 de nov. de 2021               3  \n",
      "Videos i got:  5\n"
     ]
    },
    {
     "name": "stdout",
     "output_type": "stream",
     "text": [
      "{\n",
      "  \"channel_title\": \"Interact IoT\",\n",
      "  \"date_joined\": \"30 de nov. de 2018\",\n",
      "  \"total_views\": \"1.305.447 visualizações\",\n",
      "  \"total_subs\": \"1,16 mil inscritos\",\n",
      "  \"total_videos\": \"308\"\n",
      "}\n"
     ]
    },
    {
     "name": "stdout",
     "output_type": "stream",
     "text": [
      "Channel name:  intelbras\n",
      "Video:  /watch?v=pk3XHnB7gWw\n"
     ]
    },
    {
     "name": "stdout",
     "output_type": "stream",
     "text": [
      "Tudo que você precisa saber sobre o novo telefone IP com conexão Wi-Fi V 5502  visualizações   Marque este vídeo como \"Gostei\" com mais 50 pessoas 23 de out. de 2023 1\n",
      "Video:  /watch?v=KqD3_mj4UaU\n"
     ]
    },
    {
     "name": "stdout",
     "output_type": "stream",
     "text": [
      "BCM 5000 Defense: Unboxing e boas práticas – i2338 258 visualizações Marque este vídeo como \"Gostei\" com mais 30 pessoas 23 de out. de 2023 Transcrição\n",
      "Video:  /watch?v=MCXR5EOB9b8\n"
     ]
    },
    {
     "name": "stdout",
     "output_type": "stream",
     "text": [
      "Personalização do atendimento em clínicas com Wide Chat 296 visualizações Marque este vídeo como \"Gostei\" com mais 23 pessoas 20 de out. de 2023 Transcrição\n",
      "Video:  /watch?v=d_77JxFBUME\n"
     ]
    },
    {
     "name": "stdout",
     "output_type": "stream",
     "text": [
      "Minuto em Foco - Você tem usado qualquer HD no seu projeto de CFTV? 315 visualizações Marque este vídeo como \"Gostei\" com mais 31 pessoas 20 de out. de 2023 Transcrição\n",
      "Video:  /watch?v=mpOGWYdol1s\n"
     ]
    },
    {
     "name": "stdout",
     "output_type": "stream",
     "text": [
      "BCM 5000 Defense: Cadastro nos gravadores DVR/NVR/MDVR – i2340 377 visualizações Marque este vídeo como \"Gostei\" com mais 23 pessoas 20 de out. de 2023 1\n",
      "Videos i got:  5\n"
     ]
    },
    {
     "name": "stdout",
     "output_type": "stream",
     "text": [
      "A Intelbras pensa no hoje e antecipa o amanhã (sempre próxima) 22 mi de visualizações Marque este vídeo como \"Gostei\" com mais 519 pessoas 17 de dez. de 2020 53\n",
      "                                               title                   views  \\\n",
      "0  A Intelbras pensa no hoje e antecipa o amanhã ...  22 mi de visualizações   \n",
      "\n",
      "  likes                date comments_amount  \n",
      "0   519  17 de dez. de 2020              53  \n"
     ]
    },
    {
     "name": "stdout",
     "output_type": "stream",
     "text": [
      "As mais completas soluções corporativas têm nome: Intelbras. 8,8 mi de visualizações Marque este vídeo como \"Gostei\" com mais 269 pessoas 18 de fev. de 2021 28\n",
      "                                               title                    views  \\\n",
      "0  As mais completas soluções corporativas têm no...  8,8 mi de visualizações   \n",
      "\n",
      "  likes                date comments_amount  \n",
      "0   269  18 de fev. de 2021              28  \n"
     ]
    },
    {
     "name": "stdout",
     "output_type": "stream",
     "text": [
      "Conheça as novas funcionalidades do aplicativo ISIC Lite 2.0 Android - i2188 5,4 mi de visualizações Marque este vídeo como \"Gostei\" com mais 28.209 pessoas 17 de mar. de 2020 1 mil\n",
      "                                               title                    views  \\\n",
      "0  Conheça as novas funcionalidades do aplicativo...  5,4 mi de visualizações   \n",
      "\n",
      "  likes                date comments_amount  \n",
      "0    28  17 de mar. de 2020           1 mil  \n"
     ]
    },
    {
     "name": "stdout",
     "output_type": "stream",
     "text": [
      "ISIC Lite: Novidades da versão 2.4.9 - i2263 2,4 mi de visualizações Marque este vídeo como \"Gostei\" com mais 5.547 pessoas 4 de abr. de 2022 192\n",
      "                                          title                    views  \\\n",
      "0  ISIC Lite: Novidades da versão 2.4.9 - i2263  2,4 mi de visualizações   \n",
      "\n",
      "  likes               date comments_amount  \n",
      "0     5  4 de abr. de 2022             192  \n"
     ]
    },
    {
     "name": "stdout",
     "output_type": "stream",
     "text": [
      "Intelbras: A evolução do Wi-Fi #IntelbrasConecta 2,2 mi de visualizações Marque este vídeo como \"Gostei\" com mais 671 pessoas 3 de jul. de 2020 96\n",
      "                                              title                    views  \\\n",
      "0  Intelbras: A evolução do Wi-Fi #IntelbrasConecta  2,2 mi de visualizações   \n",
      "\n",
      "  likes               date comments_amount  \n",
      "0   671  3 de jul. de 2020              96  \n",
      "Videos i got:  5\n"
     ]
    },
    {
     "name": "stdout",
     "output_type": "stream",
     "text": [
      "{\n",
      "  \"channel_title\": \"intelbras\",\n",
      "  \"date_joined\": \"31 de ago. de 2010\",\n",
      "  \"total_views\": \"123.090.582 visualizações\",\n",
      "  \"total_subs\": \"349 mil inscritos\",\n",
      "  \"total_videos\": \"2,5 mil\"\n",
      "}\n"
     ]
    },
    {
     "name": "stdout",
     "output_type": "stream",
     "text": [
      "Channel name:  Luter Led\n",
      "Video:  /watch?v=zbl780V8oac\n"
     ]
    },
    {
     "name": "stdout",
     "output_type": "stream",
     "text": [
      "Luminária Industrial Led Sky High Bay G3 259 visualizações Marque este vídeo como \"Gostei\" com mais 2 pessoas 26 de jul. de 2023 Transcrição\n",
      "Video:  /watch?v=FmXK0OCJX7M\n"
     ]
    },
    {
     "name": "stdout",
     "output_type": "stream",
     "text": [
      "Luminária Linear LED ARQ Line da Luter LED 106 visualizações Marque este vídeo como \"Gostei\" com mais 7 pessoas 22 de set. de 2022 1\n",
      "Video:  /watch?v=P8-HtHLdTbw\n"
     ]
    },
    {
     "name": "stdout",
     "output_type": "stream",
     "text": [
      "Conheça Fábrica de Lâmpadas e Luminárias Luter LED 3,3 mil visualizações Marque este vídeo como \"Gostei\" com mais 62 pessoas 7 de jul. de 2020 2\n",
      "Video:  /watch?v=3VUMrfh42GI\n"
     ]
    },
    {
     "name": "stdout",
     "output_type": "stream",
     "text": [
      "O que é um Projeto Turn Key em iluminação? 5,3 mil visualizações Marque este vídeo como \"Gostei\" com mais 36 pessoas 5 de mai. de 2020 Transcrição\n",
      "Video:  /watch?v=dDK5iz_hSgA\n"
     ]
    },
    {
     "name": "stdout",
     "output_type": "stream",
     "text": [
      "Projeto Smart Lighting Luter LED - Krones S.A. 4,6 mil visualizações Marque este vídeo como \"Gostei\" com mais 38 pessoas 21 de set. de 2018 Transcrição\n",
      "Videos i got:  5\n"
     ]
    },
    {
     "name": "stdout",
     "output_type": "stream",
     "text": [
      "Nao possui aba de videos em alta\n"
     ]
    },
    {
     "name": "stdout",
     "output_type": "stream",
     "text": [
      "Luminária Industrial Led Sky High Bay G3 259 visualizações Marque este vídeo como \"Gostei\" com mais 2 pessoas 26 de jul. de 2023 Transcrição\n",
      "                                      title              views likes  \\\n",
      "0  Luminária Industrial Led Sky High Bay G3  259 visualizações     2   \n",
      "\n",
      "                 date comments_amount  \n",
      "0  26 de jul. de 2023     Transcrição  \n"
     ]
    },
    {
     "name": "stdout",
     "output_type": "stream",
     "text": [
      "Luminária Linear LED ARQ Line da Luter LED 106 visualizações Marque este vídeo como \"Gostei\" com mais 7 pessoas 22 de set. de 2022 1\n",
      "                                        title              views likes  \\\n",
      "0  Luminária Linear LED ARQ Line da Luter LED  106 visualizações     7   \n",
      "\n",
      "                 date comments_amount  \n",
      "0  22 de set. de 2022               1  \n"
     ]
    },
    {
     "name": "stdout",
     "output_type": "stream",
     "text": [
      "Conheça Fábrica de Lâmpadas e Luminárias Luter LED 3,3 mil visualizações Marque este vídeo como \"Gostei\" com mais 62 pessoas 7 de jul. de 2020 2\n",
      "                                               title                  views  \\\n",
      "0  Conheça Fábrica de Lâmpadas e Luminárias Luter...  3,3 mil visualizações   \n",
      "\n",
      "  likes               date comments_amount  \n",
      "0    62  7 de jul. de 2020               2  \n"
     ]
    },
    {
     "name": "stdout",
     "output_type": "stream",
     "text": [
      "O que é um Projeto Turn Key em iluminação? 5,3 mil visualizações Marque este vídeo como \"Gostei\" com mais 36 pessoas 5 de mai. de 2020 Transcrição\n",
      "                                        title                  views likes  \\\n",
      "0  O que é um Projeto Turn Key em iluminação?  5,3 mil visualizações    36   \n",
      "\n",
      "                date comments_amount  \n",
      "0  5 de mai. de 2020     Transcrição  \n"
     ]
    },
    {
     "name": "stdout",
     "output_type": "stream",
     "text": [
      "Projeto Smart Lighting Luter LED - Krones S.A. 4,6 mil visualizações Marque este vídeo como \"Gostei\" com mais 38 pessoas 21 de set. de 2018 Transcrição\n",
      "                                            title                  views  \\\n",
      "0  Projeto Smart Lighting Luter LED - Krones S.A.  4,6 mil visualizações   \n",
      "\n",
      "  likes                date comments_amount  \n",
      "0    38  21 de set. de 2018     Transcrição  \n",
      "Videos i got:  5\n"
     ]
    },
    {
     "name": "stdout",
     "output_type": "stream",
     "text": [
      "{\n",
      "  \"channel_title\": \"Luter Led\",\n",
      "  \"date_joined\": \"2 de mai. de 2018\",\n",
      "  \"total_views\": \"14.201 visualizações\",\n",
      "  \"total_subs\": \"120 inscritos\",\n",
      "  \"total_videos\": \"6\"\n",
      "}\n"
     ]
    },
    {
     "name": "stdout",
     "output_type": "stream",
     "text": [
      "Channel name:  LEDVANCE\n",
      "Video:  /watch?v=ksPn9-kaOus\n"
     ]
    },
    {
     "name": "stdout",
     "output_type": "stream",
     "text": [
      "LEDVANCE TRUSYS FLEX lichtlijn video 11 visualizações Marque este vídeo como \"Gostei\" com mais 0 pessoa 24 de out. de 2023 None\n",
      "Video:  /watch?v=P6EvVsuczWU\n"
     ]
    },
    {
     "name": "stdout",
     "output_type": "stream",
     "text": [
      "LEDVANCE Trusys Flex Trunking System  visualizações   Marque este vídeo como \"Gostei\" com mais 0 pessoa 24 de out. de 2023 None\n",
      "Video:  /watch?v=wkNDCucwWLE\n"
     ]
    },
    {
     "name": "stdout",
     "output_type": "stream",
     "text": [
      "Como Vender LEDVANCE | Linha LEDVANCE VIVARES (módulo 2) 74 visualizações Marque este vídeo como \"Gostei\" com mais 1 pessoa 27 de set. de 2023 None\n",
      "Video:  /watch?v=4LqCUnaVJMw\n"
     ]
    },
    {
     "name": "stdout",
     "output_type": "stream",
     "text": [
      "Como Vender LEDVANCE | Linha LEDVANCE VIVARES (módulo 1) 64 visualizações Marque este vídeo como \"Gostei\" com mais 3 pessoas 20 de set. de 2023 None\n",
      "Video:  /watch?v=bJbW9Mpbln0\n"
     ]
    },
    {
     "name": "stdout",
     "output_type": "stream",
     "text": [
      "TRUSYS FLEX Trunking system video 484 visualizações Marque este vídeo como \"Gostei\" com mais 9 pessoas 11 de set. de 2023 None\n",
      "Videos i got:  5\n"
     ]
    },
    {
     "name": "stdout",
     "output_type": "stream",
     "text": [
      "Installation guide for OSRAM SubstiTUBE T8 LED tubes 102 mil visualizações Marque este vídeo como \"Gostei\" com mais 159 pessoas 2 de nov. de 2016 None\n",
      "                                               title                  views  \\\n",
      "0  Installation guide for OSRAM SubstiTUBE T8 LED...  102 mil visualizações   \n",
      "\n",
      "  likes               date comments_amount  \n",
      "0   159  2 de nov. de 2016            None  \n"
     ]
    },
    {
     "name": "stdout",
     "output_type": "stream",
     "text": [
      "LEDVANCE Floodlight Sensor Installation 70 mil visualizações Marque este vídeo como \"Gostei\" com mais 100 pessoas 15 de out. de 2018 None\n",
      "                                     title                 views likes  \\\n",
      "0  LEDVANCE Floodlight Sensor Installation  70 mil visualizações   100   \n",
      "\n",
      "                 date comments_amount  \n",
      "0  15 de out. de 2018            None  \n"
     ]
    },
    {
     "name": "stdout",
     "output_type": "stream",
     "text": [
      "LEDVANCE FLOODLIGHT 52 mil visualizações Marque este vídeo como \"Gostei\" com mais 105 pessoas 8 de set. de 2020 None\n",
      "                 title                 views likes               date  \\\n",
      "0  LEDVANCE FLOODLIGHT  52 mil visualizações   105  8 de set. de 2020   \n",
      "\n",
      "  comments_amount  \n",
      "0            None  \n"
     ]
    },
    {
     "name": "stdout",
     "output_type": "stream",
     "text": [
      "Guide d’installation des tubes LED SubstiTUBE® T5 OSRAM innovants 39 mil visualizações Marque este vídeo como \"Gostei\" com mais 36 pessoas 30 de mar. de 2017 None\n",
      "                                               title                 views  \\\n",
      "0  Guide d’installation des tubes LED SubstiTUBE®...  39 mil visualizações   \n",
      "\n",
      "  likes                date comments_amount  \n",
      "0    36  30 de mar. de 2017            None  \n"
     ]
    },
    {
     "name": "stdout",
     "output_type": "stream",
     "text": [
      "The new LED tubes: OSRAM SubstiTUBE - versatile, efficient and durable 24 mil visualizações Marque este vídeo como \"Gostei\" com mais 51 pessoas 18 de jul. de 2016 None\n",
      "                                               title                 views  \\\n",
      "0  The new LED tubes: OSRAM SubstiTUBE - versatil...  24 mil visualizações   \n",
      "\n",
      "  likes                date comments_amount  \n",
      "0    51  18 de jul. de 2016            None  \n",
      "Videos i got:  5\n"
     ]
    },
    {
     "name": "stdout",
     "output_type": "stream",
     "text": [
      "{\n",
      "  \"channel_title\": \"LEDVANCE\",\n",
      "  \"date_joined\": \"8 de mar. de 2016\",\n",
      "  \"total_views\": \"957.053 visualizações\",\n",
      "  \"total_subs\": \"4,82 mil inscritos\",\n",
      "  \"total_videos\": \"568\"\n",
      "}\n"
     ]
    }
   ],
   "source": [
    "\n",
    "# %%\n",
    "with open(\"canais.txt\", \"r\") as f:\n",
    "    # read each line as a item in a list and remove the \\n\n",
    "    canais = [line.strip() for line in f.readlines()]\n",
    "\n",
    "base_path = f\"./data/{canais[0].split('@')[-1]}/\"\n",
    "\n",
    "df = pd.DataFrame()\n",
    "df_top = pd.DataFrame()\n",
    "df_lifetime = pd.DataFrame()\n",
    "for ch in canais:\n",
    "    # recent videos\n",
    "    result = scroll_page(ch + \"/videos\")\n",
    "    df_channel = parse_channel(result)\n",
    "    df = pd.concat([df, df_channel])\n",
    "\n",
    "    # top videos\n",
    "    df_top_channel = parse_top_channel(ch + \"/videos\")\n",
    "    df_top = pd.concat([df_top, df_top_channel])\n",
    "\n",
    "    # lifetime info\n",
    "    df_lifetime_channel = get_info_from_channel(ch + \"/about\")\n",
    "    df_lifetime = pd.concat([df_lifetime, df_lifetime_channel])\n",
    "\n",
    "\n",
    "os.makedirs(base_path, exist_ok=True)\n",
    "\n",
    "df.to_csv(base_path + \"videos.csv\", index=False)\n",
    "df_top.to_csv(base_path + \"top_videos.csv\", index=False)\n",
    "df_lifetime.to_csv(base_path + \"lifetime.csv\", index=False)\n"
   ]
  },
  {
   "attachments": {},
   "cell_type": "markdown",
   "id": "ec517bf2",
   "metadata": {
    "papermill": {
     "duration": 0.008,
     "end_time": "2023-10-24T14:35:43.124580",
     "exception": false,
     "start_time": "2023-10-24T14:35:43.116580",
     "status": "completed"
    },
    "tags": []
   },
   "source": [
    "last 30 days"
   ]
  },
  {
   "cell_type": "code",
   "execution_count": 4,
   "id": "e87f972f",
   "metadata": {
    "execution": {
     "iopub.execute_input": "2023-10-24T14:35:43.150581Z",
     "iopub.status.busy": "2023-10-24T14:35:43.149581Z",
     "iopub.status.idle": "2023-10-24T14:37:28.899461Z",
     "shell.execute_reply": "2023-10-24T14:37:28.895462Z"
    },
    "papermill": {
     "duration": 105.77788,
     "end_time": "2023-10-24T14:37:28.911460",
     "exception": false,
     "start_time": "2023-10-24T14:35:43.133580",
     "status": "completed"
    },
    "tags": []
   },
   "outputs": [
    {
     "name": "stdout",
     "output_type": "stream",
     "text": [
      "['@InteractIoT', '@intelbras', '@luterled', '@LEDVANCE']\n"
     ]
    }
   ],
   "source": [
    "\n",
    "# read channel IDs\n",
    "\n",
    "with open(\"canais.txt\", \"r\") as f:\n",
    "    canais = f.readlines()\n",
    "\n",
    "\n",
    "canais = [c.strip() for c in canais]\n",
    "# take only the string after the last slash\n",
    "canais = [c.split(\"/\")[-1] for c in canais]\n",
    "\n",
    "print(canais)\n",
    "\n",
    "base_url = \"https://socialblade.com/youtube/channel/\"\n",
    "\n",
    "social_blade_data = []\n",
    "for c in canais:\n",
    "    response = scroll_page(base_url + c)\n",
    "\n",
    "    # last 30 days views #socialblade-user-content > div:nth-child(23) > div:nth-child(3) > span\n",
    "    views = response.css(\n",
    "        \"#socialblade-user-content > div:nth-child(23) > div:nth-child(3) > span::text\"\n",
    "    ).get()\n",
    "    subs = response.css(\n",
    "        \"#socialblade-user-content > div:nth-child(23) > div:nth-child(2) > span::text\"\n",
    "    ).get()\n",
    "\n",
    "    if views is None or subs is None:\n",
    "        views = response.css(\n",
    "            \"#socialblade-user-content > div:nth-child(16) > div:nth-child(3) > span::text\"\n",
    "        ).get()\n",
    "        subs = response.css(\n",
    "            \"#socialblade-user-content > div:nth-child(16) > div:nth-child(2) > span::text\"\n",
    "        ).get()\n",
    "\n",
    "    social_blade_data.append({\"Channel\": c, \"views\": views, \"subs\": subs})\n",
    "\n",
    "last_30days = pd.DataFrame(social_blade_data)\n",
    "last_30days = last_30days.fillna(\"0\")\n",
    "\n",
    "last_30days.to_parquet(f'data/{canais[0].split(\"@\")[-1]}/last_30_days.parquet', index=False)"
   ]
  }
 ],
 "metadata": {
  "kernelspec": {
   "display_name": "venv",
   "language": "python",
   "name": "python3"
  },
  "language_info": {
   "codemirror_mode": {
    "name": "ipython",
    "version": 3
   },
   "file_extension": ".py",
   "mimetype": "text/x-python",
   "name": "python",
   "nbconvert_exporter": "python",
   "pygments_lexer": "ipython3",
   "version": "3.10.9"
  },
  "papermill": {
   "default_parameters": {},
   "duration": 907.998934,
   "end_time": "2023-10-24T14:37:29.526460",
   "environment_variables": {},
   "exception": null,
   "input_path": "pegar_dados_youtube.ipynb",
   "output_path": "pegar_dados_youtube.ipynb",
   "parameters": {},
   "start_time": "2023-10-24T14:22:21.527526",
   "version": "2.4.0"
  }
 },
 "nbformat": 4,
 "nbformat_minor": 5
}