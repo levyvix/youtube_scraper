{
 "cells": [
  {
   "cell_type": "code",
   "execution_count": 1,
   "id": "635b8866",
   "metadata": {
    "execution": {
     "iopub.execute_input": "2023-07-26T15:36:48.057023Z",
     "iopub.status.busy": "2023-07-26T15:36:48.057023Z",
     "iopub.status.idle": "2023-07-26T15:36:51.747777Z",
     "shell.execute_reply": "2023-07-26T15:36:51.746777Z"
    },
    "papermill": {
     "duration": 3.701756,
     "end_time": "2023-07-26T15:36:51.750777",
     "exception": false,
     "start_time": "2023-07-26T15:36:48.049021",
     "status": "completed"
    },
    "tags": []
   },
   "outputs": [],
   "source": [
    "# %%\n",
    "import re, json, time\n",
    "from selenium import webdriver\n",
    "import os\n",
    "\n",
    "# import By\n",
    "from selenium.webdriver.common.by import By\n",
    "from selenium.webdriver.chrome.service import Service\n",
    "\n",
    "# from webdriver_manager.chrome import ChromeDriverManager\n",
    "from parsel import Selector\n",
    "\n",
    "import pandas as pd\n",
    "import numpy as np\n"
   ]
  },
  {
   "cell_type": "code",
   "execution_count": 2,
   "id": "f583d579",
   "metadata": {
    "execution": {
     "iopub.execute_input": "2023-07-26T15:36:51.764780Z",
     "iopub.status.busy": "2023-07-26T15:36:51.763780Z",
     "iopub.status.idle": "2023-07-26T15:36:51.811778Z",
     "shell.execute_reply": "2023-07-26T15:36:51.810778Z"
    },
    "papermill": {
     "duration": 0.058001,
     "end_time": "2023-07-26T15:36:51.814777",
     "exception": false,
     "start_time": "2023-07-26T15:36:51.756776",
     "status": "completed"
    },
    "tags": []
   },
   "outputs": [],
   "source": [
    "def scroll_page(url):\n",
    "    # service = Service(ChromeDriverManager().install())\n",
    "\n",
    "    # options = webdriver.ChromeOptions()\n",
    "    # options.add_argument(\"--headless\")\n",
    "    # options.add_argument(\"--lang=en\")\n",
    "    # options.add_argument(\n",
    "    #     \"user-agent=Mozilla/5.0 (Windows NT 10.0; Win64; x64) AppleWebKit/537.36 (KHTML, like Gecko) Chrome/104.0.0.0 Safari/537.36\"\n",
    "    # )\n",
    "\n",
    "    driver = webdriver.Chrome()\n",
    "    driver.get(url)\n",
    "    driver.implicitly_wait(10)\n",
    "\n",
    "    time.sleep(3)\n",
    "    selector = Selector(driver.page_source)\n",
    "    driver.quit()\n",
    "\n",
    "    return selector\n",
    "\n",
    "\n",
    "def scrape_all_data(selector):\n",
    "    youtube_video_page = []\n",
    "\n",
    "    all_script_tags = selector.css(\"script\").getall()\n",
    "\n",
    "    title = selector.css(\".title .ytd-video-primary-info-renderer::text\").get()\n",
    "\n",
    "    # https://regex101.com/r/gHeLwZ/1\n",
    "    views = int(\n",
    "        re.search(r\"(.*)\\s\", selector.css(\".view-count::text\").get())\n",
    "        .group()\n",
    "        .replace(\",\", \"\")\n",
    "    )\n",
    "\n",
    "    # https://regex101.com/r/9OGwJp/1\n",
    "    likes = int(\n",
    "        re.search(\n",
    "            r\"(.*)\\s\",\n",
    "            selector.css(\n",
    "                \"#top-level-buttons-computed > ytd-toggle-button-renderer:first-child #text::attr(aria-label)\"\n",
    "            ).get(),\n",
    "        )\n",
    "        .group()\n",
    "        .replace(\",\", \"\")\n",
    "    )\n",
    "\n",
    "    date = selector.css(\"#info-strings yt-formatted-string::text\").get()\n",
    "\n",
    "    duration = selector.css(\".ytp-time-duration::text\").get()\n",
    "\n",
    "    # https://regex101.com/r/0JNma3/1\n",
    "    keywords = (\n",
    "        \"\".join(\n",
    "            re.findall(r'\"keywords\":\\[(.*)\\],\"channelId\":\".*\"', str(all_script_tags))\n",
    "        )\n",
    "        .replace('\"', \"\")\n",
    "        .split(\",\")\n",
    "    )\n",
    "\n",
    "    # https://regex101.com/r/9VhH1s/1\n",
    "    thumbnail = re.findall(\n",
    "        r'\\[{\"url\":\"(\\S+)\",\"width\":\\d*,\"height\":\\d*},', str(all_script_tags)\n",
    "    )[0].split('\",')[0]\n",
    "\n",
    "    channel = {\n",
    "        # https://regex101.com/r/xFUzq5/1\n",
    "        \"id\": \"\".join(\n",
    "            re.findall(r'\"channelId\":\"(.*)\",\"isOwnerViewing\"', str(all_script_tags))\n",
    "        ),\n",
    "        \"name\": selector.css(\"#channel-name a::text\").get(),\n",
    "        \"link\": f'https://www.youtube.com{selector.css(\"#channel-name a::attr(href)\").get()}',\n",
    "        \"subscribers\": selector.css(\"#owner-sub-count::text\").get(),\n",
    "        \"thumbnail\": selector.css(\"#img::attr(src)\").get(),\n",
    "    }\n",
    "\n",
    "    description = selector.css(\n",
    "        \".ytd-expandable-video-description-body-renderer span:nth-child(1)::text\"\n",
    "    ).get()\n",
    "\n",
    "    hash_tags = [\n",
    "        {\n",
    "            \"name\": hash_tag.css(\"::text\").get(),\n",
    "            \"link\": f'https://www.youtube.com{hash_tag.css(\"::attr(href)\").get()}',\n",
    "        }\n",
    "        for hash_tag in selector.css(\n",
    "            \".ytd-expandable-video-description-body-renderer a\"\n",
    "        )\n",
    "    ]\n",
    "\n",
    "    # https://regex101.com/r/onRk9j/1\n",
    "    category = \"\".join(\n",
    "        re.findall(r'\"category\":\"(.*)\",\"publishDate\"', str(all_script_tags))\n",
    "    )\n",
    "\n",
    "    comments_amount = int(\n",
    "        selector.css(\"#count .count-text span:nth-child(1)::text\")\n",
    "        .get()\n",
    "        .replace(\",\", \"\")\n",
    "    )\n",
    "\n",
    "    comments = []\n",
    "\n",
    "    for comment in selector.css(\"#contents > ytd-comment-thread-renderer\"):\n",
    "        comments.append(\n",
    "            {\n",
    "                \"author\": comment.css(\"#author-text span::text\").get().strip(),\n",
    "                \"link\": f'https://www.youtube.com{comment.css(\"#author-text::attr(href)\").get()}',\n",
    "                \"date\": comment.css(\".published-time-text a::text\").get(),\n",
    "                \"likes\": comment.css(\"#vote-count-middle::text\").get().strip(),\n",
    "                \"comment\": comment.css(\"#content-text::text\").get(),\n",
    "                \"avatar\": comment.css(\"#author-thumbnail #img::attr(src)\").get(),\n",
    "            }\n",
    "        )\n",
    "\n",
    "    suggested_videos = []\n",
    "\n",
    "    for video in selector.css(\"ytd-compact-video-renderer\"):\n",
    "        suggested_videos.append(\n",
    "            {\n",
    "                \"title\": video.css(\"#video-title::text\").get().strip(),\n",
    "                \"link\": f'https://www.youtube.com{video.css(\"#thumbnail::attr(href)\").get()}',\n",
    "                \"channel_name\": video.css(\"#channel-name #text::text\").get(),\n",
    "                \"date\": video.css(\"#metadata-line span:nth-child(2)::text\").get(),\n",
    "                \"views\": video.css(\"#metadata-line span:nth-child(1)::text\").get(),\n",
    "                \"duration\": video.css(\"#overlays #text::text\").get().strip(),\n",
    "                \"thumbnail\": video.css(\"#thumbnail img::attr(src)\").get(),\n",
    "            }\n",
    "        )\n",
    "\n",
    "    youtube_video_page.append(\n",
    "        {\n",
    "            \"title\": title,\n",
    "            \"views\": views,\n",
    "            \"likes\": likes,\n",
    "            \"date\": date,\n",
    "            \"duration\": duration,\n",
    "            \"channel\": channel,\n",
    "            \"keywords\": keywords,\n",
    "            \"thumbnail\": thumbnail,\n",
    "            \"description\": description,\n",
    "            \"hash_tags\": hash_tags,\n",
    "            \"category\": category,\n",
    "            \"suggested_videos\": suggested_videos,\n",
    "            \"comments_amount\": comments_amount,\n",
    "            \"comments\": comments,\n",
    "        }\n",
    "    )\n",
    "\n",
    "    print(json.dumps(youtube_video_page, indent=2, ensure_ascii=False))\n",
    "\n",
    "\n",
    "def get_info_from_channel(channel_link: str):\n",
    "    driver = webdriver.Chrome()\n",
    "\n",
    "    driver.get(channel_link)\n",
    "    driver.maximize_window()\n",
    "\n",
    "    time.sleep(5)\n",
    "\n",
    "    selector = Selector(text=driver.page_source)\n",
    "    driver.quit()\n",
    "\n",
    "    # channel title\n",
    "    channel_title = selector.css(\"#text-container #text::text\").get()\n",
    "\n",
    "    # date joined //*[@id=\"right-column\"]/yt-formatted-string[2]/span[2]\n",
    "    date_joined = selector.css(\n",
    "        \"#right-column > yt-formatted-string:nth-child(2) > span:nth-child(2)::text\"\n",
    "    ).get()\n",
    "\n",
    "    # total views //*[@id=\"right-column\"]/yt-formatted-string[3]\n",
    "\n",
    "    total_views = selector.css(\n",
    "        \"#right-column > yt-formatted-string:nth-child(3)::text\"\n",
    "    ).get()\n",
    "\n",
    "    # total subs //*[@id=\"subscriber-count\"]\n",
    "\n",
    "    total_subs = selector.css(\"#subscriber-count::text\").get()\n",
    "\n",
    "    # total videos //*[@id=\"videos-count\"]/span[1]\n",
    "\n",
    "    total_videos = selector.css(\"#videos-count > span:nth-child(1)::text\").get()\n",
    "\n",
    "    channel_info = {\n",
    "        \"channel_title\": channel_title,\n",
    "        \"date_joined\": date_joined,\n",
    "        \"total_views\": total_views,\n",
    "        \"total_subs\": total_subs,\n",
    "        \"total_videos\": total_videos,\n",
    "    }\n",
    "\n",
    "    print(json.dumps(channel_info, indent=2, ensure_ascii=False))\n",
    "\n",
    "    return pd.DataFrame(channel_info, index=[0])\n",
    "\n",
    "\n",
    "def get_info_from_video(selector) -> dict[str, str | int]:\n",
    "    # title\n",
    "    title = selector.css(\".title .ytd-video-primary-info-renderer::text\").get()\n",
    "\n",
    "    if title == None:\n",
    "        title = selector.css(\n",
    "            \"yt-formatted-string.style-scope.ytd-watch-metadata span.style-scope.yt-formatted-string::text\"\n",
    "        ).get()\n",
    "\n",
    "    print(title)\n",
    "\n",
    "    # date\n",
    "    date = selector.css(\"#info-strings yt-formatted-string::text\").get()\n",
    "\n",
    "    # views\n",
    "    views = selector.css(\"span.bold.style-scope.yt-formatted-string::text\").get()\n",
    "\n",
    "    # likes\n",
    "    likes = selector.css(\n",
    "        \"#segmented-like-button > ytd-toggle-button-renderer > yt-button-shape > button::attr(aria-label)\"\n",
    "    ).get()\n",
    "\n",
    "    # comments\n",
    "    try:\n",
    "        comments_amount = int(\n",
    "            selector.css(\"#count .count-text span:nth-child(1)::text\")\n",
    "            .get()\n",
    "            .replace(\",\", \"\")\n",
    "        )\n",
    "    except Exception as e:\n",
    "        comments_amount = 0\n",
    "\n",
    "    # keywords\n",
    "    # all_script_tags = selector.css(\"script\").getall()\n",
    "    # keywords = (\n",
    "    #     \"\".join(\n",
    "    #         re.findall(r'\"keywords\":\\[(.*)\\],\"channelId\":\".*\"', str(all_script_tags))\n",
    "    #     )\n",
    "    #     .replace('\"', \"\")\n",
    "    #     .split(\",\")\n",
    "    # )\n",
    "\n",
    "    print(title, views, likes, date, comments_amount)\n",
    "\n",
    "    try:\n",
    "        likes = re.search(r\"(\\d+)\", likes).group()\n",
    "    except Exception as e:\n",
    "        likes = 0\n",
    "    # views = re.search(r\"(\\d+)\", views).group()\n",
    "\n",
    "    return pd.DataFrame.from_dict(\n",
    "        {\n",
    "            \"title\": [title],\n",
    "            \"views\": [views],\n",
    "            \"likes\": [likes],\n",
    "            \"date\": [date],\n",
    "            \"comments_amount\": [comments_amount],\n",
    "            # \"keywords\": [keywords],\n",
    "        }\n",
    "    )\n",
    "\n",
    "\n",
    "def parse_channel(selector) -> pd.DataFrame:\n",
    "    subscribers = selector.css(\n",
    "        \"#subscriber-count.style-scope.ytd-c4-tabbed-header-renderer::text\"\n",
    "    ).get()\n",
    "\n",
    "    # subscribers = re.search(r\"(\\d+)\", subscribers).group()\n",
    "\n",
    "    # get recent 5 videos\n",
    "    channel_name = (\n",
    "        selector.css(\"div#channel-header-container yt-formatted-string#text::text\")\n",
    "        .get()\n",
    "        .strip()\n",
    "    )\n",
    "\n",
    "    videos = selector.css(\n",
    "        \"div.style-scope.ytd-rich-item-renderer ytd-rich-grid-media div.style-scope.ytd-rich-grid-media a#thumbnail.yt-simple-endpoint.inline-block.style-scope.ytd-thumbnail::attr(href)\"\n",
    "    ).getall()[:5]\n",
    "\n",
    "    u, ind = np.unique(videos, return_index=True)\n",
    "    videos = u[np.argsort(ind)]\n",
    "\n",
    "    df = pd.DataFrame()\n",
    "    for v in videos:\n",
    "        print(\"Video: \", v)\n",
    "\n",
    "        result = scroll_page(f\"https://www.youtube.com{v}\")\n",
    "\n",
    "        info = get_info_from_video(result)\n",
    "        info[\"channel_name\"] = channel_name\n",
    "        info[\"subscribers\"] = subscribers\n",
    "        # print(info)\n",
    "\n",
    "        df = pd.concat([df, info])\n",
    "        # df = df.append(info, ignore_index=True)\n",
    "\n",
    "    print(\"Videos i got: \", len(videos))\n",
    "    return df\n",
    "\n",
    "\n",
    "def parse_top_channel(channel_link: str) -> pd.DataFrame:\n",
    "    from selenium.webdriver.support.ui import WebDriverWait\n",
    "    from selenium.webdriver.support import expected_conditions as EC\n",
    "    from selenium.webdriver.common.by import By\n",
    "\n",
    "    driver = webdriver.Chrome()\n",
    "    wait = WebDriverWait(driver, 3)\n",
    "    driver.implicitly_wait(10)\n",
    "\n",
    "    driver.get(channel_link)\n",
    "    driver.maximize_window()\n",
    "\n",
    "    # //*[@id=\"chips\"]/yt-chip-cloud-chip-renderer[2]\n",
    "    # wait for page to load\n",
    "\n",
    "    try:\n",
    "        wait.until(\n",
    "            EC.presence_of_element_located(\n",
    "                (By.XPATH, '//*[@id=\"chips\"]/yt-chip-cloud-chip-renderer[2]')\n",
    "            )\n",
    "        ).click()\n",
    "    except Exception as e:\n",
    "        print(\"Nao possui aba de videos em alta\")\n",
    "        # return empty dataframe\n",
    "        # return pd.DataFrame()\n",
    "\n",
    "    time.sleep(3)\n",
    "    selector = Selector(text=driver.page_source)\n",
    "    driver.quit()\n",
    "\n",
    "    channel_name = (\n",
    "        selector.css(\"div#channel-header-container yt-formatted-string#text::text\")\n",
    "        .get()\n",
    "        .strip()\n",
    "    )\n",
    "\n",
    "    videos = selector.css(\n",
    "        \"div.style-scope.ytd-rich-item-renderer ytd-rich-grid-media div.style-scope.ytd-rich-grid-media a#thumbnail.yt-simple-endpoint.inline-block.style-scope.ytd-thumbnail::attr(href)\"\n",
    "    ).getall()[:5]\n",
    "\n",
    "    u, ind = np.unique(videos, return_index=True)\n",
    "    videos = u[np.argsort(ind)]\n",
    "\n",
    "    df = pd.DataFrame()\n",
    "    for v in videos:\n",
    "        # print(\"Video: \", v)\n",
    "\n",
    "        result = scroll_page(f\"https://www.youtube.com{v}\")\n",
    "\n",
    "        info = get_info_from_video(result)\n",
    "        print(info)\n",
    "        info[\"channel_name\"] = channel_name\n",
    "        # print(info)\n",
    "\n",
    "        df = pd.concat([df, info])\n",
    "        # df = df.append(info, ignore_index=True)\n",
    "\n",
    "    print(\"Videos i got: \", len(videos))\n",
    "    return df\n",
    "\n"
   ]
  },
  {
   "cell_type": "markdown",
   "id": "8832a998",
   "metadata": {
    "papermill": {
     "duration": 0.004029,
     "end_time": "2023-07-26T15:36:51.823806",
     "exception": false,
     "start_time": "2023-07-26T15:36:51.819777",
     "status": "completed"
    },
    "tags": []
   },
   "source": [
    "Pegar dados"
   ]
  },
  {
   "cell_type": "code",
   "execution_count": 3,
   "id": "3846da54",
   "metadata": {
    "execution": {
     "iopub.execute_input": "2023-07-26T15:36:51.836787Z",
     "iopub.status.busy": "2023-07-26T15:36:51.835781Z",
     "iopub.status.idle": "2023-07-26T15:50:00.641317Z",
     "shell.execute_reply": "2023-07-26T15:50:00.637319Z"
    },
    "papermill": {
     "duration": 788.820539,
     "end_time": "2023-07-26T15:50:00.649315",
     "exception": false,
     "start_time": "2023-07-26T15:36:51.828776",
     "status": "completed"
    },
    "tags": []
   },
   "outputs": [
    {
     "name": "stderr",
     "output_type": "stream",
     "text": [
      "Error getting version of chromedriver 115. Retrying with chromedriver 114 (attempt 1/5)\n"
     ]
    },
    {
     "name": "stdout",
     "output_type": "stream",
     "text": [
      "Video:  /watch?v=875mNpeAZlg\n"
     ]
    },
    {
     "name": "stdout",
     "output_type": "stream",
     "text": [
      "ESPECIAL DE MAIO CENER MEGA-02\n",
      "ESPECIAL DE MAIO CENER MEGA-02 202 visualizações Marque este vídeo como \"Gostei\" com mais 0 pessoa Estreou em 11 de mai. de 2023 0\n"
     ]
    },
    {
     "name": "stdout",
     "output_type": "stream",
     "text": [
      "Video:  /watch?v=vM0FsI2eYzo\n"
     ]
    },
    {
     "name": "stdout",
     "output_type": "stream",
     "text": [
      "ESPECIAL DE MAIO CENTER MEGA- 01\n",
      "ESPECIAL DE MAIO CENTER MEGA- 01 176 visualizações Marque este vídeo como \"Gostei\" com mais 1 pessoa Estreou em 11 de mai. de 2023 0\n",
      "Video:  /watch?v=8OK-jAkEu2E\n"
     ]
    },
    {
     "name": "stdout",
     "output_type": "stream",
     "text": [
      "Mega Liquida de Abril do Center Mega\n",
      "Mega Liquida de Abril do Center Mega 274 visualizações Marque este vídeo como \"Gostei\" com mais 0 pessoa Estreou em 18 de abr. de 2023 0\n",
      "Video:  /watch?v=GZ4JZeqt2jw\n"
     ]
    },
    {
     "name": "stdout",
     "output_type": "stream",
     "text": [
      "Mega Liquida de Abril do Center Mega\n",
      "Mega Liquida de Abril do Center Mega 201 visualizações Marque este vídeo como \"Gostei\" com mais 0 pessoa Estreou em 18 de abr. de 2023 0\n",
      "Video:  /watch?v=w9Xq1iAP2ug\n"
     ]
    },
    {
     "name": "stdout",
     "output_type": "stream",
     "text": [
      "Mês do Consumidor- Filme 02\n",
      "Mês do Consumidor- Filme 02 1,2 mil visualizações Marque este vídeo como \"Gostei\" com mais 3 pessoas Estreou em 10 de mar. de 2023 0\n",
      "Videos i got:  5\n"
     ]
    },
    {
     "name": "stdout",
     "output_type": "stream",
     "text": [
      "Mês do Condumidor\n",
      "Mês do Condumidor 7,1 mil visualizações Marque este vídeo como \"Gostei\" com mais 12 pessoas Estreou em 10 de mar. de 2023 0\n",
      "               title                  views likes  \\\n",
      "0  Mês do Condumidor  7,1 mil visualizações    12   \n",
      "\n",
      "                            date  comments_amount  \n",
      "0  Estreou em 10 de mar. de 2023                0  \n"
     ]
    },
    {
     "name": "stdout",
     "output_type": "stream",
     "text": [
      "Arraiá de ofertas Center Mega\n",
      "Arraiá de ofertas Center Mega 1,5 mil visualizações Marque este vídeo como \"Gostei\" com mais 4 pessoas 15 de jun. de 2022 0\n",
      "                           title                  views likes  \\\n",
      "0  Arraiá de ofertas Center Mega  1,5 mil visualizações     4   \n",
      "\n",
      "                 date  comments_amount  \n",
      "0  15 de jun. de 2022                0  \n"
     ]
    },
    {
     "name": "stdout",
     "output_type": "stream",
     "text": [
      "Mês do Consumidor- Filme 02\n",
      "Mês do Consumidor- Filme 02 1,2 mil visualizações Marque este vídeo como \"Gostei\" com mais 3 pessoas Estreou em 10 de mar. de 2023 0\n",
      "                         title                  views likes  \\\n",
      "0  Mês do Consumidor- Filme 02  1,2 mil visualizações     3   \n",
      "\n",
      "                            date  comments_amount  \n",
      "0  Estreou em 10 de mar. de 2023                0  \n"
     ]
    },
    {
     "name": "stdout",
     "output_type": "stream",
     "text": [
      "Arraiá de Ofertas Center Mega\n",
      "Arraiá de Ofertas Center Mega 1,2 mil visualizações Marque este vídeo como \"Gostei\" com mais 2 pessoas 15 de jun. de 2022 0\n",
      "                           title                  views likes  \\\n",
      "0  Arraiá de Ofertas Center Mega  1,2 mil visualizações     2   \n",
      "\n",
      "                 date  comments_amount  \n",
      "0  15 de jun. de 2022                0  \n"
     ]
    },
    {
     "name": "stdout",
     "output_type": "stream",
     "text": [
      "WhatsApp Video 2023 02 02 at 16 53 43\n",
      "WhatsApp Video 2023 02 02 at 16 53 43 955 visualizações Marque este vídeo como \"Gostei\" com mais 0 pessoa Estreou em 3 de fev. de 2023 0\n",
      "                                   title              views likes  \\\n",
      "0  WhatsApp Video 2023 02 02 at 16 53 43  955 visualizações     0   \n",
      "\n",
      "                           date  comments_amount  \n",
      "0  Estreou em 3 de fev. de 2023                0  \n",
      "Videos i got:  5\n"
     ]
    },
    {
     "name": "stdout",
     "output_type": "stream",
     "text": [
      "{\n",
      "  \"channel_title\": \"Web CenterMega\",\n",
      "  \"date_joined\": \"15 de jun. de 2022\",\n",
      "  \"total_views\": \"15.900 visualizações\",\n",
      "  \"total_subs\": \"53 inscritos\",\n",
      "  \"total_videos\": \"14\"\n",
      "}\n"
     ]
    },
    {
     "name": "stdout",
     "output_type": "stream",
     "text": [
      "Video:  /watch?v=MlEvao1MBT4\n"
     ]
    },
    {
     "name": "stdout",
     "output_type": "stream",
     "text": [
      "COMO FAZER UMA IMPERMEABILIZAÇÃO PERFEITA! - Telhados, paredes, piscinas e reservatórios\n",
      "COMO FAZER UMA IMPERMEABILIZAÇÃO PERFEITA! - Telhados, paredes, piscinas e reservatórios 2 visualizações Marque este vídeo como \"Gostei\" com mais 1 pessoa 26 de jul. de 2023 0\n",
      "Video:  /watch?v=xsWrDccDUSg\n"
     ]
    },
    {
     "name": "stdout",
     "output_type": "stream",
     "text": [
      "PISO NIVELADO FÁCIL E RÁPIDO!\n",
      "PISO NIVELADO FÁCIL E RÁPIDO! 61 visualizações Marque este vídeo como \"Gostei\" com mais 6 pessoas 20 de jul. de 2023 0\n",
      "Video:  /watch?v=rRrnG9IC7uY\n"
     ]
    },
    {
     "name": "stdout",
     "output_type": "stream",
     "text": [
      "TUDO QUE VOCÊ NÃO SABIA SOBRE FURADEIRAS\n",
      "TUDO QUE VOCÊ NÃO SABIA SOBRE FURADEIRAS 124 visualizações Marque este vídeo como \"Gostei\" com mais 13 pessoas 18 de jul. de 2023 0\n",
      "Video:  /watch?v=GiGdOlVCwUw\n"
     ]
    },
    {
     "name": "stdout",
     "output_type": "stream",
     "text": [
      "COMO APLICAR REJUNTE? PASSO A PASSO FÁCIL E RÁPIDO!\n",
      "COMO APLICAR REJUNTE? PASSO A PASSO FÁCIL E RÁPIDO! 36 visualizações Marque este vídeo como \"Gostei\" com mais 3 pessoas 13 de jul. de 2023 0\n",
      "Video:  /watch?v=fvZQ_XT4CfM\n"
     ]
    },
    {
     "name": "stdout",
     "output_type": "stream",
     "text": [
      "CHURRASCO SEM FAZER FUMAÇA!\n",
      "CHURRASCO SEM FAZER FUMAÇA! 172 visualizações Marque este vídeo como \"Gostei\" com mais 13 pessoas 12 de jul. de 2023 6\n",
      "Videos i got:  5\n"
     ]
    },
    {
     "name": "stdout",
     "output_type": "stream",
     "text": [
      "Ajuda da Copafer: encontre o que procura em apenas 1 clique\n",
      "Ajuda da Copafer: encontre o que procura em apenas 1 clique 290 mil visualizações Marque este vídeo como \"Gostei\" com mais 173 pessoas 23 de abr. de 2021 1\n",
      "                                               title                  views  \\\n",
      "0  Ajuda da Copafer: encontre o que procura em ap...  290 mil visualizações   \n",
      "\n",
      "  likes                date  comments_amount  \n",
      "0   173  23 de abr. de 2021                1  \n"
     ]
    },
    {
     "name": "stdout",
     "output_type": "stream",
     "text": [
      "Dia das Mães Copafer\n",
      "Dia das Mães Copafer 81 mil visualizações Marque este vídeo como \"Gostei\" com mais 2 pessoas 20 de abr. de 2021 0\n",
      "                  title                 views likes                date  \\\n",
      "0  Dia das Mães Copafer  81 mil visualizações     2  20 de abr. de 2021   \n",
      "\n",
      "   comments_amount  \n",
      "0                0  \n"
     ]
    },
    {
     "name": "stdout",
     "output_type": "stream",
     "text": [
      "Aniversário Copafer - 47 anos de parceria com você!\n",
      "Aniversário Copafer - 47 anos de parceria com você! 68 mil visualizações Marque este vídeo como \"Gostei\" com mais 7 pessoas 29 de jun. de 2020 0\n",
      "                                               title                 views  \\\n",
      "0  Aniversário Copafer - 47 anos de parceria com ...  68 mil visualizações   \n",
      "\n",
      "  likes                date  comments_amount  \n",
      "0     7  29 de jun. de 2020                0  \n"
     ]
    },
    {
     "name": "stdout",
     "output_type": "stream",
     "text": [
      "Conheça a Copafer: sua melhor opção para reforma e construção\n",
      "Conheça a Copafer: sua melhor opção para reforma e construção 54 mil visualizações Marque este vídeo como \"Gostei\" com mais 14 pessoas 19 de jun. de 2021 3\n",
      "                                               title                 views  \\\n",
      "0  Conheça a Copafer: sua melhor opção para refor...  54 mil visualizações   \n",
      "\n",
      "  likes                date  comments_amount  \n",
      "0    14  19 de jun. de 2021                3  \n"
     ]
    },
    {
     "name": "stdout",
     "output_type": "stream",
     "text": [
      "Copafer 49 anos - A história contada através dos nossos clientes\n",
      "Copafer 49 anos - A história contada através dos nossos clientes 42 mil visualizações Marque este vídeo como \"Gostei\" com mais 69 pessoas 20 de jun. de 2022 5\n",
      "                                               title                 views  \\\n",
      "0  Copafer 49 anos - A história contada através d...  42 mil visualizações   \n",
      "\n",
      "  likes                date  comments_amount  \n",
      "0    69  20 de jun. de 2022                5  \n",
      "Videos i got:  5\n"
     ]
    },
    {
     "name": "stdout",
     "output_type": "stream",
     "text": [
      "{\n",
      "  \"channel_title\": \"Copafer\",\n",
      "  \"date_joined\": \"16 de abr. de 2018\",\n",
      "  \"total_views\": \"717.703 visualizações\",\n",
      "  \"total_subs\": \"352 inscritos\",\n",
      "  \"total_videos\": \"45\"\n",
      "}\n"
     ]
    },
    {
     "name": "stdout",
     "output_type": "stream",
     "text": [
      "Video:  /watch?v=_DpKz-IhqTE\n"
     ]
    },
    {
     "name": "stdout",
     "output_type": "stream",
     "text": [
      "O que você precisa antes de pintar as paredes\n",
      "O que você precisa antes de pintar as paredes 64 visualizações Marque este vídeo como \"Gostei\" com mais 2 pessoas 7 de jul. de 2023 0\n",
      "Video:  /watch?v=5SnBM29C1DU\n"
     ]
    },
    {
     "name": "stdout",
     "output_type": "stream",
     "text": [
      "4 DICAS PARA ESCOLHER CHUVEIRO\n",
      "4 DICAS PARA ESCOLHER CHUVEIRO 7,2 mil visualizações Marque este vídeo como \"Gostei\" com mais 5 pessoas 21 de jun. de 2023 1\n",
      "Video:  /watch?v=vFg5LrOkLEQ\n"
     ]
    },
    {
     "name": "stdout",
     "output_type": "stream",
     "text": [
      "Como Reformar casa alugada\n",
      "Como Reformar casa alugada 1,2 mil visualizações Marque este vídeo como \"Gostei\" com mais 7 pessoas 30 de mai. de 2023 0\n",
      "Video:  /watch?v=LLXalLgFYMM\n"
     ]
    },
    {
     "name": "stdout",
     "output_type": "stream",
     "text": [
      "Efeito Cimento Queimado Eucatex\n",
      "Efeito Cimento Queimado Eucatex 3,1 mil visualizações Marque este vídeo como \"Gostei\" com mais 6 pessoas 22 de mai. de 2023 0\n",
      "Video:  /watch?v=j1FTLRYxhOY\n"
     ]
    },
    {
     "name": "stdout",
     "output_type": "stream",
     "text": [
      "Dicas para organizar a sua casa\n",
      "Dicas para organizar a sua casa 5,6 mil visualizações Marque este vídeo como \"Gostei\" com mais 3 pessoas 17 de mar. de 2023 0\n",
      "Videos i got:  5\n"
     ]
    },
    {
     "name": "stdout",
     "output_type": "stream",
     "text": [
      "Piso com borda bold e retificada, como escolher?\n",
      "Piso com borda bold e retificada, como escolher? 1,1 mi de visualizações Marque este vídeo como \"Gostei\" com mais 6 pessoas 12 de ago. de 2022 1\n",
      "                                              title                    views  \\\n",
      "0  Piso com borda bold e retificada, como escolher?  1,1 mi de visualizações   \n",
      "\n",
      "  likes                date  comments_amount  \n",
      "0     6  12 de ago. de 2022                1  \n"
     ]
    },
    {
     "name": "stdout",
     "output_type": "stream",
     "text": [
      "Como escolher torneiras\n",
      "Como escolher torneiras 922 mil visualizações Marque este vídeo como \"Gostei\" com mais 15 pessoas 24 de ago. de 2022 0\n",
      "                     title                  views likes                date  \\\n",
      "0  Como escolher torneiras  922 mil visualizações    15  24 de ago. de 2022   \n",
      "\n",
      "   comments_amount  \n",
      "0                0  \n"
     ]
    },
    {
     "name": "stdout",
     "output_type": "stream",
     "text": [
      "Modelos de piso para área externa\n",
      "Modelos de piso para área externa 894 mil visualizações Marque este vídeo como \"Gostei\" com mais 215 pessoas 31 de jan. de 2023 4\n",
      "                               title                  views likes  \\\n",
      "0  Modelos de piso para área externa  894 mil visualizações   215   \n",
      "\n",
      "                 date  comments_amount  \n",
      "0  31 de jan. de 2023                4  \n"
     ]
    },
    {
     "name": "stdout",
     "output_type": "stream",
     "text": [
      "Como escolher gabinetes de banheiro\n",
      "Como escolher gabinetes de banheiro 555 mil visualizações Marque este vídeo como \"Gostei\" com mais 74 pessoas 14 de nov. de 2022 6\n",
      "                                 title                  views likes  \\\n",
      "0  Como escolher gabinetes de banheiro  555 mil visualizações    74   \n",
      "\n",
      "                 date  comments_amount  \n",
      "0  14 de nov. de 2022                6  \n"
     ]
    },
    {
     "name": "stdout",
     "output_type": "stream",
     "text": [
      "Programa Cultura Village\n",
      "Programa Cultura Village 228 mil visualizações Marque este vídeo como \"Gostei\" com mais 52 pessoas 18 de mai. de 2021 7\n",
      "                      title                  views likes                date  \\\n",
      "0  Programa Cultura Village  228 mil visualizações    52  18 de mai. de 2021   \n",
      "\n",
      "   comments_amount  \n",
      "0                7  \n",
      "Videos i got:  5\n"
     ]
    },
    {
     "name": "stdout",
     "output_type": "stream",
     "text": [
      "{\n",
      "  \"channel_title\": \"Village Home Center\",\n",
      "  \"date_joined\": \"20 de mar. de 2018\",\n",
      "  \"total_views\": \"4.232.751 visualizações\",\n",
      "  \"total_subs\": \"406 inscritos\",\n",
      "  \"total_videos\": \"19\"\n",
      "}\n"
     ]
    },
    {
     "name": "stdout",
     "output_type": "stream",
     "text": [
      "Video:  /watch?v=xuP43KC9CnQ\n"
     ]
    },
    {
     "name": "stdout",
     "output_type": "stream",
     "text": [
      "Você vai se APAIXONAR nesses lustres!😍😍\n",
      "Você vai se APAIXONAR nesses lustres!😍😍 24 visualizações Marque este vídeo como \"Gostei\" com mais 2 pessoas 20 de jul. de 2023 0\n",
      "Video:  /watch?v=MRE-nASqx34\n"
     ]
    },
    {
     "name": "stdout",
     "output_type": "stream",
     "text": [
      "TELHAS EM PVC: QUAIS SÃO AS VANTAGENS?\n",
      "TELHAS EM PVC: QUAIS SÃO AS VANTAGENS? 181 visualizações Marque este vídeo como \"Gostei\" com mais 10 pessoas 11 de jul. de 2023 4\n",
      "Video:  /watch?v=3wFTaxF2THY\n"
     ]
    },
    {
     "name": "stdout",
     "output_type": "stream",
     "text": [
      "O KIT TOUCADOR IDEAL PARA O SEU BANHEIRO!\n",
      "O KIT TOUCADOR IDEAL PARA O SEU BANHEIRO! 193 visualizações Marque este vídeo como \"Gostei\" com mais 9 pessoas 21 de jun. de 2023 0\n",
      "Video:  /watch?v=R41q9qpypG8\n"
     ]
    },
    {
     "name": "stdout",
     "output_type": "stream",
     "text": [
      "ESSA É A MANEIRA MAIS FÁCIL DE RENOVAR UM REJUNTE VELHO!\n",
      "ESSA É A MANEIRA MAIS FÁCIL DE RENOVAR UM REJUNTE VELHO! 122 visualizações Marque este vídeo como \"Gostei\" com mais 3 pessoas 29 de mai. de 2023 0\n",
      "Video:  /watch?v=xWUTxL9fkhA\n"
     ]
    },
    {
     "name": "stdout",
     "output_type": "stream",
     "text": [
      "O SEU REVESTIMENTO PODE FICAR ASSIM!!\n",
      "O SEU REVESTIMENTO PODE FICAR ASSIM!! 365 visualizações Marque este vídeo como \"Gostei\" com mais 14 pessoas 16 de mai. de 2023 0\n",
      "Videos i got:  5\n"
     ]
    },
    {
     "name": "stdout",
     "output_type": "stream",
     "text": [
      "PAINEL RIPADO EM PVC: MUITO FÁCIL E BARATO!\n",
      "PAINEL RIPADO EM PVC: MUITO FÁCIL E BARATO! 216 mil visualizações Marque este vídeo como \"Gostei\" com mais 3.973 pessoas 24 de jan. de 2023 0\n",
      "                                         title                  views likes  \\\n",
      "0  PAINEL RIPADO EM PVC: MUITO FÁCIL E BARATO!  216 mil visualizações     3   \n",
      "\n",
      "                 date  comments_amount  \n",
      "0  24 de jan. de 2023                0  \n"
     ]
    },
    {
     "name": "stdout",
     "output_type": "stream",
     "text": [
      "Conheça a Casa São Pedro do Ariston!\n",
      "Conheça a Casa São Pedro do Ariston! 131 mil visualizações Marque este vídeo como \"Gostei\" com mais 41 pessoas 27 de set. de 2021 3\n",
      "                                  title                  views likes  \\\n",
      "0  Conheça a Casa São Pedro do Ariston!  131 mil visualizações    41   \n",
      "\n",
      "                 date  comments_amount  \n",
      "0  27 de set. de 2021                3  \n"
     ]
    },
    {
     "name": "stdout",
     "output_type": "stream",
     "text": [
      "Casa São Pedro do Centro de Osasco: Mais de 64 anos de tradição!\n",
      "Casa São Pedro do Centro de Osasco: Mais de 64 anos de tradição! 130 mil visualizações Marque este vídeo como \"Gostei\" com mais 91 pessoas 6 de out. de 2021 5\n",
      "                                               title                  views  \\\n",
      "0  Casa São Pedro do Centro de Osasco: Mais de 64...  130 mil visualizações   \n",
      "\n",
      "  likes               date  comments_amount  \n",
      "0    91  6 de out. de 2021                5  \n"
     ]
    },
    {
     "name": "stdout",
     "output_type": "stream",
     "text": [
      "A Super Casa São Pedro Cajamar está te esperando!\n",
      "A Super Casa São Pedro Cajamar está te esperando! 124 mil visualizações Marque este vídeo como \"Gostei\" com mais 14 pessoas 17 de jan. de 2022 0\n",
      "                                               title                  views  \\\n",
      "0  A Super Casa São Pedro Cajamar está te esperando!  124 mil visualizações   \n",
      "\n",
      "  likes                date  comments_amount  \n",
      "0    14  17 de jan. de 2022                0  \n"
     ]
    },
    {
     "name": "stdout",
     "output_type": "stream",
     "text": [
      "Um passeio pela Casa São Pedro da Inocêncio Seráfico!\n",
      "Um passeio pela Casa São Pedro da Inocêncio Seráfico! 122 mil visualizações Marque este vídeo como \"Gostei\" com mais 34 pessoas 17 de jan. de 2022 2\n",
      "                                               title                  views  \\\n",
      "0  Um passeio pela Casa São Pedro da Inocêncio Se...  122 mil visualizações   \n",
      "\n",
      "  likes                date  comments_amount  \n",
      "0    34  17 de jan. de 2022                2  \n",
      "Videos i got:  5\n"
     ]
    },
    {
     "name": "stdout",
     "output_type": "stream",
     "text": [
      "{\n",
      "  \"channel_title\": \"Casa São Pedro\",\n",
      "  \"date_joined\": \"22 de ago. de 2019\",\n",
      "  \"total_views\": \"2.032.471 visualizações\",\n",
      "  \"total_subs\": \"8,19 mil inscritos\",\n",
      "  \"total_videos\": \"145\"\n",
      "}\n"
     ]
    }
   ],
   "source": [
    "\n",
    "# %%\n",
    "with open(\"canais.txt\", \"r\") as f:\n",
    "    # read each line as a item in a list and remove the \\n\n",
    "    canais = [line.strip() for line in f.readlines()]\n",
    "\n",
    "base_path = f\"./data/{canais[0].split('@')[-1]}/\"\n",
    "\n",
    "df = pd.DataFrame()\n",
    "df_top = pd.DataFrame()\n",
    "df_lifetime = pd.DataFrame()\n",
    "for ch in canais:\n",
    "    # recent videos\n",
    "    result = scroll_page(ch + \"/videos\")\n",
    "    df_channel = parse_channel(result)\n",
    "    df = pd.concat([df, df_channel])\n",
    "\n",
    "    # top videos\n",
    "    df_top_channel = parse_top_channel(ch + \"/videos\")\n",
    "    df_top = pd.concat([df_top, df_top_channel])\n",
    "\n",
    "    # lifetime info\n",
    "    df_lifetime_channel = get_info_from_channel(ch + \"/about\")\n",
    "    df_lifetime = pd.concat([df_lifetime, df_lifetime_channel])\n",
    "\n",
    "\n",
    "os.makedirs(base_path, exist_ok=True)\n",
    "\n",
    "df.to_csv(base_path + \"videos.csv\", index=False)\n",
    "df_top.to_csv(base_path + \"top_videos.csv\", index=False)\n",
    "df_lifetime.to_csv(base_path + \"lifetime.csv\", index=False)\n"
   ]
  },
  {
   "cell_type": "markdown",
   "id": "ec517bf2",
   "metadata": {
    "papermill": {
     "duration": null,
     "end_time": null,
     "exception": null,
     "start_time": null,
     "status": "pending"
    },
    "tags": []
   },
   "source": [
    "last 30 days"
   ]
  },
  {
   "cell_type": "code",
   "execution_count": null,
   "id": "e87f972f",
   "metadata": {
    "execution": {
     "iopub.execute_input": "2023-07-24T16:18:12.934044Z",
     "iopub.status.busy": "2023-07-24T16:18:12.933044Z",
     "iopub.status.idle": "2023-07-24T16:20:45.380519Z",
     "shell.execute_reply": "2023-07-24T16:20:45.379511Z"
    },
    "papermill": {
     "duration": null,
     "end_time": null,
     "exception": null,
     "start_time": null,
     "status": "pending"
    },
    "tags": []
   },
   "outputs": [],
   "source": [
    "\n",
    "# read channel IDs\n",
    "\n",
    "with open(\"canais.txt\", \"r\") as f:\n",
    "    canais = f.readlines()\n",
    "\n",
    "\n",
    "canais = [c.strip() for c in canais]\n",
    "# take only the string after the last slash\n",
    "canais = [c.split(\"/\")[-1] for c in canais]\n",
    "\n",
    "print(canais)\n",
    "\n",
    "base_url = \"https://socialblade.com/youtube/channel/\"\n",
    "\n",
    "social_blade_data = []\n",
    "for c in canais:\n",
    "    response = scroll_page(base_url + c)\n",
    "\n",
    "    # last 30 days views #socialblade-user-content > div:nth-child(23) > div:nth-child(3) > span\n",
    "    views = response.css(\n",
    "        \"#socialblade-user-content > div:nth-child(23) > div:nth-child(3) > span::text\"\n",
    "    ).get()\n",
    "    subs = response.css(\n",
    "        \"#socialblade-user-content > div:nth-child(23) > div:nth-child(2) > span::text\"\n",
    "    ).get()\n",
    "\n",
    "    if views is None or subs is None:\n",
    "        views = response.css(\n",
    "            \"#socialblade-user-content > div:nth-child(16) > div:nth-child(3) > span::text\"\n",
    "        ).get()\n",
    "        subs = response.css(\n",
    "            \"#socialblade-user-content > div:nth-child(16) > div:nth-child(2) > span::text\"\n",
    "        ).get()\n",
    "\n",
    "    social_blade_data.append({\"Channel\": c, \"views\": views, \"subs\": subs})\n",
    "\n",
    "last_30days = pd.DataFrame(social_blade_data)\n",
    "last_30days = last_30days.fillna(\"0\")\n",
    "\n",
    "last_30days.to_parquet(f'data/{canais[0].split(\"@\")[-1]}/last_30_days.parquet', index=False)"
   ]
  }
 ],
 "metadata": {
  "kernelspec": {
   "display_name": "venv",
   "language": "python",
   "name": "python3"
  },
  "language_info": {
   "codemirror_mode": {
    "name": "ipython",
    "version": 3
   },
   "file_extension": ".py",
   "mimetype": "text/x-python",
   "name": "python",
   "nbconvert_exporter": "python",
   "pygments_lexer": "ipython3",
   "version": "3.10.9"
  },
  "papermill": {
   "default_parameters": {},
   "duration": 800.744891,
   "end_time": "2023-07-26T15:50:03.135342",
   "environment_variables": {},
   "exception": true,
   "input_path": "pegar_dados_youtube.ipynb",
   "output_path": "pegar_dados_youtube.ipynb",
   "parameters": {},
   "start_time": "2023-07-26T15:36:42.390451",
   "version": "2.4.0"
  }
 },
 "nbformat": 4,
 "nbformat_minor": 5
}
