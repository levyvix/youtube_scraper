{
 "cells": [
  {
   "cell_type": "code",
   "execution_count": 1,
   "id": "635b8866",
   "metadata": {
    "execution": {
     "iopub.execute_input": "2023-07-24T16:02:25.891253Z",
     "iopub.status.busy": "2023-07-24T16:02:25.890244Z",
     "iopub.status.idle": "2023-07-24T16:02:26.990114Z",
     "shell.execute_reply": "2023-07-24T16:02:26.989113Z"
    },
    "papermill": {
     "duration": 1.113812,
     "end_time": "2023-07-24T16:02:26.993116",
     "exception": false,
     "start_time": "2023-07-24T16:02:25.879304",
     "status": "completed"
    },
    "tags": []
   },
   "outputs": [],
   "source": [
    "# %%\n",
    "import re, json, time\n",
    "from selenium import webdriver\n",
    "import os\n",
    "\n",
    "# import By\n",
    "from selenium.webdriver.common.by import By\n",
    "from selenium.webdriver.chrome.service import Service\n",
    "\n",
    "# from webdriver_manager.chrome import ChromeDriverManager\n",
    "from parsel import Selector\n",
    "\n",
    "import pandas as pd\n",
    "import numpy as np\n"
   ]
  },
  {
   "cell_type": "code",
   "execution_count": 2,
   "id": "f583d579",
   "metadata": {
    "execution": {
     "iopub.execute_input": "2023-07-24T16:02:27.006085Z",
     "iopub.status.busy": "2023-07-24T16:02:27.005084Z",
     "iopub.status.idle": "2023-07-24T16:02:27.053116Z",
     "shell.execute_reply": "2023-07-24T16:02:27.052111Z"
    },
    "papermill": {
     "duration": 0.058006,
     "end_time": "2023-07-24T16:02:27.056089",
     "exception": false,
     "start_time": "2023-07-24T16:02:26.998083",
     "status": "completed"
    },
    "tags": []
   },
   "outputs": [],
   "source": [
    "def scroll_page(url):\n",
    "    # service = Service(ChromeDriverManager().install())\n",
    "\n",
    "    # options = webdriver.ChromeOptions()\n",
    "    # options.add_argument(\"--headless\")\n",
    "    # options.add_argument(\"--lang=en\")\n",
    "    # options.add_argument(\n",
    "    #     \"user-agent=Mozilla/5.0 (Windows NT 10.0; Win64; x64) AppleWebKit/537.36 (KHTML, like Gecko) Chrome/104.0.0.0 Safari/537.36\"\n",
    "    # )\n",
    "\n",
    "    driver = webdriver.Chrome()\n",
    "    driver.get(url)\n",
    "    driver.implicitly_wait(10)\n",
    "\n",
    "    time.sleep(3)\n",
    "    selector = Selector(driver.page_source)\n",
    "    driver.quit()\n",
    "\n",
    "    return selector\n",
    "\n",
    "\n",
    "def scrape_all_data(selector):\n",
    "    youtube_video_page = []\n",
    "\n",
    "    all_script_tags = selector.css(\"script\").getall()\n",
    "\n",
    "    title = selector.css(\".title .ytd-video-primary-info-renderer::text\").get()\n",
    "\n",
    "    # https://regex101.com/r/gHeLwZ/1\n",
    "    views = int(\n",
    "        re.search(r\"(.*)\\s\", selector.css(\".view-count::text\").get())\n",
    "        .group()\n",
    "        .replace(\",\", \"\")\n",
    "    )\n",
    "\n",
    "    # https://regex101.com/r/9OGwJp/1\n",
    "    likes = int(\n",
    "        re.search(\n",
    "            r\"(.*)\\s\",\n",
    "            selector.css(\n",
    "                \"#top-level-buttons-computed > ytd-toggle-button-renderer:first-child #text::attr(aria-label)\"\n",
    "            ).get(),\n",
    "        )\n",
    "        .group()\n",
    "        .replace(\",\", \"\")\n",
    "    )\n",
    "\n",
    "    date = selector.css(\"#info-strings yt-formatted-string::text\").get()\n",
    "\n",
    "    duration = selector.css(\".ytp-time-duration::text\").get()\n",
    "\n",
    "    # https://regex101.com/r/0JNma3/1\n",
    "    keywords = (\n",
    "        \"\".join(\n",
    "            re.findall(r'\"keywords\":\\[(.*)\\],\"channelId\":\".*\"', str(all_script_tags))\n",
    "        )\n",
    "        .replace('\"', \"\")\n",
    "        .split(\",\")\n",
    "    )\n",
    "\n",
    "    # https://regex101.com/r/9VhH1s/1\n",
    "    thumbnail = re.findall(\n",
    "        r'\\[{\"url\":\"(\\S+)\",\"width\":\\d*,\"height\":\\d*},', str(all_script_tags)\n",
    "    )[0].split('\",')[0]\n",
    "\n",
    "    channel = {\n",
    "        # https://regex101.com/r/xFUzq5/1\n",
    "        \"id\": \"\".join(\n",
    "            re.findall(r'\"channelId\":\"(.*)\",\"isOwnerViewing\"', str(all_script_tags))\n",
    "        ),\n",
    "        \"name\": selector.css(\"#channel-name a::text\").get(),\n",
    "        \"link\": f'https://www.youtube.com{selector.css(\"#channel-name a::attr(href)\").get()}',\n",
    "        \"subscribers\": selector.css(\"#owner-sub-count::text\").get(),\n",
    "        \"thumbnail\": selector.css(\"#img::attr(src)\").get(),\n",
    "    }\n",
    "\n",
    "    description = selector.css(\n",
    "        \".ytd-expandable-video-description-body-renderer span:nth-child(1)::text\"\n",
    "    ).get()\n",
    "\n",
    "    hash_tags = [\n",
    "        {\n",
    "            \"name\": hash_tag.css(\"::text\").get(),\n",
    "            \"link\": f'https://www.youtube.com{hash_tag.css(\"::attr(href)\").get()}',\n",
    "        }\n",
    "        for hash_tag in selector.css(\n",
    "            \".ytd-expandable-video-description-body-renderer a\"\n",
    "        )\n",
    "    ]\n",
    "\n",
    "    # https://regex101.com/r/onRk9j/1\n",
    "    category = \"\".join(\n",
    "        re.findall(r'\"category\":\"(.*)\",\"publishDate\"', str(all_script_tags))\n",
    "    )\n",
    "\n",
    "    comments_amount = int(\n",
    "        selector.css(\"#count .count-text span:nth-child(1)::text\")\n",
    "        .get()\n",
    "        .replace(\",\", \"\")\n",
    "    )\n",
    "\n",
    "    comments = []\n",
    "\n",
    "    for comment in selector.css(\"#contents > ytd-comment-thread-renderer\"):\n",
    "        comments.append(\n",
    "            {\n",
    "                \"author\": comment.css(\"#author-text span::text\").get().strip(),\n",
    "                \"link\": f'https://www.youtube.com{comment.css(\"#author-text::attr(href)\").get()}',\n",
    "                \"date\": comment.css(\".published-time-text a::text\").get(),\n",
    "                \"likes\": comment.css(\"#vote-count-middle::text\").get().strip(),\n",
    "                \"comment\": comment.css(\"#content-text::text\").get(),\n",
    "                \"avatar\": comment.css(\"#author-thumbnail #img::attr(src)\").get(),\n",
    "            }\n",
    "        )\n",
    "\n",
    "    suggested_videos = []\n",
    "\n",
    "    for video in selector.css(\"ytd-compact-video-renderer\"):\n",
    "        suggested_videos.append(\n",
    "            {\n",
    "                \"title\": video.css(\"#video-title::text\").get().strip(),\n",
    "                \"link\": f'https://www.youtube.com{video.css(\"#thumbnail::attr(href)\").get()}',\n",
    "                \"channel_name\": video.css(\"#channel-name #text::text\").get(),\n",
    "                \"date\": video.css(\"#metadata-line span:nth-child(2)::text\").get(),\n",
    "                \"views\": video.css(\"#metadata-line span:nth-child(1)::text\").get(),\n",
    "                \"duration\": video.css(\"#overlays #text::text\").get().strip(),\n",
    "                \"thumbnail\": video.css(\"#thumbnail img::attr(src)\").get(),\n",
    "            }\n",
    "        )\n",
    "\n",
    "    youtube_video_page.append(\n",
    "        {\n",
    "            \"title\": title,\n",
    "            \"views\": views,\n",
    "            \"likes\": likes,\n",
    "            \"date\": date,\n",
    "            \"duration\": duration,\n",
    "            \"channel\": channel,\n",
    "            \"keywords\": keywords,\n",
    "            \"thumbnail\": thumbnail,\n",
    "            \"description\": description,\n",
    "            \"hash_tags\": hash_tags,\n",
    "            \"category\": category,\n",
    "            \"suggested_videos\": suggested_videos,\n",
    "            \"comments_amount\": comments_amount,\n",
    "            \"comments\": comments,\n",
    "        }\n",
    "    )\n",
    "\n",
    "    print(json.dumps(youtube_video_page, indent=2, ensure_ascii=False))\n",
    "\n",
    "\n",
    "def get_info_from_channel(channel_link: str):\n",
    "    driver = webdriver.Chrome()\n",
    "\n",
    "    driver.get(channel_link)\n",
    "    driver.maximize_window()\n",
    "\n",
    "    time.sleep(5)\n",
    "\n",
    "    selector = Selector(text=driver.page_source)\n",
    "    driver.quit()\n",
    "\n",
    "    # channel title\n",
    "    channel_title = selector.css(\"#text-container #text::text\").get()\n",
    "\n",
    "    # date joined //*[@id=\"right-column\"]/yt-formatted-string[2]/span[2]\n",
    "    date_joined = selector.css(\n",
    "        \"#right-column > yt-formatted-string:nth-child(2) > span:nth-child(2)::text\"\n",
    "    ).get()\n",
    "\n",
    "    # total views //*[@id=\"right-column\"]/yt-formatted-string[3]\n",
    "\n",
    "    total_views = selector.css(\n",
    "        \"#right-column > yt-formatted-string:nth-child(3)::text\"\n",
    "    ).get()\n",
    "\n",
    "    # total subs //*[@id=\"subscriber-count\"]\n",
    "\n",
    "    total_subs = selector.css(\"#subscriber-count::text\").get()\n",
    "\n",
    "    # total videos //*[@id=\"videos-count\"]/span[1]\n",
    "\n",
    "    total_videos = selector.css(\"#videos-count > span:nth-child(1)::text\").get()\n",
    "\n",
    "    channel_info = {\n",
    "        \"channel_title\": channel_title,\n",
    "        \"date_joined\": date_joined,\n",
    "        \"total_views\": total_views,\n",
    "        \"total_subs\": total_subs,\n",
    "        \"total_videos\": total_videos,\n",
    "    }\n",
    "\n",
    "    print(json.dumps(channel_info, indent=2, ensure_ascii=False))\n",
    "\n",
    "    return pd.DataFrame(channel_info, index=[0])\n",
    "\n",
    "\n",
    "def get_info_from_video(selector) -> dict[str, str | int]:\n",
    "    # title\n",
    "    title = selector.css(\".title .ytd-video-primary-info-renderer::text\").get()\n",
    "\n",
    "    if title == None:\n",
    "        title = selector.css(\n",
    "            \"yt-formatted-string.style-scope.ytd-watch-metadata span.style-scope.yt-formatted-string::text\"\n",
    "        ).get()\n",
    "\n",
    "    print(title)\n",
    "\n",
    "    # date\n",
    "    date = selector.css(\"#info-strings yt-formatted-string::text\").get()\n",
    "\n",
    "    # views\n",
    "    views = selector.css(\"span.bold.style-scope.yt-formatted-string::text\").get()\n",
    "\n",
    "    # likes\n",
    "    likes = selector.css(\n",
    "        \"#segmented-like-button > ytd-toggle-button-renderer > yt-button-shape > button::attr(aria-label)\"\n",
    "    ).get()\n",
    "\n",
    "    # comments\n",
    "    try:\n",
    "        comments_amount = int(\n",
    "            selector.css(\"#count .count-text span:nth-child(1)::text\")\n",
    "            .get()\n",
    "            .replace(\",\", \"\")\n",
    "        )\n",
    "    except Exception as e:\n",
    "        comments_amount = 0\n",
    "\n",
    "    # keywords\n",
    "    # all_script_tags = selector.css(\"script\").getall()\n",
    "    # keywords = (\n",
    "    #     \"\".join(\n",
    "    #         re.findall(r'\"keywords\":\\[(.*)\\],\"channelId\":\".*\"', str(all_script_tags))\n",
    "    #     )\n",
    "    #     .replace('\"', \"\")\n",
    "    #     .split(\",\")\n",
    "    # )\n",
    "\n",
    "    print(title, views, likes, date, comments_amount)\n",
    "\n",
    "    try:\n",
    "        likes = re.search(r\"(\\d+)\", likes).group()\n",
    "    except Exception as e:\n",
    "        likes = 0\n",
    "    # views = re.search(r\"(\\d+)\", views).group()\n",
    "\n",
    "    return pd.DataFrame.from_dict(\n",
    "        {\n",
    "            \"title\": [title],\n",
    "            \"views\": [views],\n",
    "            \"likes\": [likes],\n",
    "            \"date\": [date],\n",
    "            \"comments_amount\": [comments_amount],\n",
    "            # \"keywords\": [keywords],\n",
    "        }\n",
    "    )\n",
    "\n",
    "\n",
    "def parse_channel(selector) -> pd.DataFrame:\n",
    "    subscribers = selector.css(\n",
    "        \"#subscriber-count.style-scope.ytd-c4-tabbed-header-renderer::text\"\n",
    "    ).get()\n",
    "\n",
    "    # subscribers = re.search(r\"(\\d+)\", subscribers).group()\n",
    "\n",
    "    # get recent 5 videos\n",
    "    channel_name = (\n",
    "        selector.css(\"div#channel-header-container yt-formatted-string#text::text\")\n",
    "        .get()\n",
    "        .strip()\n",
    "    )\n",
    "\n",
    "    videos = selector.css(\n",
    "        \"div.style-scope.ytd-rich-item-renderer ytd-rich-grid-media div.style-scope.ytd-rich-grid-media a#thumbnail.yt-simple-endpoint.inline-block.style-scope.ytd-thumbnail::attr(href)\"\n",
    "    ).getall()[:5]\n",
    "\n",
    "    u, ind = np.unique(videos, return_index=True)\n",
    "    videos = u[np.argsort(ind)]\n",
    "\n",
    "    df = pd.DataFrame()\n",
    "    for v in videos:\n",
    "        print(\"Video: \", v)\n",
    "\n",
    "        result = scroll_page(f\"https://www.youtube.com{v}\")\n",
    "\n",
    "        info = get_info_from_video(result)\n",
    "        info[\"channel_name\"] = channel_name\n",
    "        info[\"subscribers\"] = subscribers\n",
    "        # print(info)\n",
    "\n",
    "        df = pd.concat([df, info])\n",
    "        # df = df.append(info, ignore_index=True)\n",
    "\n",
    "    print(\"Videos i got: \", len(videos))\n",
    "    return df\n",
    "\n",
    "\n",
    "def parse_top_channel(channel_link: str) -> pd.DataFrame:\n",
    "    from selenium.webdriver.support.ui import WebDriverWait\n",
    "    from selenium.webdriver.support import expected_conditions as EC\n",
    "    from selenium.webdriver.common.by import By\n",
    "\n",
    "    driver = webdriver.Chrome()\n",
    "    wait = WebDriverWait(driver, 3)\n",
    "    driver.implicitly_wait(10)\n",
    "\n",
    "    driver.get(channel_link)\n",
    "    driver.maximize_window()\n",
    "\n",
    "    # //*[@id=\"chips\"]/yt-chip-cloud-chip-renderer[2]\n",
    "    # wait for page to load\n",
    "\n",
    "    try:\n",
    "        wait.until(\n",
    "            EC.presence_of_element_located(\n",
    "                (By.XPATH, '//*[@id=\"chips\"]/yt-chip-cloud-chip-renderer[2]')\n",
    "            )\n",
    "        ).click()\n",
    "    except Exception as e:\n",
    "        print(\"Nao possui aba de videos em alta\")\n",
    "        # return empty dataframe\n",
    "        # return pd.DataFrame()\n",
    "\n",
    "    time.sleep(3)\n",
    "    selector = Selector(text=driver.page_source)\n",
    "    driver.quit()\n",
    "\n",
    "    channel_name = (\n",
    "        selector.css(\"div#channel-header-container yt-formatted-string#text::text\")\n",
    "        .get()\n",
    "        .strip()\n",
    "    )\n",
    "\n",
    "    videos = selector.css(\n",
    "        \"div.style-scope.ytd-rich-item-renderer ytd-rich-grid-media div.style-scope.ytd-rich-grid-media a#thumbnail.yt-simple-endpoint.inline-block.style-scope.ytd-thumbnail::attr(href)\"\n",
    "    ).getall()[:5]\n",
    "\n",
    "    u, ind = np.unique(videos, return_index=True)\n",
    "    videos = u[np.argsort(ind)]\n",
    "\n",
    "    df = pd.DataFrame()\n",
    "    for v in videos:\n",
    "        # print(\"Video: \", v)\n",
    "\n",
    "        result = scroll_page(f\"https://www.youtube.com{v}\")\n",
    "\n",
    "        info = get_info_from_video(result)\n",
    "        print(info)\n",
    "        info[\"channel_name\"] = channel_name\n",
    "        # print(info)\n",
    "\n",
    "        df = pd.concat([df, info])\n",
    "        # df = df.append(info, ignore_index=True)\n",
    "\n",
    "    print(\"Videos i got: \", len(videos))\n",
    "    return df\n",
    "\n"
   ]
  },
  {
   "cell_type": "markdown",
   "id": "8832a998",
   "metadata": {
    "papermill": {
     "duration": 0.004005,
     "end_time": "2023-07-24T16:02:27.064088",
     "exception": false,
     "start_time": "2023-07-24T16:02:27.060083",
     "status": "completed"
    },
    "tags": []
   },
   "source": [
    "Pegar dados"
   ]
  },
  {
   "cell_type": "code",
   "execution_count": 3,
   "id": "3846da54",
   "metadata": {
    "execution": {
     "iopub.execute_input": "2023-07-24T16:02:27.074113Z",
     "iopub.status.busy": "2023-07-24T16:02:27.074113Z",
     "iopub.status.idle": "2023-07-24T16:18:12.586923Z",
     "shell.execute_reply": "2023-07-24T16:18:12.585926Z"
    },
    "papermill": {
     "duration": 945.521791,
     "end_time": "2023-07-24T16:18:12.589900",
     "exception": false,
     "start_time": "2023-07-24T16:02:27.068109",
     "status": "completed"
    },
    "tags": []
   },
   "outputs": [
    {
     "name": "stdout",
     "output_type": "stream",
     "text": [
      "Video:  /watch?v=pworfszvp_U\n"
     ]
    },
    {
     "name": "stdout",
     "output_type": "stream",
     "text": [
      "Bytes de Dados | Como se tornar um profissional acima da média\n",
      "Bytes de Dados | Como se tornar um profissional acima da média 33 visualizações Marque este vídeo como \"Gostei\" com mais 7 pessoas 24 de jul. de 2023 1\n",
      "Video:  /watch?v=yHE2avFrWgE\n"
     ]
    },
    {
     "name": "stdout",
     "output_type": "stream",
     "text": [
      "O que as empresas esperam de um Engenheiro de Dados?\n",
      "O que as empresas esperam de um Engenheiro de Dados? 223 visualizações Marque este vídeo como \"Gostei\" com mais 22 pessoas 17 de jul. de 2023 0\n",
      "Video:  /watch?v=7MrrWHcBUHs\n"
     ]
    },
    {
     "name": "stdout",
     "output_type": "stream",
     "text": [
      "Bytes de dados | Engenharia de Dados: saiba quais são os conhecimentos indispensáveis\n",
      "Bytes de dados | Engenharia de Dados: saiba quais são os conhecimentos indispensáveis 424 visualizações Marque este vídeo como \"Gostei\" com mais 32 pessoas 10 de jul. de 2023 0\n",
      "Video:  /watch?v=geCTCbqP5B8\n"
     ]
    },
    {
     "name": "stdout",
     "output_type": "stream",
     "text": [
      "Ask Me Anything about dbt | Live \n",
      "Ask Me Anything about dbt | Live  251 visualizações Marque este vídeo como \"Gostei\" com mais 12 pessoas 3 de jul. de 2023 0\n",
      "Video:  /watch?v=6-5l6BgF5oE\n"
     ]
    },
    {
     "name": "stdout",
     "output_type": "stream",
     "text": [
      "The Plumbers | Interagindo com o datalake MinIO\n",
      "The Plumbers | Interagindo com o datalake MinIO 338 visualizações Marque este vídeo como \"Gostei\" com mais 30 pessoas 28 de jun. de 2023 0\n",
      "Videos i got:  5\n"
     ]
    },
    {
     "name": "stdout",
     "output_type": "stream",
     "text": [
      "Microsoft Azure DataBricks - Plataforma Unificada para Análise de Dados\n",
      "Microsoft Azure DataBricks - Plataforma Unificada para Análise de Dados 12 mil visualizações Marque este vídeo como \"Gostei\" com mais 641 pessoas 10 de mai. de 2018 22\n",
      "                                               title                 views  \\\n",
      "0  Microsoft Azure DataBricks - Plataforma Unific...  12 mil visualizações   \n",
      "\n",
      "  likes                date  comments_amount  \n",
      "0   641  10 de mai. de 2018               22  \n"
     ]
    },
    {
     "name": "stdout",
     "output_type": "stream",
     "text": [
      "Quais são os problemas que o Apache Spark resolve?\n",
      "Quais são os problemas que o Apache Spark resolve? 7,9 mil visualizações Marque este vídeo como \"Gostei\" com mais 140 pessoas 24 de fev. de 2022 1\n",
      "                                               title                  views  \\\n",
      "0  Quais são os problemas que o Apache Spark reso...  7,9 mil visualizações   \n",
      "\n",
      "  likes                date  comments_amount  \n",
      "0   140  24 de fev. de 2022                1  \n"
     ]
    },
    {
     "name": "stdout",
     "output_type": "stream",
     "text": [
      "O que é o Apache Spark?\n",
      "O que é o Apache Spark? 6,1 mil visualizações Marque este vídeo como \"Gostei\" com mais 344 pessoas 17 de fev. de 2022 8\n",
      "                     title                  views likes                date  \\\n",
      "0  O que é o Apache Spark?  6,1 mil visualizações   344  17 de fev. de 2022   \n",
      "\n",
      "   comments_amount  \n",
      "0                8  \n"
     ]
    },
    {
     "name": "stdout",
     "output_type": "stream",
     "text": [
      "Conectando o PowerBi com Azure Databricks\n",
      "Conectando o PowerBi com Azure Databricks 5,6 mil visualizações Marque este vídeo como \"Gostei\" com mais 192 pessoas 29 de mar. de 2019 7\n",
      "                                       title                  views likes  \\\n",
      "0  Conectando o PowerBi com Azure Databricks  5,6 mil visualizações   192   \n",
      "\n",
      "                 date  comments_amount  \n",
      "0  29 de mar. de 2019                7  \n"
     ]
    },
    {
     "name": "stdout",
     "output_type": "stream",
     "text": [
      "Quais são os problemas que o Apache Kafka resolve?\n",
      "Quais são os problemas que o Apache Kafka resolve? 5,6 mil visualizações Marque este vídeo como \"Gostei\" com mais 61 pessoas 24 de fev. de 2022 0\n",
      "                                               title                  views  \\\n",
      "0  Quais são os problemas que o Apache Kafka reso...  5,6 mil visualizações   \n",
      "\n",
      "  likes                date  comments_amount  \n",
      "0    61  24 de fev. de 2022                0  \n",
      "Videos i got:  5\n"
     ]
    },
    {
     "name": "stdout",
     "output_type": "stream",
     "text": [
      "{\n",
      "  \"channel_title\": \"Luan Moreno | Engenharia de Dados\",\n",
      "  \"date_joined\": \"26 de ago. de 2011\",\n",
      "  \"total_views\": \"503.905 visualizações\",\n",
      "  \"total_subs\": \"9,68 mil inscritos\",\n",
      "  \"total_videos\": \"345\"\n",
      "}\n"
     ]
    },
    {
     "name": "stdout",
     "output_type": "stream",
     "text": [
      "Video:  /watch?v=zdywQy2iWgI\n"
     ]
    },
    {
     "name": "stdout",
     "output_type": "stream",
     "text": [
      "GPSvc | Conceito 5S\n",
      "GPSvc | Conceito 5S 665 visualizações Marque este vídeo como \"Gostei\" com mais 109 pessoas 11 de jul. de 2023 0\n",
      "Video:  /watch?v=DDONLTDX0us\n"
     ]
    },
    {
     "name": "stdout",
     "output_type": "stream",
     "text": [
      "GPSvc | Julho Amarelo – Prevenção Hepatites\n",
      "GPSvc | Julho Amarelo – Prevenção Hepatites 1,6 mil visualizações Marque este vídeo como \"Gostei\" com mais 162 pessoas 30 de jun. de 2023 0\n",
      "Video:  /watch?v=jGTC4Fg7wDY\n"
     ]
    },
    {
     "name": "stdout",
     "output_type": "stream",
     "text": [
      "1 ano de transformação - GPS Vista\n",
      "1 ano de transformação - GPS Vista 868 visualizações Marque este vídeo como \"Gostei\" com mais 96 pessoas 26 de jun. de 2023 0\n",
      "Video:  /watch?v=6oxqTKpXFw4\n"
     ]
    },
    {
     "name": "stdout",
     "output_type": "stream",
     "text": [
      "GPSvc | Febre Maculosa – O Que é e Como se Prevenir\n",
      "GPSvc | Febre Maculosa – O Que é e Como se Prevenir 1,2 mil visualizações Marque este vídeo como \"Gostei\" com mais 127 pessoas 21 de jun. de 2023 0\n",
      "Video:  /watch?v=VPA0IHrXIFA\n"
     ]
    },
    {
     "name": "stdout",
     "output_type": "stream",
     "text": [
      "Dia do Vigilante - 2023\n",
      "Dia do Vigilante - 2023 11 mil visualizações Marque este vídeo como \"Gostei\" com mais 1.387 pessoas 20 de jun. de 2023 0\n",
      "Videos i got:  5\n"
     ]
    },
    {
     "name": "stdout",
     "output_type": "stream",
     "text": [
      "Vídeo Institucional - Grupo GPS\n",
      "Vídeo Institucional - Grupo GPS 387 mil visualizações Marque este vídeo como \"Gostei\" com mais 21.374 pessoas 26 de mai. de 2020 0\n",
      "                             title                  views likes  \\\n",
      "0  Vídeo Institucional - Grupo GPS  387 mil visualizações    21   \n",
      "\n",
      "                 date  comments_amount  \n",
      "0  26 de mai. de 2020                0  \n"
     ]
    },
    {
     "name": "stdout",
     "output_type": "stream",
     "text": [
      "GPSvc | Administração de Conflitos\n",
      "GPSvc | Administração de Conflitos 112 mil visualizações Marque este vídeo como \"Gostei\" com mais 8.004 pessoas 17 de mai. de 2021 0\n",
      "                                title                  views likes  \\\n",
      "0  GPSvc | Administração de Conflitos  112 mil visualizações     8   \n",
      "\n",
      "                 date  comments_amount  \n",
      "0  17 de mai. de 2021                0  \n"
     ]
    },
    {
     "name": "stdout",
     "output_type": "stream",
     "text": [
      "Treinamento LGPD\n",
      "Treinamento LGPD 112 mil visualizações Marque este vídeo como \"Gostei\" com mais 6.029 pessoas 10 de dez. de 2021 0\n",
      "              title                  views likes                date  \\\n",
      "0  Treinamento LGPD  112 mil visualizações     6  10 de dez. de 2021   \n",
      "\n",
      "   comments_amount  \n",
      "0                0  \n"
     ]
    },
    {
     "name": "stdout",
     "output_type": "stream",
     "text": [
      "GPSvc | Postura Operacional\n",
      "GPSvc | Postura Operacional 89 mil visualizações Marque este vídeo como \"Gostei\" com mais 5.568 pessoas 17 de mai. de 2021 0\n",
      "                         title                 views likes  \\\n",
      "0  GPSvc | Postura Operacional  89 mil visualizações     5   \n",
      "\n",
      "                 date  comments_amount  \n",
      "0  17 de mai. de 2021                0  \n"
     ]
    },
    {
     "name": "stdout",
     "output_type": "stream",
     "text": [
      "GPSvc | Uso do smartphone\n",
      "GPSvc | Uso do smartphone 83 mil visualizações Marque este vídeo como \"Gostei\" com mais 5.526 pessoas 17 de mai. de 2021 0\n",
      "                       title                 views likes                date  \\\n",
      "0  GPSvc | Uso do smartphone  83 mil visualizações     5  17 de mai. de 2021   \n",
      "\n",
      "   comments_amount  \n",
      "0                0  \n",
      "Videos i got:  5\n"
     ]
    },
    {
     "name": "stdout",
     "output_type": "stream",
     "text": [
      "{\n",
      "  \"channel_title\": \"Grupo GPS\",\n",
      "  \"date_joined\": \"5 de abr. de 2018\",\n",
      "  \"total_views\": \"1.884.207 visualizações\",\n",
      "  \"total_subs\": \"43,8 mil inscritos\",\n",
      "  \"total_videos\": \"122\"\n",
      "}\n"
     ]
    },
    {
     "name": "stdout",
     "output_type": "stream",
     "text": [
      "Video:  /watch?v=v_uodKAywXA\n"
     ]
    },
    {
     "name": "stdout",
     "output_type": "stream",
     "text": [
      "Learn Apache Spark in 10 Minutes | Step by Step Guide\n",
      "Learn Apache Spark in 10 Minutes | Step by Step Guide 21 mil visualizações Marque este vídeo como \"Gostei\" com mais 975 pessoas 16 de jul. de 2023 0\n",
      "Video:  /watch?v=_qHY1u-Ht40\n"
     ]
    },
    {
     "name": "stdout",
     "output_type": "stream",
     "text": [
      "Master Data Engineering with These 7 Books\n",
      "Master Data Engineering with These 7 Books 8,1 mil visualizações Marque este vídeo como \"Gostei\" com mais 320 pessoas 1 de jul. de 2023 0\n",
      "Video:  /watch?v=MN9ldvzTysM\n"
     ]
    },
    {
     "name": "stdout",
     "output_type": "stream",
     "text": [
      "How Dream 11 Process 7TB of Data Daily?\n",
      "How Dream 11 Process 7TB of Data Daily? 5,3 mil visualizações Marque este vídeo como \"Gostei\" com mais 231 pessoas 25 de jun. de 2023 0\n",
      "Video:  /watch?v=Gh7v6XCHNxU\n"
     ]
    },
    {
     "name": "stdout",
     "output_type": "stream",
     "text": [
      "Azure Data Engineering Certification Step by Step Guide\n",
      "Azure Data Engineering Certification Step by Step Guide 29 mil visualizações Marque este vídeo como \"Gostei\" com mais 1.016 pessoas 18 de jun. de 2023 0\n",
      "Video:  /watch?v=o3OZIQxGvyI\n"
     ]
    },
    {
     "name": "stdout",
     "output_type": "stream",
     "text": [
      "Stock Market Data Pipeline Project on Google Cloud Platform\n",
      "Stock Market Data Pipeline Project on Google Cloud Platform 11 mil visualizações Marque este vídeo como \"Gostei\" com mais 362 pessoas 3 de jun. de 2023 0\n",
      "Videos i got:  5\n"
     ]
    },
    {
     "name": "stdout",
     "output_type": "stream",
     "text": [
      "🚖 Uber Data Analytics | End-To-End Data Engineering Project\n",
      "🚖 Uber Data Analytics | End-To-End Data Engineering Project 237 mil visualizações Marque este vídeo como \"Gostei\" com mais 8.455 pessoas 30 de abr. de 2023 0\n",
      "                                               title                  views  \\\n",
      "0  🚖 Uber Data Analytics | End-To-End Data Engine...  237 mil visualizações   \n",
      "\n",
      "  likes                date  comments_amount  \n",
      "0     8  30 de abr. de 2023                0  \n"
     ]
    },
    {
     "name": "stdout",
     "output_type": "stream",
     "text": [
      "Getting into Data Engineering - Courses, Projects, and The Reality\n",
      "Getting into Data Engineering - Courses, Projects, and The Reality 136 mil visualizações Marque este vídeo como \"Gostei\" com mais 4.552 pessoas Estreou em 4 de dez. de 2021 0\n",
      "                                               title                  views  \\\n",
      "0  Getting into Data Engineering - Courses, Proje...  136 mil visualizações   \n",
      "\n",
      "  likes                          date  comments_amount  \n",
      "0     4  Estreou em 4 de dez. de 2021                0  \n"
     ]
    },
    {
     "name": "stdout",
     "output_type": "stream",
     "text": [
      "Twitter Data Pipeline using Airflow for Beginners | Data Engineering Project\n",
      "Twitter Data Pipeline using Airflow for Beginners | Data Engineering Project 133 mil visualizações Marque este vídeo como \"Gostei\" com mais 4.457 pessoas 20 de set. de 2022 0\n",
      "                                               title                  views  \\\n",
      "0  Twitter Data Pipeline using Airflow for Beginn...  133 mil visualizações   \n",
      "\n",
      "  likes                date  comments_amount  \n",
      "0     4  20 de set. de 2022                0  \n"
     ]
    },
    {
     "name": "stdout",
     "output_type": "stream",
     "text": [
      "How I Would Learn Data Engineering 2023 (If I could start over)\n",
      "How I Would Learn Data Engineering 2023 (If I could start over) 130 mil visualizações Marque este vídeo como \"Gostei\" com mais 6.061 pessoas 19 de jan. de 2023 0\n",
      "                                               title                  views  \\\n",
      "0  How I Would Learn Data Engineering 2023 (If I ...  130 mil visualizações   \n",
      "\n",
      "  likes                date  comments_amount  \n",
      "0     6  19 de jan. de 2023                0  \n"
     ]
    },
    {
     "name": "stdout",
     "output_type": "stream",
     "text": [
      "YouTube Data Analysis | END TO END DATA ENGINEERING PROJECT\n",
      "YouTube Data Analysis | END TO END DATA ENGINEERING PROJECT 119 mil visualizações Marque este vídeo como \"Gostei\" com mais 3.196 pessoas 28 de mar. de 2022 0\n",
      "                                               title                  views  \\\n",
      "0  YouTube Data Analysis | END TO END DATA ENGINE...  119 mil visualizações   \n",
      "\n",
      "  likes                date  comments_amount  \n",
      "0     3  28 de mar. de 2022                0  \n",
      "Videos i got:  5\n"
     ]
    },
    {
     "name": "stdout",
     "output_type": "stream",
     "text": [
      "{\n",
      "  \"channel_title\": \"Darshil Parmar\",\n",
      "  \"date_joined\": \"13 de abr. de 2021\",\n",
      "  \"total_views\": \"2.730.375 visualizações\",\n",
      "  \"total_subs\": \"74,7 mil inscritos\",\n",
      "  \"total_videos\": \"125\"\n",
      "}\n"
     ]
    },
    {
     "name": "stdout",
     "output_type": "stream",
     "text": [
      "Video:  /watch?v=XE5jPzds474\n"
     ]
    },
    {
     "name": "stdout",
     "output_type": "stream",
     "text": [
      "Azure Data Factory Part 3 : Adls gen1 to gen2 migration \n",
      "Azure Data Factory Part 3 : Adls gen1 to gen2 migration  152 visualizações Marque este vídeo como \"Gostei\" com mais 6 pessoas 23 de jul. de 2023 0\n",
      "Video:  /watch?v=TzSIAnYfQmc\n"
     ]
    },
    {
     "name": "stdout",
     "output_type": "stream",
     "text": [
      "Data warehouse Vs Datalake Vs Lakehouse \n",
      "Data warehouse Vs Datalake Vs Lakehouse  1,3 mil visualizações Marque este vídeo como \"Gostei\" com mais 39 pessoas 10 de jul. de 2023 0\n",
      "Video:  /watch?v=fv4R74YxOSs\n"
     ]
    },
    {
     "name": "stdout",
     "output_type": "stream",
     "text": [
      "How do i resolve this error with creating ADF file linked service on self-hosted IR \n",
      "How do i resolve this error with creating ADF file linked service on self-hosted IR  296 visualizações Marque este vídeo como \"Gostei\" com mais 11 pessoas 8 de jul. de 2023 0\n",
      "Video:  /watch?v=UEoTBbUbmW8\n"
     ]
    },
    {
     "name": "stdout",
     "output_type": "stream",
     "text": [
      "Microsoft Fabric Lakehouse \n",
      "Microsoft Fabric Lakehouse  1,1 mil visualizações Marque este vídeo como \"Gostei\" com mais 45 pessoas 7 de jul. de 2023 0\n",
      "Video:  /watch?v=Laj_uLt9cYU\n"
     ]
    },
    {
     "name": "stdout",
     "output_type": "stream",
     "text": [
      "Snowflake sql tutorial part 2 : why sql and where are using sql \n",
      "Snowflake sql tutorial part 2 : why sql and where are using sql  268 visualizações Marque este vídeo como \"Gostei\" com mais 8 pessoas 28 de jun. de 2023 0\n",
      "Videos i got:  5\n"
     ]
    },
    {
     "name": "stdout",
     "output_type": "stream",
     "text": [
      "Oracle SQL Developer Tool Tutorial\n",
      "Oracle SQL Developer Tool Tutorial 134 mil visualizações Marque este vídeo como \"Gostei\" com mais 590 pessoas 16 de abr. de 2018 21\n",
      "                                title                  views likes  \\\n",
      "0  Oracle SQL Developer Tool Tutorial  134 mil visualizações   590   \n",
      "\n",
      "                 date  comments_amount  \n",
      "0  16 de abr. de 2018               21  \n"
     ]
    },
    {
     "name": "stdout",
     "output_type": "stream",
     "text": [
      "Python For Data Engineering 1 : Introduction To Python \n",
      "Python For Data Engineering 1 : Introduction To Python  75 mil visualizações Marque este vídeo como \"Gostei\" com mais 1.258 pessoas 25 de jul. de 2021 0\n",
      "                                               title                 views  \\\n",
      "0  Python For Data Engineering 1 : Introduction T...  75 mil visualizações   \n",
      "\n",
      "  likes                date  comments_amount  \n",
      "0     1  25 de jul. de 2021                0  \n"
     ]
    },
    {
     "name": "stdout",
     "output_type": "stream",
     "text": [
      "Oracle SQL Performance Tuning  1\n",
      "Oracle SQL Performance Tuning  1 66 mil visualizações Marque este vídeo como \"Gostei\" com mais 502 pessoas 10 de mar. de 2018 19\n",
      "                              title                 views likes  \\\n",
      "0  Oracle SQL Performance Tuning  1  66 mil visualizações   502   \n",
      "\n",
      "                 date  comments_amount  \n",
      "0  10 de mar. de 2018               19  \n"
     ]
    },
    {
     "name": "stdout",
     "output_type": "stream",
     "text": [
      "What is a Partition in Oracle and Type of Partitions , Range Partition\n",
      "What is a Partition in Oracle and Type of Partitions , Range Partition 52 mil visualizações Marque este vídeo como \"Gostei\" com mais 486 pessoas 3 de fev. de 2018 12\n",
      "                                               title                 views  \\\n",
      "0  What is a Partition in Oracle and Type of Part...  52 mil visualizações   \n",
      "\n",
      "  likes               date  comments_amount  \n",
      "0   486  3 de fev. de 2018               12  \n"
     ]
    },
    {
     "name": "stdout",
     "output_type": "stream",
     "text": [
      "DWH Tutorial 16 :Slowly Changing Dimensions and Types in Data Warehousing\n",
      "DWH Tutorial 16 :Slowly Changing Dimensions and Types in Data Warehousing 51 mil visualizações Marque este vídeo como \"Gostei\" com mais 679 pessoas 12 de fev. de 2018 0\n",
      "                                               title                 views  \\\n",
      "0  DWH Tutorial 16 :Slowly Changing Dimensions an...  51 mil visualizações   \n",
      "\n",
      "  likes                date  comments_amount  \n",
      "0   679  12 de fev. de 2018                0  \n",
      "Videos i got:  5\n"
     ]
    },
    {
     "name": "stdout",
     "output_type": "stream",
     "text": [
      "{\n",
      "  \"channel_title\": \"TechLake\",\n",
      "  \"date_joined\": \"1 de ago. de 2013\",\n",
      "  \"total_views\": \"3.403.727 visualizações\",\n",
      "  \"total_subs\": \"34,4 mil inscritos\",\n",
      "  \"total_videos\": \"437\"\n",
      "}\n"
     ]
    },
    {
     "name": "stdout",
     "output_type": "stream",
     "text": [
      "Video:  /watch?v=Bfm3Ms2cTg0\n"
     ]
    },
    {
     "name": "stdout",
     "output_type": "stream",
     "text": [
      "Discutindo sobre Banco de Dados - Dos primórdios a Big Data\n",
      "Discutindo sobre Banco de Dados - Dos primórdios a Big Data 33 mil visualizações Marque este vídeo como \"Gostei\" com mais 4.364 pessoas 22 de jul. de 2023 0\n",
      "Video:  /watch?v=O68y0yRZL1Y\n"
     ]
    },
    {
     "name": "stdout",
     "output_type": "stream",
     "text": [
      "Entendendo Como ChatGPT Funciona - Rodando sua Própria IA\n",
      "Entendendo Como ChatGPT Funciona - Rodando sua Própria IA 240 mil visualizações Marque este vídeo como \"Gostei\" com mais 21.001 pessoas 19 de jun. de 2023 0\n",
      "Video:  /watch?v=yjhn2fjByNU\n"
     ]
    },
    {
     "name": "stdout",
     "output_type": "stream",
     "text": [
      "Conversando sobre TDAH, Autismo, Ansiedade e Depressão | Tirando a Camisa de Força\n",
      "Conversando sobre TDAH, Autismo, Ansiedade e Depressão | Tirando a Camisa de Força 199 mil visualizações Marque este vídeo como \"Gostei\" com mais 20.030 pessoas 25 de abr. de 2023 0\n",
      "Video:  /watch?v=uIflMYQnp8A\n"
     ]
    },
    {
     "name": "stdout",
     "output_type": "stream",
     "text": [
      "Desbloqueando o \"Algoritmo\" do Twitter - Introdução a Grafos\n",
      "Desbloqueando o \"Algoritmo\" do Twitter - Introdução a Grafos 93 mil visualizações Marque este vídeo como \"Gostei\" com mais 8.141 pessoas 11 de abr. de 2023 0\n",
      "Video:  /watch?v=85k8se4Zo70\n"
     ]
    },
    {
     "name": "stdout",
     "output_type": "stream",
     "text": [
      "Entendendo Funcionamento de Containers\n",
      "Entendendo Funcionamento de Containers 69 mil visualizações Marque este vídeo como \"Gostei\" com mais 5.554 pessoas 2 de mar. de 2023 0\n",
      "Videos i got:  5\n"
     ]
    },
    {
     "name": "stdout",
     "output_type": "stream",
     "text": [
      "Conhecimentos Básicos para Iniciantes em Programação | Série \"Começando aos 40\"\n",
      "Conhecimentos Básicos para Iniciantes em Programação | Série \"Começando aos 40\" 966 mil visualizações Marque este vídeo como \"Gostei\" com mais 73.368 pessoas 6 de fev. de 2019 0\n",
      "                                               title                  views  \\\n",
      "0  Conhecimentos Básicos para Iniciantes em Progr...  966 mil visualizações   \n",
      "\n",
      "  likes               date  comments_amount  \n",
      "0    73  6 de fev. de 2019                0  \n"
     ]
    },
    {
     "name": "stdout",
     "output_type": "stream",
     "text": [
      "O que vem DEPOIS da COVID-19?\n",
      "O que vem DEPOIS da COVID-19? 933 mil visualizações Marque este vídeo como \"Gostei\" com mais 55.924 pessoas 24 de mar. de 2020 0\n",
      "                           title                  views likes  \\\n",
      "0  O que vem DEPOIS da COVID-19?  933 mil visualizações    55   \n",
      "\n",
      "                 date  comments_amount  \n",
      "0  24 de mar. de 2020                0  \n"
     ]
    },
    {
     "name": "stdout",
     "output_type": "stream",
     "text": [
      "O Guia DEFINITIVO de UBUNTU para Devs Iniciantes\n",
      "O Guia DEFINITIVO de UBUNTU para Devs Iniciantes 865 mil visualizações Marque este vídeo como \"Gostei\" com mais 40.453 pessoas 12 de jul. de 2019 0\n",
      "                                              title                  views  \\\n",
      "0  O Guia DEFINITIVO de UBUNTU para Devs Iniciantes  865 mil visualizações   \n",
      "\n",
      "  likes                date  comments_amount  \n",
      "0    40  12 de jul. de 2019                0  \n"
     ]
    },
    {
     "name": "stdout",
     "output_type": "stream",
     "text": [
      "Guia DEFINITIVO de Aprendendo a Aprender | A maior BRONCA da sua vida [RATED R]\n",
      "Guia DEFINITIVO de Aprendendo a Aprender | A maior BRONCA da sua vida [RATED R] 860 mil visualizações Marque este vídeo como \"Gostei\" com mais 72.710 pessoas 1 de abr. de 2020 0\n",
      "                                               title                  views  \\\n",
      "0  Guia DEFINITIVO de Aprendendo a Aprender | A m...  860 mil visualizações   \n",
      "\n",
      "  likes               date  comments_amount  \n",
      "0    72  1 de abr. de 2020                0  \n"
     ]
    },
    {
     "name": "stdout",
     "output_type": "stream",
     "text": [
      "O Mercado de TI para Iniciantes em Programação | Série \"Começando aos 40\"\n",
      "O Mercado de TI para Iniciantes em Programação | Série \"Começando aos 40\" 544 mil visualizações Marque este vídeo como \"Gostei\" com mais 44.672 pessoas 23 de jan. de 2019 0\n",
      "                                               title                  views  \\\n",
      "0  O Mercado de TI para Iniciantes em Programação...  544 mil visualizações   \n",
      "\n",
      "  likes                date  comments_amount  \n",
      "0    44  23 de jan. de 2019                0  \n",
      "Videos i got:  5\n"
     ]
    },
    {
     "name": "stdout",
     "output_type": "stream",
     "text": [
      "{\n",
      "  \"channel_title\": \"Fabio Akita\",\n",
      "  \"date_joined\": \"13 de jun. de 2007\",\n",
      "  \"total_views\": \"17.871.000 visualizações\",\n",
      "  \"total_subs\": \"385 mil inscritos\",\n",
      "  \"total_videos\": \"136\"\n",
      "}\n"
     ]
    }
   ],
   "source": [
    "\n",
    "# %%\n",
    "with open(\"canais.txt\", \"r\") as f:\n",
    "    # read each line as a item in a list and remove the \\n\n",
    "    canais = [line.strip() for line in f.readlines()]\n",
    "\n",
    "df = pd.DataFrame()\n",
    "df_top = pd.DataFrame()\n",
    "df_lifetime = pd.DataFrame()\n",
    "for ch in canais:\n",
    "    # recent videos\n",
    "    result = scroll_page(ch + \"/videos\")\n",
    "    df_channel = parse_channel(result)\n",
    "    df = pd.concat([df, df_channel])\n",
    "\n",
    "    # top videos\n",
    "    df_top_channel = parse_top_channel(ch + \"/videos\")\n",
    "    df_top = pd.concat([df_top, df_top_channel])\n",
    "\n",
    "    # lifetime info\n",
    "    df_lifetime_channel = get_info_from_channel(ch + \"/about\")\n",
    "    df_lifetime = pd.concat([df_lifetime, df_lifetime_channel])\n",
    "\n",
    "\n",
    "os.makedirs(f\"./data/{canais[0].split('@')[-1]}\", exist_ok=True)\n",
    "\n",
    "df.to_csv(f\"./data/{canais[0].split('@')[-1]}/videos.csv\", index=False)\n",
    "df_top.to_csv(f\"./data/{canais[0].split('@')[-1]}/top_videos.csv\", index=False)\n",
    "df_lifetime.to_csv(f\"./data/{canais[0].split('@')[-1]}/lifetime.csv\", index=False)\n",
    "\n"
   ]
  },
  {
   "cell_type": "markdown",
   "id": "43fcc5e4",
   "metadata": {
    "papermill": {
     "duration": 0.011002,
     "end_time": "2023-07-24T16:18:12.610925",
     "exception": false,
     "start_time": "2023-07-24T16:18:12.599923",
     "status": "completed"
    },
    "tags": []
   },
   "source": [
    "\n",
    "# Tratamento\n"
   ]
  },
  {
   "cell_type": "code",
   "execution_count": 4,
   "id": "dd17c193",
   "metadata": {
    "execution": {
     "iopub.execute_input": "2023-07-24T16:18:12.632927Z",
     "iopub.status.busy": "2023-07-24T16:18:12.631926Z",
     "iopub.status.idle": "2023-07-24T16:18:12.793012Z",
     "shell.execute_reply": "2023-07-24T16:18:12.792012Z"
    },
    "papermill": {
     "duration": 0.174891,
     "end_time": "2023-07-24T16:18:12.796015",
     "exception": false,
     "start_time": "2023-07-24T16:18:12.621124",
     "status": "completed"
    },
    "tags": []
   },
   "outputs": [],
   "source": [
    "\n",
    "# %%\n",
    "import locale\n",
    "\n",
    "locale.setlocale(locale.LC_ALL, \"pt_BR.UTF-8\")\n",
    "\n",
    "# %% [markdown]\n",
    "# # Trata videos recentes\n",
    "\n",
    "\n",
    "# %%\n",
    "def trata_inscritos(col: pd.Series) -> pd.Series:\n",
    "    col = col.split(\" inscritos\")[0]\n",
    "\n",
    "    if \"mil\" in col:\n",
    "        return int(\n",
    "            float(col.replace(\"mil\", \"\").replace(\" \", \"\").replace(\",\", \".\")) * 1000\n",
    "        )\n",
    "\n",
    "    return int(col.replace(\" \", \"\").replace(\",\", \".\"))\n",
    "\n",
    "\n",
    "def trata_visualizacoes(col: pd.Series) -> pd.Series:\n",
    "    # treat the characters U+00a0\n",
    "\n",
    "    # if its a numeric value return it\n",
    "    if type(col) == int or type(col) == float:\n",
    "        return col\n",
    "\n",
    "    col = col.replace(\"\\xa0\", \"\")\n",
    "\n",
    "    col = col.split(\" visualizações\")[0]\n",
    "\n",
    "    if \"mil\" in col:\n",
    "        return int(\n",
    "            float(col.replace(\"mil\", \"\").replace(\" \", \"\").replace(\",\", \".\")) * 1000\n",
    "        )\n",
    "    elif \"mi\" in col:\n",
    "        # remove 'de'\n",
    "        if \"de\" in col:\n",
    "            col = col.replace(\"de\", \"\")\n",
    "        return int(\n",
    "            float(col.replace(\"mi\", \"\").replace(\" \", \"\").replace(\",\", \".\")) * 1000000\n",
    "        )\n",
    "\n",
    "    return int(col.replace(\" \", \"\").replace(\".\", \"\").replace(\",\", \".\"))\n",
    "\n",
    "\n",
    "def trata_data(value):\n",
    "    meses = {\n",
    "        \"jan\": \"01\",\n",
    "        \"fev\": \"02\",\n",
    "        \"mar\": \"03\",\n",
    "        \"abr\": \"04\",\n",
    "        \"mai\": \"05\",\n",
    "        \"jun\": \"06\",\n",
    "        \"jul\": \"07\",\n",
    "        \"ago\": \"08\",\n",
    "        \"set\": \"09\",\n",
    "        \"out\": \"10\",\n",
    "        \"nov\": \"11\",\n",
    "        \"dez\": \"12\",\n",
    "    }\n",
    "    series_data = re.sub(r\"\\. de\", \"\", value)\n",
    "    # print(series_data)\n",
    "    series_data = re.search(r\"(\\d{1,2} de [a-zA-Z]+ \\d{4})\", series_data).group(0)\n",
    "    # replace month\n",
    "    for k, v in meses.items():\n",
    "        series_data = series_data.replace(k, v)\n",
    "\n",
    "    # print(series_data)\n",
    "    series_data = pd.to_datetime(series_data, format=\"%d de %m %Y\", errors=\"coerce\")\n",
    "    return series_data\n",
    "\n",
    "\n",
    "# %%\n",
    "videos = pd.read_csv(f\"./data/{canais[0].split('@')[-1]}/videos.csv\")\n",
    "\n",
    "# %%\n",
    "videos.assign(\n",
    "    subscribers=lambda df_: df_[\"subscribers\"].apply(trata_inscritos),\n",
    "    views=lambda df_: df_[\"views\"].apply(trata_visualizacoes),\n",
    "    date=lambda df_: df_[\"date\"].apply(trata_data),\n",
    "    category=\"RECENT\",\n",
    ").to_parquet(f\"./data/{canais[0].split('@')[-1]}/videos.parquet\")\n",
    "\n",
    "\n",
    "# Trata Top videos\n",
    "\n",
    "# %%\n",
    "import pandas as pd\n",
    "\n",
    "# %%\n",
    "top_videos = pd.read_csv(f\"./data/{canais[0].split('@')[-1]}/top_videos.csv\")\n",
    "\n",
    "# %%\n",
    "top_videos.assign(\n",
    "    date=lambda df_: df_[\"date\"].apply(trata_data),\n",
    "    views=lambda df_: df_[\"views\"].apply(trata_visualizacoes),\n",
    "    category=\"TOP\",\n",
    ").to_parquet(f\"./data/{canais[0].split('@')[-1]}/top_videos.parquet\")\n",
    "\n",
    "# %%\n",
    "top_videos_silver = pd.read_parquet(\"top_videos.parquet\")\n",
    "\n",
    "\n",
    "# # Trata lifetime\n",
    "\n",
    "# %%\n",
    "df_lifetime = pd.read_csv(f\"./data/{canais[0].split('@')[-1]}/lifetime.csv\")\n",
    "\n",
    "# %%\n",
    "df_lifetime.head()\n",
    "\n",
    "\n",
    "# %%\n",
    "def days_on_youtube(value) -> int:\n",
    "    import datetime\n",
    "\n",
    "    today = datetime.date.today()\n",
    "    return (today - value.date()).days\n",
    "\n",
    "\n",
    "# %%\n",
    "(\n",
    "    df_lifetime.assign(\n",
    "        date_joined=lambda df_: df_[\"date_joined\"].apply(trata_data),\n",
    "        total_views=lambda df_: df_[\"total_views\"].apply(trata_visualizacoes),\n",
    "        total_subs=lambda df_: df_[\"total_subs\"].apply(trata_inscritos),\n",
    "        days_since_joined=lambda df_: df_[\"date_joined\"].apply(days_on_youtube),\n",
    "    )\n",
    ").to_csv(f\"./data/{canais[0].split('@')[-1]}/lifetime.csv\", index=False)\n",
    "\n"
   ]
  },
  {
   "cell_type": "code",
   "execution_count": 5,
   "id": "949570cf",
   "metadata": {
    "execution": {
     "iopub.execute_input": "2023-07-24T16:18:12.819047Z",
     "iopub.status.busy": "2023-07-24T16:18:12.818046Z",
     "iopub.status.idle": "2023-07-24T16:18:12.888042Z",
     "shell.execute_reply": "2023-07-24T16:18:12.887069Z"
    },
    "papermill": {
     "duration": 0.084975,
     "end_time": "2023-07-24T16:18:12.891063",
     "exception": false,
     "start_time": "2023-07-24T16:18:12.806088",
     "status": "completed"
    },
    "tags": []
   },
   "outputs": [],
   "source": [
    "\n",
    "# # join\n",
    "\n",
    "# %%\n",
    "videos = pd.read_parquet(\"videos.parquet\")\n",
    "top_videos = pd.read_parquet(\"top_videos.parquet\")\n",
    "\n",
    "# %%\n",
    "# join the two dataframes\n",
    "\n",
    "videos = pd.concat([videos, top_videos])\n",
    "\n",
    "# %%\n",
    "videos_sorted = videos.sort_values(\"channel_name\")\n",
    "\n",
    "videos_sorted[\"subscribers\"] = videos_sorted[\"subscribers\"].fillna(method=\"ffill\")\n",
    "\n",
    "# %%\n",
    "videos_sorted = videos_sorted.sort_values([\"channel_name\", \"category\", \"date\"])\n",
    "\n",
    "# %%\n",
    "videos_sorted.to_parquet(f\"./data/{canais[0].split('@')[-1]}/videos_sorted.parquet\")\n",
    "\n",
    "# %%\n",
    "pd.read_parquet(f\"./data/{canais[0].split('@')[-1]}/videos_sorted.parquet\").to_csv(\n",
    "    f\"./data/{canais[0].split('@')[-1]}/videos_sorted.csv\", index=False\n",
    ")\n",
    "\n",
    "# %%\n"
   ]
  },
  {
   "cell_type": "markdown",
   "id": "ec517bf2",
   "metadata": {
    "papermill": {
     "duration": 0.009999,
     "end_time": "2023-07-24T16:18:12.911045",
     "exception": false,
     "start_time": "2023-07-24T16:18:12.901046",
     "status": "completed"
    },
    "tags": []
   },
   "source": [
    "last 30 days"
   ]
  },
  {
   "cell_type": "code",
   "execution_count": 6,
   "id": "e87f972f",
   "metadata": {
    "execution": {
     "iopub.execute_input": "2023-07-24T16:18:12.934044Z",
     "iopub.status.busy": "2023-07-24T16:18:12.933044Z",
     "iopub.status.idle": "2023-07-24T16:20:45.380519Z",
     "shell.execute_reply": "2023-07-24T16:20:45.379511Z"
    },
    "papermill": {
     "duration": 152.463468,
     "end_time": "2023-07-24T16:20:45.384515",
     "exception": false,
     "start_time": "2023-07-24T16:18:12.921047",
     "status": "completed"
    },
    "tags": []
   },
   "outputs": [
    {
     "name": "stdout",
     "output_type": "stream",
     "text": [
      "['@LuanMorenoMMaciel', '@GrupoGPSSA', '@DarshilParmar', '@TRRaveendra', '@Akitando']\n"
     ]
    },
    {
     "name": "stdout",
     "output_type": "stream",
     "text": [
      "0     16239\n",
      "1     79812\n",
      "2    228744\n",
      "3     99203\n",
      "4    573536\n",
      "Name: views, dtype: object\n",
      "0     270\n",
      "1    1.3K\n",
      "2    4.4K\n",
      "3    1.2K\n",
      "4     12K\n",
      "Name: subs, dtype: object\n"
     ]
    }
   ],
   "source": [
    "\n",
    "# read channel IDs\n",
    "\n",
    "with open(\"canais.txt\", \"r\") as f:\n",
    "    canais = f.readlines()\n",
    "\n",
    "\n",
    "canais = [c.strip() for c in canais]\n",
    "# take only the string after the last slash\n",
    "canais = [c.split(\"/\")[-1] for c in canais]\n",
    "\n",
    "print(canais)\n",
    "\n",
    "base_url = \"https://socialblade.com/youtube/channel/\"\n",
    "\n",
    "social_blade_data = []\n",
    "for c in canais:\n",
    "    response = scroll_page(base_url + c)\n",
    "\n",
    "    # last 30 days views #socialblade-user-content > div:nth-child(23) > div:nth-child(3) > span\n",
    "    views = response.css(\n",
    "        \"#socialblade-user-content > div:nth-child(23) > div:nth-child(3) > span::text\"\n",
    "    ).get()\n",
    "    subs = response.css(\n",
    "        \"#socialblade-user-content > div:nth-child(23) > div:nth-child(2) > span::text\"\n",
    "    ).get()\n",
    "\n",
    "    if views is None or subs is None:\n",
    "        views = response.css(\n",
    "            \"#socialblade-user-content > div:nth-child(16) > div:nth-child(3) > span::text\"\n",
    "        ).get()\n",
    "        subs = response.css(\n",
    "            \"#socialblade-user-content > div:nth-child(16) > div:nth-child(2) > span::text\"\n",
    "        ).get()\n",
    "\n",
    "    social_blade_data.append({\"Channel\": c, \"views\": views, \"subs\": subs})\n",
    "    last_30days = pd.DataFrame(social_blade_data)\n",
    "    last_30days = last_30days.fillna(\"0\")\n",
    "\n",
    "\n",
    "# %%\n",
    "def fix_views(view: pd.Series) -> pd.Series:\n",
    "    view = view.str.replace(\"+\", \"\").str.replace(\",\", \"\")\n",
    "    print(view)\n",
    "\n",
    "    view = view.apply(lambda x: float(x.replace(\"K\", \"\")) * 1000 if \"K\" in x else x)\n",
    "    view = view.apply(\n",
    "        lambda x: float(x.replace(\"M\", \"\")) * 1000000 if \"M\" in str(x) else x\n",
    "    )\n",
    "\n",
    "    return view\n",
    "\n",
    "\n",
    "last_30days = last_30days.assign(\n",
    "    views=lambda x: fix_views(x[\"views\"]), subs=lambda x: fix_views(x[\"subs\"])\n",
    ")\n",
    "\n",
    "\n",
    "last_30days.to_csv(f'data/{canais[0].split(\"@\")[-1]}/last_30days.csv', index=False)\n"
   ]
  }
 ],
 "metadata": {
  "kernelspec": {
   "display_name": "venv",
   "language": "python",
   "name": "python3"
  },
  "language_info": {
   "codemirror_mode": {
    "name": "ipython",
    "version": 3
   },
   "file_extension": ".py",
   "mimetype": "text/x-python",
   "name": "python",
   "nbconvert_exporter": "python",
   "pygments_lexer": "ipython3",
   "version": "3.10.9"
  },
  "papermill": {
   "default_parameters": {},
   "duration": 1103.847932,
   "end_time": "2023-07-24T16:20:45.858000",
   "environment_variables": {},
   "exception": null,
   "input_path": "pegar_dados_youtube.ipynb",
   "output_path": "pegar_dados_youtube.ipynb",
   "parameters": {},
   "start_time": "2023-07-24T16:02:22.010068",
   "version": "2.4.0"
  }
 },
 "nbformat": 4,
 "nbformat_minor": 5
}
