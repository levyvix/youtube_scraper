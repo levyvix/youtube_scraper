{
 "cells": [
  {
   "cell_type": "code",
   "execution_count": 1,
   "id": "635b8866",
   "metadata": {
    "execution": {
     "iopub.execute_input": "2023-10-09T16:43:49.809566Z",
     "iopub.status.busy": "2023-10-09T16:43:49.809566Z",
     "iopub.status.idle": "2023-10-09T16:43:51.449473Z",
     "shell.execute_reply": "2023-10-09T16:43:51.448471Z"
    },
    "papermill": {
     "duration": 1.648865,
     "end_time": "2023-10-09T16:43:51.452471",
     "exception": false,
     "start_time": "2023-10-09T16:43:49.803606",
     "status": "completed"
    },
    "tags": []
   },
   "outputs": [],
   "source": [
    "# %%\n",
    "import re, json, time\n",
    "from selenium import webdriver\n",
    "import os\n",
    "\n",
    "\n",
    "\n",
    "from parsel import Selector\n",
    "\n",
    "import pandas as pd\n",
    "import numpy as np\n"
   ]
  },
  {
   "cell_type": "code",
   "execution_count": 2,
   "id": "f583d579",
   "metadata": {
    "execution": {
     "iopub.execute_input": "2023-10-09T16:43:51.463471Z",
     "iopub.status.busy": "2023-10-09T16:43:51.462471Z",
     "iopub.status.idle": "2023-10-09T16:43:51.513471Z",
     "shell.execute_reply": "2023-10-09T16:43:51.512472Z"
    },
    "papermill": {
     "duration": 0.058999,
     "end_time": "2023-10-09T16:43:51.516470",
     "exception": false,
     "start_time": "2023-10-09T16:43:51.457471",
     "status": "completed"
    },
    "tags": []
   },
   "outputs": [],
   "source": [
    "def scroll_page(url):\n",
    "    # service = Service(EdgeDriverManager().install())\n",
    "\n",
    "    # options = webdriver.EdgeOptions()\n",
    "    # options.add_argument(\"--headless\")\n",
    "    # options.add_argument(\"--lang=en\")\n",
    "    # options.add_argument(\n",
    "    #     \"user-agent=Mozilla/5.0 (Windows NT 10.0; Win64; x64) AppleWebKit/537.36 (KHTML, like Gecko) Edge/104.0.0.0 Safari/537.36\"\n",
    "    # )\n",
    "\n",
    "    driver = webdriver.Edge()\n",
    "    driver.get(url)\n",
    "    driver.implicitly_wait(10)\n",
    "\n",
    "    time.sleep(3)\n",
    "    selector = Selector(driver.page_source)\n",
    "    driver.quit()\n",
    "\n",
    "    return selector\n",
    "\n",
    "\n",
    "def scrape_all_data(selector):\n",
    "    youtube_video_page = []\n",
    "\n",
    "    all_script_tags = selector.css(\"script\").getall()\n",
    "\n",
    "    title = selector.css(\".title .ytd-video-primary-info-renderer::text\").get()\n",
    "\n",
    "    # https://regex101.com/r/gHeLwZ/1\n",
    "    views = int(\n",
    "        re.search(r\"(.*)\\s\", selector.css(\".view-count::text\").get())\n",
    "        .group()\n",
    "        .replace(\",\", \"\")\n",
    "    )\n",
    "\n",
    "    # https://regex101.com/r/9OGwJp/1\n",
    "    likes = int(\n",
    "        re.search(\n",
    "            r\"(.*)\\s\",\n",
    "            selector.css(\n",
    "                \"#top-level-buttons-computed > ytd-toggle-button-renderer:first-child #text::attr(aria-label)\"\n",
    "            ).get(),\n",
    "        )\n",
    "        .group()\n",
    "        .replace(\",\", \"\")\n",
    "    )\n",
    "\n",
    "    date = selector.css(\"#info-strings yt-formatted-string::text\").get()\n",
    "\n",
    "    duration = selector.css(\".ytp-time-duration::text\").get()\n",
    "\n",
    "    # https://regex101.com/r/0JNma3/1\n",
    "    keywords = (\n",
    "        \"\".join(\n",
    "            re.findall(r'\"keywords\":\\[(.*)\\],\"channelId\":\".*\"', str(all_script_tags))\n",
    "        )\n",
    "        .replace('\"', \"\")\n",
    "        .split(\",\")\n",
    "    )\n",
    "\n",
    "    # https://regex101.com/r/9VhH1s/1\n",
    "    thumbnail = re.findall(\n",
    "        r'\\[{\"url\":\"(\\S+)\",\"width\":\\d*,\"height\":\\d*},', str(all_script_tags)\n",
    "    )[0].split('\",')[0]\n",
    "\n",
    "    channel = {\n",
    "        # https://regex101.com/r/xFUzq5/1\n",
    "        \"id\": \"\".join(\n",
    "            re.findall(r'\"channelId\":\"(.*)\",\"isOwnerViewing\"', str(all_script_tags))\n",
    "        ),\n",
    "        \"name\": selector.css(\"#channel-name a::text\").get(),\n",
    "        \"link\": f'https://www.youtube.com{selector.css(\"#channel-name a::attr(href)\").get()}',\n",
    "        \"subscribers\": selector.css(\"#owner-sub-count::text\").get(),\n",
    "        \"thumbnail\": selector.css(\"#img::attr(src)\").get(),\n",
    "    }\n",
    "\n",
    "    description = selector.css(\n",
    "        \".ytd-expandable-video-description-body-renderer span:nth-child(1)::text\"\n",
    "    ).get()\n",
    "\n",
    "    hash_tags = [\n",
    "        {\n",
    "            \"name\": hash_tag.css(\"::text\").get(),\n",
    "            \"link\": f'https://www.youtube.com{hash_tag.css(\"::attr(href)\").get()}',\n",
    "        }\n",
    "        for hash_tag in selector.css(\n",
    "            \".ytd-expandable-video-description-body-renderer a\"\n",
    "        )\n",
    "    ]\n",
    "\n",
    "    # https://regex101.com/r/onRk9j/1\n",
    "    category = \"\".join(\n",
    "        re.findall(r'\"category\":\"(.*)\",\"publishDate\"', str(all_script_tags))\n",
    "    )\n",
    "\n",
    "    comments_amount = int(\n",
    "        selector.css(\"#count .count-text span:nth-child(1)::text\")\n",
    "        .get()\n",
    "        .replace(\",\", \"\")\n",
    "    )\n",
    "\n",
    "    comments = []\n",
    "\n",
    "    for comment in selector.css(\"#contents > ytd-comment-thread-renderer\"):\n",
    "        comments.append(\n",
    "            {\n",
    "                \"author\": comment.css(\"#author-text span::text\").get().strip(),\n",
    "                \"link\": f'https://www.youtube.com{comment.css(\"#author-text::attr(href)\").get()}',\n",
    "                \"date\": comment.css(\".published-time-text a::text\").get(),\n",
    "                \"likes\": comment.css(\"#vote-count-middle::text\").get().strip(),\n",
    "                \"comment\": comment.css(\"#content-text::text\").get(),\n",
    "                \"avatar\": comment.css(\"#author-thumbnail #img::attr(src)\").get(),\n",
    "            }\n",
    "        )\n",
    "\n",
    "    suggested_videos = []\n",
    "\n",
    "    for video in selector.css(\"ytd-compact-video-renderer\"):\n",
    "        suggested_videos.append(\n",
    "            {\n",
    "                \"title\": video.css(\"#video-title::text\").get().strip(),\n",
    "                \"link\": f'https://www.youtube.com{video.css(\"#thumbnail::attr(href)\").get()}',\n",
    "                \"channel_name\": video.css(\"#channel-name #text::text\").get(),\n",
    "                \"date\": video.css(\"#metadata-line span:nth-child(2)::text\").get(),\n",
    "                \"views\": video.css(\"#metadata-line span:nth-child(1)::text\").get(),\n",
    "                \"duration\": video.css(\"#overlays #text::text\").get().strip(),\n",
    "                \"thumbnail\": video.css(\"#thumbnail img::attr(src)\").get(),\n",
    "            }\n",
    "        )\n",
    "\n",
    "    youtube_video_page.append(\n",
    "        {\n",
    "            \"title\": title,\n",
    "            \"views\": views,\n",
    "            \"likes\": likes,\n",
    "            \"date\": date,\n",
    "            \"duration\": duration,\n",
    "            \"channel\": channel,\n",
    "            \"keywords\": keywords,\n",
    "            \"thumbnail\": thumbnail,\n",
    "            \"description\": description,\n",
    "            \"hash_tags\": hash_tags,\n",
    "            \"category\": category,\n",
    "            \"suggested_videos\": suggested_videos,\n",
    "            \"comments_amount\": comments_amount,\n",
    "            \"comments\": comments,\n",
    "        }\n",
    "    )\n",
    "\n",
    "    print(json.dumps(youtube_video_page, indent=2, ensure_ascii=False))\n",
    "\n",
    "\n",
    "def get_info_from_channel(channel_link: str):\n",
    "    driver = webdriver.Edge()\n",
    "\n",
    "    driver.get(channel_link)\n",
    "    driver.maximize_window()\n",
    "\n",
    "    time.sleep(5)\n",
    "\n",
    "    selector = Selector(text=driver.page_source)\n",
    "    driver.quit()\n",
    "\n",
    "    # channel title\n",
    "    channel_title = selector.css(\"#text-container #text::text\").get()\n",
    "\n",
    "    # date joined //*[@id=\"right-column\"]/yt-formatted-string[2]/span[2]\n",
    "    date_joined = selector.css(\n",
    "        \"#right-column > yt-formatted-string:nth-child(2) > span:nth-child(2)::text\"\n",
    "    ).get()\n",
    "\n",
    "    # total views //*[@id=\"right-column\"]/yt-formatted-string[3]\n",
    "\n",
    "    total_views = selector.css(\n",
    "        \"#right-column > yt-formatted-string:nth-child(3)::text\"\n",
    "    ).get()\n",
    "\n",
    "    # total subs //*[@id=\"subscriber-count\"]\n",
    "\n",
    "    total_subs = selector.css(\"#subscriber-count::text\").get()\n",
    "\n",
    "    # total videos //*[@id=\"videos-count\"]/span[1]\n",
    "\n",
    "    total_videos = selector.css(\"#videos-count > span:nth-child(1)::text\").get()\n",
    "\n",
    "    channel_info = {\n",
    "        \"channel_title\": channel_title,\n",
    "        \"date_joined\": date_joined,\n",
    "        \"total_views\": total_views,\n",
    "        \"total_subs\": total_subs,\n",
    "        \"total_videos\": total_videos,\n",
    "    }\n",
    "\n",
    "    print(json.dumps(channel_info, indent=2, ensure_ascii=False))\n",
    "\n",
    "    return pd.DataFrame(channel_info, index=[0])\n",
    "\n",
    "\n",
    "def get_info_from_video(selector):\n",
    "    # title\n",
    "    title = ''.join(selector.xpath('//*[@id=\"title\"]/h1//text()').getall()).strip()\n",
    "\n",
    "    # date\n",
    "    date = selector.css(\"#info-strings yt-formatted-string::text\").get()\n",
    "\n",
    "    # views\n",
    "    views = selector.css(\"span.bold.style-scope.yt-formatted-string::text\").get()\n",
    "\n",
    "    # likes\n",
    "    likes = selector.css(\n",
    "        \"#segmented-like-button > ytd-toggle-button-renderer > yt-button-shape > button::attr(aria-label)\"\n",
    "    ).get()\n",
    "\n",
    "    # comments\n",
    "    comments = selector.css(\"yt-formatted-string::text\").getall()\n",
    "    next_item = None\n",
    "    for i, item in enumerate(comments):\n",
    "        if item == \"Comentários\":\n",
    "            if i < len(comments) - 1:\n",
    "                next_item = comments[i + 1]\n",
    "                break\n",
    "\n",
    "    comments_amount = next_item\n",
    "\n",
    "    # keywords\n",
    "    # all_script_tags = selector.css(\"script\").getall()\n",
    "    # keywords = (\n",
    "    #     \"\".join(\n",
    "    #         re.findall(r'\"keywords\":\\[(.*)\\],\"channelId\":\".*\"', str(all_script_tags))\n",
    "    #     )\n",
    "    #     .replace('\"', \"\")\n",
    "    #     .split(\",\")\n",
    "    # )\n",
    "\n",
    "    print(title, views, likes, date, comments_amount)\n",
    "\n",
    "    try:\n",
    "        likes = re.search(r\"(\\d+)\", likes).group()\n",
    "    except Exception as e:\n",
    "        likes = 0\n",
    "    # views = re.search(r\"(\\d+)\", views).group()\n",
    "\n",
    "    return pd.DataFrame.from_dict(\n",
    "        {\n",
    "            \"title\": [title],\n",
    "            \"views\": [views],\n",
    "            \"likes\": [likes],\n",
    "            \"date\": [date],\n",
    "            \"comments_amount\": [comments_amount],\n",
    "            # \"keywords\": [keywords],\n",
    "        }\n",
    "    )\n",
    "\n",
    "\n",
    "def parse_channel(selector) -> pd.DataFrame:\n",
    "    subscribers = selector.css(\n",
    "        \"#subscriber-count.style-scope.ytd-c4-tabbed-header-renderer::text\"\n",
    "    ).get()\n",
    "\n",
    "    # subscribers = re.search(r\"(\\d+)\", subscribers).group()\n",
    "\n",
    "    # get recent 5 videos\n",
    "    channel_name = (\n",
    "        selector.css(\"div#channel-header-container yt-formatted-string#text::text\")\n",
    "        .get()\n",
    "    )\n",
    "    \n",
    "    if channel_name is None:\n",
    "        channel_name = selector.css(\"div#channel-header-container h1#text::text\").get()\n",
    "        \n",
    "    print(\"Channel name: \", channel_name)\n",
    "\n",
    "    videos = selector.css(\n",
    "        \"div.style-scope.ytd-rich-item-renderer ytd-rich-grid-media div.style-scope.ytd-rich-grid-media a#thumbnail.yt-simple-endpoint.inline-block.style-scope.ytd-thumbnail::attr(href)\"\n",
    "    ).getall()[:5]\n",
    "\n",
    "    u, ind = np.unique(videos, return_index=True)\n",
    "    videos = u[np.argsort(ind)]\n",
    "\n",
    "    df = pd.DataFrame()\n",
    "    for v in videos:\n",
    "        print(\"Video: \", v)\n",
    "\n",
    "        result = scroll_page(f\"https://www.youtube.com{v}\")\n",
    "\n",
    "        info = get_info_from_video(result)\n",
    "        info[\"channel_name\"] = channel_name\n",
    "        info[\"subscribers\"] = subscribers\n",
    "        # print(info)\n",
    "\n",
    "        df = pd.concat([df, info])\n",
    "        # df = df.append(info, ignore_index=True)\n",
    "\n",
    "    print(\"Videos i got: \", len(videos))\n",
    "    return df\n",
    "\n",
    "\n",
    "def parse_top_channel(channel_link: str) -> pd.DataFrame:\n",
    "    from selenium.webdriver.support.ui import WebDriverWait\n",
    "    from selenium.webdriver.support import expected_conditions as EC\n",
    "    from selenium.webdriver.common.by import By\n",
    "\n",
    "    driver = webdriver.Edge()\n",
    "    wait = WebDriverWait(driver, 3)\n",
    "    driver.implicitly_wait(10)\n",
    "\n",
    "    driver.get(channel_link)\n",
    "    driver.maximize_window()\n",
    "\n",
    "    # //*[@id=\"chips\"]/yt-chip-cloud-chip-renderer[2]\n",
    "    # wait for page to load\n",
    "\n",
    "    try:\n",
    "        wait.until(\n",
    "            EC.presence_of_element_located(\n",
    "                (By.XPATH, '//*[@id=\"chips\"]/yt-chip-cloud-chip-renderer[2]')\n",
    "            )\n",
    "        ).click()\n",
    "    except Exception as e:\n",
    "        print(\"Nao possui aba de videos em alta\")\n",
    "        # return empty dataframe\n",
    "        # return pd.DataFrame()\n",
    "\n",
    "    time.sleep(3)\n",
    "    selector = Selector(text=driver.page_source)\n",
    "    driver.quit()\n",
    "\n",
    "    channel_name = (\n",
    "        selector.css(\"div#channel-header-container yt-formatted-string#text::text\")\n",
    "        .get()\n",
    "        .strip()\n",
    "    )\n",
    "\n",
    "    videos = selector.css(\n",
    "        \"div.style-scope.ytd-rich-item-renderer ytd-rich-grid-media div.style-scope.ytd-rich-grid-media a#thumbnail.yt-simple-endpoint.inline-block.style-scope.ytd-thumbnail::attr(href)\"\n",
    "    ).getall()[:5]\n",
    "\n",
    "    u, ind = np.unique(videos, return_index=True)\n",
    "    videos = u[np.argsort(ind)]\n",
    "\n",
    "    df = pd.DataFrame()\n",
    "    for v in videos:\n",
    "        # print(\"Video: \", v)\n",
    "\n",
    "        result = scroll_page(f\"https://www.youtube.com{v}\")\n",
    "\n",
    "        info = get_info_from_video(result)\n",
    "        print(info)\n",
    "        info[\"channel_name\"] = channel_name\n",
    "        # print(info)\n",
    "\n",
    "        df = pd.concat([df, info])\n",
    "        # df = df.append(info, ignore_index=True)\n",
    "\n",
    "    print(\"Videos i got: \", len(videos))\n",
    "    return df\n",
    "\n"
   ]
  },
  {
   "attachments": {},
   "cell_type": "markdown",
   "id": "8832a998",
   "metadata": {
    "papermill": {
     "duration": 0.003,
     "end_time": "2023-10-09T16:43:51.523470",
     "exception": false,
     "start_time": "2023-10-09T16:43:51.520470",
     "status": "completed"
    },
    "tags": []
   },
   "source": [
    "Pegar dados"
   ]
  },
  {
   "cell_type": "code",
   "execution_count": 3,
   "id": "3846da54",
   "metadata": {
    "execution": {
     "iopub.execute_input": "2023-10-09T16:43:51.533470Z",
     "iopub.status.busy": "2023-10-09T16:43:51.532470Z",
     "iopub.status.idle": "2023-10-09T16:59:53.054551Z",
     "shell.execute_reply": "2023-10-09T16:59:53.050553Z"
    },
    "papermill": {
     "duration": 961.535078,
     "end_time": "2023-10-09T16:59:53.062548",
     "exception": false,
     "start_time": "2023-10-09T16:43:51.527470",
     "status": "completed"
    },
    "tags": []
   },
   "outputs": [
    {
     "name": "stdout",
     "output_type": "stream",
     "text": [
      "Channel name:  Farmácias Unipreço\n",
      "Video:  /watch?v=J6YXhYeWfzk\n"
     ]
    },
    {
     "name": "stdout",
     "output_type": "stream",
     "text": [
      "Álbum Oficial Brasileirão 2023 149 visualizações Marque este vídeo como \"Gostei\" com mais 1 pessoa 11 de set. de 2023 None\n",
      "Video:  /watch?v=AP_GKTup0Ho\n"
     ]
    },
    {
     "name": "stdout",
     "output_type": "stream",
     "text": [
      "A MAIOR FARMÁCIA DE PALMEIRA - FARMÁCIAS UNIPREÇO 125 visualizações Marque este vídeo como \"Gostei\" com mais 1 pessoa 2 de dez. de 2022 A MAIOR FARMÁCIA DE PALMEIRA - FARMÁCIAS UNIPREÇO\n",
      "Video:  /watch?v=Nf961mHQGh8\n"
     ]
    },
    {
     "name": "stdout",
     "output_type": "stream",
     "text": [
      "CHEGAMOS UNIPREÇO SÍTIO CERCADO 51 mil visualizações Marque este vídeo como \"Gostei\" com mais 0 pessoa Estreou em 20 de set. de 2022 None\n",
      "Video:  /watch?v=9XYm471kIak\n"
     ]
    },
    {
     "name": "stdout",
     "output_type": "stream",
     "text": [
      "Surpresa em comemoração aos 11 anos de Aniversário Unipreço 25 visualizações Marque este vídeo como \"Gostei\" com mais 0 pessoa Estreou em 13 de set. de 2022 None\n",
      "Video:  /watch?v=NkQ5JbuE5kU\n"
     ]
    },
    {
     "name": "stdout",
     "output_type": "stream",
     "text": [
      "Comemoração 11 anos de Aniversário Farmácias Unipreço 1,4 mil visualizações Marque este vídeo como \"Gostei\" com mais 11 pessoas Estreou em 1 de set. de 2022 None\n",
      "Videos i got:  5\n"
     ]
    },
    {
     "name": "stdout",
     "output_type": "stream",
     "text": [
      "CHEGAMOS UNIPREÇO SÍTIO CERCADO 51 mil visualizações Marque este vídeo como \"Gostei\" com mais 0 pessoa Estreou em 20 de set. de 2022 None\n",
      "                             title                 views likes  \\\n",
      "0  CHEGAMOS UNIPREÇO SÍTIO CERCADO  51 mil visualizações     0   \n",
      "\n",
      "                            date comments_amount  \n",
      "0  Estreou em 20 de set. de 2022            None  \n"
     ]
    },
    {
     "name": "stdout",
     "output_type": "stream",
     "text": [
      "Inauguração Mega Store Paranaguá 22 mil visualizações Marque este vídeo como \"Gostei\" com mais 5 pessoas 1 de set. de 2021 None\n",
      "                              title                 views likes  \\\n",
      "0  Inauguração Mega Store Paranaguá  22 mil visualizações     5   \n",
      "\n",
      "                date comments_amount  \n",
      "0  1 de set. de 2021            None  \n"
     ]
    },
    {
     "name": "stdout",
     "output_type": "stream",
     "text": [
      "Inauguração  Farmácias Unipreço Sitio Cercado 17 mil visualizações Marque este vídeo como \"Gostei\" com mais 4 pessoas 28 de jan. de 2022 Transcrição\n",
      "                                           title                 views likes  \\\n",
      "0  Inauguração  Farmácias Unipreço Sitio Cercado  17 mil visualizações     4   \n",
      "\n",
      "                 date comments_amount  \n",
      "0  28 de jan. de 2022     Transcrição  \n"
     ]
    },
    {
     "name": "stdout",
     "output_type": "stream",
     "text": [
      "Polivitamínico Politabs Femme - Farmácias Unipreço 13 mil visualizações Marque este vídeo como \"Gostei\" com mais 91 pessoas 19 de ago. de 2016 None\n",
      "                                               title                 views  \\\n",
      "0  Polivitamínico Politabs Femme - Farmácias Unip...  13 mil visualizações   \n",
      "\n",
      "  likes                date comments_amount  \n",
      "0    91  19 de ago. de 2016            None  \n"
     ]
    },
    {
     "name": "stdout",
     "output_type": "stream",
     "text": [
      "Inauguração Farmácias Unipreço IPO Água Verde 12 mil visualizações Marque este vídeo como \"Gostei\" com mais 2 pessoas 28 de jan. de 2022 Transcrição\n",
      "                                           title                 views likes  \\\n",
      "0  Inauguração Farmácias Unipreço IPO Água Verde  12 mil visualizações     2   \n",
      "\n",
      "                 date comments_amount  \n",
      "0  28 de jan. de 2022     Transcrição  \n",
      "Videos i got:  5\n"
     ]
    },
    {
     "name": "stdout",
     "output_type": "stream",
     "text": [
      "{\n",
      "  \"channel_title\": \"Farmácias Unipreço\",\n",
      "  \"date_joined\": \"16 de nov. de 2011\",\n",
      "  \"total_views\": \"196.650 visualizações\",\n",
      "  \"total_subs\": \"242 inscritos\",\n",
      "  \"total_videos\": \"79\"\n",
      "}\n"
     ]
    },
    {
     "name": "stdout",
     "output_type": "stream",
     "text": [
      "Channel name:  Farmácias Nissei\n",
      "Video:  /watch?v=wMvsLlIHAig\n"
     ]
    },
    {
     "name": "stdout",
     "output_type": "stream",
     "text": [
      "Nos Caminhos do Verão - Farmácias Nissei | EP. 12 - Curitiba 174 visualizações Marque este vídeo como \"Gostei\" com mais 4 pessoas 27 de fev. de 2023 Transcrição\n",
      "Video:  /watch?v=ixRvZzE7C34\n"
     ]
    },
    {
     "name": "stdout",
     "output_type": "stream",
     "text": [
      "Nos Caminhos do Verão - Farmácias Nissei | EP. 11 - Matinhos 81 visualizações Marque este vídeo como \"Gostei\" com mais 2 pessoas 24 de fev. de 2023 Transcrição\n",
      "Video:  /watch?v=en3GlJ_Ioz4\n"
     ]
    },
    {
     "name": "stdout",
     "output_type": "stream",
     "text": [
      "Nos Caminhos do Verão - Farmácias Nissei | EP. 10 - Joinville 49 visualizações Marque este vídeo como \"Gostei\" com mais 2 pessoas 23 de fev. de 2023 Transcrição\n",
      "Video:  /watch?v=UwWCvbTjJhw\n"
     ]
    },
    {
     "name": "stdout",
     "output_type": "stream",
     "text": [
      "Nos Caminhos do Verão - Farmácias Nissei | EP. 09 - Balneário Camboriú 47 visualizações Marque este vídeo como \"Gostei\" com mais 1 pessoa 23 de fev. de 2023 Transcrição\n",
      "Video:  /watch?v=CNP3UwJc00Q\n"
     ]
    },
    {
     "name": "stdout",
     "output_type": "stream",
     "text": [
      "Nos Caminhos do Verão - Farmácias Nissei | EP. 08 - Ponta Grossa 32 visualizações Marque este vídeo como \"Gostei\" com mais 1 pessoa 22 de fev. de 2023 Transcrição\n",
      "Videos i got:  5\n"
     ]
    },
    {
     "name": "stdout",
     "output_type": "stream",
     "text": [
      "Nissei - Presente em sua vida | Episódio 02 - Josiane e Ana Flávia 286 mil visualizações Marque este vídeo como \"Gostei\" com mais 29 pessoas 12 de jun. de 2018 2\n",
      "                                               title                  views  \\\n",
      "0  Nissei - Presente em sua vida | Episódio 02 - ...  286 mil visualizações   \n",
      "\n",
      "  likes                date comments_amount  \n",
      "0    29  12 de jun. de 2018               2  \n"
     ]
    },
    {
     "name": "stdout",
     "output_type": "stream",
     "text": [
      "Nissei - Presente em sua vida | Episódio 03 - Eliane Dos Santos 269 mil visualizações Marque este vídeo como \"Gostei\" com mais 20 pessoas 19 de jun. de 2018 1\n",
      "                                               title                  views  \\\n",
      "0  Nissei - Presente em sua vida | Episódio 03 - ...  269 mil visualizações   \n",
      "\n",
      "  likes                date comments_amount  \n",
      "0    20  19 de jun. de 2018               1  \n"
     ]
    },
    {
     "name": "stdout",
     "output_type": "stream",
     "text": [
      "Nissei - Presente em sua vida | Episódio 01 - Dona Conceição 264 mil visualizações Marque este vídeo como \"Gostei\" com mais 23 pessoas 7 de jun. de 2018 Transcrição\n",
      "                                               title                  views  \\\n",
      "0  Nissei - Presente em sua vida | Episódio 01 - ...  264 mil visualizações   \n",
      "\n",
      "  likes               date comments_amount  \n",
      "0    23  7 de jun. de 2018     Transcrição  \n"
     ]
    },
    {
     "name": "stdout",
     "output_type": "stream",
     "text": [
      "Nissei - Presente em sua vida | Episódio 04 - Fernanda Sachet 243 mil visualizações Marque este vídeo como \"Gostei\" com mais 19 pessoas 25 de jun. de 2018 2\n",
      "                                               title                  views  \\\n",
      "0  Nissei - Presente em sua vida | Episódio 04 - ...  243 mil visualizações   \n",
      "\n",
      "  likes                date comments_amount  \n",
      "0    19  25 de jun. de 2018               2  \n"
     ]
    },
    {
     "name": "stdout",
     "output_type": "stream",
     "text": [
      "Farmácias Nissei | Mais inovação e comodidade para você 102 mil visualizações Marque este vídeo como \"Gostei\" com mais 21 pessoas 27 de abr. de 2018 1\n",
      "                                               title                  views  \\\n",
      "0  Farmácias Nissei | Mais inovação e comodidade ...  102 mil visualizações   \n",
      "\n",
      "  likes                date comments_amount  \n",
      "0    21  27 de abr. de 2018               1  \n",
      "Videos i got:  5\n"
     ]
    },
    {
     "name": "stdout",
     "output_type": "stream",
     "text": [
      "{\n",
      "  \"channel_title\": \"Farmácias Nissei\",\n",
      "  \"date_joined\": \"22 de jan. de 2013\",\n",
      "  \"total_views\": \"1.317.082 visualizações\",\n",
      "  \"total_subs\": \"1,16 mil inscritos\",\n",
      "  \"total_videos\": \"169\"\n",
      "}\n"
     ]
    },
    {
     "name": "stdout",
     "output_type": "stream",
     "text": [
      "Channel name:  Farmácias Pague Menos\n",
      "Video:  /watch?v=hMfoulmEME8\n"
     ]
    },
    {
     "name": "stdout",
     "output_type": "stream",
     "text": [
      "Como As CRIANÇAS Enxergam O MUNDO? 28 visualizações Marque este vídeo como \"Gostei\" com mais 5 pessoas 9 de out. de 2023 Transcrição\n",
      "Video:  /watch?v=7Rpcpc5Lmww\n"
     ]
    },
    {
     "name": "stdout",
     "output_type": "stream",
     "text": [
      "SAIBA TUDO Sobre O BEACH TENNIS 1,5 mil visualizações Marque este vídeo como \"Gostei\" com mais 6 pessoas 6 de out. de 2023 Transcrição\n",
      "Video:  /watch?v=AcThVYhxpOY\n"
     ]
    },
    {
     "name": "stdout",
     "output_type": "stream",
     "text": [
      "Tirei A Mama, E Agora? Quais Os IMPACTOS PSICOLÓGICOS Da MASTECTOMIA? 122 visualizações Marque este vídeo como \"Gostei\" com mais 6 pessoas 5 de out. de 2023 Transcrição\n",
      "Video:  /watch?v=D4og-c0457U\n"
     ]
    },
    {
     "name": "stdout",
     "output_type": "stream",
     "text": [
      "Sintomas de Alerta do DIABETES 143 visualizações Marque este vídeo como \"Gostei\" com mais 10 pessoas 3 de out. de 2023 Transcrição\n",
      "Video:  /watch?v=nlsvylXAgDE\n"
     ]
    },
    {
     "name": "stdout",
     "output_type": "stream",
     "text": [
      "Como A MASTECTOMIA Afeta A AUTOESTIMA E A SEXUALIDADE 157 visualizações Marque este vídeo como \"Gostei\" com mais 9 pessoas 2 de out. de 2023 1\n",
      "Videos i got:  5\n"
     ]
    },
    {
     "name": "stdout",
     "output_type": "stream",
     "text": [
      "Tudo sobre menstruação - by Farmácias Pague Menos 2,3 mi de visualizações Marque este vídeo como \"Gostei\" com mais 51.559 pessoas 9 de fev. de 2019 1,6 mil\n",
      "                                               title                    views  \\\n",
      "0  Tudo sobre menstruação - by Farmácias Pague Menos  2,3 mi de visualizações   \n",
      "\n",
      "  likes               date comments_amount  \n",
      "0    51  9 de fev. de 2019         1,6 mil  \n"
     ]
    },
    {
     "name": "stdout",
     "output_type": "stream",
     "text": [
      "Procure as amarelinhas nas lojas e economize ainda mais. 1,8 mi de visualizações Marque este vídeo como \"Gostei\" com mais 92 pessoas 3 de abr. de 2019 1\n",
      "                                               title                    views  \\\n",
      "0  Procure as amarelinhas nas lojas e economize a...  1,8 mi de visualizações   \n",
      "\n",
      "  likes               date comments_amount  \n",
      "0    92  3 de abr. de 2019               1  \n"
     ]
    },
    {
     "name": "stdout",
     "output_type": "stream",
     "text": [
      "#FiqueEmCasaFiqueBem 1,6 mi de visualizações Marque este vídeo como \"Gostei\" com mais 58 pessoas 9 de abr. de 2020 1\n",
      "                  title                    views likes               date  \\\n",
      "0  #FiqueEmCasaFiqueBem  1,6 mi de visualizações    58  9 de abr. de 2020   \n",
      "\n",
      "  comments_amount  \n",
      "0               1  \n"
     ]
    },
    {
     "name": "stdout",
     "output_type": "stream",
     "text": [
      "SIMONY Fala Como Descobriu o Câncer De Intestino no PodSempre 1,5 mi de visualizações Marque este vídeo como \"Gostei\" com mais 21.023 pessoas 30 de mar. de 2023 1,4 mil\n",
      "                                               title                    views  \\\n",
      "0  SIMONY Fala Como Descobriu o Câncer De Intesti...  1,5 mi de visualizações   \n",
      "\n",
      "  likes                date comments_amount  \n",
      "0    21  30 de mar. de 2023         1,4 mil  \n"
     ]
    },
    {
     "name": "stdout",
     "output_type": "stream",
     "text": [
      "Onde você vai estar nos próximos passos do seu filho? 1,1 mi de visualizações Marque este vídeo como \"Gostei\" com mais 147 pessoas 9 de jan. de 2017 None\n",
      "                                               title                    views  \\\n",
      "0  Onde você vai estar nos próximos passos do seu...  1,1 mi de visualizações   \n",
      "\n",
      "  likes               date comments_amount  \n",
      "0   147  9 de jan. de 2017            None  \n",
      "Videos i got:  5\n"
     ]
    },
    {
     "name": "stdout",
     "output_type": "stream",
     "text": [
      "{\n",
      "  \"channel_title\": \"Farmácias Pague Menos\",\n",
      "  \"date_joined\": \"29 de nov. de 2013\",\n",
      "  \"total_views\": \"53.283.388 visualizações\",\n",
      "  \"total_subs\": \"248 mil inscritos\",\n",
      "  \"total_videos\": \"7,5 mil\"\n",
      "}\n"
     ]
    },
    {
     "name": "stdout",
     "output_type": "stream",
     "text": [
      "Channel name:  Drogaria São Paulo\n",
      "Video:  /watch?v=O2X_uHcn-_I\n"
     ]
    },
    {
     "name": "stdout",
     "output_type": "stream",
     "text": [
      "Festival do Bebê na Drogaria São Paulo 147 visualizações Marque este vídeo como \"Gostei\" com mais 3 pessoas 1 de out. de 2023 Transcrição\n",
      "Video:  /watch?v=7ALoxUb6Vr4\n"
     ]
    },
    {
     "name": "stdout",
     "output_type": "stream",
     "text": [
      "Como fazer reanimação cardíaca? 45 visualizações Marque este vídeo como \"Gostei\" com mais 2 pessoas 27 de set. de 2023 Transcrição\n",
      "Video:  /watch?v=gVYn8Bv0T2w\n"
     ]
    },
    {
     "name": "stdout",
     "output_type": "stream",
     "text": [
      "Drauziocast - Um papo sobre infarto em jovens 48 visualizações Marque este vídeo como \"Gostei\" com mais 5 pessoas 22 de set. de 2023 Transcrição\n",
      "Video:  /watch?v=_0pATibE-EQ\n"
     ]
    },
    {
     "name": "stdout",
     "output_type": "stream",
     "text": [
      "ANIVERSÁRIO PREMIADO DROGARIA SÃO PAULO 511 visualizações Marque este vídeo como \"Gostei\" com mais 7 pessoas 5 de set. de 2023 3\n",
      "Video:  /watch?v=HqUQ5xUYy4w\n"
     ]
    },
    {
     "name": "stdout",
     "output_type": "stream",
     "text": [
      "Acnes  em adultos. 86 visualizações Marque este vídeo como \"Gostei\" com mais 3 pessoas 23 de ago. de 2023 None\n",
      "Videos i got:  5\n"
     ]
    },
    {
     "name": "stdout",
     "output_type": "stream",
     "text": [
      "Começou a Temporada da Beleza na Drogaria São Paulo! 770 mil visualizações Marque este vídeo como \"Gostei\" com mais 3 pessoas 1 de out. de 2022 Transcrição\n",
      "                                               title                  views  \\\n",
      "0  Começou a Temporada da Beleza na Drogaria São ...  770 mil visualizações   \n",
      "\n",
      "  likes               date comments_amount  \n",
      "0     3  1 de out. de 2022     Transcrição  \n"
     ]
    },
    {
     "name": "stdout",
     "output_type": "stream",
     "text": [
      "Dr. Drauzio responde: Otite 770 mil visualizações Marque este vídeo como \"Gostei\" com mais 21.969 pessoas 23 de dez. de 2019 1,9 mil\n",
      "                         title                  views likes  \\\n",
      "0  Dr. Drauzio responde: Otite  770 mil visualizações    21   \n",
      "\n",
      "                 date comments_amount  \n",
      "0  23 de dez. de 2019         1,9 mil  \n"
     ]
    },
    {
     "name": "stdout",
     "output_type": "stream",
     "text": [
      "Drauzio Varella - Dicas Práticas - Como medir sua pressão 699 mil visualizações Marque este vídeo como \"Gostei\" com mais 13.577 pessoas 11 de abr. de 2018 143\n",
      "                                               title                  views  \\\n",
      "0  Drauzio Varella - Dicas Práticas - Como medir ...  699 mil visualizações   \n",
      "\n",
      "  likes                date comments_amount  \n",
      "0    13  11 de abr. de 2018             143  \n"
     ]
    },
    {
     "name": "stdout",
     "output_type": "stream",
     "text": [
      "Aniversário Drogaria São Paulo 685 mil visualizações Marque este vídeo como \"Gostei\" com mais 7 pessoas 1 de set. de 2022 2\n",
      "                            title                  views likes  \\\n",
      "0  Aniversário Drogaria São Paulo  685 mil visualizações     7   \n",
      "\n",
      "                date comments_amount  \n",
      "0  1 de set. de 2022               2  \n"
     ]
    },
    {
     "name": "stdout",
     "output_type": "stream",
     "text": [
      "Diabetes - dr. Drauzio Varella 535 mil visualizações Marque este vídeo como \"Gostei\" com mais 22 pessoas 6 de nov. de 2018 1\n",
      "                            title                  views likes  \\\n",
      "0  Diabetes - dr. Drauzio Varella  535 mil visualizações    22   \n",
      "\n",
      "                date comments_amount  \n",
      "0  6 de nov. de 2018               1  \n",
      "Videos i got:  5\n"
     ]
    },
    {
     "name": "stdout",
     "output_type": "stream",
     "text": [
      "{\n",
      "  \"channel_title\": \"Drogaria São Paulo\",\n",
      "  \"date_joined\": \"1 de out. de 2013\",\n",
      "  \"total_views\": \"8.302.275 visualizações\",\n",
      "  \"total_subs\": \"25,6 mil inscritos\",\n",
      "  \"total_videos\": \"161\"\n",
      "}\n"
     ]
    },
    {
     "name": "stdout",
     "output_type": "stream",
     "text": [
      "Channel name:  Panvel Farmácias\n",
      "Video:  /watch?v=Uq9sB5vz0dU\n"
     ]
    },
    {
     "name": "stdout",
     "output_type": "stream",
     "text": [
      "Panvel 50 Anos 314 visualizações Marque este vídeo como \"Gostei\" com mais 7 pessoas 19 de jun. de 2023 Panvel 50 Anos\n",
      "Video:  /watch?v=pA2XUnMQw7I\n"
     ]
    },
    {
     "name": "stdout",
     "output_type": "stream",
     "text": [
      "Panvel | Fica Tudo Bem com Presentes da Panvel 591 visualizações Marque este vídeo como \"Gostei\" com mais 6 pessoas 24 de abr. de 2023 None\n",
      "Video:  /watch?v=B5FenBlhZx0\n"
     ]
    },
    {
     "name": "stdout",
     "output_type": "stream",
     "text": [
      "Panvel | Fica Tudo Bem Quando Você Tem Com Quem Contar 12 mil visualizações Marque este vídeo como \"Gostei\" com mais 7 pessoas 24 de abr. de 2023 None\n",
      "Video:  /watch?v=_A4heu3t-YI\n"
     ]
    },
    {
     "name": "stdout",
     "output_type": "stream",
     "text": [
      "Panvel | Fica Tudo Bem Quando Você Cuida da Sua Saúde 284 visualizações Marque este vídeo como \"Gostei\" com mais 2 pessoas 24 de abr. de 2023 None\n",
      "Video:  /watch?v=PZIkDCJeves\n"
     ]
    },
    {
     "name": "stdout",
     "output_type": "stream",
     "text": [
      "Panvel | Fica Tudo Bem Do Seu Jeito 408 visualizações Marque este vídeo como \"Gostei\" com mais 3 pessoas 24 de abr. de 2023 None\n",
      "Videos i got:  5\n"
     ]
    },
    {
     "name": "stdout",
     "output_type": "stream",
     "text": [
      "Natal Panvel - Bem você, bem Natal. 4,7 mi de visualizações Marque este vídeo como \"Gostei\" com mais 457 pessoas 2 de dez. de 2020 None\n",
      "                                 title                    views likes  \\\n",
      "0  Natal Panvel - Bem você, bem Natal.  4,7 mi de visualizações   457   \n",
      "\n",
      "                date comments_amount  \n",
      "0  2 de dez. de 2020            None  \n"
     ]
    },
    {
     "name": "stdout",
     "output_type": "stream",
     "text": [
      "Panvel | Feliz Dezembro Novo 4,7 mi de visualizações Marque este vídeo como \"Gostei\" com mais 552 pessoas 3 de dez. de 2018 19\n",
      "                          title                    views likes  \\\n",
      "0  Panvel | Feliz Dezembro Novo  4,7 mi de visualizações   552   \n",
      "\n",
      "                date comments_amount  \n",
      "0  3 de dez. de 2018              19  \n"
     ]
    },
    {
     "name": "stdout",
     "output_type": "stream",
     "text": [
      "A História de Sofia - Filme da Panvel 2,6 mi de visualizações Marque este vídeo como \"Gostei\" com mais 20.061 pessoas 3 de out. de 2012 1,1 mil\n",
      "                                   title                    views likes  \\\n",
      "0  A História de Sofia - Filme da Panvel  2,6 mi de visualizações    20   \n",
      "\n",
      "                date comments_amount  \n",
      "0  3 de out. de 2012         1,1 mil  \n"
     ]
    },
    {
     "name": "stdout",
     "output_type": "stream",
     "text": [
      "Natal Panvel 2014 1,7 mi de visualizações Marque este vídeo como \"Gostei\" com mais 199 pessoas 1 de dez. de 2014 5\n",
      "               title                    views likes               date  \\\n",
      "0  Natal Panvel 2014  1,7 mi de visualizações   199  1 de dez. de 2014   \n",
      "\n",
      "  comments_amount  \n",
      "0               5  \n"
     ]
    },
    {
     "name": "stdout",
     "output_type": "stream",
     "text": [
      "Você Bem Digital 1,6 mi de visualizações Marque este vídeo como \"Gostei\" com mais 11.304 pessoas 1 de set. de 2020 2\n",
      "              title                    views likes               date  \\\n",
      "0  Você Bem Digital  1,6 mi de visualizações    11  1 de set. de 2020   \n",
      "\n",
      "  comments_amount  \n",
      "0               2  \n",
      "Videos i got:  5\n"
     ]
    },
    {
     "name": "stdout",
     "output_type": "stream",
     "text": [
      "{\n",
      "  \"channel_title\": \"Panvel Farmácias\",\n",
      "  \"date_joined\": \"8 de abr. de 2009\",\n",
      "  \"total_views\": \"22.673.817 visualizações\",\n",
      "  \"total_subs\": \"9,88 mil inscritos\",\n",
      "  \"total_videos\": \"106\"\n",
      "}\n"
     ]
    }
   ],
   "source": [
    "\n",
    "# %%\n",
    "with open(\"canais.txt\", \"r\") as f:\n",
    "    # read each line as a item in a list and remove the \\n\n",
    "    canais = [line.strip() for line in f.readlines()]\n",
    "\n",
    "base_path = f\"./data/{canais[0].split('@')[-1]}/\"\n",
    "\n",
    "df = pd.DataFrame()\n",
    "df_top = pd.DataFrame()\n",
    "df_lifetime = pd.DataFrame()\n",
    "for ch in canais:\n",
    "    # recent videos\n",
    "    result = scroll_page(ch + \"/videos\")\n",
    "    df_channel = parse_channel(result)\n",
    "    df = pd.concat([df, df_channel])\n",
    "\n",
    "    # top videos\n",
    "    df_top_channel = parse_top_channel(ch + \"/videos\")\n",
    "    df_top = pd.concat([df_top, df_top_channel])\n",
    "\n",
    "    # lifetime info\n",
    "    df_lifetime_channel = get_info_from_channel(ch + \"/about\")\n",
    "    df_lifetime = pd.concat([df_lifetime, df_lifetime_channel])\n",
    "\n",
    "\n",
    "os.makedirs(base_path, exist_ok=True)\n",
    "\n",
    "df.to_csv(base_path + \"videos.csv\", index=False)\n",
    "df_top.to_csv(base_path + \"top_videos.csv\", index=False)\n",
    "df_lifetime.to_csv(base_path + \"lifetime.csv\", index=False)\n"
   ]
  },
  {
   "attachments": {},
   "cell_type": "markdown",
   "id": "ec517bf2",
   "metadata": {
    "papermill": {
     "duration": 0.010003,
     "end_time": "2023-10-09T16:59:53.087552",
     "exception": false,
     "start_time": "2023-10-09T16:59:53.077549",
     "status": "completed"
    },
    "tags": []
   },
   "source": [
    "last 30 days"
   ]
  },
  {
   "cell_type": "code",
   "execution_count": 4,
   "id": "e87f972f",
   "metadata": {
    "execution": {
     "iopub.execute_input": "2023-10-09T16:59:53.115552Z",
     "iopub.status.busy": "2023-10-09T16:59:53.114551Z",
     "iopub.status.idle": "2023-10-09T17:01:28.393812Z",
     "shell.execute_reply": "2023-10-09T17:01:28.389857Z"
    },
    "papermill": {
     "duration": 95.308254,
     "end_time": "2023-10-09T17:01:28.404806",
     "exception": false,
     "start_time": "2023-10-09T16:59:53.096552",
     "status": "completed"
    },
    "tags": []
   },
   "outputs": [
    {
     "name": "stdout",
     "output_type": "stream",
     "text": [
      "['@farmacias.unipreco', '@farmaciasnisseioficial', '@paguemenosbr', '@drogariasaopaulo1427', '@panvelfarmacias']\n"
     ]
    }
   ],
   "source": [
    "\n",
    "# read channel IDs\n",
    "\n",
    "with open(\"canais.txt\", \"r\") as f:\n",
    "    canais = f.readlines()\n",
    "\n",
    "\n",
    "canais = [c.strip() for c in canais]\n",
    "# take only the string after the last slash\n",
    "canais = [c.split(\"/\")[-1] for c in canais]\n",
    "\n",
    "print(canais)\n",
    "\n",
    "base_url = \"https://socialblade.com/youtube/channel/\"\n",
    "\n",
    "social_blade_data = []\n",
    "for c in canais:\n",
    "    response = scroll_page(base_url + c)\n",
    "\n",
    "    # last 30 days views #socialblade-user-content > div:nth-child(23) > div:nth-child(3) > span\n",
    "    views = response.css(\n",
    "        \"#socialblade-user-content > div:nth-child(23) > div:nth-child(3) > span::text\"\n",
    "    ).get()\n",
    "    subs = response.css(\n",
    "        \"#socialblade-user-content > div:nth-child(23) > div:nth-child(2) > span::text\"\n",
    "    ).get()\n",
    "\n",
    "    if views is None or subs is None:\n",
    "        views = response.css(\n",
    "            \"#socialblade-user-content > div:nth-child(16) > div:nth-child(3) > span::text\"\n",
    "        ).get()\n",
    "        subs = response.css(\n",
    "            \"#socialblade-user-content > div:nth-child(16) > div:nth-child(2) > span::text\"\n",
    "        ).get()\n",
    "\n",
    "    social_blade_data.append({\"Channel\": c, \"views\": views, \"subs\": subs})\n",
    "\n",
    "last_30days = pd.DataFrame(social_blade_data)\n",
    "last_30days = last_30days.fillna(\"0\")\n",
    "\n",
    "last_30days.to_parquet(f'data/{canais[0].split(\"@\")[-1]}/last_30_days.parquet', index=False)"
   ]
  }
 ],
 "metadata": {
  "kernelspec": {
   "display_name": "venv",
   "language": "python",
   "name": "python3"
  },
  "language_info": {
   "codemirror_mode": {
    "name": "ipython",
    "version": 3
   },
   "file_extension": ".py",
   "mimetype": "text/x-python",
   "name": "python",
   "nbconvert_exporter": "python",
   "pygments_lexer": "ipython3",
   "version": "3.10.9"
  },
  "papermill": {
   "default_parameters": {},
   "duration": 1063.455059,
   "end_time": "2023-10-09T17:01:29.023914",
   "environment_variables": {},
   "exception": null,
   "input_path": "pegar_dados_youtube.ipynb",
   "output_path": "pegar_dados_youtube.ipynb",
   "parameters": {},
   "start_time": "2023-10-09T16:43:45.568855",
   "version": "2.4.0"
  }
 },
 "nbformat": 4,
 "nbformat_minor": 5
}