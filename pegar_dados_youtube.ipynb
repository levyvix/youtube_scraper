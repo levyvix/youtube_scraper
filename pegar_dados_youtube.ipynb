{
 "cells": [
  {
   "cell_type": "code",
   "execution_count": 1,
   "id": "635b8866",
   "metadata": {
    "execution": {
     "iopub.execute_input": "2023-08-29T18:02:14.271834Z",
     "iopub.status.busy": "2023-08-29T18:02:14.271834Z",
     "iopub.status.idle": "2023-08-29T18:02:15.356806Z",
     "shell.execute_reply": "2023-08-29T18:02:15.355825Z"
    },
    "papermill": {
     "duration": 1.093987,
     "end_time": "2023-08-29T18:02:15.359827",
     "exception": false,
     "start_time": "2023-08-29T18:02:14.265840",
     "status": "completed"
    },
    "tags": []
   },
   "outputs": [],
   "source": [
    "# %%\n",
    "import re, json, time\n",
    "from selenium import webdriver\n",
    "import os\n",
    "\n",
    "\n",
    "\n",
    "from parsel import Selector\n",
    "\n",
    "import pandas as pd\n",
    "import numpy as np\n"
   ]
  },
  {
   "cell_type": "code",
   "execution_count": 2,
   "id": "f583d579",
   "metadata": {
    "execution": {
     "iopub.execute_input": "2023-08-29T18:02:15.369801Z",
     "iopub.status.busy": "2023-08-29T18:02:15.369801Z",
     "iopub.status.idle": "2023-08-29T18:02:15.418801Z",
     "shell.execute_reply": "2023-08-29T18:02:15.417800Z"
    },
    "papermill": {
     "duration": 0.058026,
     "end_time": "2023-08-29T18:02:15.421830",
     "exception": false,
     "start_time": "2023-08-29T18:02:15.363804",
     "status": "completed"
    },
    "tags": []
   },
   "outputs": [],
   "source": [
    "def scroll_page(url):\n",
    "    # service = Service(EdgeDriverManager().install())\n",
    "\n",
    "    # options = webdriver.EdgeOptions()\n",
    "    # options.add_argument(\"--headless\")\n",
    "    # options.add_argument(\"--lang=en\")\n",
    "    # options.add_argument(\n",
    "    #     \"user-agent=Mozilla/5.0 (Windows NT 10.0; Win64; x64) AppleWebKit/537.36 (KHTML, like Gecko) Edge/104.0.0.0 Safari/537.36\"\n",
    "    # )\n",
    "\n",
    "    driver = webdriver.Edge()\n",
    "    driver.get(url)\n",
    "    driver.implicitly_wait(10)\n",
    "\n",
    "    time.sleep(3)\n",
    "    selector = Selector(driver.page_source)\n",
    "    driver.quit()\n",
    "\n",
    "    return selector\n",
    "\n",
    "\n",
    "def scrape_all_data(selector):\n",
    "    youtube_video_page = []\n",
    "\n",
    "    all_script_tags = selector.css(\"script\").getall()\n",
    "\n",
    "    title = selector.css(\".title .ytd-video-primary-info-renderer::text\").get()\n",
    "\n",
    "    # https://regex101.com/r/gHeLwZ/1\n",
    "    views = int(\n",
    "        re.search(r\"(.*)\\s\", selector.css(\".view-count::text\").get())\n",
    "        .group()\n",
    "        .replace(\",\", \"\")\n",
    "    )\n",
    "\n",
    "    # https://regex101.com/r/9OGwJp/1\n",
    "    likes = int(\n",
    "        re.search(\n",
    "            r\"(.*)\\s\",\n",
    "            selector.css(\n",
    "                \"#top-level-buttons-computed > ytd-toggle-button-renderer:first-child #text::attr(aria-label)\"\n",
    "            ).get(),\n",
    "        )\n",
    "        .group()\n",
    "        .replace(\",\", \"\")\n",
    "    )\n",
    "\n",
    "    date = selector.css(\"#info-strings yt-formatted-string::text\").get()\n",
    "\n",
    "    duration = selector.css(\".ytp-time-duration::text\").get()\n",
    "\n",
    "    # https://regex101.com/r/0JNma3/1\n",
    "    keywords = (\n",
    "        \"\".join(\n",
    "            re.findall(r'\"keywords\":\\[(.*)\\],\"channelId\":\".*\"', str(all_script_tags))\n",
    "        )\n",
    "        .replace('\"', \"\")\n",
    "        .split(\",\")\n",
    "    )\n",
    "\n",
    "    # https://regex101.com/r/9VhH1s/1\n",
    "    thumbnail = re.findall(\n",
    "        r'\\[{\"url\":\"(\\S+)\",\"width\":\\d*,\"height\":\\d*},', str(all_script_tags)\n",
    "    )[0].split('\",')[0]\n",
    "\n",
    "    channel = {\n",
    "        # https://regex101.com/r/xFUzq5/1\n",
    "        \"id\": \"\".join(\n",
    "            re.findall(r'\"channelId\":\"(.*)\",\"isOwnerViewing\"', str(all_script_tags))\n",
    "        ),\n",
    "        \"name\": selector.css(\"#channel-name a::text\").get(),\n",
    "        \"link\": f'https://www.youtube.com{selector.css(\"#channel-name a::attr(href)\").get()}',\n",
    "        \"subscribers\": selector.css(\"#owner-sub-count::text\").get(),\n",
    "        \"thumbnail\": selector.css(\"#img::attr(src)\").get(),\n",
    "    }\n",
    "\n",
    "    description = selector.css(\n",
    "        \".ytd-expandable-video-description-body-renderer span:nth-child(1)::text\"\n",
    "    ).get()\n",
    "\n",
    "    hash_tags = [\n",
    "        {\n",
    "            \"name\": hash_tag.css(\"::text\").get(),\n",
    "            \"link\": f'https://www.youtube.com{hash_tag.css(\"::attr(href)\").get()}',\n",
    "        }\n",
    "        for hash_tag in selector.css(\n",
    "            \".ytd-expandable-video-description-body-renderer a\"\n",
    "        )\n",
    "    ]\n",
    "\n",
    "    # https://regex101.com/r/onRk9j/1\n",
    "    category = \"\".join(\n",
    "        re.findall(r'\"category\":\"(.*)\",\"publishDate\"', str(all_script_tags))\n",
    "    )\n",
    "\n",
    "    comments_amount = int(\n",
    "        selector.css(\"#count .count-text span:nth-child(1)::text\")\n",
    "        .get()\n",
    "        .replace(\",\", \"\")\n",
    "    )\n",
    "\n",
    "    comments = []\n",
    "\n",
    "    for comment in selector.css(\"#contents > ytd-comment-thread-renderer\"):\n",
    "        comments.append(\n",
    "            {\n",
    "                \"author\": comment.css(\"#author-text span::text\").get().strip(),\n",
    "                \"link\": f'https://www.youtube.com{comment.css(\"#author-text::attr(href)\").get()}',\n",
    "                \"date\": comment.css(\".published-time-text a::text\").get(),\n",
    "                \"likes\": comment.css(\"#vote-count-middle::text\").get().strip(),\n",
    "                \"comment\": comment.css(\"#content-text::text\").get(),\n",
    "                \"avatar\": comment.css(\"#author-thumbnail #img::attr(src)\").get(),\n",
    "            }\n",
    "        )\n",
    "\n",
    "    suggested_videos = []\n",
    "\n",
    "    for video in selector.css(\"ytd-compact-video-renderer\"):\n",
    "        suggested_videos.append(\n",
    "            {\n",
    "                \"title\": video.css(\"#video-title::text\").get().strip(),\n",
    "                \"link\": f'https://www.youtube.com{video.css(\"#thumbnail::attr(href)\").get()}',\n",
    "                \"channel_name\": video.css(\"#channel-name #text::text\").get(),\n",
    "                \"date\": video.css(\"#metadata-line span:nth-child(2)::text\").get(),\n",
    "                \"views\": video.css(\"#metadata-line span:nth-child(1)::text\").get(),\n",
    "                \"duration\": video.css(\"#overlays #text::text\").get().strip(),\n",
    "                \"thumbnail\": video.css(\"#thumbnail img::attr(src)\").get(),\n",
    "            }\n",
    "        )\n",
    "\n",
    "    youtube_video_page.append(\n",
    "        {\n",
    "            \"title\": title,\n",
    "            \"views\": views,\n",
    "            \"likes\": likes,\n",
    "            \"date\": date,\n",
    "            \"duration\": duration,\n",
    "            \"channel\": channel,\n",
    "            \"keywords\": keywords,\n",
    "            \"thumbnail\": thumbnail,\n",
    "            \"description\": description,\n",
    "            \"hash_tags\": hash_tags,\n",
    "            \"category\": category,\n",
    "            \"suggested_videos\": suggested_videos,\n",
    "            \"comments_amount\": comments_amount,\n",
    "            \"comments\": comments,\n",
    "        }\n",
    "    )\n",
    "\n",
    "    print(json.dumps(youtube_video_page, indent=2, ensure_ascii=False))\n",
    "\n",
    "\n",
    "def get_info_from_channel(channel_link: str):\n",
    "    driver = webdriver.Edge()\n",
    "\n",
    "    driver.get(channel_link)\n",
    "    driver.maximize_window()\n",
    "\n",
    "    time.sleep(5)\n",
    "\n",
    "    selector = Selector(text=driver.page_source)\n",
    "    driver.quit()\n",
    "\n",
    "    # channel title\n",
    "    channel_title = selector.css(\"#text-container #text::text\").get()\n",
    "\n",
    "    # date joined //*[@id=\"right-column\"]/yt-formatted-string[2]/span[2]\n",
    "    date_joined = selector.css(\n",
    "        \"#right-column > yt-formatted-string:nth-child(2) > span:nth-child(2)::text\"\n",
    "    ).get()\n",
    "\n",
    "    # total views //*[@id=\"right-column\"]/yt-formatted-string[3]\n",
    "\n",
    "    total_views = selector.css(\n",
    "        \"#right-column > yt-formatted-string:nth-child(3)::text\"\n",
    "    ).get()\n",
    "\n",
    "    # total subs //*[@id=\"subscriber-count\"]\n",
    "\n",
    "    total_subs = selector.css(\"#subscriber-count::text\").get()\n",
    "\n",
    "    # total videos //*[@id=\"videos-count\"]/span[1]\n",
    "\n",
    "    total_videos = selector.css(\"#videos-count > span:nth-child(1)::text\").get()\n",
    "\n",
    "    channel_info = {\n",
    "        \"channel_title\": channel_title,\n",
    "        \"date_joined\": date_joined,\n",
    "        \"total_views\": total_views,\n",
    "        \"total_subs\": total_subs,\n",
    "        \"total_videos\": total_videos,\n",
    "    }\n",
    "\n",
    "    print(json.dumps(channel_info, indent=2, ensure_ascii=False))\n",
    "\n",
    "    return pd.DataFrame(channel_info, index=[0])\n",
    "\n",
    "\n",
    "def get_info_from_video(selector) -> dict[str, str | int]:\n",
    "    # title\n",
    "    title = selector.css(\".title .ytd-video-primary-info-renderer::text\").get()\n",
    "\n",
    "    if title == None:\n",
    "        title = selector.css(\n",
    "            \"yt-formatted-string.style-scope.ytd-watch-metadata span.style-scope.yt-formatted-string::text\"\n",
    "        ).get()\n",
    "\n",
    "    print(title)\n",
    "\n",
    "    # date\n",
    "    date = selector.css(\"#info-strings yt-formatted-string::text\").get()\n",
    "\n",
    "    # views\n",
    "    views = selector.css(\"span.bold.style-scope.yt-formatted-string::text\").get()\n",
    "\n",
    "    # likes\n",
    "    likes = selector.css(\n",
    "        \"#segmented-like-button > ytd-toggle-button-renderer > yt-button-shape > button::attr(aria-label)\"\n",
    "    ).get()\n",
    "\n",
    "    # comments\n",
    "    try:\n",
    "        comments_amount = int(\n",
    "            selector.css(\"#count .count-text span:nth-child(1)::text\")\n",
    "            .get()\n",
    "            .replace(\",\", \"\")\n",
    "        )\n",
    "    except Exception as e:\n",
    "        comments_amount = 0\n",
    "\n",
    "    # keywords\n",
    "    # all_script_tags = selector.css(\"script\").getall()\n",
    "    # keywords = (\n",
    "    #     \"\".join(\n",
    "    #         re.findall(r'\"keywords\":\\[(.*)\\],\"channelId\":\".*\"', str(all_script_tags))\n",
    "    #     )\n",
    "    #     .replace('\"', \"\")\n",
    "    #     .split(\",\")\n",
    "    # )\n",
    "\n",
    "    print(title, views, likes, date, comments_amount)\n",
    "\n",
    "    try:\n",
    "        likes = re.search(r\"(\\d+)\", likes).group()\n",
    "    except Exception as e:\n",
    "        likes = 0\n",
    "    # views = re.search(r\"(\\d+)\", views).group()\n",
    "\n",
    "    return pd.DataFrame.from_dict(\n",
    "        {\n",
    "            \"title\": [title],\n",
    "            \"views\": [views],\n",
    "            \"likes\": [likes],\n",
    "            \"date\": [date],\n",
    "            \"comments_amount\": [comments_amount],\n",
    "            # \"keywords\": [keywords],\n",
    "        }\n",
    "    )\n",
    "\n",
    "\n",
    "def parse_channel(selector) -> pd.DataFrame:\n",
    "    subscribers = selector.css(\n",
    "        \"#subscriber-count.style-scope.ytd-c4-tabbed-header-renderer::text\"\n",
    "    ).get()\n",
    "\n",
    "    # subscribers = re.search(r\"(\\d+)\", subscribers).group()\n",
    "\n",
    "    # get recent 5 videos\n",
    "    channel_name = (\n",
    "        selector.css(\"div#channel-header-container yt-formatted-string#text::text\")\n",
    "        .get()\n",
    "        .strip()\n",
    "    )\n",
    "\n",
    "    videos = selector.css(\n",
    "        \"div.style-scope.ytd-rich-item-renderer ytd-rich-grid-media div.style-scope.ytd-rich-grid-media a#thumbnail.yt-simple-endpoint.inline-block.style-scope.ytd-thumbnail::attr(href)\"\n",
    "    ).getall()[:5]\n",
    "\n",
    "    u, ind = np.unique(videos, return_index=True)\n",
    "    videos = u[np.argsort(ind)]\n",
    "\n",
    "    df = pd.DataFrame()\n",
    "    for v in videos:\n",
    "        print(\"Video: \", v)\n",
    "\n",
    "        result = scroll_page(f\"https://www.youtube.com{v}\")\n",
    "\n",
    "        info = get_info_from_video(result)\n",
    "        info[\"channel_name\"] = channel_name\n",
    "        info[\"subscribers\"] = subscribers\n",
    "        # print(info)\n",
    "\n",
    "        df = pd.concat([df, info])\n",
    "        # df = df.append(info, ignore_index=True)\n",
    "\n",
    "    print(\"Videos i got: \", len(videos))\n",
    "    return df\n",
    "\n",
    "\n",
    "def parse_top_channel(channel_link: str) -> pd.DataFrame:\n",
    "    from selenium.webdriver.support.ui import WebDriverWait\n",
    "    from selenium.webdriver.support import expected_conditions as EC\n",
    "    from selenium.webdriver.common.by import By\n",
    "\n",
    "    driver = webdriver.Edge()\n",
    "    wait = WebDriverWait(driver, 3)\n",
    "    driver.implicitly_wait(10)\n",
    "\n",
    "    driver.get(channel_link)\n",
    "    driver.maximize_window()\n",
    "\n",
    "    # //*[@id=\"chips\"]/yt-chip-cloud-chip-renderer[2]\n",
    "    # wait for page to load\n",
    "\n",
    "    try:\n",
    "        wait.until(\n",
    "            EC.presence_of_element_located(\n",
    "                (By.XPATH, '//*[@id=\"chips\"]/yt-chip-cloud-chip-renderer[2]')\n",
    "            )\n",
    "        ).click()\n",
    "    except Exception as e:\n",
    "        print(\"Nao possui aba de videos em alta\")\n",
    "        # return empty dataframe\n",
    "        # return pd.DataFrame()\n",
    "\n",
    "    time.sleep(3)\n",
    "    selector = Selector(text=driver.page_source)\n",
    "    driver.quit()\n",
    "\n",
    "    channel_name = (\n",
    "        selector.css(\"div#channel-header-container yt-formatted-string#text::text\")\n",
    "        .get()\n",
    "        .strip()\n",
    "    )\n",
    "\n",
    "    videos = selector.css(\n",
    "        \"div.style-scope.ytd-rich-item-renderer ytd-rich-grid-media div.style-scope.ytd-rich-grid-media a#thumbnail.yt-simple-endpoint.inline-block.style-scope.ytd-thumbnail::attr(href)\"\n",
    "    ).getall()[:5]\n",
    "\n",
    "    u, ind = np.unique(videos, return_index=True)\n",
    "    videos = u[np.argsort(ind)]\n",
    "\n",
    "    df = pd.DataFrame()\n",
    "    for v in videos:\n",
    "        # print(\"Video: \", v)\n",
    "\n",
    "        result = scroll_page(f\"https://www.youtube.com{v}\")\n",
    "\n",
    "        info = get_info_from_video(result)\n",
    "        print(info)\n",
    "        info[\"channel_name\"] = channel_name\n",
    "        # print(info)\n",
    "\n",
    "        df = pd.concat([df, info])\n",
    "        # df = df.append(info, ignore_index=True)\n",
    "\n",
    "    print(\"Videos i got: \", len(videos))\n",
    "    return df\n",
    "\n"
   ]
  },
  {
   "attachments": {},
   "cell_type": "markdown",
   "id": "8832a998",
   "metadata": {
    "papermill": {
     "duration": 0.003976,
     "end_time": "2023-08-29T18:02:15.428808",
     "exception": false,
     "start_time": "2023-08-29T18:02:15.424832",
     "status": "completed"
    },
    "tags": []
   },
   "source": [
    "Pegar dados"
   ]
  },
  {
   "cell_type": "code",
   "execution_count": 3,
   "id": "3846da54",
   "metadata": {
    "execution": {
     "iopub.execute_input": "2023-08-29T18:02:15.437832Z",
     "iopub.status.busy": "2023-08-29T18:02:15.436830Z",
     "iopub.status.idle": "2023-08-29T18:11:37.147287Z",
     "shell.execute_reply": "2023-08-29T18:11:37.145301Z"
    },
    "papermill": {
     "duration": 561.718452,
     "end_time": "2023-08-29T18:11:37.150285",
     "exception": false,
     "start_time": "2023-08-29T18:02:15.431833",
     "status": "completed"
    },
    "tags": []
   },
   "outputs": [
    {
     "name": "stdout",
     "output_type": "stream",
     "text": [
      "Video:  /watch?v=OtciGkheYWw\n"
     ]
    },
    {
     "name": "stdout",
     "output_type": "stream",
     "text": [
      "Bauducco Cozinha | S'mores com Bauducco® Chocobiscuit\n",
      "Bauducco Cozinha | S'mores com Bauducco® Chocobiscuit 179 visualizações Marque este vídeo como \"Gostei\" com mais 13 pessoas 7 de ago. de 2023 0\n",
      "Video:  /watch?v=V2RyAlS-Lh4\n"
     ]
    },
    {
     "name": "stdout",
     "output_type": "stream",
     "text": [
      " Sanduíche de S'mores com Bauducco® Choco Biscuit\n",
      " Sanduíche de S'mores com Bauducco® Choco Biscuit 147 visualizações Marque este vídeo como \"Gostei\" com mais 12 pessoas 5 de ago. de 2023 0\n",
      "Video:  /watch?v=NV1VZ79M71M\n"
     ]
    },
    {
     "name": "stdout",
     "output_type": "stream",
     "text": [
      "Bauducco Cozinha | Bauducco® Bolo de Chocolate com Calda de Café Melitta®\n",
      "Bauducco Cozinha | Bauducco® Bolo de Chocolate com Calda de Café Melitta® 136 visualizações Marque este vídeo como \"Gostei\" com mais 7 pessoas 31 de jul. de 2023 0\n",
      "Video:  /watch?v=BiTpOgBjskE\n"
     ]
    },
    {
     "name": "stdout",
     "output_type": "stream",
     "text": [
      "Bauducco® Cozinha | Gran Gatêau de Chocobiscuit\n",
      "Bauducco® Cozinha | Gran Gatêau de Chocobiscuit 102 visualizações Marque este vídeo como \"Gostei\" com mais 7 pessoas 31 de jul. de 2023 0\n",
      "Video:  /watch?v=jSRgQWgAnio\n"
     ]
    },
    {
     "name": "stdout",
     "output_type": "stream",
     "text": [
      "Bauducco Cozinha | Triângulo de Bauducco® Chocobiscuit com Paçoca\n",
      "Bauducco Cozinha | Triângulo de Bauducco® Chocobiscuit com Paçoca 117 visualizações Marque este vídeo como \"Gostei\" com mais 12 pessoas 31 de jul. de 2023 0\n",
      "Videos i got:  5\n"
     ]
    },
    {
     "name": "stdout",
     "output_type": "stream",
     "text": [
      "Um novo olhar\n",
      "Um novo olhar 20 mi de visualizações Marque este vídeo como \"Gostei\" com mais 565 pessoas 6 de jul. de 2018 0\n",
      "           title                   views likes               date  \\\n",
      "0  Um novo olhar  20 mi de visualizações   565  6 de jul. de 2018   \n",
      "\n",
      "   comments_amount  \n",
      "0                0  \n"
     ]
    },
    {
     "name": "stdout",
     "output_type": "stream",
     "text": [
      "Cookies Bauducco Tatuagem\n",
      "Cookies Bauducco Tatuagem 16 mi de visualizações Marque este vídeo como \"Gostei\" com mais 375 pessoas 15 de ago. de 2017 0\n",
      "                       title                   views likes  \\\n",
      "0  Cookies Bauducco Tatuagem  16 mi de visualizações   375   \n",
      "\n",
      "                 date  comments_amount  \n",
      "0  15 de ago. de 2017                0  \n"
     ]
    },
    {
     "name": "stdout",
     "output_type": "stream",
     "text": [
      "Chocolomba® Trufa Bauducco\n",
      "Chocolomba® Trufa Bauducco 11 mi de visualizações Marque este vídeo como \"Gostei\" com mais 43 pessoas 26 de mar. de 2021 0\n",
      "                        title                   views likes  \\\n",
      "0  Chocolomba® Trufa Bauducco  11 mi de visualizações    43   \n",
      "\n",
      "                 date  comments_amount  \n",
      "0  26 de mar. de 2021                0  \n"
     ]
    },
    {
     "name": "stdout",
     "output_type": "stream",
     "text": [
      "Natal Bauducco - Bebê Chorão\n",
      "Natal Bauducco - Bebê Chorão 9,2 mi de visualizações Marque este vídeo como \"Gostei\" com mais 246 pessoas 24 de nov. de 2017 0\n",
      "                          title                    views likes  \\\n",
      "0  Natal Bauducco - Bebê Chorão  9,2 mi de visualizações   246   \n",
      "\n",
      "                 date  comments_amount  \n",
      "0  24 de nov. de 2017                0  \n"
     ]
    },
    {
     "name": "stdout",
     "output_type": "stream",
     "text": [
      "Pedacinhos do Natal – Uma carta | 60\"\n",
      "Pedacinhos do Natal – Uma carta | 60\" 7,9 mi de visualizações Marque este vídeo como \"Gostei\" com mais 54 pessoas 26 de nov. de 2018 0\n",
      "                                   title                    views likes  \\\n",
      "0  Pedacinhos do Natal – Uma carta | 60\"  7,9 mi de visualizações    54   \n",
      "\n",
      "                 date  comments_amount  \n",
      "0  26 de nov. de 2018                0  \n",
      "Videos i got:  5\n"
     ]
    },
    {
     "name": "stdout",
     "output_type": "stream",
     "text": [
      "{\n",
      "  \"channel_title\": \"Bauducco\",\n",
      "  \"date_joined\": \"22 de ago. de 2012\",\n",
      "  \"total_views\": \"185.231.128 visualizações\",\n",
      "  \"total_subs\": \"35,3 mil inscritos\",\n",
      "  \"total_videos\": \"214\"\n",
      "}\n"
     ]
    },
    {
     "name": "stdout",
     "output_type": "stream",
     "text": [
      "Video:  /watch?v=_xx-tMN1fLs\n"
     ]
    },
    {
     "name": "stdout",
     "output_type": "stream",
     "text": [
      "Podcast \"Nossos Compromissos 2030\" - Episódio 6\n",
      "Podcast \"Nossos Compromissos 2030\" - Episódio 6 124 visualizações Marque este vídeo como \"Gostei\" com mais 10 pessoas 11 de ago. de 2023 0\n",
      "Video:  /watch?v=_f9Z752fDs0\n"
     ]
    },
    {
     "name": "stdout",
     "output_type": "stream",
     "text": [
      "Podcast \"Nossos Compromissos 2030\" - Episódio 5\n",
      "Podcast \"Nossos Compromissos 2030\" - Episódio 5 64 visualizações Marque este vídeo como \"Gostei\" com mais 7 pessoas 28 de jul. de 2023 0\n",
      "Video:  /watch?v=Ko1dTOvh7XQ\n"
     ]
    },
    {
     "name": "stdout",
     "output_type": "stream",
     "text": [
      "Podcast \"Nossos Compromissos 2030\" - Episódio 4\n",
      "Podcast \"Nossos Compromissos 2030\" - Episódio 4 United Nations Marque este vídeo como \"Gostei\" com mais 9 pessoas 7 de jul. de 2023 0\n",
      "Video:  /watch?v=cvagNYG_mKE\n"
     ]
    },
    {
     "name": "stdout",
     "output_type": "stream",
     "text": [
      "M. Dias Branco realiza 5ª edição do Tributário Integrado\n",
      "M. Dias Branco realiza 5ª edição do Tributário Integrado 127 visualizações Marque este vídeo como \"Gostei\" com mais 19 pessoas 19 de jun. de 2023 0\n",
      "Video:  /watch?v=yfuB12UgX1g\n"
     ]
    },
    {
     "name": "stdout",
     "output_type": "stream",
     "text": [
      "Podcast \"Nossos Compromissos 2030\" - Episódio 3\n",
      "Podcast \"Nossos Compromissos 2030\" - Episódio 3 87 visualizações Marque este vídeo como \"Gostei\" com mais 8 pessoas 16 de jun. de 2023 0\n",
      "Videos i got:  5\n"
     ]
    },
    {
     "name": "stdout",
     "output_type": "stream",
     "text": [
      "Honra ao Legado - Homenagem a Ivens Dias Branco\n",
      "Honra ao Legado - Homenagem a Ivens Dias Branco 16 mil visualizações Marque este vídeo como \"Gostei\" com mais 659 pessoas 17 de out. de 2017 0\n",
      "                                             title                 views  \\\n",
      "0  Honra ao Legado - Homenagem a Ivens Dias Branco  16 mil visualizações   \n",
      "\n",
      "  likes                date  comments_amount  \n",
      "0   659  17 de out. de 2017                0  \n"
     ]
    },
    {
     "name": "stdout",
     "output_type": "stream",
     "text": [
      "Mensagem do Presidente da M. Dias Branco sobre o Covid19\n",
      "Mensagem do Presidente da M. Dias Branco sobre o Covid19 12 mil visualizações Marque este vídeo como \"Gostei\" com mais 556 pessoas 25 de mar. de 2020 0\n",
      "                                               title                 views  \\\n",
      "0  Mensagem do Presidente da M. Dias Branco sobre...  12 mil visualizações   \n",
      "\n",
      "  likes                date  comments_amount  \n",
      "0   556  25 de mar. de 2020                0  \n"
     ]
    },
    {
     "name": "stdout",
     "output_type": "stream",
     "text": [
      "Mensagem do presidente Ivens Dias Branco Jr - 2016\n",
      "Mensagem do presidente Ivens Dias Branco Jr - 2016 6 mil visualizações Marque este vídeo como \"Gostei\" com mais 161 pessoas 27 de dez. de 2016 0\n",
      "                                               title                views  \\\n",
      "0  Mensagem do presidente Ivens Dias Branco Jr - ...  6 mil visualizações   \n",
      "\n",
      "  likes                date  comments_amount  \n",
      "0   161  27 de dez. de 2016                0  \n"
     ]
    },
    {
     "name": "stdout",
     "output_type": "stream",
     "text": [
      "Homenagem ao Sr. Moreira, o colaborador mais antigo da M. Dias Branco\n",
      "Homenagem ao Sr. Moreira, o colaborador mais antigo da M. Dias Branco 4,8 mil visualizações Marque este vídeo como \"Gostei\" com mais 413 pessoas 30 de jul. de 2022 0\n",
      "                                               title                  views  \\\n",
      "0  Homenagem ao Sr. Moreira, o colaborador mais a...  4,8 mil visualizações   \n",
      "\n",
      "  likes                date  comments_amount  \n",
      "0   413  30 de jul. de 2022                0  \n"
     ]
    },
    {
     "name": "stdout",
     "output_type": "stream",
     "text": [
      "Sr. Moreira\n",
      "Sr. Moreira 3,2 mil visualizações Marque este vídeo como \"Gostei\" com mais 265 pessoas 9 de jun. de 2020 0\n",
      "         title                  views likes               date  \\\n",
      "0  Sr. Moreira  3,2 mil visualizações   265  9 de jun. de 2020   \n",
      "\n",
      "   comments_amount  \n",
      "0                0  \n",
      "Videos i got:  5\n"
     ]
    },
    {
     "name": "stdout",
     "output_type": "stream",
     "text": [
      "{\n",
      "  \"channel_title\": \"M. Dias Branco\",\n",
      "  \"date_joined\": \"21 de dez. de 2016\",\n",
      "  \"total_views\": \"99.018 visualizações\",\n",
      "  \"total_subs\": \"4,5 mil inscritos\",\n",
      "  \"total_videos\": \"71\"\n",
      "}\n"
     ]
    },
    {
     "name": "stdout",
     "output_type": "stream",
     "text": [
      "Video:  /watch?v=uODi7sUBjjc\n"
     ]
    },
    {
     "name": "stdout",
     "output_type": "stream",
     "text": [
      "Dia dos Pais Kopenhagen: Para quem inspira os momentos mais marcantes\n",
      "Dia dos Pais Kopenhagen: Para quem inspira os momentos mais marcantes 303 visualizações Marque este vídeo como \"Gostei\" com mais 6 pessoas 8 de ago. de 2023 0\n",
      "Video:  /watch?v=fk_Ryudi78w\n"
     ]
    },
    {
     "name": "stdout",
     "output_type": "stream",
     "text": [
      "Temporada Nhá Benta: única e irresistível | Kopenhagen\n",
      "Temporada Nhá Benta: única e irresistível | Kopenhagen 449 visualizações Marque este vídeo como \"Gostei\" com mais 8 pessoas 1 de ago. de 2023 0\n",
      "Video:  /watch?v=vYNNU1A4P18\n"
     ]
    },
    {
     "name": "stdout",
     "output_type": "stream",
     "text": [
      "Seja um franqueado | Kopenhagen – Depoimentos\n",
      "Seja um franqueado | Kopenhagen – Depoimentos 895 visualizações Marque este vídeo como \"Gostei\" com mais 7 pessoas 12 de mai. de 2023 0\n",
      "Video:  /watch?v=dcGAaEfnS-k\n"
     ]
    },
    {
     "name": "stdout",
     "output_type": "stream",
     "text": [
      "Seja um franqueado | Kopenhagen – CEO Renata Vichi\n",
      "Seja um franqueado | Kopenhagen – CEO Renata Vichi 1,4 mil visualizações Marque este vídeo como \"Gostei\" com mais 9 pessoas 12 de mai. de 2023 0\n",
      "Video:  /watch?v=uQRoGfyHYw0\n"
     ]
    },
    {
     "name": "stdout",
     "output_type": "stream",
     "text": [
      "Pascoa Kopenhagen. Quando tem, marca.\n",
      "Pascoa Kopenhagen. Quando tem, marca. 925 mil visualizações Marque este vídeo como \"Gostei\" com mais 23 pessoas 22 de mar. de 2023 0\n",
      "Videos i got:  5\n"
     ]
    },
    {
     "name": "stdout",
     "output_type": "stream",
     "text": [
      "Panettone Língua de Gato Exagero\n",
      "Panettone Língua de Gato Exagero 8,7 mi de visualizações Marque este vídeo como \"Gostei\" com mais 82 pessoas 2 de dez. de 2020 0\n",
      "                              title                    views likes  \\\n",
      "0  Panettone Língua de Gato Exagero  8,7 mi de visualizações    82   \n",
      "\n",
      "                date  comments_amount  \n",
      "0  2 de dez. de 2020                0  \n"
     ]
    },
    {
     "name": "stdout",
     "output_type": "stream",
     "text": [
      "Ovo Repleto Chokonut | Páscoa 2021 Kopenhagen\n",
      "Ovo Repleto Chokonut | Páscoa 2021 Kopenhagen 7,3 mi de visualizações Marque este vídeo como \"Gostei\" com mais 58 pessoas 2 de mar. de 2021 0\n",
      "                                           title                    views  \\\n",
      "0  Ovo Repleto Chokonut | Páscoa 2021 Kopenhagen  7,3 mi de visualizações   \n",
      "\n",
      "  likes               date  comments_amount  \n",
      "0    58  2 de mar. de 2021                0  \n"
     ]
    },
    {
     "name": "stdout",
     "output_type": "stream",
     "text": [
      "Kopenhagen | Nhá Benta Avelã e Línguas de Gato recheadas Avelã e Trufada\n",
      "Kopenhagen | Nhá Benta Avelã e Línguas de Gato recheadas Avelã e Trufada 6,4 mi de visualizações Marque este vídeo como \"Gostei\" com mais 241 pessoas 13 de ago. de 2018 0\n",
      "                                               title                    views  \\\n",
      "0  Kopenhagen | Nhá Benta Avelã e Línguas de Gato...  6,4 mi de visualizações   \n",
      "\n",
      "  likes                date  comments_amount  \n",
      "0   241  13 de ago. de 2018                0  \n"
     ]
    },
    {
     "name": "stdout",
     "output_type": "stream",
     "text": [
      "Páscoa 90 Anos Kopenhagen\n",
      "Páscoa 90 Anos Kopenhagen 5,8 mi de visualizações Marque este vídeo como \"Gostei\" com mais 269 pessoas 13 de mar. de 2018 0\n",
      "                       title                    views likes  \\\n",
      "0  Páscoa 90 Anos Kopenhagen  5,8 mi de visualizações   269   \n",
      "\n",
      "                 date  comments_amount  \n",
      "0  13 de mar. de 2018                0  \n"
     ]
    },
    {
     "name": "stdout",
     "output_type": "stream",
     "text": [
      "Natal 90 Anos Kopenhagen | Panettone Língua de Gato Exagero\n",
      "Natal 90 Anos Kopenhagen | Panettone Língua de Gato Exagero 4,5 mi de visualizações Marque este vídeo como \"Gostei\" com mais 126 pessoas 5 de dez. de 2018 0\n",
      "                                               title                    views  \\\n",
      "0  Natal 90 Anos Kopenhagen | Panettone Língua de...  4,5 mi de visualizações   \n",
      "\n",
      "  likes               date  comments_amount  \n",
      "0   126  5 de dez. de 2018                0  \n",
      "Videos i got:  5\n"
     ]
    },
    {
     "name": "stdout",
     "output_type": "stream",
     "text": [
      "{\n",
      "  \"channel_title\": \"Kopenhagen\",\n",
      "  \"date_joined\": \"17 de ago. de 2011\",\n",
      "  \"total_views\": \"68.166.708 visualizações\",\n",
      "  \"total_subs\": \"9,18 mil inscritos\",\n",
      "  \"total_videos\": \"69\"\n",
      "}\n"
     ]
    }
   ],
   "source": [
    "\n",
    "# %%\n",
    "with open(\"canais.txt\", \"r\") as f:\n",
    "    # read each line as a item in a list and remove the \\n\n",
    "    canais = [line.strip() for line in f.readlines()]\n",
    "\n",
    "base_path = f\"./data/{canais[0].split('@')[-1]}/\"\n",
    "\n",
    "df = pd.DataFrame()\n",
    "df_top = pd.DataFrame()\n",
    "df_lifetime = pd.DataFrame()\n",
    "for ch in canais:\n",
    "    # recent videos\n",
    "    result = scroll_page(ch + \"/videos\")\n",
    "    df_channel = parse_channel(result)\n",
    "    df = pd.concat([df, df_channel])\n",
    "\n",
    "    # top videos\n",
    "    df_top_channel = parse_top_channel(ch + \"/videos\")\n",
    "    df_top = pd.concat([df_top, df_top_channel])\n",
    "\n",
    "    # lifetime info\n",
    "    df_lifetime_channel = get_info_from_channel(ch + \"/about\")\n",
    "    df_lifetime = pd.concat([df_lifetime, df_lifetime_channel])\n",
    "\n",
    "\n",
    "os.makedirs(base_path, exist_ok=True)\n",
    "\n",
    "df.to_csv(base_path + \"videos.csv\", index=False)\n",
    "df_top.to_csv(base_path + \"top_videos.csv\", index=False)\n",
    "df_lifetime.to_csv(base_path + \"lifetime.csv\", index=False)\n"
   ]
  },
  {
   "attachments": {},
   "cell_type": "markdown",
   "id": "ec517bf2",
   "metadata": {
    "papermill": {
     "duration": 0.006998,
     "end_time": "2023-08-29T18:11:37.166249",
     "exception": false,
     "start_time": "2023-08-29T18:11:37.159251",
     "status": "completed"
    },
    "tags": []
   },
   "source": [
    "last 30 days"
   ]
  },
  {
   "cell_type": "code",
   "execution_count": 4,
   "id": "e87f972f",
   "metadata": {
    "execution": {
     "iopub.execute_input": "2023-08-29T18:11:37.183253Z",
     "iopub.status.busy": "2023-08-29T18:11:37.183253Z",
     "iopub.status.idle": "2023-08-29T18:12:32.752281Z",
     "shell.execute_reply": "2023-08-29T18:12:32.751328Z"
    },
    "papermill": {
     "duration": 55.581996,
     "end_time": "2023-08-29T18:12:32.755276",
     "exception": false,
     "start_time": "2023-08-29T18:11:37.173280",
     "status": "completed"
    },
    "tags": []
   },
   "outputs": [
    {
     "name": "stdout",
     "output_type": "stream",
     "text": [
      "['@BauduccoBrasil', '@m.diasbranco4235', '@ChocolatesKopenhagen']\n"
     ]
    }
   ],
   "source": [
    "\n",
    "# read channel IDs\n",
    "\n",
    "with open(\"canais.txt\", \"r\") as f:\n",
    "    canais = f.readlines()\n",
    "\n",
    "\n",
    "canais = [c.strip() for c in canais]\n",
    "# take only the string after the last slash\n",
    "canais = [c.split(\"/\")[-1] for c in canais]\n",
    "\n",
    "print(canais)\n",
    "\n",
    "base_url = \"https://socialblade.com/youtube/channel/\"\n",
    "\n",
    "social_blade_data = []\n",
    "for c in canais:\n",
    "    response = scroll_page(base_url + c)\n",
    "\n",
    "    # last 30 days views #socialblade-user-content > div:nth-child(23) > div:nth-child(3) > span\n",
    "    views = response.css(\n",
    "        \"#socialblade-user-content > div:nth-child(23) > div:nth-child(3) > span::text\"\n",
    "    ).get()\n",
    "    subs = response.css(\n",
    "        \"#socialblade-user-content > div:nth-child(23) > div:nth-child(2) > span::text\"\n",
    "    ).get()\n",
    "\n",
    "    if views is None or subs is None:\n",
    "        views = response.css(\n",
    "            \"#socialblade-user-content > div:nth-child(16) > div:nth-child(3) > span::text\"\n",
    "        ).get()\n",
    "        subs = response.css(\n",
    "            \"#socialblade-user-content > div:nth-child(16) > div:nth-child(2) > span::text\"\n",
    "        ).get()\n",
    "\n",
    "    social_blade_data.append({\"Channel\": c, \"views\": views, \"subs\": subs})\n",
    "\n",
    "last_30days = pd.DataFrame(social_blade_data)\n",
    "last_30days = last_30days.fillna(\"0\")\n",
    "\n",
    "last_30days.to_parquet(f'data/{canais[0].split(\"@\")[-1]}/last_30_days.parquet', index=False)"
   ]
  }
 ],
 "metadata": {
  "kernelspec": {
   "display_name": "venv",
   "language": "python",
   "name": "python3"
  },
  "language_info": {
   "codemirror_mode": {
    "name": "ipython",
    "version": 3
   },
   "file_extension": ".py",
   "mimetype": "text/x-python",
   "name": "python",
   "nbconvert_exporter": "python",
   "pygments_lexer": "ipython3",
   "version": "3.10.9"
  },
  "papermill": {
   "default_parameters": {},
   "duration": 622.670445,
   "end_time": "2023-08-29T18:12:33.122249",
   "environment_variables": {},
   "exception": null,
   "input_path": "pegar_dados_youtube.ipynb",
   "output_path": "pegar_dados_youtube.ipynb",
   "parameters": {},
   "start_time": "2023-08-29T18:02:10.451804",
   "version": "2.4.0"
  }
 },
 "nbformat": 4,
 "nbformat_minor": 5
}