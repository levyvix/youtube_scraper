{
 "cells": [
  {
   "cell_type": "code",
   "execution_count": 1,
   "metadata": {},
   "outputs": [],
   "source": [
    "# %%\n",
    "import re, json, time\n",
    "from selenium import webdriver\n",
    "import os\n",
    "\n",
    "import logging\n",
    "logging.basicConfig(level=logging.DEBUG, filename='scraper.log',\n",
    "                    format='%(asctime)s %(levelname)s %(name)s %(message)s',\n",
    "                    datefmt='%Y-%m-%d %H:%M:%S')\n",
    "\n",
    "\n",
    "from parsel import Selector\n",
    "\n",
    "import pandas as pd\n",
    "import numpy as np\n"
   ]
  },
  {
   "cell_type": "code",
   "execution_count": 2,
   "metadata": {},
   "outputs": [],
   "source": [
    "def scroll_page(url):\n",
    "    # service = Service(EdgeDriverManager().install())\n",
    "\n",
    "    # options = webdriver.EdgeOptions()\n",
    "    # options.add_argument(\"--headless\")\n",
    "    # options.add_argument(\"--lang=en\")\n",
    "    # options.add_argument(\n",
    "    #     \"user-agent=Mozilla/5.0 (Windows NT 10.0; Win64; x64) AppleWebKit/537.36 (KHTML, like Gecko) Edge/104.0.0.0 Safari/537.36\"\n",
    "    # )\n",
    "\n",
    "    driver = webdriver.Edge()\n",
    "    driver.get(url)\n",
    "    driver.implicitly_wait(10)\n",
    "\n",
    "    time.sleep(3)\n",
    "    selector = Selector(driver.page_source)\n",
    "    driver.quit()\n",
    "\n",
    "    return selector"
   ]
  },
  {
   "cell_type": "code",
   "execution_count": 41,
   "metadata": {},
   "outputs": [],
   "source": [
    "selector = scroll_page('https://www.youtube.com/watch?v=SBp31hP9PCY')\n"
   ]
  },
  {
   "cell_type": "code",
   "execution_count": 5,
   "metadata": {},
   "outputs": [],
   "source": [
    "selector.css(\"#top-level-buttons-computed > ytd-toggle-button-renderer:first-child #text::attr(aria-label)\").get()"
   ]
  },
  {
   "cell_type": "code",
   "execution_count": 6,
   "metadata": {},
   "outputs": [
    {
     "data": {
      "text/plain": [
       "21236"
      ]
     },
     "execution_count": 6,
     "metadata": {},
     "output_type": "execute_result"
    }
   ],
   "source": [
    "int(\n",
    "        re.search(r\"(.*)\\s\", selector.css(\".view-count::text\").get())\n",
    "        .group()\n",
    "        .replace(\".\", \"\")\n",
    "    )"
   ]
  },
  {
   "cell_type": "code",
   "execution_count": 7,
   "metadata": {},
   "outputs": [
    {
     "data": {
      "text/plain": [
       "'17 de mai. de 2023'"
      ]
     },
     "execution_count": 7,
     "metadata": {},
     "output_type": "execute_result"
    }
   ],
   "source": [
    "selector.css(\"#info-strings yt-formatted-string::text\").get()"
   ]
  },
  {
   "cell_type": "code",
   "execution_count": 8,
   "metadata": {},
   "outputs": [
    {
     "data": {
      "text/plain": [
       "'0:30'"
      ]
     },
     "execution_count": 8,
     "metadata": {},
     "output_type": "execute_result"
    }
   ],
   "source": [
    "selector.css(\".ytp-time-duration::text\").get()"
   ]
  },
  {
   "cell_type": "code",
   "execution_count": 9,
   "metadata": {},
   "outputs": [],
   "source": [
    "selector.css(\"#count .count-text span:nth-child(1)::text\").get()"
   ]
  },
  {
   "cell_type": "code",
   "execution_count": 10,
   "metadata": {},
   "outputs": [
    {
     "data": {
      "text/plain": [
       "'Tratamake é '"
      ]
     },
     "execution_count": 10,
     "metadata": {},
     "output_type": "execute_result"
    }
   ],
   "source": [
    "selector.css('span.yt-formatted-string::text').get()"
   ]
  },
  {
   "attachments": {},
   "cell_type": "markdown",
   "metadata": {},
   "source": [
    "get title"
   ]
  },
  {
   "cell_type": "code",
   "execution_count": 23,
   "metadata": {},
   "outputs": [
    {
     "data": {
      "text/plain": [
       "'Tratamake é #MakeQueTrataBem | Avon'"
      ]
     },
     "execution_count": 23,
     "metadata": {},
     "output_type": "execute_result"
    }
   ],
   "source": [
    "''.join(selector.xpath('//*[@id=\"title\"]/h1//text()').getall()).strip()"
   ]
  },
  {
   "cell_type": "code",
   "execution_count": 43,
   "metadata": {},
   "outputs": [],
   "source": [
    "selector_minnie = scroll_page('https://www.youtube.com/watch?v=f23BCfkI0k0')\n"
   ]
  },
  {
   "cell_type": "code",
   "execution_count": 25,
   "metadata": {},
   "outputs": [
    {
     "data": {
      "text/plain": [
       "'Color Trend e Minnie: se jogue nesse mundo mágico com a Paty Leda'"
      ]
     },
     "execution_count": 25,
     "metadata": {},
     "output_type": "execute_result"
    }
   ],
   "source": [
    "''.join(selector.xpath('//*[@id=\"title\"]/h1//text()').getall()).strip()"
   ]
  },
  {
   "cell_type": "code",
   "execution_count": null,
   "metadata": {},
   "outputs": [],
   "source": [
    "selector.xpath('')"
   ]
  },
  {
   "cell_type": "code",
   "execution_count": 30,
   "metadata": {},
   "outputs": [],
   "source": [
    "selector.css(\"yt-formatted-string.count-text.style-scope.ytd-comments-header-renderer span.yt-formatted-string::text\").get()"
   ]
  },
  {
   "cell_type": "code",
   "execution_count": 31,
   "metadata": {},
   "outputs": [
    {
     "data": {
      "text/plain": [
       "[]"
      ]
     },
     "execution_count": 31,
     "metadata": {},
     "output_type": "execute_result"
    }
   ],
   "source": [
    "selector.css(\"#count > yt-formatted-string > span:nth-child(1)::text\").getall()"
   ]
  },
  {
   "cell_type": "code",
   "execution_count": 32,
   "metadata": {},
   "outputs": [
    {
     "data": {
      "text/plain": [
       "[]"
      ]
     },
     "execution_count": 32,
     "metadata": {},
     "output_type": "execute_result"
    }
   ],
   "source": [
    "selector.xpath('//*[@id=\"count\"]/yt-formatted-string/span[1]/text()').getall()"
   ]
  },
  {
   "cell_type": "code",
   "execution_count": 35,
   "metadata": {},
   "outputs": [
    {
     "data": {
      "text/plain": [
       "[]"
      ]
     },
     "execution_count": 35,
     "metadata": {},
     "output_type": "execute_result"
    }
   ],
   "source": [
    "selector.xpath('//*[@id=\"title\"]/h2[@id=\"count\"]//text()').getall()"
   ]
  },
  {
   "cell_type": "code",
   "execution_count": 42,
   "metadata": {},
   "outputs": [
    {
     "data": {
      "text/plain": [
       "['Descrição',\n",
       " 'AvonBR',\n",
       " '380',\n",
       " 'Marcações \"Gostei\"',\n",
       " '17 de mai.',\n",
       " '2023',\n",
       " '\\n    ',\n",
       " 'Mostrar menos',\n",
       " 'Mostrar mais',\n",
       " 'Comentários',\n",
       " '26',\n",
       " 'Transcrição',\n",
       " '529\\xa0mil inscritos',\n",
       " '\\n          ',\n",
       " '17 de mai. de 2023',\n",
       " '529\\xa0mil inscritos',\n",
       " 'Mostrar menos',\n",
       " '...mais',\n",
       " 'Desejo de beleza',\n",
       " 'Xana Juarez',\n",
       " 'Cris Carara',\n",
       " 'Power Music',\n",
       " 'Cris TV',\n",
       " 'Maximus Tecidos',\n",
       " 'Karen Bachini Shorts',\n",
       " 'Amanda Cichineli Consultoria',\n",
       " 'AvonBR',\n",
       " 'Tainara Reis',\n",
       " 'Hellen Shawanny',\n",
       " 'Comigo na Moda',\n",
       " 'Jesicaxlopes',\n",
       " 'Cris Nunes',\n",
       " 'Simone Sá Oficial',\n",
       " 'AvonBR',\n",
       " 'Magna Paulo',\n",
       " 'Dicas da Tia',\n",
       " 'Dica Mineira',\n",
       " 'Dicas da Tia']"
      ]
     },
     "execution_count": 42,
     "metadata": {},
     "output_type": "execute_result"
    }
   ],
   "source": [
    "selector.css(\"yt-formatted-string::text\").getall()"
   ]
  },
  {
   "cell_type": "code",
   "execution_count": 45,
   "metadata": {},
   "outputs": [],
   "source": [
    "comments = selector_minnie.css(\"yt-formatted-string::text\").getall()\n",
    "next_item = None\n",
    "for i, item in enumerate(comments):\n",
    "    if item == \"Comentários\":\n",
    "        if i < len(comments) - 1:\n",
    "            next_item = comments[i + 1]\n",
    "            break\n"
   ]
  },
  {
   "cell_type": "code",
   "execution_count": 46,
   "metadata": {},
   "outputs": [
    {
     "data": {
      "text/plain": [
       "'2'"
      ]
     },
     "execution_count": 46,
     "metadata": {},
     "output_type": "execute_result"
    }
   ],
   "source": [
    "next_item"
   ]
  },
  {
   "cell_type": "code",
   "execution_count": 47,
   "metadata": {},
   "outputs": [],
   "source": [
    "select_monster = scroll_page('https://www.youtube.com/watch?v=erMZe79OEf4')"
   ]
  },
  {
   "cell_type": "code",
   "execution_count": 48,
   "metadata": {},
   "outputs": [
    {
     "name": "stdout",
     "output_type": "stream",
     "text": [
      "Viva o Extremo com Monster: Experiência Épica ao Lado de Gabriel Medina!\n"
     ]
    }
   ],
   "source": [
    "comments = select_monster.css(\"yt-formatted-string::text\").getall()\n",
    "next_item = None\n",
    "for i, item in enumerate(comments):\n",
    "    if item == \"Comentários\":\n",
    "        if i < len(comments) - 1:\n",
    "            next_item = comments[i + 1]\n",
    "            break\n",
    "print(next_item)"
   ]
  },
  {
   "cell_type": "code",
   "execution_count": 49,
   "metadata": {},
   "outputs": [
    {
     "data": {
      "text/plain": [
       "['Descrição',\n",
       " 'Viva o Extremo com Monster: Experiência Épica ao Lado de Gabriel Medina!',\n",
       " 'Brasal',\n",
       " '1',\n",
       " 'Marcações \"Gostei\"',\n",
       " '54',\n",
       " 'Visualizações',\n",
       " '18 de ago.',\n",
       " '2023',\n",
       " '\\n    ',\n",
       " 'Mostrar menos',\n",
       " 'Mostrar mais',\n",
       " 'Comentários',\n",
       " 'Viva o Extremo com Monster: Experiência Épica ao Lado de Gabriel Medina!',\n",
       " '4,14\\xa0mil inscritos',\n",
       " '\\n          ',\n",
       " 'Viva o Extremo com Monster: Experiência Épica ao Lado de Gabriel Medina!',\n",
       " '18 de ago. de 2023',\n",
       " '4,14\\xa0mil inscritos',\n",
       " 'Mostrar menos',\n",
       " '...mais',\n",
       " 'MARESIAS CREW',\n",
       " 'World Surf League',\n",
       " 'Canal OFF',\n",
       " 'Surfari TV',\n",
       " 'Go There',\n",
       " 'bruno_senna_surfboards',\n",
       " 'flow haze cafe',\n",
       " 'SURFE TV',\n",
       " 'Genaro Brusch',\n",
       " 'Filosurfando',\n",
       " 'MARESIAS CREW',\n",
       " 'de Dentro do tubO',\n",
       " 'Kakolu Surf',\n",
       " 'World Surf League',\n",
       " 'CUMULUS TV',\n",
       " 'Power Surf ',\n",
       " 'de Dentro do tubO',\n",
       " 'Caio Ibelli',\n",
       " 'Canal OFF',\n",
       " 'MARESIAS CREW',\n",
       " 'Mostrar mais']"
      ]
     },
     "execution_count": 49,
     "metadata": {},
     "output_type": "execute_result"
    }
   ],
   "source": [
    "comments"
   ]
  },
  {
   "cell_type": "code",
   "execution_count": 1,
   "metadata": {},
   "outputs": [],
   "source": [
    "import pandas as pd"
   ]
  },
  {
   "cell_type": "code",
   "execution_count": 2,
   "metadata": {},
   "outputs": [
    {
     "data": {
      "text/html": [
       "<div>\n",
       "<style scoped>\n",
       "    .dataframe tbody tr th:only-of-type {\n",
       "        vertical-align: middle;\n",
       "    }\n",
       "\n",
       "    .dataframe tbody tr th {\n",
       "        vertical-align: top;\n",
       "    }\n",
       "\n",
       "    .dataframe thead th {\n",
       "        text-align: right;\n",
       "    }\n",
       "</style>\n",
       "<table border=\"1\" class=\"dataframe\">\n",
       "  <thead>\n",
       "    <tr style=\"text-align: right;\">\n",
       "      <th></th>\n",
       "      <th>Channel</th>\n",
       "      <th>views</th>\n",
       "      <th>subs</th>\n",
       "    </tr>\n",
       "  </thead>\n",
       "  <tbody>\n",
       "    <tr>\n",
       "      <th>0</th>\n",
       "      <td>@Embraer</td>\n",
       "      <td>+2,121,709</td>\n",
       "      <td>+3K</td>\n",
       "    </tr>\n",
       "    <tr>\n",
       "      <th>1</th>\n",
       "      <td>@Boeing</td>\n",
       "      <td>+308,891</td>\n",
       "      <td>+1K</td>\n",
       "    </tr>\n",
       "    <tr>\n",
       "      <th>2</th>\n",
       "      <td>@ATRbroadcast</td>\n",
       "      <td>+15,374</td>\n",
       "      <td>+100</td>\n",
       "    </tr>\n",
       "    <tr>\n",
       "      <th>3</th>\n",
       "      <td>@airbus</td>\n",
       "      <td>+242,232</td>\n",
       "      <td>+1K</td>\n",
       "    </tr>\n",
       "  </tbody>\n",
       "</table>\n",
       "</div>"
      ],
      "text/plain": [
       "         Channel       views  subs\n",
       "0       @Embraer  +2,121,709   +3K\n",
       "1        @Boeing    +308,891   +1K\n",
       "2  @ATRbroadcast     +15,374  +100\n",
       "3        @airbus    +242,232   +1K"
      ]
     },
     "execution_count": 2,
     "metadata": {},
     "output_type": "execute_result"
    }
   ],
   "source": [
    "pd.read_parquet(\"data/Embraer/last_30_days.parquet\")"
   ]
  }
 ],
 "metadata": {
  "kernelspec": {
   "display_name": "venv",
   "language": "python",
   "name": "python3"
  },
  "language_info": {
   "codemirror_mode": {
    "name": "ipython",
    "version": 3
   },
   "file_extension": ".py",
   "mimetype": "text/x-python",
   "name": "python",
   "nbconvert_exporter": "python",
   "pygments_lexer": "ipython3",
   "version": "3.10.9"
  },
  "orig_nbformat": 4
 },
 "nbformat": 4,
 "nbformat_minor": 2
}
