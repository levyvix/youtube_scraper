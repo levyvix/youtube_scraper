{
 "cells": [
  {
   "cell_type": "code",
   "execution_count": 1,
   "id": "01cfb67a",
   "metadata": {
    "execution": {
     "iopub.execute_input": "2023-11-16T16:13:19.665908Z",
     "iopub.status.busy": "2023-11-16T16:13:19.664939Z",
     "iopub.status.idle": "2023-11-16T16:13:20.912700Z",
     "shell.execute_reply": "2023-11-16T16:13:20.911725Z"
    },
    "papermill": {
     "duration": 1.263768,
     "end_time": "2023-11-16T16:13:20.915707",
     "exception": false,
     "start_time": "2023-11-16T16:13:19.651939",
     "status": "completed"
    },
    "tags": []
   },
   "outputs": [],
   "source": [
    "import re, json, time\n",
    "from selenium import webdriver\n",
    "import os\n",
    "\n",
    "# import By\n",
    "from selenium.webdriver.common.by import By\n",
    "from selenium.webdriver.chrome.service import Service\n",
    "\n",
    "# from webdriver_manager.chrome import ChromeDriverManager\n",
    "from parsel import Selector\n",
    "\n",
    "import pandas as pd\n",
    "import numpy as np"
   ]
  },
  {
   "attachments": {},
   "cell_type": "markdown",
   "id": "17ac693f",
   "metadata": {
    "papermill": {
     "duration": 0.010027,
     "end_time": "2023-11-16T16:13:20.939724",
     "exception": false,
     "start_time": "2023-11-16T16:13:20.929697",
     "status": "completed"
    },
    "tags": []
   },
   "source": [
    "\n",
    "# Tratamento\n"
   ]
  },
  {
   "cell_type": "code",
   "execution_count": 2,
   "id": "ead4a307",
   "metadata": {
    "execution": {
     "iopub.execute_input": "2023-11-16T16:13:20.962701Z",
     "iopub.status.busy": "2023-11-16T16:13:20.961725Z",
     "iopub.status.idle": "2023-11-16T16:13:20.972700Z",
     "shell.execute_reply": "2023-11-16T16:13:20.971729Z"
    },
    "papermill": {
     "duration": 0.025998,
     "end_time": "2023-11-16T16:13:20.975724",
     "exception": false,
     "start_time": "2023-11-16T16:13:20.949726",
     "status": "completed"
    },
    "tags": []
   },
   "outputs": [],
   "source": [
    "with open(\"canais.txt\", \"r\") as f:\n",
    "    # read each line as a item in a list and remove the \\n\n",
    "    canais = [line.strip() for line in f.readlines()]\n",
    "\n",
    "\n",
    "def scroll_page(url):\n",
    "    # service = Service(ChromeDriverManager().install())\n",
    "\n",
    "    # options = webdriver.ChromeOptions()\n",
    "    # options.add_argument(\"--headless\")\n",
    "    # options.add_argument(\"--lang=en\")\n",
    "    # options.add_argument(\n",
    "    #     \"user-agent=Mozilla/5.0 (Windows NT 10.0; Win64; x64) AppleWebKit/537.36 (KHTML, like Gecko) Chrome/104.0.0.0 Safari/537.36\"\n",
    "    # )\n",
    "\n",
    "    driver = webdriver.Chrome()\n",
    "    driver.get(url)\n",
    "    driver.implicitly_wait(10)\n",
    "\n",
    "    time.sleep(3)\n",
    "    selector = Selector(driver.page_source)\n",
    "    driver.quit()\n",
    "\n",
    "    return selector"
   ]
  },
  {
   "cell_type": "code",
   "execution_count": 3,
   "id": "896dca91",
   "metadata": {
    "execution": {
     "iopub.execute_input": "2023-11-16T16:13:20.995724Z",
     "iopub.status.busy": "2023-11-16T16:13:20.995724Z",
     "iopub.status.idle": "2023-11-16T16:13:21.020696Z",
     "shell.execute_reply": "2023-11-16T16:13:21.019731Z"
    },
    "papermill": {
     "duration": 0.039004,
     "end_time": "2023-11-16T16:13:21.023707",
     "exception": false,
     "start_time": "2023-11-16T16:13:20.984703",
     "status": "completed"
    },
    "tags": []
   },
   "outputs": [
    {
     "name": "stdout",
     "output_type": "stream",
     "text": [
      "./data/SaboresAjinomoto/\n"
     ]
    }
   ],
   "source": [
    "import re\n",
    "\n",
    "\n",
    "import locale\n",
    "\n",
    "locale.setlocale(locale.LC_ALL, \"pt_BR.UTF-8\")\n",
    "\n",
    "base_path = f\"./data/{canais[0].split('@')[-1]}/\"\n",
    "\n",
    "print(base_path)"
   ]
  },
  {
   "cell_type": "code",
   "execution_count": 4,
   "id": "0ecbdf6e",
   "metadata": {
    "execution": {
     "iopub.execute_input": "2023-11-16T16:13:21.048729Z",
     "iopub.status.busy": "2023-11-16T16:13:21.048729Z",
     "iopub.status.idle": "2023-11-16T16:13:21.083702Z",
     "shell.execute_reply": "2023-11-16T16:13:21.082694Z"
    },
    "papermill": {
     "duration": 0.05,
     "end_time": "2023-11-16T16:13:21.086697",
     "exception": false,
     "start_time": "2023-11-16T16:13:21.036697",
     "status": "completed"
    },
    "tags": []
   },
   "outputs": [],
   "source": [
    "def trata_inscritos(col: pd.Series) -> pd.Series:\n",
    "    col = col.split(\" inscritos\")[0]\n",
    "\n",
    "    if \"mil\" in col:\n",
    "        return int(\n",
    "            float(col.replace(\"mil\", \"\").replace(\" \", \"\").replace(\",\", \".\")) * 1000\n",
    "        )\n",
    "    if \"mi\" in col:\n",
    "        # remove 'de'\n",
    "        if \"de\" in col:\n",
    "            col = col.replace(\"de\", \"\")\n",
    "        return int(\n",
    "            float(col.replace(\"mi\", \"\").replace(\" \", \"\").replace(\",\", \".\")) * 1000000\n",
    "        )\n",
    "\n",
    "    return int(col.replace(\" \", \"\").replace(\",\", \".\"))\n",
    "\n",
    "\n",
    "def trata_visualizacoes(col):\n",
    "    # treat the characters U+00a0\n",
    "\n",
    "    # if its a numeric value return it\n",
    "    if type(col) == int or type(col) == float:\n",
    "        return col\n",
    "\n",
    "    col = col.replace(\"\\xa0\", \"\")\n",
    "\n",
    "    col = col.split(\" visualizações\")[0]\n",
    "\n",
    "    if \"mil\" in col:\n",
    "        return int(\n",
    "            float(col.replace(\"mil\", \"\").replace(\" \", \"\").replace(\",\", \".\")) * 1000\n",
    "        )\n",
    "    elif \"mi\" in col:\n",
    "        # remove 'de'\n",
    "        if \"de\" in col:\n",
    "            col = col.replace(\"de\", \"\")\n",
    "        return int(\n",
    "            float(col.replace(\"mi\", \"\").replace(\" \", \"\").replace(\",\", \".\")) * 1000000\n",
    "        )\n",
    "\n",
    "    try:\n",
    "        return int(col.replace(\" \", \"\").replace(\".\", \"\").replace(\",\", \".\"))\n",
    "    except:\n",
    "        return 0\n",
    "\n",
    "\n",
    "def trata_comments(col):\n",
    "    # print(col)\n",
    "    # print(type(col))\n",
    "\n",
    "    if type(col) == int or type(col) == float:\n",
    "        return col\n",
    "\n",
    "    value = 0\n",
    "\n",
    "    try:\n",
    "        value = int(col)\n",
    "    except:\n",
    "        pass\n",
    "\n",
    "    if \"Transcrição\" in col:\n",
    "        return 0\n",
    "\n",
    "    col = col.replace(\"\\xa0\", \"\")\n",
    "\n",
    "    if \"mil\" in col:\n",
    "        return int(\n",
    "            float(col.replace(\"mil\", \"\").replace(\" \", \"\").replace(\",\", \".\")) * 1000\n",
    "        )\n",
    "    elif \"mi\" in col:\n",
    "        # remove 'de'\n",
    "        if \"de\" in col:\n",
    "            col = col.replace(\"de\", \"\")\n",
    "        try:\n",
    "            value = int(\n",
    "                float(col.replace(\"mi\", \"\").replace(\" \", \"\").replace(\",\", \".\"))\n",
    "                * 1000000\n",
    "            )\n",
    "        except:\n",
    "            value = 0\n",
    "\n",
    "    return (\n",
    "        int(col.replace(\" \", \"\").replace(\".\", \"\").replace(\",\", \".\"))\n",
    "        if value != 0\n",
    "        else 0\n",
    "    )\n",
    "\n",
    "\n",
    "def trata_data(value):\n",
    "    meses = {\n",
    "        \"jan\": \"01\",\n",
    "        \"fev\": \"02\",\n",
    "        \"mar\": \"03\",\n",
    "        \"abr\": \"04\",\n",
    "        \"mai\": \"05\",\n",
    "        \"jun\": \"06\",\n",
    "        \"jul\": \"07\",\n",
    "        \"ago\": \"08\",\n",
    "        \"set\": \"09\",\n",
    "        \"out\": \"10\",\n",
    "        \"nov\": \"11\",\n",
    "        \"dez\": \"12\",\n",
    "    }\n",
    "    series_data = re.sub(r\"\\. de\", \"\", value)\n",
    "    # print(series_data)\n",
    "    series_data = re.search(r\"(\\d{1,2} de [a-zA-Z]+ \\d{4})\", series_data).group(0)\n",
    "    # replace month\n",
    "    for k, v in meses.items():\n",
    "        series_data = series_data.replace(k, v)\n",
    "\n",
    "    # print(series_data)\n",
    "    series_data = pd.to_datetime(series_data, format=\"%d de %m %Y\", errors=\"coerce\")\n",
    "    return series_data"
   ]
  },
  {
   "attachments": {},
   "cell_type": "markdown",
   "id": "ee69877e",
   "metadata": {
    "papermill": {
     "duration": 0.009993,
     "end_time": "2023-11-16T16:13:21.106697",
     "exception": false,
     "start_time": "2023-11-16T16:13:21.096704",
     "status": "completed"
    },
    "tags": []
   },
   "source": [
    "trata videos"
   ]
  },
  {
   "cell_type": "code",
   "execution_count": 18,
   "id": "ba5dd3e0",
   "metadata": {
    "execution": {
     "iopub.execute_input": "2023-11-16T16:13:21.129696Z",
     "iopub.status.busy": "2023-11-16T16:13:21.128695Z",
     "iopub.status.idle": "2023-11-16T16:13:21.177698Z",
     "shell.execute_reply": "2023-11-16T16:13:21.176696Z"
    },
    "papermill": {
     "duration": 0.063996,
     "end_time": "2023-11-16T16:13:21.180694",
     "exception": false,
     "start_time": "2023-11-16T16:13:21.116698",
     "status": "completed"
    },
    "tags": []
   },
   "outputs": [
    {
     "data": {
      "text/html": [
       "<div>\n",
       "<style scoped>\n",
       "    .dataframe tbody tr th:only-of-type {\n",
       "        vertical-align: middle;\n",
       "    }\n",
       "\n",
       "    .dataframe tbody tr th {\n",
       "        vertical-align: top;\n",
       "    }\n",
       "\n",
       "    .dataframe thead th {\n",
       "        text-align: right;\n",
       "    }\n",
       "</style>\n",
       "<table border=\"1\" class=\"dataframe\">\n",
       "  <thead>\n",
       "    <tr style=\"text-align: right;\">\n",
       "      <th></th>\n",
       "      <th>title</th>\n",
       "      <th>views</th>\n",
       "      <th>likes</th>\n",
       "      <th>date</th>\n",
       "      <th>comments_amount</th>\n",
       "      <th>channel_name</th>\n",
       "      <th>subscribers</th>\n",
       "    </tr>\n",
       "  </thead>\n",
       "  <tbody>\n",
       "    <tr>\n",
       "      <th>0</th>\n",
       "      <td>AJI-NO-MOTO® reduz o sódio e deixa tudo gostoso!</td>\n",
       "      <td>2,6 mi de visualizações</td>\n",
       "      <td>5</td>\n",
       "      <td>5 de out. de 2023</td>\n",
       "      <td>Transcrição</td>\n",
       "      <td>Sabores Ajinomoto</td>\n",
       "      <td>8,71 mil inscritos</td>\n",
       "    </tr>\n",
       "    <tr>\n",
       "      <th>1</th>\n",
       "      <td>Experimente HONDASHI® Lamén!</td>\n",
       "      <td>583 mil visualizações</td>\n",
       "      <td>11</td>\n",
       "      <td>3 de out. de 2023</td>\n",
       "      <td>Transcrição</td>\n",
       "      <td>Sabores Ajinomoto</td>\n",
       "      <td>8,71 mil inscritos</td>\n",
       "    </tr>\n",
       "    <tr>\n",
       "      <th>2</th>\n",
       "      <td>Alimentação para Vencer - Kachimeshi®</td>\n",
       "      <td>109 mil visualizações</td>\n",
       "      <td>357</td>\n",
       "      <td>Estreou em 2 de out. de 2023</td>\n",
       "      <td>NaN</td>\n",
       "      <td>Sabores Ajinomoto</td>\n",
       "      <td>8,71 mil inscritos</td>\n",
       "    </tr>\n",
       "    <tr>\n",
       "      <th>3</th>\n",
       "      <td>Menos sal, mesmo sabor: o compromisso da Ajino...</td>\n",
       "      <td>18 mil visualizações</td>\n",
       "      <td>25</td>\n",
       "      <td>1 de set. de 2023</td>\n",
       "      <td>Menos sal, mesmo sabor: o compromisso da Ajino...</td>\n",
       "      <td>Sabores Ajinomoto</td>\n",
       "      <td>8,71 mil inscritos</td>\n",
       "    </tr>\n",
       "    <tr>\n",
       "      <th>4</th>\n",
       "      <td>Sabores sem Idade</td>\n",
       "      <td>70 mil visualizações</td>\n",
       "      <td>168</td>\n",
       "      <td>7 de ago. de 2023</td>\n",
       "      <td>Transcrição</td>\n",
       "      <td>Sabores Ajinomoto</td>\n",
       "      <td>8,71 mil inscritos</td>\n",
       "    </tr>\n",
       "    <tr>\n",
       "      <th>5</th>\n",
       "      <td>KNORR ZERO SAL | PROVE ANTES DE JULGAR</td>\n",
       "      <td>313 mil visualizações</td>\n",
       "      <td>3</td>\n",
       "      <td>1 de nov. de 2023</td>\n",
       "      <td>1</td>\n",
       "      <td>Knorr Brasil</td>\n",
       "      <td>17,6 mil inscritos</td>\n",
       "    </tr>\n",
       "    <tr>\n",
       "      <th>6</th>\n",
       "      <td>KNORR ZERO SAL | PROVE ANTES JULGAR</td>\n",
       "      <td>266 mil visualizações</td>\n",
       "      <td>10</td>\n",
       "      <td>1 de nov. de 2023</td>\n",
       "      <td>1</td>\n",
       "      <td>Knorr Brasil</td>\n",
       "      <td>17,6 mil inscritos</td>\n",
       "    </tr>\n",
       "    <tr>\n",
       "      <th>7</th>\n",
       "      <td>KNORR ZERO SAL | PROVE ANTES DE JULGAR</td>\n",
       "      <td>276 mil visualizações</td>\n",
       "      <td>8</td>\n",
       "      <td>1 de nov. de 2023</td>\n",
       "      <td>2</td>\n",
       "      <td>Knorr Brasil</td>\n",
       "      <td>17,6 mil inscritos</td>\n",
       "    </tr>\n",
       "    <tr>\n",
       "      <th>8</th>\n",
       "      <td>KNORR ZERO SAL | PROVE ANTES DE JULGAR</td>\n",
       "      <td>129 mil visualizações</td>\n",
       "      <td>9</td>\n",
       "      <td>1 de nov. de 2023</td>\n",
       "      <td>Transcrição</td>\n",
       "      <td>Knorr Brasil</td>\n",
       "      <td>17,6 mil inscritos</td>\n",
       "    </tr>\n",
       "    <tr>\n",
       "      <th>9</th>\n",
       "      <td>KNORR ZERO SAL | PROVE ANTES DE JULGAR</td>\n",
       "      <td>986 mil visualizações</td>\n",
       "      <td>1</td>\n",
       "      <td>10 de out. de 2023</td>\n",
       "      <td>Transcrição</td>\n",
       "      <td>Knorr Brasil</td>\n",
       "      <td>17,6 mil inscritos</td>\n",
       "    </tr>\n",
       "    <tr>\n",
       "      <th>10</th>\n",
       "      <td>Chegou Kitano Churrasquear | Dry Rub</td>\n",
       "      <td>190 mil visualizações</td>\n",
       "      <td>0</td>\n",
       "      <td>28 de fev. de 2023</td>\n",
       "      <td>NaN</td>\n",
       "      <td>Kitano</td>\n",
       "      <td>4,1 mil inscritos</td>\n",
       "    </tr>\n",
       "    <tr>\n",
       "      <th>11</th>\n",
       "      <td>Chegou Kitano Churrasquear | Dry Rub</td>\n",
       "      <td>709 visualizações</td>\n",
       "      <td>0</td>\n",
       "      <td>28 de fev. de 2023</td>\n",
       "      <td>NaN</td>\n",
       "      <td>Kitano</td>\n",
       "      <td>4,1 mil inscritos</td>\n",
       "    </tr>\n",
       "    <tr>\n",
       "      <th>12</th>\n",
       "      <td>Chegou Kitano Churrasquear</td>\n",
       "      <td>413 visualizações</td>\n",
       "      <td>0</td>\n",
       "      <td>8 de fev. de 2023</td>\n",
       "      <td>NaN</td>\n",
       "      <td>Kitano</td>\n",
       "      <td>4,1 mil inscritos</td>\n",
       "    </tr>\n",
       "    <tr>\n",
       "      <th>13</th>\n",
       "      <td>Chegou Kitano Churrasquear</td>\n",
       "      <td>877 mil visualizações</td>\n",
       "      <td>0</td>\n",
       "      <td>8 de fev. de 2023</td>\n",
       "      <td>NaN</td>\n",
       "      <td>Kitano</td>\n",
       "      <td>4,1 mil inscritos</td>\n",
       "    </tr>\n",
       "    <tr>\n",
       "      <th>14</th>\n",
       "      <td>Chegou Kitano Churrasquear | Kitano</td>\n",
       "      <td>934 mil visualizações</td>\n",
       "      <td>0</td>\n",
       "      <td>3 de fev. de 2023</td>\n",
       "      <td>NaN</td>\n",
       "      <td>Kitano</td>\n",
       "      <td>4,1 mil inscritos</td>\n",
       "    </tr>\n",
       "  </tbody>\n",
       "</table>\n",
       "</div>"
      ],
      "text/plain": [
       "                                                title  \\\n",
       "0    AJI-NO-MOTO® reduz o sódio e deixa tudo gostoso!   \n",
       "1                        Experimente HONDASHI® Lamén!   \n",
       "2               Alimentação para Vencer - Kachimeshi®   \n",
       "3   Menos sal, mesmo sabor: o compromisso da Ajino...   \n",
       "4                                   Sabores sem Idade   \n",
       "5              KNORR ZERO SAL | PROVE ANTES DE JULGAR   \n",
       "6                 KNORR ZERO SAL | PROVE ANTES JULGAR   \n",
       "7              KNORR ZERO SAL | PROVE ANTES DE JULGAR   \n",
       "8              KNORR ZERO SAL | PROVE ANTES DE JULGAR   \n",
       "9              KNORR ZERO SAL | PROVE ANTES DE JULGAR   \n",
       "10               Chegou Kitano Churrasquear | Dry Rub   \n",
       "11               Chegou Kitano Churrasquear | Dry Rub   \n",
       "12                         Chegou Kitano Churrasquear   \n",
       "13                         Chegou Kitano Churrasquear   \n",
       "14                Chegou Kitano Churrasquear | Kitano   \n",
       "\n",
       "                      views  likes                          date  \\\n",
       "0   2,6 mi de visualizações      5             5 de out. de 2023   \n",
       "1     583 mil visualizações     11             3 de out. de 2023   \n",
       "2     109 mil visualizações    357  Estreou em 2 de out. de 2023   \n",
       "3      18 mil visualizações     25             1 de set. de 2023   \n",
       "4      70 mil visualizações    168             7 de ago. de 2023   \n",
       "5     313 mil visualizações      3             1 de nov. de 2023   \n",
       "6     266 mil visualizações     10             1 de nov. de 2023   \n",
       "7     276 mil visualizações      8             1 de nov. de 2023   \n",
       "8     129 mil visualizações      9             1 de nov. de 2023   \n",
       "9     986 mil visualizações      1            10 de out. de 2023   \n",
       "10    190 mil visualizações      0            28 de fev. de 2023   \n",
       "11        709 visualizações      0            28 de fev. de 2023   \n",
       "12        413 visualizações      0             8 de fev. de 2023   \n",
       "13    877 mil visualizações      0             8 de fev. de 2023   \n",
       "14    934 mil visualizações      0             3 de fev. de 2023   \n",
       "\n",
       "                                      comments_amount       channel_name  \\\n",
       "0                                         Transcrição  Sabores Ajinomoto   \n",
       "1                                         Transcrição  Sabores Ajinomoto   \n",
       "2                                                 NaN  Sabores Ajinomoto   \n",
       "3   Menos sal, mesmo sabor: o compromisso da Ajino...  Sabores Ajinomoto   \n",
       "4                                         Transcrição  Sabores Ajinomoto   \n",
       "5                                                   1       Knorr Brasil   \n",
       "6                                                   1       Knorr Brasil   \n",
       "7                                                   2       Knorr Brasil   \n",
       "8                                         Transcrição       Knorr Brasil   \n",
       "9                                         Transcrição       Knorr Brasil   \n",
       "10                                                NaN             Kitano   \n",
       "11                                                NaN             Kitano   \n",
       "12                                                NaN             Kitano   \n",
       "13                                                NaN             Kitano   \n",
       "14                                                NaN             Kitano   \n",
       "\n",
       "           subscribers  \n",
       "0   8,71 mil inscritos  \n",
       "1   8,71 mil inscritos  \n",
       "2   8,71 mil inscritos  \n",
       "3   8,71 mil inscritos  \n",
       "4   8,71 mil inscritos  \n",
       "5   17,6 mil inscritos  \n",
       "6   17,6 mil inscritos  \n",
       "7   17,6 mil inscritos  \n",
       "8   17,6 mil inscritos  \n",
       "9   17,6 mil inscritos  \n",
       "10   4,1 mil inscritos  \n",
       "11   4,1 mil inscritos  \n",
       "12   4,1 mil inscritos  \n",
       "13   4,1 mil inscritos  \n",
       "14   4,1 mil inscritos  "
      ]
     },
     "metadata": {},
     "output_type": "display_data"
    },
    {
     "data": {
      "text/plain": [
       "Index(['title', 'views', 'likes', 'date', 'comments_amount', 'channel_name',\n",
       "       'subscribers'],\n",
       "      dtype='object')"
      ]
     },
     "metadata": {},
     "output_type": "display_data"
    }
   ],
   "source": [
    "videos = pd.read_csv(base_path + \"videos.csv\")\n",
    "\n",
    "display(videos)\n",
    "display(videos.columns)"
   ]
  },
  {
   "cell_type": "code",
   "execution_count": 21,
   "id": "17c44558",
   "metadata": {
    "execution": {
     "iopub.execute_input": "2023-11-16T16:13:21.204696Z",
     "iopub.status.busy": "2023-11-16T16:13:21.203695Z",
     "iopub.status.idle": "2023-11-16T16:13:21.286697Z",
     "shell.execute_reply": "2023-11-16T16:13:21.284693Z"
    },
    "papermill": {
     "duration": 0.100008,
     "end_time": "2023-11-16T16:13:21.290704",
     "exception": false,
     "start_time": "2023-11-16T16:13:21.190696",
     "status": "completed"
    },
    "tags": []
   },
   "outputs": [],
   "source": [
    "videos.dropna(subset=\"title\").assign(\n",
    "    # subscribers=lambda df_: df_[\"subscribers\"].apply(trata_inscritos),\n",
    "    views=lambda df_: df_[\"views\"].apply(trata_visualizacoes),\n",
    "    date=lambda df_: df_[\"date\"].apply(trata_data),\n",
    "    # comments_amount = lambda df_: df_[\"comments_amount\"].apply(trata_comments),\n",
    "    category=\"RECENT\",\n",
    ").to_parquet(f\"{base_path}videos.parquet\")"
   ]
  },
  {
   "attachments": {},
   "cell_type": "markdown",
   "id": "c487d2a2",
   "metadata": {
    "papermill": {
     "duration": 0.010017,
     "end_time": "2023-11-16T16:13:21.310725",
     "exception": false,
     "start_time": "2023-11-16T16:13:21.300708",
     "status": "completed"
    },
    "tags": []
   },
   "source": [
    "# Trata Top videos"
   ]
  },
  {
   "cell_type": "code",
   "execution_count": 22,
   "id": "468a20c9",
   "metadata": {
    "execution": {
     "iopub.execute_input": "2023-11-16T16:13:21.335697Z",
     "iopub.status.busy": "2023-11-16T16:13:21.334697Z",
     "iopub.status.idle": "2023-11-16T16:13:21.365698Z",
     "shell.execute_reply": "2023-11-16T16:13:21.363698Z"
    },
    "papermill": {
     "duration": 0.047999,
     "end_time": "2023-11-16T16:13:21.370697",
     "exception": false,
     "start_time": "2023-11-16T16:13:21.322698",
     "status": "completed"
    },
    "tags": []
   },
   "outputs": [
    {
     "data": {
      "text/html": [
       "<div>\n",
       "<style scoped>\n",
       "    .dataframe tbody tr th:only-of-type {\n",
       "        vertical-align: middle;\n",
       "    }\n",
       "\n",
       "    .dataframe tbody tr th {\n",
       "        vertical-align: top;\n",
       "    }\n",
       "\n",
       "    .dataframe thead th {\n",
       "        text-align: right;\n",
       "    }\n",
       "</style>\n",
       "<table border=\"1\" class=\"dataframe\">\n",
       "  <thead>\n",
       "    <tr style=\"text-align: right;\">\n",
       "      <th></th>\n",
       "      <th>title</th>\n",
       "      <th>views</th>\n",
       "      <th>likes</th>\n",
       "      <th>date</th>\n",
       "      <th>comments_amount</th>\n",
       "      <th>channel_name</th>\n",
       "    </tr>\n",
       "  </thead>\n",
       "  <tbody>\n",
       "    <tr>\n",
       "      <th>10</th>\n",
       "      <td>Kitano Churrasquear</td>\n",
       "      <td>8,3 mi de visualizações</td>\n",
       "      <td>0</td>\n",
       "      <td>24 de jan. de 2023</td>\n",
       "      <td>NaN</td>\n",
       "      <td>Kitano</td>\n",
       "    </tr>\n",
       "    <tr>\n",
       "      <th>11</th>\n",
       "      <td>Kitano | O mais puro sabor</td>\n",
       "      <td>6,6 mi de visualizações</td>\n",
       "      <td>0</td>\n",
       "      <td>4 de set. de 2017</td>\n",
       "      <td>NaN</td>\n",
       "      <td>Kitano</td>\n",
       "    </tr>\n",
       "    <tr>\n",
       "      <th>12</th>\n",
       "      <td>Plantão de Kitano l Foca no Evaristo Costa</td>\n",
       "      <td>5,7 mi de visualizações</td>\n",
       "      <td>207</td>\n",
       "      <td>21 de set. de 2018</td>\n",
       "      <td>15</td>\n",
       "      <td>Kitano</td>\n",
       "    </tr>\n",
       "    <tr>\n",
       "      <th>13</th>\n",
       "      <td>Kitano – De onde vem o nosso sabor</td>\n",
       "      <td>3,3 mi de visualizações</td>\n",
       "      <td>0</td>\n",
       "      <td>23 de ago. de 2016</td>\n",
       "      <td>NaN</td>\n",
       "      <td>Kitano</td>\n",
       "    </tr>\n",
       "    <tr>\n",
       "      <th>14</th>\n",
       "      <td>Plantão de Kitano com Evaristo Costa</td>\n",
       "      <td>3 mi de visualizações</td>\n",
       "      <td>526</td>\n",
       "      <td>19 de set. de 2018</td>\n",
       "      <td>24</td>\n",
       "      <td>Kitano</td>\n",
       "    </tr>\n",
       "  </tbody>\n",
       "</table>\n",
       "</div>"
      ],
      "text/plain": [
       "                                         title                    views  \\\n",
       "10                         Kitano Churrasquear  8,3 mi de visualizações   \n",
       "11                  Kitano | O mais puro sabor  6,6 mi de visualizações   \n",
       "12  Plantão de Kitano l Foca no Evaristo Costa  5,7 mi de visualizações   \n",
       "13          Kitano – De onde vem o nosso sabor  3,3 mi de visualizações   \n",
       "14        Plantão de Kitano com Evaristo Costa    3 mi de visualizações   \n",
       "\n",
       "    likes                date comments_amount channel_name  \n",
       "10      0  24 de jan. de 2023             NaN       Kitano  \n",
       "11      0   4 de set. de 2017             NaN       Kitano  \n",
       "12    207  21 de set. de 2018              15       Kitano  \n",
       "13      0  23 de ago. de 2016             NaN       Kitano  \n",
       "14    526  19 de set. de 2018              24       Kitano  "
      ]
     },
     "metadata": {},
     "output_type": "display_data"
    }
   ],
   "source": [
    "import pandas as pd\n",
    "\n",
    "\n",
    "top_videos = pd.read_csv(base_path + \"top_videos.csv\")\n",
    "\n",
    "display(top_videos.tail())"
   ]
  },
  {
   "cell_type": "code",
   "execution_count": 24,
   "id": "f3c8def8",
   "metadata": {
    "execution": {
     "iopub.execute_input": "2023-11-16T16:13:21.401699Z",
     "iopub.status.busy": "2023-11-16T16:13:21.401699Z",
     "iopub.status.idle": "2023-11-16T16:13:21.428697Z",
     "shell.execute_reply": "2023-11-16T16:13:21.426697Z"
    },
    "papermill": {
     "duration": 0.047004,
     "end_time": "2023-11-16T16:13:21.432706",
     "exception": false,
     "start_time": "2023-11-16T16:13:21.385702",
     "status": "completed"
    },
    "tags": []
   },
   "outputs": [],
   "source": [
    "top_videos.assign(\n",
    "    date=lambda df_: df_[\"date\"].apply(trata_data),\n",
    "    views=lambda df_: df_[\"views\"].apply(trata_visualizacoes),\n",
    "    # comments_amount = lambda df_: df_[\"comments_amount\"].apply(trata_comments),\n",
    "    category=\"TOP\",\n",
    ").to_parquet(base_path + \"top_videos.parquet\")"
   ]
  },
  {
   "cell_type": "code",
   "execution_count": 25,
   "id": "23472561",
   "metadata": {
    "execution": {
     "iopub.execute_input": "2023-11-16T16:13:21.464701Z",
     "iopub.status.busy": "2023-11-16T16:13:21.463732Z",
     "iopub.status.idle": "2023-11-16T16:13:21.835696Z",
     "shell.execute_reply": "2023-11-16T16:13:21.833725Z"
    },
    "papermill": {
     "duration": 0.393022,
     "end_time": "2023-11-16T16:13:21.838726",
     "exception": false,
     "start_time": "2023-11-16T16:13:21.445704",
     "status": "completed"
    },
    "tags": []
   },
   "outputs": [],
   "source": [
    "top_videos_silver = pd.read_parquet(base_path + \"top_videos.parquet\")"
   ]
  },
  {
   "cell_type": "code",
   "execution_count": 26,
   "id": "8e993684",
   "metadata": {
    "execution": {
     "iopub.execute_input": "2023-11-16T16:13:21.862703Z",
     "iopub.status.busy": "2023-11-16T16:13:21.861703Z",
     "iopub.status.idle": "2023-11-16T16:13:21.881702Z",
     "shell.execute_reply": "2023-11-16T16:13:21.880727Z"
    },
    "papermill": {
     "duration": 0.035,
     "end_time": "2023-11-16T16:13:21.884725",
     "exception": false,
     "start_time": "2023-11-16T16:13:21.849725",
     "status": "completed"
    },
    "tags": []
   },
   "outputs": [],
   "source": [
    "# # Trata lifetime\n",
    "\n",
    "\n",
    "df_lifetime = pd.read_csv(f\"{base_path}lifetime.csv\")\n",
    "\n",
    "\n",
    "df_lifetime.head()\n",
    "\n",
    "\n",
    "def days_on_youtube(value) -> int:\n",
    "    import datetime\n",
    "\n",
    "    today = datetime.date.today()\n",
    "    return (today - value.date()).days"
   ]
  },
  {
   "cell_type": "code",
   "execution_count": 27,
   "id": "7d3001c7",
   "metadata": {
    "execution": {
     "iopub.execute_input": "2023-11-16T16:13:21.908702Z",
     "iopub.status.busy": "2023-11-16T16:13:21.908702Z",
     "iopub.status.idle": "2023-11-16T16:13:21.930703Z",
     "shell.execute_reply": "2023-11-16T16:13:21.928694Z"
    },
    "papermill": {
     "duration": 0.038,
     "end_time": "2023-11-16T16:13:21.933701",
     "exception": false,
     "start_time": "2023-11-16T16:13:21.895701",
     "status": "completed"
    },
    "tags": []
   },
   "outputs": [
    {
     "data": {
      "text/html": [
       "<div>\n",
       "<style scoped>\n",
       "    .dataframe tbody tr th:only-of-type {\n",
       "        vertical-align: middle;\n",
       "    }\n",
       "\n",
       "    .dataframe tbody tr th {\n",
       "        vertical-align: top;\n",
       "    }\n",
       "\n",
       "    .dataframe thead th {\n",
       "        text-align: right;\n",
       "    }\n",
       "</style>\n",
       "<table border=\"1\" class=\"dataframe\">\n",
       "  <thead>\n",
       "    <tr style=\"text-align: right;\">\n",
       "      <th></th>\n",
       "      <th>channel_title</th>\n",
       "      <th>date_joined</th>\n",
       "      <th>total_views</th>\n",
       "      <th>total_subs</th>\n",
       "      <th>total_videos</th>\n",
       "    </tr>\n",
       "  </thead>\n",
       "  <tbody>\n",
       "    <tr>\n",
       "      <th>0</th>\n",
       "      <td>Sabores Ajinomoto</td>\n",
       "      <td>Inscreveu-se em 31 de jul. de 2014</td>\n",
       "      <td>36.678.728 visualizações</td>\n",
       "      <td>8,71 mil inscritos</td>\n",
       "      <td>246</td>\n",
       "    </tr>\n",
       "    <tr>\n",
       "      <th>1</th>\n",
       "      <td>Knorr Brasil</td>\n",
       "      <td>Inscreveu-se em 9 de abr. de 2006</td>\n",
       "      <td>66.209.144 visualizações</td>\n",
       "      <td>17,6 mil inscritos</td>\n",
       "      <td>121</td>\n",
       "    </tr>\n",
       "    <tr>\n",
       "      <th>2</th>\n",
       "      <td>Kitano</td>\n",
       "      <td>Inscreveu-se em 23 de jul. de 2014</td>\n",
       "      <td>37.844.045 visualizações</td>\n",
       "      <td>4,1 mil inscritos</td>\n",
       "      <td>33</td>\n",
       "    </tr>\n",
       "  </tbody>\n",
       "</table>\n",
       "</div>"
      ],
      "text/plain": [
       "       channel_title                         date_joined  \\\n",
       "0  Sabores Ajinomoto  Inscreveu-se em 31 de jul. de 2014   \n",
       "1       Knorr Brasil   Inscreveu-se em 9 de abr. de 2006   \n",
       "2             Kitano  Inscreveu-se em 23 de jul. de 2014   \n",
       "\n",
       "                total_views          total_subs  total_videos  \n",
       "0  36.678.728 visualizações  8,71 mil inscritos           246  \n",
       "1  66.209.144 visualizações  17,6 mil inscritos           121  \n",
       "2  37.844.045 visualizações   4,1 mil inscritos            33  "
      ]
     },
     "execution_count": 27,
     "metadata": {},
     "output_type": "execute_result"
    }
   ],
   "source": [
    "df_lifetime"
   ]
  },
  {
   "cell_type": "code",
   "execution_count": 28,
   "id": "c61d3ca2",
   "metadata": {
    "execution": {
     "iopub.execute_input": "2023-11-16T16:13:21.957697Z",
     "iopub.status.busy": "2023-11-16T16:13:21.956696Z",
     "iopub.status.idle": "2023-11-16T16:13:21.977695Z",
     "shell.execute_reply": "2023-11-16T16:13:21.975707Z"
    },
    "papermill": {
     "duration": 0.035992,
     "end_time": "2023-11-16T16:13:21.980696",
     "exception": false,
     "start_time": "2023-11-16T16:13:21.944704",
     "status": "completed"
    },
    "tags": []
   },
   "outputs": [],
   "source": [
    "df_lifetime = df_lifetime.assign(\n",
    "    date_joined=lambda df_: df_[\"date_joined\"].apply(trata_data),\n",
    "    total_views=lambda df_: df_[\"total_views\"].apply(trata_visualizacoes),\n",
    "    total_videos=lambda d: d[\"total_videos\"].apply(trata_visualizacoes),\n",
    "    total_subs=lambda df_: df_[\"total_subs\"].apply(trata_inscritos),\n",
    "    days_since_joined=lambda df_: df_[\"date_joined\"].apply(days_on_youtube),\n",
    ")  # .to_csv(base_path + \"lifetime_clean.csv\", index=False)"
   ]
  },
  {
   "cell_type": "code",
   "execution_count": 29,
   "id": "939d454a",
   "metadata": {
    "execution": {
     "iopub.execute_input": "2023-11-16T16:13:22.011697Z",
     "iopub.status.busy": "2023-11-16T16:13:22.010697Z",
     "iopub.status.idle": "2023-11-16T16:13:22.040696Z",
     "shell.execute_reply": "2023-11-16T16:13:22.039697Z"
    },
    "papermill": {
     "duration": 0.046001,
     "end_time": "2023-11-16T16:13:22.043697",
     "exception": false,
     "start_time": "2023-11-16T16:13:21.997696",
     "status": "completed"
    },
    "tags": []
   },
   "outputs": [],
   "source": [
    "lifetime_csv = pd.DataFrame()\n",
    "\n",
    "lifetime_csv[\"Channel Id\"] = np.arange(5)\n",
    "\n",
    "lifetime_csv[\" Channel Name\"] = df_lifetime[\"channel_title\"]\n",
    "lifetime_csv[\" Days on YouTube\"] = df_lifetime[\"days_since_joined\"]\n",
    "lifetime_csv[\" Total Views\"] = df_lifetime[\"total_views\"]\n",
    "lifetime_csv[\" Views per Day\"] = (\n",
    "    lifetime_csv[\" Total Views\"] / lifetime_csv[\" Days on YouTube\"]\n",
    ")\n",
    "lifetime_csv[\" Total Subscribers\"] = df_lifetime[\"total_subs\"]\n",
    "lifetime_csv[\" Subscribers per Day\"] = (\n",
    "    lifetime_csv[\" Total Subscribers\"] / lifetime_csv[\" Days on YouTube\"]\n",
    ")\n",
    "lifetime_csv[\" Total Uploads\"] = df_lifetime[\"total_videos\"]\n",
    "lifetime_csv[\" Uploads per Month\"] = lifetime_csv[\" Total Uploads\"] / (\n",
    "    lifetime_csv[\" Days on YouTube\"] / 30\n",
    ")\n",
    "lifetime_csv[\"\"] = np.arange(5)\n",
    "\n",
    "lifetime_csv.to_csv(base_path + \"Lifetime_.csv\", index=False, decimal=\",\")"
   ]
  },
  {
   "cell_type": "code",
   "execution_count": 30,
   "id": "1a0f94dd",
   "metadata": {
    "execution": {
     "iopub.execute_input": "2023-11-16T16:13:22.068697Z",
     "iopub.status.busy": "2023-11-16T16:13:22.068697Z",
     "iopub.status.idle": "2023-11-16T16:13:22.103698Z",
     "shell.execute_reply": "2023-11-16T16:13:22.102707Z"
    },
    "papermill": {
     "duration": 0.05201,
     "end_time": "2023-11-16T16:13:22.107707",
     "exception": false,
     "start_time": "2023-11-16T16:13:22.055697",
     "status": "completed"
    },
    "tags": []
   },
   "outputs": [],
   "source": [
    "# # join\n",
    "\n",
    "\n",
    "videos = pd.read_parquet(base_path + \"videos.parquet\")\n",
    "top_videos = pd.read_parquet(base_path + \"top_videos.parquet\")"
   ]
  },
  {
   "cell_type": "code",
   "execution_count": 33,
   "metadata": {},
   "outputs": [],
   "source": [
    "videos = videos.assign(title_canal=lambda d: d[\"channel_name\"] + \" - \" + d[\"title\"])\n",
    "\n",
    "top_videos = top_videos.assign(\n",
    "    title_canal=lambda d: d[\"channel_name\"] + \" - \" + d[\"title\"]\n",
    ")\n",
    "\n",
    "\n",
    "# videos.sort_values(\"channel_name\").to_csv(base_path + \"videos_clean.csv\", index=False, sep=\";\")\n",
    "# top_videos.sort_values(\"channel_name\").to_csv(base_path + \"top_videos_clean.csv\", index=False, sep=\";\")\n",
    "\n",
    "\n",
    "# # join the two dataframes\n",
    "\n",
    "# videos = pd.concat([videos, top_videos])\n",
    "\n",
    "\n",
    "# videos_sorted = videos.sort_values(\"channel_name\")\n",
    "\n",
    "# videos_sorted[\"subscribers\"] = videos_sorted[\"subscribers\"].fillna(method=\"ffill\")\n",
    "\n",
    "\n",
    "# videos_sorted = videos_sorted.sort_values([\"channel_name\", \"category\", \"date\"])\n",
    "\n",
    "\n",
    "# videos_sorted.to_parquet(base_path + \"videos_sorted.parquet\")\n",
    "\n",
    "\n",
    "# (pd.read_parquet(base_path + \"videos_sorted.parquet\")\n",
    "#  .assign(title_canal = lambda d: d['channel_name'] + ' - ' + d['title'])\n",
    "#  .to_csv(\n",
    "#     base_path + \"videos_sorted.csv\", index=False, sep=';'\n",
    "# ))"
   ]
  },
  {
   "cell_type": "code",
   "execution_count": 34,
   "id": "6ada389d",
   "metadata": {
    "execution": {
     "iopub.execute_input": "2023-11-16T16:13:22.140698Z",
     "iopub.status.busy": "2023-11-16T16:13:22.138706Z",
     "iopub.status.idle": "2023-11-16T16:13:22.167706Z",
     "shell.execute_reply": "2023-11-16T16:13:22.165698Z"
    },
    "papermill": {
     "duration": 0.048986,
     "end_time": "2023-11-16T16:13:22.170694",
     "exception": false,
     "start_time": "2023-11-16T16:13:22.121708",
     "status": "completed"
    },
    "tags": []
   },
   "outputs": [],
   "source": [
    "videos_aux = pd.DataFrame()\n",
    "\n",
    "\n",
    "videos_aux[\"Channel Id\"] = np.arange(1, len(videos) + 1)\n",
    "videos_aux[\" Channel Name\"] = videos[\"channel_name\"]\n",
    "videos_aux[\" Video Id\"] = np.arange(1, len(videos) + 1)\n",
    "videos_aux[\" VideoUrl\"] = np.arange(1, len(videos) + 1)\n",
    "videos_aux[\" Title\"] = videos[\"title_canal\"]\n",
    "videos_aux[\" Published Date\"] = videos[\"date\"]\n",
    "videos_aux[\" Views\"] = videos[\"views\"]\n",
    "videos_aux[\" Likes\"] = videos[\"likes\"]\n",
    "videos_aux[\" Dislikes\"] = np.arange(1, len(videos) + 1)\n",
    "videos_aux[\" Comments\"] = videos[\"comments_amount\"]\n",
    "videos_aux[\" Engagement %\"] = np.arange(1, len(videos) + 1)"
   ]
  },
  {
   "cell_type": "code",
   "execution_count": 35,
   "id": "c0eb6490",
   "metadata": {
    "execution": {
     "iopub.execute_input": "2023-11-16T16:13:22.203700Z",
     "iopub.status.busy": "2023-11-16T16:13:22.202698Z",
     "iopub.status.idle": "2023-11-16T16:13:22.228697Z",
     "shell.execute_reply": "2023-11-16T16:13:22.226699Z"
    },
    "papermill": {
     "duration": 0.046998,
     "end_time": "2023-11-16T16:13:22.232696",
     "exception": false,
     "start_time": "2023-11-16T16:13:22.185698",
     "status": "completed"
    },
    "tags": []
   },
   "outputs": [],
   "source": [
    "videos_aux.to_csv(base_path + \"RecentUploads.csv\", index=False)"
   ]
  },
  {
   "cell_type": "code",
   "execution_count": 36,
   "id": "b6a95eb2",
   "metadata": {
    "execution": {
     "iopub.execute_input": "2023-11-16T16:13:22.282698Z",
     "iopub.status.busy": "2023-11-16T16:13:22.281697Z",
     "iopub.status.idle": "2023-11-16T16:13:22.305700Z",
     "shell.execute_reply": "2023-11-16T16:13:22.304697Z"
    },
    "papermill": {
     "duration": 0.057003,
     "end_time": "2023-11-16T16:13:22.309699",
     "exception": false,
     "start_time": "2023-11-16T16:13:22.252696",
     "status": "completed"
    },
    "tags": []
   },
   "outputs": [
    {
     "data": {
      "text/html": [
       "<div>\n",
       "<style scoped>\n",
       "    .dataframe tbody tr th:only-of-type {\n",
       "        vertical-align: middle;\n",
       "    }\n",
       "\n",
       "    .dataframe tbody tr th {\n",
       "        vertical-align: top;\n",
       "    }\n",
       "\n",
       "    .dataframe thead th {\n",
       "        text-align: right;\n",
       "    }\n",
       "</style>\n",
       "<table border=\"1\" class=\"dataframe\">\n",
       "  <thead>\n",
       "    <tr style=\"text-align: right;\">\n",
       "      <th></th>\n",
       "      <th>title</th>\n",
       "      <th>views</th>\n",
       "      <th>likes</th>\n",
       "      <th>date</th>\n",
       "      <th>comments_amount</th>\n",
       "      <th>channel_name</th>\n",
       "      <th>category</th>\n",
       "      <th>title_canal</th>\n",
       "    </tr>\n",
       "  </thead>\n",
       "  <tbody>\n",
       "    <tr>\n",
       "      <th>0</th>\n",
       "      <td>#EuSouDeCasa e amo comida caseira!</td>\n",
       "      <td>6100000</td>\n",
       "      <td>9</td>\n",
       "      <td>2022-10-03</td>\n",
       "      <td>Transcrição</td>\n",
       "      <td>Sabores Ajinomoto</td>\n",
       "      <td>TOP</td>\n",
       "      <td>Sabores Ajinomoto - #EuSouDeCasa e amo comida ...</td>\n",
       "    </tr>\n",
       "    <tr>\n",
       "      <th>1</th>\n",
       "      <td>AJI-NO-MOTO® reduz o sódio e deixa tudo gostoso!</td>\n",
       "      <td>2600000</td>\n",
       "      <td>5</td>\n",
       "      <td>2023-10-05</td>\n",
       "      <td>Transcrição</td>\n",
       "      <td>Sabores Ajinomoto</td>\n",
       "      <td>TOP</td>\n",
       "      <td>Sabores Ajinomoto - AJI-NO-MOTO® reduz o sódio...</td>\n",
       "    </tr>\n",
       "    <tr>\n",
       "      <th>2</th>\n",
       "      <td>Saudade de Longe, Receita de Casa™</td>\n",
       "      <td>2600000</td>\n",
       "      <td>98</td>\n",
       "      <td>2020-08-25</td>\n",
       "      <td>6</td>\n",
       "      <td>Sabores Ajinomoto</td>\n",
       "      <td>TOP</td>\n",
       "      <td>Sabores Ajinomoto - Saudade de Longe, Receita ...</td>\n",
       "    </tr>\n",
       "    <tr>\n",
       "      <th>3</th>\n",
       "      <td>Promoção Sabores de Família da Ajinomoto</td>\n",
       "      <td>2100000</td>\n",
       "      <td>39</td>\n",
       "      <td>2017-04-18</td>\n",
       "      <td>2</td>\n",
       "      <td>Sabores Ajinomoto</td>\n",
       "      <td>TOP</td>\n",
       "      <td>Sabores Ajinomoto - Promoção Sabores de Famíli...</td>\n",
       "    </tr>\n",
       "    <tr>\n",
       "      <th>4</th>\n",
       "      <td>A cada receita, uma celebração​ - Receita de C...</td>\n",
       "      <td>1700000</td>\n",
       "      <td>19</td>\n",
       "      <td>2021-09-28</td>\n",
       "      <td>1</td>\n",
       "      <td>Sabores Ajinomoto</td>\n",
       "      <td>TOP</td>\n",
       "      <td>Sabores Ajinomoto - A cada receita, uma celebr...</td>\n",
       "    </tr>\n",
       "  </tbody>\n",
       "</table>\n",
       "</div>"
      ],
      "text/plain": [
       "                                               title    views  likes  \\\n",
       "0                 #EuSouDeCasa e amo comida caseira!  6100000      9   \n",
       "1   AJI-NO-MOTO® reduz o sódio e deixa tudo gostoso!  2600000      5   \n",
       "2                 Saudade de Longe, Receita de Casa™  2600000     98   \n",
       "3           Promoção Sabores de Família da Ajinomoto  2100000     39   \n",
       "4  A cada receita, uma celebração​ - Receita de C...  1700000     19   \n",
       "\n",
       "        date comments_amount       channel_name category  \\\n",
       "0 2022-10-03     Transcrição  Sabores Ajinomoto      TOP   \n",
       "1 2023-10-05     Transcrição  Sabores Ajinomoto      TOP   \n",
       "2 2020-08-25               6  Sabores Ajinomoto      TOP   \n",
       "3 2017-04-18               2  Sabores Ajinomoto      TOP   \n",
       "4 2021-09-28               1  Sabores Ajinomoto      TOP   \n",
       "\n",
       "                                         title_canal  \n",
       "0  Sabores Ajinomoto - #EuSouDeCasa e amo comida ...  \n",
       "1  Sabores Ajinomoto - AJI-NO-MOTO® reduz o sódio...  \n",
       "2  Sabores Ajinomoto - Saudade de Longe, Receita ...  \n",
       "3  Sabores Ajinomoto - Promoção Sabores de Famíli...  \n",
       "4  Sabores Ajinomoto - A cada receita, uma celebr...  "
      ]
     },
     "execution_count": 36,
     "metadata": {},
     "output_type": "execute_result"
    }
   ],
   "source": [
    "top_videos.head()"
   ]
  },
  {
   "cell_type": "code",
   "execution_count": 37,
   "id": "bba8bb72",
   "metadata": {
    "execution": {
     "iopub.execute_input": "2023-11-16T16:13:22.347698Z",
     "iopub.status.busy": "2023-11-16T16:13:22.345698Z",
     "iopub.status.idle": "2023-11-16T16:13:22.382699Z",
     "shell.execute_reply": "2023-11-16T16:13:22.381698Z"
    },
    "papermill": {
     "duration": 0.064003,
     "end_time": "2023-11-16T16:13:22.386699",
     "exception": false,
     "start_time": "2023-11-16T16:13:22.322696",
     "status": "completed"
    },
    "tags": []
   },
   "outputs": [],
   "source": [
    "videos_aux = pd.DataFrame()\n",
    "\n",
    "\n",
    "videos_aux[\"Channel Id\"] = np.arange(1, len(videos) + 1)\n",
    "videos_aux[\" Channel Name\"] = top_videos[\"channel_name\"]\n",
    "videos_aux[\" Video Id\"] = np.arange(1, len(videos) + 1)\n",
    "videos_aux[\" VideoUrl\"] = np.arange(1, len(videos) + 1)\n",
    "videos_aux[\" Title\"] = top_videos[\"title_canal\"]\n",
    "videos_aux[\" Published Date\"] = top_videos[\"date\"]\n",
    "videos_aux[\" Views\"] = top_videos[\"views\"]\n",
    "videos_aux[\" Likes\"] = top_videos[\"likes\"]\n",
    "videos_aux[\" Dislikes\"] = np.arange(1, len(videos) + 1)\n",
    "videos_aux[\" Comments\"] = top_videos[\"comments_amount\"]\n",
    "videos_aux[\" Engagement %\"] = np.arange(1, len(videos) + 1)"
   ]
  },
  {
   "cell_type": "code",
   "execution_count": 38,
   "id": "4493c75d",
   "metadata": {
    "execution": {
     "iopub.execute_input": "2023-11-16T16:13:22.423696Z",
     "iopub.status.busy": "2023-11-16T16:13:22.423696Z",
     "iopub.status.idle": "2023-11-16T16:13:22.446696Z",
     "shell.execute_reply": "2023-11-16T16:13:22.444695Z"
    },
    "papermill": {
     "duration": 0.04,
     "end_time": "2023-11-16T16:13:22.449700",
     "exception": false,
     "start_time": "2023-11-16T16:13:22.409700",
     "status": "completed"
    },
    "tags": []
   },
   "outputs": [],
   "source": [
    "videos_aux.to_csv(base_path + \"TopUploads.csv\", index=False)"
   ]
  },
  {
   "attachments": {},
   "cell_type": "markdown",
   "id": "b07de1c8",
   "metadata": {
    "papermill": {
     "duration": 0.011988,
     "end_time": "2023-11-16T16:13:22.476695",
     "exception": false,
     "start_time": "2023-11-16T16:13:22.464707",
     "status": "completed"
    },
    "tags": []
   },
   "source": [
    "last 30 days"
   ]
  },
  {
   "cell_type": "code",
   "execution_count": 39,
   "id": "b6d50769",
   "metadata": {
    "execution": {
     "iopub.execute_input": "2023-11-16T16:13:22.502706Z",
     "iopub.status.busy": "2023-11-16T16:13:22.501701Z",
     "iopub.status.idle": "2023-11-16T16:13:22.538695Z",
     "shell.execute_reply": "2023-11-16T16:13:22.537697Z"
    },
    "papermill": {
     "duration": 0.053029,
     "end_time": "2023-11-16T16:13:22.541724",
     "exception": false,
     "start_time": "2023-11-16T16:13:22.488695",
     "status": "completed"
    },
    "tags": []
   },
   "outputs": [],
   "source": [
    "# read channel IDs\n",
    "\n",
    "with open(\"canais.txt\", \"r\") as f:\n",
    "    canais = f.readlines()\n",
    "\n",
    "\n",
    "canais = [c.strip() for c in canais]\n",
    "# take only the string after the last slash\n",
    "canais = [c.split(\"/\")[-1] for c in canais]\n",
    "\n",
    "# print(canais)\n",
    "\n",
    "base_url = \"https://socialblade.com/youtube/channel/\"\n",
    "\n",
    "last_30days = pd.read_parquet(f'data/{canais[0].split(\"@\")[-1]}/last_30_days.parquet')\n",
    "\n",
    "\n",
    "def fix_views(view: pd.Series) -> pd.Series:\n",
    "    view = view.str.replace(\"+\", \"\").str.replace(\",\", \"\")\n",
    "    # print(view)\n",
    "\n",
    "    view = view.apply(lambda x: float(x.replace(\"K\", \"\")) * 1000 if \"K\" in x else x)\n",
    "    view = view.apply(\n",
    "        lambda x: float(x.replace(\"M\", \"\")) * 1000000 if \"M\" in str(x) else x\n",
    "    )\n",
    "\n",
    "    return view\n",
    "\n",
    "\n",
    "last_30days = last_30days.assign(\n",
    "    views=lambda x: fix_views(x[\"views\"]), subs=lambda x: fix_views(x[\"subs\"])\n",
    ")\n",
    "\n",
    "# Replace '---' with NaN in the 'subs' column\n",
    "last_30days[\"subs\"] = last_30days[\"subs\"].replace(\"--\", np.nan)"
   ]
  },
  {
   "cell_type": "code",
   "execution_count": 40,
   "id": "f5224e2b",
   "metadata": {
    "execution": {
     "iopub.execute_input": "2023-11-16T16:13:22.564702Z",
     "iopub.status.busy": "2023-11-16T16:13:22.563703Z",
     "iopub.status.idle": "2023-11-16T16:13:22.586696Z",
     "shell.execute_reply": "2023-11-16T16:13:22.585725Z"
    },
    "papermill": {
     "duration": 0.037022,
     "end_time": "2023-11-16T16:13:22.589725",
     "exception": false,
     "start_time": "2023-11-16T16:13:22.552703",
     "status": "completed"
    },
    "tags": []
   },
   "outputs": [],
   "source": [
    "last_30days = last_30days.astype({\"views\": \"float64\", \"subs\": \"float64\"})"
   ]
  },
  {
   "cell_type": "code",
   "execution_count": 41,
   "id": "e81ab0cf",
   "metadata": {
    "execution": {
     "iopub.execute_input": "2023-11-16T16:13:22.614701Z",
     "iopub.status.busy": "2023-11-16T16:13:22.613703Z",
     "iopub.status.idle": "2023-11-16T16:13:22.633696Z",
     "shell.execute_reply": "2023-11-16T16:13:22.632703Z"
    },
    "papermill": {
     "duration": 0.03602,
     "end_time": "2023-11-16T16:13:22.636725",
     "exception": false,
     "start_time": "2023-11-16T16:13:22.600705",
     "status": "completed"
    },
    "tags": []
   },
   "outputs": [],
   "source": [
    "last_30_days_aux = pd.DataFrame()\n",
    "\n",
    "\n",
    "last_30_days_aux[\"Channel Id\"] = np.arange(5)\n",
    "last_30_days_aux[\" Channel Name\"] = df_lifetime[\"channel_title\"]\n",
    "last_30_days_aux[\"  Views Last 30 Days\"] = last_30days[\"views\"]\n",
    "last_30_days_aux[\" Views per Day\"] = last_30_days_aux[\"  Views Last 30 Days\"] / 30\n",
    "last_30_days_aux[\" Total Subscribers Last 30 Days\"] = last_30days[\"subs\"]\n",
    "last_30_days_aux[\" Subscribers per Day\"] = (\n",
    "    last_30_days_aux[\" Total Subscribers Last 30 Days\"] / 30\n",
    ")\n",
    "last_30_days_aux[\" Total Uploads Last 30 Days\"] = [\n",
    "    \"ATUALIZAR\",\n",
    "    \"ATUALIZAR\",\n",
    "    \"ATUALIZAR\",\n",
    "    \"ATUALIZAR\",\n",
    "    \"ATUALIZAR\",\n",
    "]\n",
    "last_30_days_aux[\" Uploads per Week\"] = np.arange(5)\n",
    "last_30_days_aux[\"\"] = np.arange(5)"
   ]
  },
  {
   "cell_type": "code",
   "execution_count": 42,
   "id": "b82b13dd",
   "metadata": {
    "execution": {
     "iopub.execute_input": "2023-11-16T16:13:22.661701Z",
     "iopub.status.busy": "2023-11-16T16:13:22.660696Z",
     "iopub.status.idle": "2023-11-16T16:13:22.679696Z",
     "shell.execute_reply": "2023-11-16T16:13:22.678728Z"
    },
    "papermill": {
     "duration": 0.035007,
     "end_time": "2023-11-16T16:13:22.682704",
     "exception": false,
     "start_time": "2023-11-16T16:13:22.647697",
     "status": "completed"
    },
    "tags": []
   },
   "outputs": [
    {
     "data": {
      "text/html": [
       "<div>\n",
       "<style scoped>\n",
       "    .dataframe tbody tr th:only-of-type {\n",
       "        vertical-align: middle;\n",
       "    }\n",
       "\n",
       "    .dataframe tbody tr th {\n",
       "        vertical-align: top;\n",
       "    }\n",
       "\n",
       "    .dataframe thead th {\n",
       "        text-align: right;\n",
       "    }\n",
       "</style>\n",
       "<table border=\"1\" class=\"dataframe\">\n",
       "  <thead>\n",
       "    <tr style=\"text-align: right;\">\n",
       "      <th></th>\n",
       "      <th>Channel Id</th>\n",
       "      <th>Channel Name</th>\n",
       "      <th>Views Last 30 Days</th>\n",
       "      <th>Views per Day</th>\n",
       "      <th>Total Subscribers Last 30 Days</th>\n",
       "      <th>Subscribers per Day</th>\n",
       "      <th>Total Uploads Last 30 Days</th>\n",
       "      <th>Uploads per Week</th>\n",
       "      <th></th>\n",
       "    </tr>\n",
       "  </thead>\n",
       "  <tbody>\n",
       "    <tr>\n",
       "      <th>0</th>\n",
       "      <td>0</td>\n",
       "      <td>Sabores Ajinomoto</td>\n",
       "      <td>1169972.0</td>\n",
       "      <td>38999.066667</td>\n",
       "      <td>60.0</td>\n",
       "      <td>2.000000</td>\n",
       "      <td>ATUALIZAR</td>\n",
       "      <td>0</td>\n",
       "      <td>0</td>\n",
       "    </tr>\n",
       "    <tr>\n",
       "      <th>1</th>\n",
       "      <td>1</td>\n",
       "      <td>Knorr Brasil</td>\n",
       "      <td>2525531.0</td>\n",
       "      <td>84184.366667</td>\n",
       "      <td>400.0</td>\n",
       "      <td>13.333333</td>\n",
       "      <td>ATUALIZAR</td>\n",
       "      <td>1</td>\n",
       "      <td>1</td>\n",
       "    </tr>\n",
       "    <tr>\n",
       "      <th>2</th>\n",
       "      <td>2</td>\n",
       "      <td>Kitano</td>\n",
       "      <td>1768.0</td>\n",
       "      <td>58.933333</td>\n",
       "      <td>10.0</td>\n",
       "      <td>0.333333</td>\n",
       "      <td>ATUALIZAR</td>\n",
       "      <td>2</td>\n",
       "      <td>2</td>\n",
       "    </tr>\n",
       "    <tr>\n",
       "      <th>3</th>\n",
       "      <td>3</td>\n",
       "      <td>NaN</td>\n",
       "      <td>NaN</td>\n",
       "      <td>NaN</td>\n",
       "      <td>NaN</td>\n",
       "      <td>NaN</td>\n",
       "      <td>ATUALIZAR</td>\n",
       "      <td>3</td>\n",
       "      <td>3</td>\n",
       "    </tr>\n",
       "    <tr>\n",
       "      <th>4</th>\n",
       "      <td>4</td>\n",
       "      <td>NaN</td>\n",
       "      <td>NaN</td>\n",
       "      <td>NaN</td>\n",
       "      <td>NaN</td>\n",
       "      <td>NaN</td>\n",
       "      <td>ATUALIZAR</td>\n",
       "      <td>4</td>\n",
       "      <td>4</td>\n",
       "    </tr>\n",
       "  </tbody>\n",
       "</table>\n",
       "</div>"
      ],
      "text/plain": [
       "   Channel Id       Channel Name    Views Last 30 Days   Views per Day  \\\n",
       "0           0  Sabores Ajinomoto             1169972.0    38999.066667   \n",
       "1           1       Knorr Brasil             2525531.0    84184.366667   \n",
       "2           2             Kitano                1768.0       58.933333   \n",
       "3           3                NaN                   NaN             NaN   \n",
       "4           4                NaN                   NaN             NaN   \n",
       "\n",
       "    Total Subscribers Last 30 Days   Subscribers per Day  \\\n",
       "0                             60.0              2.000000   \n",
       "1                            400.0             13.333333   \n",
       "2                             10.0              0.333333   \n",
       "3                              NaN                   NaN   \n",
       "4                              NaN                   NaN   \n",
       "\n",
       "   Total Uploads Last 30 Days   Uploads per Week     \n",
       "0                   ATUALIZAR                  0  0  \n",
       "1                   ATUALIZAR                  1  1  \n",
       "2                   ATUALIZAR                  2  2  \n",
       "3                   ATUALIZAR                  3  3  \n",
       "4                   ATUALIZAR                  4  4  "
      ]
     },
     "execution_count": 42,
     "metadata": {},
     "output_type": "execute_result"
    }
   ],
   "source": [
    "last_30_days_aux"
   ]
  },
  {
   "cell_type": "code",
   "execution_count": 43,
   "id": "e9c46b09",
   "metadata": {
    "execution": {
     "iopub.execute_input": "2023-11-16T16:13:22.707703Z",
     "iopub.status.busy": "2023-11-16T16:13:22.707703Z",
     "iopub.status.idle": "2023-11-16T16:13:22.726697Z",
     "shell.execute_reply": "2023-11-16T16:13:22.725703Z"
    },
    "papermill": {
     "duration": 0.035004,
     "end_time": "2023-11-16T16:13:22.729730",
     "exception": false,
     "start_time": "2023-11-16T16:13:22.694726",
     "status": "completed"
    },
    "tags": []
   },
   "outputs": [],
   "source": [
    "last_30_days_aux.to_csv(base_path + \"Last30Days.csv\", index=False, decimal=\",\")"
   ]
  },
  {
   "cell_type": "code",
   "execution_count": 44,
   "id": "5ac8726e",
   "metadata": {
    "execution": {
     "iopub.execute_input": "2023-11-16T16:13:22.753726Z",
     "iopub.status.busy": "2023-11-16T16:13:22.753726Z",
     "iopub.status.idle": "2023-11-16T16:13:22.758701Z",
     "shell.execute_reply": "2023-11-16T16:13:22.757702Z"
    },
    "papermill": {
     "duration": 0.021003,
     "end_time": "2023-11-16T16:13:22.761706",
     "exception": false,
     "start_time": "2023-11-16T16:13:22.740703",
     "status": "completed"
    },
    "tags": []
   },
   "outputs": [],
   "source": [
    "# last_30days.to_csv(f'data/{canais[0].split(\"@\")[-1]}/last_30days.csv', index=False)"
   ]
  },
  {
   "cell_type": "code",
   "execution_count": null,
   "id": "9e7a8414",
   "metadata": {
    "papermill": {
     "duration": 0.011,
     "end_time": "2023-11-16T16:13:22.783701",
     "exception": false,
     "start_time": "2023-11-16T16:13:22.772701",
     "status": "completed"
    },
    "tags": []
   },
   "outputs": [],
   "source": []
  },
  {
   "cell_type": "code",
   "execution_count": null,
   "id": "3cb6e071",
   "metadata": {
    "papermill": {
     "duration": 0.011998,
     "end_time": "2023-11-16T16:13:22.807724",
     "exception": false,
     "start_time": "2023-11-16T16:13:22.795726",
     "status": "completed"
    },
    "tags": []
   },
   "outputs": [],
   "source": []
  }
 ],
 "metadata": {
  "kernelspec": {
   "display_name": "venv",
   "language": "python",
   "name": "python3"
  },
  "language_info": {
   "codemirror_mode": {
    "name": "ipython",
    "version": 3
   },
   "file_extension": ".py",
   "mimetype": "text/x-python",
   "name": "python",
   "nbconvert_exporter": "python",
   "pygments_lexer": "ipython3",
   "version": "3.10.9"
  },
  "papermill": {
   "default_parameters": {},
   "duration": 7.231764,
   "end_time": "2023-11-16T16:13:23.269283",
   "environment_variables": {},
   "exception": null,
   "input_path": "transform.ipynb",
   "output_path": "transform.ipynb",
   "parameters": {},
   "start_time": "2023-11-16T16:13:16.037519",
   "version": "2.4.0"
  }
 },
 "nbformat": 4,
 "nbformat_minor": 5
}
