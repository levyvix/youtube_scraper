{
 "cells": [
  {
   "cell_type": "code",
   "execution_count": 1,
   "id": "01cfb67a",
   "metadata": {
    "execution": {
     "iopub.execute_input": "2023-08-29T18:20:05.425908Z",
     "iopub.status.busy": "2023-08-29T18:20:05.425908Z",
     "iopub.status.idle": "2023-08-29T18:20:06.417939Z",
     "shell.execute_reply": "2023-08-29T18:20:06.416934Z"
    },
    "papermill": {
     "duration": 1.002951,
     "end_time": "2023-08-29T18:20:06.420909",
     "exception": false,
     "start_time": "2023-08-29T18:20:05.417958",
     "status": "completed"
    },
    "tags": []
   },
   "outputs": [],
   "source": [
    "import re, json, time\n",
    "from selenium import webdriver\n",
    "import os\n",
    "\n",
    "# import By\n",
    "from selenium.webdriver.common.by import By\n",
    "from selenium.webdriver.chrome.service import Service\n",
    "\n",
    "# from webdriver_manager.chrome import ChromeDriverManager\n",
    "from parsel import Selector\n",
    "\n",
    "import pandas as pd\n",
    "import numpy as np"
   ]
  },
  {
   "attachments": {},
   "cell_type": "markdown",
   "id": "17ac693f",
   "metadata": {
    "papermill": {
     "duration": 0.005005,
     "end_time": "2023-08-29T18:20:06.431914",
     "exception": false,
     "start_time": "2023-08-29T18:20:06.426909",
     "status": "completed"
    },
    "tags": []
   },
   "source": [
    "\n",
    "# Tratamento\n"
   ]
  },
  {
   "cell_type": "code",
   "execution_count": 2,
   "id": "ead4a307",
   "metadata": {
    "execution": {
     "iopub.execute_input": "2023-08-29T18:20:06.444938Z",
     "iopub.status.busy": "2023-08-29T18:20:06.443936Z",
     "iopub.status.idle": "2023-08-29T18:20:06.465939Z",
     "shell.execute_reply": "2023-08-29T18:20:06.464957Z"
    },
    "papermill": {
     "duration": 0.031001,
     "end_time": "2023-08-29T18:20:06.467910",
     "exception": false,
     "start_time": "2023-08-29T18:20:06.436909",
     "status": "completed"
    },
    "tags": []
   },
   "outputs": [],
   "source": [
    "with open(\"canais.txt\", \"r\") as f:\n",
    "    # read each line as a item in a list and remove the \\n\n",
    "    canais = [line.strip() for line in f.readlines()]\n",
    "\n",
    "\n",
    "def scroll_page(url):\n",
    "    # service = Service(ChromeDriverManager().install())\n",
    "\n",
    "    # options = webdriver.ChromeOptions()\n",
    "    # options.add_argument(\"--headless\")\n",
    "    # options.add_argument(\"--lang=en\")\n",
    "    # options.add_argument(\n",
    "    #     \"user-agent=Mozilla/5.0 (Windows NT 10.0; Win64; x64) AppleWebKit/537.36 (KHTML, like Gecko) Chrome/104.0.0.0 Safari/537.36\"\n",
    "    # )\n",
    "\n",
    "    driver = webdriver.Chrome()\n",
    "    driver.get(url)\n",
    "    driver.implicitly_wait(10)\n",
    "\n",
    "    time.sleep(3)\n",
    "    selector = Selector(driver.page_source)\n",
    "    driver.quit()\n",
    "\n",
    "    return selector"
   ]
  },
  {
   "cell_type": "code",
   "execution_count": 3,
   "id": "896dca91",
   "metadata": {
    "execution": {
     "iopub.execute_input": "2023-08-29T18:20:06.479909Z",
     "iopub.status.busy": "2023-08-29T18:20:06.479909Z",
     "iopub.status.idle": "2023-08-29T18:20:06.513908Z",
     "shell.execute_reply": "2023-08-29T18:20:06.512963Z"
    },
    "papermill": {
     "duration": 0.044,
     "end_time": "2023-08-29T18:20:06.516908",
     "exception": false,
     "start_time": "2023-08-29T18:20:06.472908",
     "status": "completed"
    },
    "tags": []
   },
   "outputs": [
    {
     "name": "stdout",
     "output_type": "stream",
     "text": [
      "./data/BauduccoBrasil/\n"
     ]
    }
   ],
   "source": [
    "import re\n",
    "\n",
    "\n",
    "import locale\n",
    "\n",
    "locale.setlocale(locale.LC_ALL, \"pt_BR.UTF-8\")\n",
    "\n",
    "base_path = f\"./data/{canais[0].split('@')[-1]}/\"\n",
    "\n",
    "print(base_path)"
   ]
  },
  {
   "cell_type": "code",
   "execution_count": 4,
   "id": "0ecbdf6e",
   "metadata": {
    "execution": {
     "iopub.execute_input": "2023-08-29T18:20:06.528914Z",
     "iopub.status.busy": "2023-08-29T18:20:06.527909Z",
     "iopub.status.idle": "2023-08-29T18:20:06.545939Z",
     "shell.execute_reply": "2023-08-29T18:20:06.544967Z"
    },
    "papermill": {
     "duration": 0.025995,
     "end_time": "2023-08-29T18:20:06.547909",
     "exception": false,
     "start_time": "2023-08-29T18:20:06.521914",
     "status": "completed"
    },
    "tags": []
   },
   "outputs": [],
   "source": [
    "\n",
    "\n",
    "def trata_inscritos(col: pd.Series) -> pd.Series:\n",
    "    col = col.split(\" inscritos\")[0]\n",
    "\n",
    "    if \"mil\" in col:\n",
    "        return int(\n",
    "            float(col.replace(\"mil\", \"\").replace(\" \", \"\").replace(\",\", \".\")) * 1000\n",
    "        )\n",
    "\n",
    "    return int(col.replace(\" \", \"\").replace(\",\", \".\"))\n",
    "\n",
    "\n",
    "def trata_visualizacoes(col: pd.Series) -> pd.Series:\n",
    "    # treat the characters U+00a0\n",
    "\n",
    "    # if its a numeric value return it\n",
    "    if type(col) == int or type(col) == float:\n",
    "        return col\n",
    "\n",
    "    col = col.replace(\"\\xa0\", \"\")\n",
    "\n",
    "    col = col.split(\" visualizações\")[0]\n",
    "\n",
    "    if \"mil\" in col:\n",
    "        return int(\n",
    "            float(col.replace(\"mil\", \"\").replace(\" \", \"\").replace(\",\", \".\")) * 1000\n",
    "        )\n",
    "    elif \"mi\" in col:\n",
    "        # remove 'de'\n",
    "        if \"de\" in col:\n",
    "            col = col.replace(\"de\", \"\")\n",
    "        return int(\n",
    "            float(col.replace(\"mi\", \"\").replace(\" \", \"\").replace(\",\", \".\")) * 1000000\n",
    "        )\n",
    "\n",
    "    return int(col.replace(\" \", \"\").replace(\".\", \"\").replace(\",\", \".\"))\n",
    "\n",
    "\n",
    "def trata_data(value):\n",
    "    meses = {\n",
    "        \"jan\": \"01\",\n",
    "        \"fev\": \"02\",\n",
    "        \"mar\": \"03\",\n",
    "        \"abr\": \"04\",\n",
    "        \"mai\": \"05\",\n",
    "        \"jun\": \"06\",\n",
    "        \"jul\": \"07\",\n",
    "        \"ago\": \"08\",\n",
    "        \"set\": \"09\",\n",
    "        \"out\": \"10\",\n",
    "        \"nov\": \"11\",\n",
    "        \"dez\": \"12\",\n",
    "    }\n",
    "    series_data = re.sub(r\"\\. de\", \"\", value)\n",
    "    # print(series_data)\n",
    "    series_data = re.search(r\"(\\d{1,2} de [a-zA-Z]+ \\d{4})\", series_data).group(0)\n",
    "    # replace month\n",
    "    for k, v in meses.items():\n",
    "        series_data = series_data.replace(k, v)\n",
    "\n",
    "    # print(series_data)\n",
    "    series_data = pd.to_datetime(series_data, format=\"%d de %m %Y\", errors=\"coerce\")\n",
    "    return series_data\n",
    "\n",
    "\n"
   ]
  },
  {
   "attachments": {},
   "cell_type": "markdown",
   "id": "ee69877e",
   "metadata": {
    "papermill": {
     "duration": 0.005,
     "end_time": "2023-08-29T18:20:06.558909",
     "exception": false,
     "start_time": "2023-08-29T18:20:06.553909",
     "status": "completed"
    },
    "tags": []
   },
   "source": [
    "trata videos"
   ]
  },
  {
   "cell_type": "code",
   "execution_count": 5,
   "id": "ba5dd3e0",
   "metadata": {
    "execution": {
     "iopub.execute_input": "2023-08-29T18:20:06.571908Z",
     "iopub.status.busy": "2023-08-29T18:20:06.570909Z",
     "iopub.status.idle": "2023-08-29T18:20:06.607940Z",
     "shell.execute_reply": "2023-08-29T18:20:06.606956Z"
    },
    "papermill": {
     "duration": 0.046976,
     "end_time": "2023-08-29T18:20:06.610909",
     "exception": false,
     "start_time": "2023-08-29T18:20:06.563933",
     "status": "completed"
    },
    "tags": []
   },
   "outputs": [
    {
     "data": {
      "text/html": [
       "<div>\n",
       "<style scoped>\n",
       "    .dataframe tbody tr th:only-of-type {\n",
       "        vertical-align: middle;\n",
       "    }\n",
       "\n",
       "    .dataframe tbody tr th {\n",
       "        vertical-align: top;\n",
       "    }\n",
       "\n",
       "    .dataframe thead th {\n",
       "        text-align: right;\n",
       "    }\n",
       "</style>\n",
       "<table border=\"1\" class=\"dataframe\">\n",
       "  <thead>\n",
       "    <tr style=\"text-align: right;\">\n",
       "      <th></th>\n",
       "      <th>title</th>\n",
       "      <th>views</th>\n",
       "      <th>likes</th>\n",
       "      <th>date</th>\n",
       "      <th>comments_amount</th>\n",
       "      <th>channel_name</th>\n",
       "      <th>subscribers</th>\n",
       "    </tr>\n",
       "  </thead>\n",
       "  <tbody>\n",
       "    <tr>\n",
       "      <th>0</th>\n",
       "      <td>Bauducco Cozinha | S'mores com Bauducco® Choco...</td>\n",
       "      <td>179 visualizações</td>\n",
       "      <td>13</td>\n",
       "      <td>7 de ago. de 2023</td>\n",
       "      <td>0</td>\n",
       "      <td>Bauducco</td>\n",
       "      <td>35,3 mil inscritos</td>\n",
       "    </tr>\n",
       "    <tr>\n",
       "      <th>1</th>\n",
       "      <td>Sanduíche de S'mores com Bauducco® Choco Biscuit</td>\n",
       "      <td>147 visualizações</td>\n",
       "      <td>12</td>\n",
       "      <td>5 de ago. de 2023</td>\n",
       "      <td>0</td>\n",
       "      <td>Bauducco</td>\n",
       "      <td>35,3 mil inscritos</td>\n",
       "    </tr>\n",
       "    <tr>\n",
       "      <th>2</th>\n",
       "      <td>Bauducco Cozinha | Bauducco® Bolo de Chocolate...</td>\n",
       "      <td>136 visualizações</td>\n",
       "      <td>7</td>\n",
       "      <td>31 de jul. de 2023</td>\n",
       "      <td>0</td>\n",
       "      <td>Bauducco</td>\n",
       "      <td>35,3 mil inscritos</td>\n",
       "    </tr>\n",
       "    <tr>\n",
       "      <th>3</th>\n",
       "      <td>Bauducco® Cozinha | Gran Gatêau de Chocobiscuit</td>\n",
       "      <td>102 visualizações</td>\n",
       "      <td>7</td>\n",
       "      <td>31 de jul. de 2023</td>\n",
       "      <td>0</td>\n",
       "      <td>Bauducco</td>\n",
       "      <td>35,3 mil inscritos</td>\n",
       "    </tr>\n",
       "    <tr>\n",
       "      <th>4</th>\n",
       "      <td>Bauducco Cozinha | Triângulo de Bauducco® Cho...</td>\n",
       "      <td>117 visualizações</td>\n",
       "      <td>12</td>\n",
       "      <td>31 de jul. de 2023</td>\n",
       "      <td>0</td>\n",
       "      <td>Bauducco</td>\n",
       "      <td>35,3 mil inscritos</td>\n",
       "    </tr>\n",
       "  </tbody>\n",
       "</table>\n",
       "</div>"
      ],
      "text/plain": [
       "                                               title              views  \\\n",
       "0  Bauducco Cozinha | S'mores com Bauducco® Choco...  179 visualizações   \n",
       "1   Sanduíche de S'mores com Bauducco® Choco Biscuit  147 visualizações   \n",
       "2  Bauducco Cozinha | Bauducco® Bolo de Chocolate...  136 visualizações   \n",
       "3    Bauducco® Cozinha | Gran Gatêau de Chocobiscuit  102 visualizações   \n",
       "4  Bauducco Cozinha | Triângulo de Bauducco® Cho...  117 visualizações   \n",
       "\n",
       "   likes                date  comments_amount channel_name         subscribers  \n",
       "0     13   7 de ago. de 2023                0     Bauducco  35,3 mil inscritos  \n",
       "1     12   5 de ago. de 2023                0     Bauducco  35,3 mil inscritos  \n",
       "2      7  31 de jul. de 2023                0     Bauducco  35,3 mil inscritos  \n",
       "3      7  31 de jul. de 2023                0     Bauducco  35,3 mil inscritos  \n",
       "4     12  31 de jul. de 2023                0     Bauducco  35,3 mil inscritos  "
      ]
     },
     "metadata": {},
     "output_type": "display_data"
    },
    {
     "data": {
      "text/plain": [
       "Index(['title', 'views', 'likes', 'date', 'comments_amount', 'channel_name',\n",
       "       'subscribers'],\n",
       "      dtype='object')"
      ]
     },
     "metadata": {},
     "output_type": "display_data"
    }
   ],
   "source": [
    "\n",
    "videos = pd.read_csv(base_path + \"videos.csv\")\n",
    "\n",
    "display(videos.head())\n",
    "display(videos.columns)"
   ]
  },
  {
   "cell_type": "code",
   "execution_count": 6,
   "id": "17c44558",
   "metadata": {
    "execution": {
     "iopub.execute_input": "2023-08-29T18:20:06.623920Z",
     "iopub.status.busy": "2023-08-29T18:20:06.623920Z",
     "iopub.status.idle": "2023-08-29T18:20:06.686939Z",
     "shell.execute_reply": "2023-08-29T18:20:06.685933Z"
    },
    "papermill": {
     "duration": 0.073001,
     "end_time": "2023-08-29T18:20:06.689909",
     "exception": false,
     "start_time": "2023-08-29T18:20:06.616908",
     "status": "completed"
    },
    "tags": []
   },
   "outputs": [],
   "source": [
    "\n",
    "\n",
    "videos.assign(\n",
    "    subscribers=lambda df_: df_[\"subscribers\"].apply(trata_inscritos),\n",
    "    views=lambda df_: df_[\"views\"].apply(trata_visualizacoes),\n",
    "    date=lambda df_: df_[\"date\"].apply(trata_data),\n",
    "    category=\"RECENT\",\n",
    ").to_parquet(base_path + \"videos.parquet\")\n"
   ]
  },
  {
   "attachments": {},
   "cell_type": "markdown",
   "id": "c487d2a2",
   "metadata": {
    "papermill": {
     "duration": 0.006002,
     "end_time": "2023-08-29T18:20:06.701910",
     "exception": false,
     "start_time": "2023-08-29T18:20:06.695908",
     "status": "completed"
    },
    "tags": []
   },
   "source": [
    "# Trata Top videos"
   ]
  },
  {
   "cell_type": "code",
   "execution_count": 7,
   "id": "468a20c9",
   "metadata": {
    "execution": {
     "iopub.execute_input": "2023-08-29T18:20:06.715909Z",
     "iopub.status.busy": "2023-08-29T18:20:06.714909Z",
     "iopub.status.idle": "2023-08-29T18:20:06.732941Z",
     "shell.execute_reply": "2023-08-29T18:20:06.731972Z"
    },
    "papermill": {
     "duration": 0.027005,
     "end_time": "2023-08-29T18:20:06.734913",
     "exception": false,
     "start_time": "2023-08-29T18:20:06.707908",
     "status": "completed"
    },
    "tags": []
   },
   "outputs": [
    {
     "data": {
      "text/html": [
       "<div>\n",
       "<style scoped>\n",
       "    .dataframe tbody tr th:only-of-type {\n",
       "        vertical-align: middle;\n",
       "    }\n",
       "\n",
       "    .dataframe tbody tr th {\n",
       "        vertical-align: top;\n",
       "    }\n",
       "\n",
       "    .dataframe thead th {\n",
       "        text-align: right;\n",
       "    }\n",
       "</style>\n",
       "<table border=\"1\" class=\"dataframe\">\n",
       "  <thead>\n",
       "    <tr style=\"text-align: right;\">\n",
       "      <th></th>\n",
       "      <th>title</th>\n",
       "      <th>views</th>\n",
       "      <th>likes</th>\n",
       "      <th>date</th>\n",
       "      <th>comments_amount</th>\n",
       "      <th>channel_name</th>\n",
       "    </tr>\n",
       "  </thead>\n",
       "  <tbody>\n",
       "    <tr>\n",
       "      <th>0</th>\n",
       "      <td>Um novo olhar</td>\n",
       "      <td>20 mi de visualizações</td>\n",
       "      <td>565</td>\n",
       "      <td>6 de jul. de 2018</td>\n",
       "      <td>0</td>\n",
       "      <td>Bauducco</td>\n",
       "    </tr>\n",
       "    <tr>\n",
       "      <th>1</th>\n",
       "      <td>Cookies Bauducco Tatuagem</td>\n",
       "      <td>16 mi de visualizações</td>\n",
       "      <td>375</td>\n",
       "      <td>15 de ago. de 2017</td>\n",
       "      <td>0</td>\n",
       "      <td>Bauducco</td>\n",
       "    </tr>\n",
       "    <tr>\n",
       "      <th>2</th>\n",
       "      <td>Chocolomba® Trufa Bauducco</td>\n",
       "      <td>11 mi de visualizações</td>\n",
       "      <td>43</td>\n",
       "      <td>26 de mar. de 2021</td>\n",
       "      <td>0</td>\n",
       "      <td>Bauducco</td>\n",
       "    </tr>\n",
       "    <tr>\n",
       "      <th>3</th>\n",
       "      <td>Natal Bauducco - Bebê Chorão</td>\n",
       "      <td>9,2 mi de visualizações</td>\n",
       "      <td>246</td>\n",
       "      <td>24 de nov. de 2017</td>\n",
       "      <td>0</td>\n",
       "      <td>Bauducco</td>\n",
       "    </tr>\n",
       "    <tr>\n",
       "      <th>4</th>\n",
       "      <td>Pedacinhos do Natal – Uma carta | 60\"</td>\n",
       "      <td>7,9 mi de visualizações</td>\n",
       "      <td>54</td>\n",
       "      <td>26 de nov. de 2018</td>\n",
       "      <td>0</td>\n",
       "      <td>Bauducco</td>\n",
       "    </tr>\n",
       "  </tbody>\n",
       "</table>\n",
       "</div>"
      ],
      "text/plain": [
       "                                   title                    views  likes  \\\n",
       "0                          Um novo olhar   20 mi de visualizações    565   \n",
       "1              Cookies Bauducco Tatuagem   16 mi de visualizações    375   \n",
       "2             Chocolomba® Trufa Bauducco   11 mi de visualizações     43   \n",
       "3           Natal Bauducco - Bebê Chorão  9,2 mi de visualizações    246   \n",
       "4  Pedacinhos do Natal – Uma carta | 60\"  7,9 mi de visualizações     54   \n",
       "\n",
       "                 date  comments_amount channel_name  \n",
       "0   6 de jul. de 2018                0     Bauducco  \n",
       "1  15 de ago. de 2017                0     Bauducco  \n",
       "2  26 de mar. de 2021                0     Bauducco  \n",
       "3  24 de nov. de 2017                0     Bauducco  \n",
       "4  26 de nov. de 2018                0     Bauducco  "
      ]
     },
     "metadata": {},
     "output_type": "display_data"
    }
   ],
   "source": [
    "\n",
    "\n",
    "\n",
    "\n",
    "\n",
    "import pandas as pd\n",
    "\n",
    "\n",
    "top_videos = pd.read_csv(base_path + \"top_videos.csv\")\n",
    "\n",
    "display(top_videos.head())"
   ]
  },
  {
   "cell_type": "code",
   "execution_count": 8,
   "id": "f3c8def8",
   "metadata": {
    "execution": {
     "iopub.execute_input": "2023-08-29T18:20:06.748909Z",
     "iopub.status.busy": "2023-08-29T18:20:06.748909Z",
     "iopub.status.idle": "2023-08-29T18:20:06.778942Z",
     "shell.execute_reply": "2023-08-29T18:20:06.777937Z"
    },
    "papermill": {
     "duration": 0.040001,
     "end_time": "2023-08-29T18:20:06.780935",
     "exception": false,
     "start_time": "2023-08-29T18:20:06.740934",
     "status": "completed"
    },
    "tags": []
   },
   "outputs": [],
   "source": [
    "\n",
    "top_videos.assign(\n",
    "    date=lambda df_: df_[\"date\"].apply(trata_data),\n",
    "    views=lambda df_: df_[\"views\"].apply(trata_visualizacoes),\n",
    "    category=\"TOP\",\n",
    ").to_parquet(base_path + \"top_videos.parquet\")\n"
   ]
  },
  {
   "cell_type": "code",
   "execution_count": 9,
   "id": "23472561",
   "metadata": {
    "execution": {
     "iopub.execute_input": "2023-08-29T18:20:06.795914Z",
     "iopub.status.busy": "2023-08-29T18:20:06.794908Z",
     "iopub.status.idle": "2023-08-29T18:20:07.095918Z",
     "shell.execute_reply": "2023-08-29T18:20:07.094915Z"
    },
    "papermill": {
     "duration": 0.311004,
     "end_time": "2023-08-29T18:20:07.098914",
     "exception": false,
     "start_time": "2023-08-29T18:20:06.787910",
     "status": "completed"
    },
    "tags": []
   },
   "outputs": [],
   "source": [
    "\n",
    "\n",
    "top_videos_silver = pd.read_parquet(base_path + \"top_videos.parquet\")\n",
    "\n"
   ]
  },
  {
   "cell_type": "code",
   "execution_count": 10,
   "id": "8e993684",
   "metadata": {
    "execution": {
     "iopub.execute_input": "2023-08-29T18:20:07.114915Z",
     "iopub.status.busy": "2023-08-29T18:20:07.113916Z",
     "iopub.status.idle": "2023-08-29T18:20:07.143913Z",
     "shell.execute_reply": "2023-08-29T18:20:07.142914Z"
    },
    "papermill": {
     "duration": 0.040994,
     "end_time": "2023-08-29T18:20:07.146909",
     "exception": false,
     "start_time": "2023-08-29T18:20:07.105915",
     "status": "completed"
    },
    "tags": []
   },
   "outputs": [],
   "source": [
    "\n",
    "# # Trata lifetime\n",
    "\n",
    "\n",
    "df_lifetime = pd.read_csv(base_path + \"lifetime.csv\")\n",
    "\n",
    "\n",
    "df_lifetime.head()\n",
    "\n",
    "\n",
    "\n",
    "def days_on_youtube(value) -> int:\n",
    "    import datetime\n",
    "\n",
    "    today = datetime.date.today()\n",
    "    return (today - value.date()).days\n",
    "\n",
    "\n",
    "\n",
    "(\n",
    "    df_lifetime.assign(\n",
    "        date_joined=lambda df_: df_[\"date_joined\"].apply(trata_data),\n",
    "        total_views=lambda df_: df_[\"total_views\"].apply(trata_visualizacoes),\n",
    "        total_subs=lambda df_: df_[\"total_subs\"].apply(trata_inscritos),\n",
    "        days_since_joined=lambda df_: df_[\"date_joined\"].apply(days_on_youtube),\n",
    "    )\n",
    ").to_csv(base_path + \"lifetime_clean.csv\", index=False)"
   ]
  },
  {
   "cell_type": "code",
   "execution_count": 11,
   "id": "1a0f94dd",
   "metadata": {
    "execution": {
     "iopub.execute_input": "2023-08-29T18:20:07.163914Z",
     "iopub.status.busy": "2023-08-29T18:20:07.162908Z",
     "iopub.status.idle": "2023-08-29T18:20:07.236938Z",
     "shell.execute_reply": "2023-08-29T18:20:07.235938Z"
    },
    "papermill": {
     "duration": 0.086,
     "end_time": "2023-08-29T18:20:07.239909",
     "exception": false,
     "start_time": "2023-08-29T18:20:07.153909",
     "status": "completed"
    },
    "tags": []
   },
   "outputs": [],
   "source": [
    "# # join\n",
    "\n",
    "\n",
    "videos = pd.read_parquet(base_path + \"videos.parquet\")\n",
    "top_videos = pd.read_parquet(base_path + \"top_videos.parquet\")\n",
    "\n",
    "\n",
    "# join the two dataframes\n",
    "\n",
    "videos = pd.concat([videos, top_videos])\n",
    "\n",
    "\n",
    "videos_sorted = videos.sort_values(\"channel_name\")\n",
    "\n",
    "videos_sorted[\"subscribers\"] = videos_sorted[\"subscribers\"].fillna(method=\"ffill\")\n",
    "\n",
    "\n",
    "videos_sorted = videos_sorted.sort_values([\"channel_name\", \"category\", \"date\"])\n",
    "\n",
    "\n",
    "videos_sorted.to_parquet(base_path + \"videos_sorted.parquet\")\n",
    "\n",
    "\n",
    "pd.read_parquet(base_path + \"videos_sorted.parquet\").to_csv(\n",
    "    base_path + \"videos_sorted.csv\", index=False, sep=';'\n",
    ")"
   ]
  },
  {
   "attachments": {},
   "cell_type": "markdown",
   "id": "b07de1c8",
   "metadata": {
    "papermill": {
     "duration": 0.006,
     "end_time": "2023-08-29T18:20:07.252907",
     "exception": false,
     "start_time": "2023-08-29T18:20:07.246907",
     "status": "completed"
    },
    "tags": []
   },
   "source": [
    "last 30 days"
   ]
  },
  {
   "cell_type": "code",
   "execution_count": 12,
   "id": "b6d50769",
   "metadata": {
    "execution": {
     "iopub.execute_input": "2023-08-29T18:20:07.267915Z",
     "iopub.status.busy": "2023-08-29T18:20:07.266914Z",
     "iopub.status.idle": "2023-08-29T18:20:07.300940Z",
     "shell.execute_reply": "2023-08-29T18:20:07.299946Z"
    },
    "papermill": {
     "duration": 0.044975,
     "end_time": "2023-08-29T18:20:07.303913",
     "exception": false,
     "start_time": "2023-08-29T18:20:07.258938",
     "status": "completed"
    },
    "tags": []
   },
   "outputs": [],
   "source": [
    "# read channel IDs\n",
    "\n",
    "with open(\"canais.txt\", \"r\") as f:\n",
    "    canais = f.readlines()\n",
    "\n",
    "\n",
    "canais = [c.strip() for c in canais]\n",
    "# take only the string after the last slash\n",
    "canais = [c.split(\"/\")[-1] for c in canais]\n",
    "\n",
    "# print(canais)\n",
    "\n",
    "base_url = \"https://socialblade.com/youtube/channel/\"\n",
    "\n",
    "last_30days = pd.read_parquet(f'data/{canais[0].split(\"@\")[-1]}/last_30_days.parquet')\n",
    "\n",
    "\n",
    "def fix_views(view: pd.Series) -> pd.Series:\n",
    "    view = view.str.replace(\"+\", \"\").str.replace(\",\", \"\")\n",
    "    # print(view)\n",
    "\n",
    "    view = view.apply(lambda x: float(x.replace(\"K\", \"\")) * 1000 if \"K\" in x else x)\n",
    "    view = view.apply(\n",
    "        lambda x: float(x.replace(\"M\", \"\")) * 1000000 if \"M\" in str(x) else x\n",
    "    )\n",
    "\n",
    "    return view\n",
    "\n",
    "\n",
    "last_30days = last_30days.assign(\n",
    "    views=lambda x: fix_views(x[\"views\"]), \n",
    "    subs=lambda x: fix_views(x[\"subs\"])\n",
    ")\n",
    "\n",
    "\n",
    "last_30days.to_csv(f'data/{canais[0].split(\"@\")[-1]}/last_30days.csv', index=False)"
   ]
  }
 ],
 "metadata": {
  "kernelspec": {
   "display_name": "venv",
   "language": "python",
   "name": "python3"
  },
  "language_info": {
   "codemirror_mode": {
    "name": "ipython",
    "version": 3
   },
   "file_extension": ".py",
   "mimetype": "text/x-python",
   "name": "python",
   "nbconvert_exporter": "python",
   "pygments_lexer": "ipython3",
   "version": "3.10.9"
  },
  "papermill": {
   "default_parameters": {},
   "duration": 6.273993,
   "end_time": "2023-08-29T18:20:07.669908",
   "environment_variables": {},
   "exception": null,
   "input_path": "transform.ipynb",
   "output_path": "transform.ipynb",
   "parameters": {},
   "start_time": "2023-08-29T18:20:01.395915",
   "version": "2.4.0"
  }
 },
 "nbformat": 4,
 "nbformat_minor": 5
}