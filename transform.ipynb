{
 "cells": [
  {
   "cell_type": "code",
   "execution_count": 1,
   "id": "01cfb67a",
   "metadata": {
    "execution": {
     "iopub.execute_input": "2023-12-05T16:55:59.536831Z",
     "iopub.status.busy": "2023-12-05T16:55:59.535858Z",
     "iopub.status.idle": "2023-12-05T16:56:00.582475Z",
     "shell.execute_reply": "2023-12-05T16:56:00.581494Z"
    },
    "papermill": {
     "duration": 1.06063,
     "end_time": "2023-12-05T16:56:00.585497",
     "exception": false,
     "start_time": "2023-12-05T16:55:59.524867",
     "status": "completed"
    },
    "tags": []
   },
   "outputs": [],
   "source": [
    "import re, json, time\n",
    "from selenium import webdriver\n",
    "import os\n",
    "\n",
    "# import By\n",
    "from selenium.webdriver.common.by import By\n",
    "from selenium.webdriver.chrome.service import Service\n",
    "\n",
    "# from webdriver_manager.chrome import ChromeDriverManager\n",
    "from parsel import Selector\n",
    "\n",
    "import pandas as pd\n",
    "import numpy as np"
   ]
  },
  {
   "attachments": {},
   "cell_type": "markdown",
   "id": "17ac693f",
   "metadata": {
    "papermill": {
     "duration": 0.009024,
     "end_time": "2023-12-05T16:56:00.604493",
     "exception": false,
     "start_time": "2023-12-05T16:56:00.595469",
     "status": "completed"
    },
    "tags": []
   },
   "source": [
    "\n",
    "# Tratamento\n"
   ]
  },
  {
   "cell_type": "code",
   "execution_count": 2,
   "id": "ead4a307",
   "metadata": {
    "execution": {
     "iopub.execute_input": "2023-12-05T16:56:00.625498Z",
     "iopub.status.busy": "2023-12-05T16:56:00.624475Z",
     "iopub.status.idle": "2023-12-05T16:56:00.645473Z",
     "shell.execute_reply": "2023-12-05T16:56:00.644508Z"
    },
    "papermill": {
     "duration": 0.034024,
     "end_time": "2023-12-05T16:56:00.648495",
     "exception": false,
     "start_time": "2023-12-05T16:56:00.614471",
     "status": "completed"
    },
    "tags": []
   },
   "outputs": [],
   "source": [
    "with open(\"canais.txt\", \"r\") as f:\n",
    "    # read each line as a item in a list and remove the \\n\n",
    "    canais = [line.strip() for line in f.readlines()]\n",
    "\n",
    "\n",
    "def scroll_page(url):\n",
    "    # service = Service(ChromeDriverManager().install())\n",
    "\n",
    "    # options = webdriver.ChromeOptions()\n",
    "    # options.add_argument(\"--headless\")\n",
    "    # options.add_argument(\"--lang=en\")\n",
    "    # options.add_argument(\n",
    "    #     \"user-agent=Mozilla/5.0 (Windows NT 10.0; Win64; x64) AppleWebKit/537.36 (KHTML, like Gecko) Chrome/104.0.0.0 Safari/537.36\"\n",
    "    # )\n",
    "\n",
    "    driver = webdriver.Chrome()\n",
    "    driver.get(url)\n",
    "    driver.implicitly_wait(10)\n",
    "\n",
    "    time.sleep(3)\n",
    "    selector = Selector(driver.page_source)\n",
    "    driver.quit()\n",
    "\n",
    "    return selector"
   ]
  },
  {
   "cell_type": "code",
   "execution_count": 3,
   "id": "896dca91",
   "metadata": {
    "execution": {
     "iopub.execute_input": "2023-12-05T16:56:00.667492Z",
     "iopub.status.busy": "2023-12-05T16:56:00.667492Z",
     "iopub.status.idle": "2023-12-05T16:56:00.693471Z",
     "shell.execute_reply": "2023-12-05T16:56:00.692471Z"
    },
    "papermill": {
     "duration": 0.03898,
     "end_time": "2023-12-05T16:56:00.696471",
     "exception": false,
     "start_time": "2023-12-05T16:56:00.657491",
     "status": "completed"
    },
    "tags": []
   },
   "outputs": [
    {
     "name": "stdout",
     "output_type": "stream",
     "text": [
      "./data/EspacolaserNews/\n"
     ]
    }
   ],
   "source": [
    "import re\n",
    "\n",
    "\n",
    "import locale\n",
    "\n",
    "locale.setlocale(locale.LC_ALL, \"pt_BR.UTF-8\")\n",
    "\n",
    "base_path = f\"./data/{canais[0].split('@')[-1]}/\"\n",
    "\n",
    "print(base_path)"
   ]
  },
  {
   "cell_type": "code",
   "execution_count": 4,
   "id": "0ecbdf6e",
   "metadata": {
    "execution": {
     "iopub.execute_input": "2023-12-05T16:56:00.718471Z",
     "iopub.status.busy": "2023-12-05T16:56:00.718471Z",
     "iopub.status.idle": "2023-12-05T16:56:00.741467Z",
     "shell.execute_reply": "2023-12-05T16:56:00.740468Z"
    },
    "papermill": {
     "duration": 0.038,
     "end_time": "2023-12-05T16:56:00.744469",
     "exception": false,
     "start_time": "2023-12-05T16:56:00.706469",
     "status": "completed"
    },
    "tags": []
   },
   "outputs": [],
   "source": [
    "def trata_inscritos(col: pd.Series) -> pd.Series:\n",
    "    col = col.split(\" inscritos\")[0]\n",
    "\n",
    "    if \"mil\" in col:\n",
    "        return int(\n",
    "            float(col.replace(\"mil\", \"\").replace(\" \", \"\").replace(\",\", \".\")) * 1000\n",
    "        )\n",
    "    if \"mi\" in col:\n",
    "        # remove 'de'\n",
    "        if \"de\" in col:\n",
    "            col = col.replace(\"de\", \"\")\n",
    "        return int(\n",
    "            float(col.replace(\"mi\", \"\").replace(\" \", \"\").replace(\",\", \".\")) * 1000000\n",
    "        )\n",
    "\n",
    "    return int(col.replace(\" \", \"\").replace(\",\", \".\"))\n",
    "\n",
    "\n",
    "def trata_visualizacoes(col):\n",
    "    # treat the characters U+00a0\n",
    "\n",
    "    # if its a numeric value return it\n",
    "    if type(col) == int or type(col) == float:\n",
    "        return col\n",
    "\n",
    "    col = col.replace(\"\\xa0\", \"\")\n",
    "\n",
    "    col = col.split(\" visualizações\")[0]\n",
    "\n",
    "    if \"mil\" in col:\n",
    "        return int(\n",
    "            float(col.replace(\"mil\", \"\").replace(\" \", \"\").replace(\",\", \".\")) * 1000\n",
    "        )\n",
    "    elif \"mi\" in col:\n",
    "        # remove 'de'\n",
    "        if \"de\" in col:\n",
    "            col = col.replace(\"de\", \"\")\n",
    "        return int(\n",
    "            float(col.replace(\"mi\", \"\").replace(\" \", \"\").replace(\",\", \".\")) * 1000000\n",
    "        )\n",
    "\n",
    "    try:\n",
    "        return int(col.replace(\" \", \"\").replace(\".\", \"\").replace(\",\", \".\"))\n",
    "    except:\n",
    "        return 0\n",
    "\n",
    "\n",
    "def trata_comments(col):\n",
    "    # print(col)\n",
    "    # print(type(col))\n",
    "\n",
    "    if type(col) == int or type(col) == float:\n",
    "        return col\n",
    "\n",
    "    value = 0\n",
    "\n",
    "    try:\n",
    "        value = int(col)\n",
    "    except:\n",
    "        pass\n",
    "\n",
    "    if \"Transcrição\" in col:\n",
    "        return 0\n",
    "\n",
    "    col = col.replace(\"\\xa0\", \"\")\n",
    "\n",
    "    if \"mil\" in col:\n",
    "        return int(\n",
    "            float(col.replace(\"mil\", \"\").replace(\" \", \"\").replace(\",\", \".\")) * 1000\n",
    "        )\n",
    "    elif \"mi\" in col:\n",
    "        # remove 'de'\n",
    "        if \"de\" in col:\n",
    "            col = col.replace(\"de\", \"\")\n",
    "        try:\n",
    "            value = int(\n",
    "                float(col.replace(\"mi\", \"\").replace(\" \", \"\").replace(\",\", \".\"))\n",
    "                * 1000000\n",
    "            )\n",
    "        except:\n",
    "            value = 0\n",
    "\n",
    "    return (\n",
    "        int(col.replace(\" \", \"\").replace(\".\", \"\").replace(\",\", \".\"))\n",
    "        if value != 0\n",
    "        else 0\n",
    "    )\n",
    "\n",
    "\n",
    "def trata_data(value):\n",
    "    meses = {\n",
    "        \"jan\": \"01\",\n",
    "        \"fev\": \"02\",\n",
    "        \"mar\": \"03\",\n",
    "        \"abr\": \"04\",\n",
    "        \"mai\": \"05\",\n",
    "        \"jun\": \"06\",\n",
    "        \"jul\": \"07\",\n",
    "        \"ago\": \"08\",\n",
    "        \"set\": \"09\",\n",
    "        \"out\": \"10\",\n",
    "        \"nov\": \"11\",\n",
    "        \"dez\": \"12\",\n",
    "    }\n",
    "    series_data = re.sub(r\"\\. de\", \"\", value)\n",
    "    # print(series_data)\n",
    "    series_data = re.search(r\"(\\d{1,2} de [a-zA-Z]+ \\d{4})\", series_data).group(0)\n",
    "    # replace month\n",
    "    for k, v in meses.items():\n",
    "        series_data = series_data.replace(k, v)\n",
    "\n",
    "    # print(series_data)\n",
    "    series_data = pd.to_datetime(series_data, format=\"%d de %m %Y\", errors=\"coerce\")\n",
    "    return series_data"
   ]
  },
  {
   "attachments": {},
   "cell_type": "markdown",
   "id": "ee69877e",
   "metadata": {
    "papermill": {
     "duration": 0.009977,
     "end_time": "2023-12-05T16:56:00.763469",
     "exception": false,
     "start_time": "2023-12-05T16:56:00.753492",
     "status": "completed"
    },
    "tags": []
   },
   "source": [
    "trata videos"
   ]
  },
  {
   "cell_type": "code",
   "execution_count": 5,
   "id": "ba5dd3e0",
   "metadata": {
    "execution": {
     "iopub.execute_input": "2023-12-05T16:56:00.782498Z",
     "iopub.status.busy": "2023-12-05T16:56:00.782498Z",
     "iopub.status.idle": "2023-12-05T16:56:00.833473Z",
     "shell.execute_reply": "2023-12-05T16:56:00.832469Z"
    },
    "papermill": {
     "duration": 0.063995,
     "end_time": "2023-12-05T16:56:00.836496",
     "exception": false,
     "start_time": "2023-12-05T16:56:00.772501",
     "status": "completed"
    },
    "tags": []
   },
   "outputs": [
    {
     "data": {
      "text/html": [
       "<div>\n",
       "<style scoped>\n",
       "    .dataframe tbody tr th:only-of-type {\n",
       "        vertical-align: middle;\n",
       "    }\n",
       "\n",
       "    .dataframe tbody tr th {\n",
       "        vertical-align: top;\n",
       "    }\n",
       "\n",
       "    .dataframe thead th {\n",
       "        text-align: right;\n",
       "    }\n",
       "</style>\n",
       "<table border=\"1\" class=\"dataframe\">\n",
       "  <thead>\n",
       "    <tr style=\"text-align: right;\">\n",
       "      <th></th>\n",
       "      <th>title</th>\n",
       "      <th>views</th>\n",
       "      <th>likes</th>\n",
       "      <th>date</th>\n",
       "      <th>comments_amount</th>\n",
       "      <th>channel_name</th>\n",
       "      <th>subscribers</th>\n",
       "    </tr>\n",
       "  </thead>\n",
       "  <tbody>\n",
       "    <tr>\n",
       "      <th>0</th>\n",
       "      <td>NaN</td>\n",
       "      <td>NaN</td>\n",
       "      <td>0</td>\n",
       "      <td>NaN</td>\n",
       "      <td>NaN</td>\n",
       "      <td>Espaçolaser</td>\n",
       "      <td>14,3 mil inscritos</td>\n",
       "    </tr>\n",
       "    <tr>\n",
       "      <th>1</th>\n",
       "      <td>Espaçolaser: Depilação ainda é um pesadelo par...</td>\n",
       "      <td>1,8 mil visualizações</td>\n",
       "      <td>8</td>\n",
       "      <td>23 de out. de 2023</td>\n",
       "      <td>NaN</td>\n",
       "      <td>Espaçolaser</td>\n",
       "      <td>14,3 mil inscritos</td>\n",
       "    </tr>\n",
       "    <tr>\n",
       "      <th>2</th>\n",
       "      <td>Outubro OFF Espaçolaser</td>\n",
       "      <td>1,1 mil visualizações</td>\n",
       "      <td>0</td>\n",
       "      <td>29 de set. de 2023</td>\n",
       "      <td>NaN</td>\n",
       "      <td>Espaçolaser</td>\n",
       "      <td>14,3 mil inscritos</td>\n",
       "    </tr>\n",
       "    <tr>\n",
       "      <th>3</th>\n",
       "      <td>Minha História de Amor Espaçolaser</td>\n",
       "      <td>362 visualizações</td>\n",
       "      <td>7</td>\n",
       "      <td>15 de ago. de 2023</td>\n",
       "      <td>2</td>\n",
       "      <td>Espaçolaser</td>\n",
       "      <td>14,3 mil inscritos</td>\n",
       "    </tr>\n",
       "    <tr>\n",
       "      <th>4</th>\n",
       "      <td>Minha História de Amor Espaçolaser</td>\n",
       "      <td>182 visualizações</td>\n",
       "      <td>7</td>\n",
       "      <td>15 de ago. de 2023</td>\n",
       "      <td>Transcrição</td>\n",
       "      <td>Espaçolaser</td>\n",
       "      <td>14,3 mil inscritos</td>\n",
       "    </tr>\n",
       "    <tr>\n",
       "      <th>5</th>\n",
       "      <td>Transformando Vidas Rosangela</td>\n",
       "      <td>18 visualizações</td>\n",
       "      <td>0</td>\n",
       "      <td>26 de out. de 2023</td>\n",
       "      <td>Transcrição</td>\n",
       "      <td>GiOlaser | Inspirada em você</td>\n",
       "      <td>732 inscritos</td>\n",
       "    </tr>\n",
       "    <tr>\n",
       "      <th>6</th>\n",
       "      <td>Polineiry e Alisson Transformando Vidas</td>\n",
       "      <td>49 visualizações</td>\n",
       "      <td>0</td>\n",
       "      <td>26 de out. de 2023</td>\n",
       "      <td>Transcrição</td>\n",
       "      <td>GiOlaser | Inspirada em você</td>\n",
       "      <td>732 inscritos</td>\n",
       "    </tr>\n",
       "    <tr>\n",
       "      <th>7</th>\n",
       "      <td>Cuidado de pai para filho</td>\n",
       "      <td>122 visualizações</td>\n",
       "      <td>5</td>\n",
       "      <td>26 de out. de 2023</td>\n",
       "      <td>Transcrição</td>\n",
       "      <td>GiOlaser | Inspirada em você</td>\n",
       "      <td>732 inscritos</td>\n",
       "    </tr>\n",
       "    <tr>\n",
       "      <th>8</th>\n",
       "      <td>Transformando Vidas Faustino e Vanessa</td>\n",
       "      <td>15 visualizações</td>\n",
       "      <td>0</td>\n",
       "      <td>26 de out. de 2023</td>\n",
       "      <td>Transcrição</td>\n",
       "      <td>GiOlaser | Inspirada em você</td>\n",
       "      <td>732 inscritos</td>\n",
       "    </tr>\n",
       "    <tr>\n",
       "      <th>9</th>\n",
       "      <td>GiOlaser Flagship - Anália Franco | Grande Ina...</td>\n",
       "      <td>146 visualizações</td>\n",
       "      <td>5</td>\n",
       "      <td>25 de ago. de 2023</td>\n",
       "      <td>NaN</td>\n",
       "      <td>GiOlaser | Inspirada em você</td>\n",
       "      <td>732 inscritos</td>\n",
       "    </tr>\n",
       "    <tr>\n",
       "      <th>10</th>\n",
       "      <td>NATAL ENTRE AMIGAS - ONODERA</td>\n",
       "      <td>29 visualizações</td>\n",
       "      <td>0</td>\n",
       "      <td>1 de dez. de 2023</td>\n",
       "      <td>Transcrição</td>\n",
       "      <td>Onodera Estética</td>\n",
       "      <td>45 inscritos</td>\n",
       "    </tr>\n",
       "    <tr>\n",
       "      <th>11</th>\n",
       "      <td>TRATAMENTO ONODERA - LASER LAVIEEN</td>\n",
       "      <td>87 visualizações</td>\n",
       "      <td>0</td>\n",
       "      <td>1 de ago. de 2023</td>\n",
       "      <td>Transcrição</td>\n",
       "      <td>Onodera Estética</td>\n",
       "      <td>45 inscritos</td>\n",
       "    </tr>\n",
       "    <tr>\n",
       "      <th>12</th>\n",
       "      <td>ONOCAST com Edna Onodera e Dani Magagna. | Fê ...</td>\n",
       "      <td>97 visualizações</td>\n",
       "      <td>0</td>\n",
       "      <td>18 de jul. de 2023</td>\n",
       "      <td>1</td>\n",
       "      <td>Onodera Estética</td>\n",
       "      <td>45 inscritos</td>\n",
       "    </tr>\n",
       "    <tr>\n",
       "      <th>13</th>\n",
       "      <td>ONOCAST com Edna Onodera e Dani Magagna. | Dan...</td>\n",
       "      <td>65 visualizações</td>\n",
       "      <td>3</td>\n",
       "      <td>Estreou em 30 de jun. de 2023</td>\n",
       "      <td>Transcrição</td>\n",
       "      <td>Onodera Estética</td>\n",
       "      <td>45 inscritos</td>\n",
       "    </tr>\n",
       "    <tr>\n",
       "      <th>14</th>\n",
       "      <td>ONOCAST com Edna Onodera e Dani Magagna. | Cac...</td>\n",
       "      <td>115 visualizações</td>\n",
       "      <td>0</td>\n",
       "      <td>Estreou em 17 de mai. de 2023</td>\n",
       "      <td>Transcrição</td>\n",
       "      <td>Onodera Estética</td>\n",
       "      <td>45 inscritos</td>\n",
       "    </tr>\n",
       "  </tbody>\n",
       "</table>\n",
       "</div>"
      ],
      "text/plain": [
       "                                                title                  views  \\\n",
       "0                                                 NaN                    NaN   \n",
       "1   Espaçolaser: Depilação ainda é um pesadelo par...  1,8 mil visualizações   \n",
       "2                             Outubro OFF Espaçolaser  1,1 mil visualizações   \n",
       "3                  Minha História de Amor Espaçolaser      362 visualizações   \n",
       "4                  Minha História de Amor Espaçolaser      182 visualizações   \n",
       "5                       Transformando Vidas Rosangela       18 visualizações   \n",
       "6             Polineiry e Alisson Transformando Vidas       49 visualizações   \n",
       "7                           Cuidado de pai para filho      122 visualizações   \n",
       "8              Transformando Vidas Faustino e Vanessa       15 visualizações   \n",
       "9   GiOlaser Flagship - Anália Franco | Grande Ina...      146 visualizações   \n",
       "10                       NATAL ENTRE AMIGAS - ONODERA       29 visualizações   \n",
       "11                 TRATAMENTO ONODERA - LASER LAVIEEN       87 visualizações   \n",
       "12  ONOCAST com Edna Onodera e Dani Magagna. | Fê ...       97 visualizações   \n",
       "13  ONOCAST com Edna Onodera e Dani Magagna. | Dan...       65 visualizações   \n",
       "14  ONOCAST com Edna Onodera e Dani Magagna. | Cac...      115 visualizações   \n",
       "\n",
       "    likes                           date comments_amount  \\\n",
       "0       0                            NaN             NaN   \n",
       "1       8             23 de out. de 2023             NaN   \n",
       "2       0             29 de set. de 2023             NaN   \n",
       "3       7             15 de ago. de 2023               2   \n",
       "4       7             15 de ago. de 2023     Transcrição   \n",
       "5       0             26 de out. de 2023     Transcrição   \n",
       "6       0             26 de out. de 2023     Transcrição   \n",
       "7       5             26 de out. de 2023     Transcrição   \n",
       "8       0             26 de out. de 2023     Transcrição   \n",
       "9       5             25 de ago. de 2023             NaN   \n",
       "10      0              1 de dez. de 2023     Transcrição   \n",
       "11      0              1 de ago. de 2023     Transcrição   \n",
       "12      0             18 de jul. de 2023               1   \n",
       "13      3  Estreou em 30 de jun. de 2023     Transcrição   \n",
       "14      0  Estreou em 17 de mai. de 2023     Transcrição   \n",
       "\n",
       "                    channel_name         subscribers  \n",
       "0                    Espaçolaser  14,3 mil inscritos  \n",
       "1                    Espaçolaser  14,3 mil inscritos  \n",
       "2                    Espaçolaser  14,3 mil inscritos  \n",
       "3                    Espaçolaser  14,3 mil inscritos  \n",
       "4                    Espaçolaser  14,3 mil inscritos  \n",
       "5   GiOlaser | Inspirada em você       732 inscritos  \n",
       "6   GiOlaser | Inspirada em você       732 inscritos  \n",
       "7   GiOlaser | Inspirada em você       732 inscritos  \n",
       "8   GiOlaser | Inspirada em você       732 inscritos  \n",
       "9   GiOlaser | Inspirada em você       732 inscritos  \n",
       "10              Onodera Estética        45 inscritos  \n",
       "11              Onodera Estética        45 inscritos  \n",
       "12              Onodera Estética        45 inscritos  \n",
       "13              Onodera Estética        45 inscritos  \n",
       "14              Onodera Estética        45 inscritos  "
      ]
     },
     "metadata": {},
     "output_type": "display_data"
    },
    {
     "data": {
      "text/plain": [
       "Index(['title', 'views', 'likes', 'date', 'comments_amount', 'channel_name',\n",
       "       'subscribers'],\n",
       "      dtype='object')"
      ]
     },
     "metadata": {},
     "output_type": "display_data"
    }
   ],
   "source": [
    "videos = pd.read_csv(base_path + \"videos.csv\")\n",
    "\n",
    "display(videos)\n",
    "display(videos.columns)"
   ]
  },
  {
   "cell_type": "code",
   "execution_count": 6,
   "id": "17c44558",
   "metadata": {
    "execution": {
     "iopub.execute_input": "2023-12-05T16:56:00.858470Z",
     "iopub.status.busy": "2023-12-05T16:56:00.857494Z",
     "iopub.status.idle": "2023-12-05T16:56:00.927470Z",
     "shell.execute_reply": "2023-12-05T16:56:00.926479Z"
    },
    "papermill": {
     "duration": 0.084027,
     "end_time": "2023-12-05T16:56:00.930496",
     "exception": false,
     "start_time": "2023-12-05T16:56:00.846469",
     "status": "completed"
    },
    "tags": []
   },
   "outputs": [],
   "source": [
    "videos.dropna(subset=\"title\").assign(\n",
    "    # subscribers=lambda df_: df_[\"subscribers\"].apply(trata_inscritos),\n",
    "    views=lambda df_: df_[\"views\"].apply(trata_visualizacoes),\n",
    "    date=lambda df_: df_[\"date\"].apply(trata_data),\n",
    "    # comments_amount = lambda df_: df_[\"comments_amount\"].apply(trata_comments),\n",
    "    category=\"RECENT\",\n",
    ").to_parquet(f\"{base_path}videos.parquet\")"
   ]
  },
  {
   "attachments": {},
   "cell_type": "markdown",
   "id": "c487d2a2",
   "metadata": {
    "papermill": {
     "duration": 0.009,
     "end_time": "2023-12-05T16:56:00.949496",
     "exception": false,
     "start_time": "2023-12-05T16:56:00.940496",
     "status": "completed"
    },
    "tags": []
   },
   "source": [
    "# Trata Top videos"
   ]
  },
  {
   "cell_type": "code",
   "execution_count": 7,
   "id": "468a20c9",
   "metadata": {
    "execution": {
     "iopub.execute_input": "2023-12-05T16:56:00.971472Z",
     "iopub.status.busy": "2023-12-05T16:56:00.970499Z",
     "iopub.status.idle": "2023-12-05T16:56:01.005474Z",
     "shell.execute_reply": "2023-12-05T16:56:01.004472Z"
    },
    "papermill": {
     "duration": 0.049029,
     "end_time": "2023-12-05T16:56:01.008498",
     "exception": false,
     "start_time": "2023-12-05T16:56:00.959469",
     "status": "completed"
    },
    "tags": []
   },
   "outputs": [
    {
     "data": {
      "text/html": [
       "<div>\n",
       "<style scoped>\n",
       "    .dataframe tbody tr th:only-of-type {\n",
       "        vertical-align: middle;\n",
       "    }\n",
       "\n",
       "    .dataframe tbody tr th {\n",
       "        vertical-align: top;\n",
       "    }\n",
       "\n",
       "    .dataframe thead th {\n",
       "        text-align: right;\n",
       "    }\n",
       "</style>\n",
       "<table border=\"1\" class=\"dataframe\">\n",
       "  <thead>\n",
       "    <tr style=\"text-align: right;\">\n",
       "      <th></th>\n",
       "      <th>title</th>\n",
       "      <th>views</th>\n",
       "      <th>likes</th>\n",
       "      <th>date</th>\n",
       "      <th>comments_amount</th>\n",
       "      <th>channel_name</th>\n",
       "    </tr>\n",
       "  </thead>\n",
       "  <tbody>\n",
       "    <tr>\n",
       "      <th>10</th>\n",
       "      <td>ONOCAST com Edna Onodera e Dani Magagna. | Cri...</td>\n",
       "      <td>264 visualizações</td>\n",
       "      <td>0</td>\n",
       "      <td>Estreou em 17 de abr. de 2023</td>\n",
       "      <td>1</td>\n",
       "      <td>Onodera Estética</td>\n",
       "    </tr>\n",
       "    <tr>\n",
       "      <th>11</th>\n",
       "      <td>NaN</td>\n",
       "      <td>NaN</td>\n",
       "      <td>0</td>\n",
       "      <td>NaN</td>\n",
       "      <td>NaN</td>\n",
       "      <td>Onodera Estética</td>\n",
       "    </tr>\n",
       "    <tr>\n",
       "      <th>12</th>\n",
       "      <td>ONOCAST com Edna Onodera e Dani Magagna. | Cac...</td>\n",
       "      <td>115 visualizações</td>\n",
       "      <td>0</td>\n",
       "      <td>Estreou em 17 de mai. de 2023</td>\n",
       "      <td>Transcrição</td>\n",
       "      <td>Onodera Estética</td>\n",
       "    </tr>\n",
       "    <tr>\n",
       "      <th>13</th>\n",
       "      <td>ONODERA 42 ANOS: CONHEÇA A TRAJETÓRIAS DESSAS ...</td>\n",
       "      <td>102 visualizações</td>\n",
       "      <td>4</td>\n",
       "      <td>5 de abr. de 2023</td>\n",
       "      <td>Transcrição</td>\n",
       "      <td>Onodera Estética</td>\n",
       "    </tr>\n",
       "    <tr>\n",
       "      <th>14</th>\n",
       "      <td>ONOCAST com Edna Onodera e Dani Magagna. | Fê ...</td>\n",
       "      <td>97 visualizações</td>\n",
       "      <td>0</td>\n",
       "      <td>18 de jul. de 2023</td>\n",
       "      <td>1</td>\n",
       "      <td>Onodera Estética</td>\n",
       "    </tr>\n",
       "  </tbody>\n",
       "</table>\n",
       "</div>"
      ],
      "text/plain": [
       "                                                title              views  \\\n",
       "10  ONOCAST com Edna Onodera e Dani Magagna. | Cri...  264 visualizações   \n",
       "11                                                NaN                NaN   \n",
       "12  ONOCAST com Edna Onodera e Dani Magagna. | Cac...  115 visualizações   \n",
       "13  ONODERA 42 ANOS: CONHEÇA A TRAJETÓRIAS DESSAS ...  102 visualizações   \n",
       "14  ONOCAST com Edna Onodera e Dani Magagna. | Fê ...   97 visualizações   \n",
       "\n",
       "    likes                           date comments_amount      channel_name  \n",
       "10      0  Estreou em 17 de abr. de 2023               1  Onodera Estética  \n",
       "11      0                            NaN             NaN  Onodera Estética  \n",
       "12      0  Estreou em 17 de mai. de 2023     Transcrição  Onodera Estética  \n",
       "13      4              5 de abr. de 2023     Transcrição  Onodera Estética  \n",
       "14      0             18 de jul. de 2023               1  Onodera Estética  "
      ]
     },
     "metadata": {},
     "output_type": "display_data"
    }
   ],
   "source": [
    "import pandas as pd\n",
    "\n",
    "\n",
    "top_videos = pd.read_csv(base_path + \"top_videos.csv\")\n",
    "\n",
    "display(top_videos.tail())"
   ]
  },
  {
   "cell_type": "code",
   "execution_count": 8,
   "id": "f3c8def8",
   "metadata": {
    "execution": {
     "iopub.execute_input": "2023-12-05T16:56:01.031472Z",
     "iopub.status.busy": "2023-12-05T16:56:01.030476Z",
     "iopub.status.idle": "2023-12-05T16:56:01.053477Z",
     "shell.execute_reply": "2023-12-05T16:56:01.052471Z"
    },
    "papermill": {
     "duration": 0.037003,
     "end_time": "2023-12-05T16:56:01.055473",
     "exception": false,
     "start_time": "2023-12-05T16:56:01.018470",
     "status": "completed"
    },
    "tags": []
   },
   "outputs": [],
   "source": [
    "top_videos.dropna().assign(\n",
    "    date=lambda df_: df_[\"date\"].apply(trata_data),\n",
    "    views=lambda df_: df_[\"views\"].apply(trata_visualizacoes),\n",
    "    # comments_amount = lambda df_: df_[\"comments_amount\"].apply(trata_comments),\n",
    "\n",
    "    category=\"TOP\",\n",
    ").to_parquet(base_path + \"top_videos.parquet\")"
   ]
  },
  {
   "cell_type": "code",
   "execution_count": 9,
   "id": "23472561",
   "metadata": {
    "execution": {
     "iopub.execute_input": "2023-12-05T16:56:01.079470Z",
     "iopub.status.busy": "2023-12-05T16:56:01.078472Z",
     "iopub.status.idle": "2023-12-05T16:56:01.732475Z",
     "shell.execute_reply": "2023-12-05T16:56:01.731497Z"
    },
    "papermill": {
     "duration": 0.669027,
     "end_time": "2023-12-05T16:56:01.735498",
     "exception": false,
     "start_time": "2023-12-05T16:56:01.066471",
     "status": "completed"
    },
    "tags": []
   },
   "outputs": [],
   "source": [
    "top_videos_silver = pd.read_parquet(base_path + \"top_videos.parquet\")"
   ]
  },
  {
   "cell_type": "code",
   "execution_count": 10,
   "id": "8e993684",
   "metadata": {
    "execution": {
     "iopub.execute_input": "2023-12-05T16:56:01.758468Z",
     "iopub.status.busy": "2023-12-05T16:56:01.758468Z",
     "iopub.status.idle": "2023-12-05T16:56:01.778475Z",
     "shell.execute_reply": "2023-12-05T16:56:01.777497Z"
    },
    "papermill": {
     "duration": 0.035002,
     "end_time": "2023-12-05T16:56:01.781494",
     "exception": false,
     "start_time": "2023-12-05T16:56:01.746492",
     "status": "completed"
    },
    "tags": []
   },
   "outputs": [],
   "source": [
    "# # Trata lifetime\n",
    "\n",
    "\n",
    "df_lifetime = pd.read_csv(f\"{base_path}lifetime.csv\")\n",
    "\n",
    "\n",
    "df_lifetime.head()\n",
    "\n",
    "\n",
    "def days_on_youtube(value) -> int:\n",
    "    import datetime\n",
    "\n",
    "    today = datetime.date.today()\n",
    "    return (today - value.date()).days"
   ]
  },
  {
   "cell_type": "code",
   "execution_count": 11,
   "id": "7d3001c7",
   "metadata": {
    "execution": {
     "iopub.execute_input": "2023-12-05T16:56:01.804472Z",
     "iopub.status.busy": "2023-12-05T16:56:01.803493Z",
     "iopub.status.idle": "2023-12-05T16:56:01.824475Z",
     "shell.execute_reply": "2023-12-05T16:56:01.823472Z"
    },
    "papermill": {
     "duration": 0.036028,
     "end_time": "2023-12-05T16:56:01.827498",
     "exception": false,
     "start_time": "2023-12-05T16:56:01.791470",
     "status": "completed"
    },
    "tags": []
   },
   "outputs": [
    {
     "data": {
      "text/html": [
       "<div>\n",
       "<style scoped>\n",
       "    .dataframe tbody tr th:only-of-type {\n",
       "        vertical-align: middle;\n",
       "    }\n",
       "\n",
       "    .dataframe tbody tr th {\n",
       "        vertical-align: top;\n",
       "    }\n",
       "\n",
       "    .dataframe thead th {\n",
       "        text-align: right;\n",
       "    }\n",
       "</style>\n",
       "<table border=\"1\" class=\"dataframe\">\n",
       "  <thead>\n",
       "    <tr style=\"text-align: right;\">\n",
       "      <th></th>\n",
       "      <th>channel_title</th>\n",
       "      <th>date_joined</th>\n",
       "      <th>total_views</th>\n",
       "      <th>total_subs</th>\n",
       "      <th>total_videos</th>\n",
       "    </tr>\n",
       "  </thead>\n",
       "  <tbody>\n",
       "    <tr>\n",
       "      <th>0</th>\n",
       "      <td>Espaçolaser</td>\n",
       "      <td>Inscreveu-se em 23 de abr. de 2018</td>\n",
       "      <td>2.296.857 visualizações</td>\n",
       "      <td>14,3 mil inscritos</td>\n",
       "      <td>109</td>\n",
       "    </tr>\n",
       "    <tr>\n",
       "      <th>1</th>\n",
       "      <td>GiOlaser | Inspirada em você</td>\n",
       "      <td>Inscreveu-se em 12 de dez. de 2017</td>\n",
       "      <td>484.091 visualizações</td>\n",
       "      <td>732 inscritos</td>\n",
       "      <td>80</td>\n",
       "    </tr>\n",
       "    <tr>\n",
       "      <th>2</th>\n",
       "      <td>Onodera Estética</td>\n",
       "      <td>Inscreveu-se em 20 de mar. de 2023</td>\n",
       "      <td>1.277 visualizações</td>\n",
       "      <td>45 inscritos</td>\n",
       "      <td>19</td>\n",
       "    </tr>\n",
       "  </tbody>\n",
       "</table>\n",
       "</div>"
      ],
      "text/plain": [
       "                  channel_title                         date_joined  \\\n",
       "0                   Espaçolaser  Inscreveu-se em 23 de abr. de 2018   \n",
       "1  GiOlaser | Inspirada em você  Inscreveu-se em 12 de dez. de 2017   \n",
       "2              Onodera Estética  Inscreveu-se em 20 de mar. de 2023   \n",
       "\n",
       "               total_views          total_subs  total_videos  \n",
       "0  2.296.857 visualizações  14,3 mil inscritos           109  \n",
       "1    484.091 visualizações       732 inscritos            80  \n",
       "2      1.277 visualizações        45 inscritos            19  "
      ]
     },
     "execution_count": 11,
     "metadata": {},
     "output_type": "execute_result"
    }
   ],
   "source": [
    "df_lifetime"
   ]
  },
  {
   "cell_type": "code",
   "execution_count": 12,
   "id": "c61d3ca2",
   "metadata": {
    "execution": {
     "iopub.execute_input": "2023-12-05T16:56:01.850469Z",
     "iopub.status.busy": "2023-12-05T16:56:01.850469Z",
     "iopub.status.idle": "2023-12-05T16:56:01.872475Z",
     "shell.execute_reply": "2023-12-05T16:56:01.871498Z"
    },
    "papermill": {
     "duration": 0.038028,
     "end_time": "2023-12-05T16:56:01.875497",
     "exception": false,
     "start_time": "2023-12-05T16:56:01.837469",
     "status": "completed"
    },
    "tags": []
   },
   "outputs": [],
   "source": [
    "df_lifetime = df_lifetime.assign(\n",
    "    date_joined=lambda df_: df_[\"date_joined\"].apply(trata_data),\n",
    "    total_views=lambda df_: df_[\"total_views\"].apply(trata_visualizacoes),\n",
    "    total_videos=lambda d: d[\"total_videos\"].apply(trata_visualizacoes),\n",
    "    total_subs=lambda df_: df_[\"total_subs\"].apply(trata_inscritos),\n",
    "    days_since_joined=lambda df_: df_[\"date_joined\"].apply(days_on_youtube),\n",
    ")  # .to_csv(base_path + \"lifetime_clean.csv\", index=False)"
   ]
  },
  {
   "cell_type": "code",
   "execution_count": 13,
   "id": "939d454a",
   "metadata": {
    "execution": {
     "iopub.execute_input": "2023-12-05T16:56:01.899472Z",
     "iopub.status.busy": "2023-12-05T16:56:01.898470Z",
     "iopub.status.idle": "2023-12-05T16:56:01.934483Z",
     "shell.execute_reply": "2023-12-05T16:56:01.933517Z"
    },
    "papermill": {
     "duration": 0.051026,
     "end_time": "2023-12-05T16:56:01.937496",
     "exception": false,
     "start_time": "2023-12-05T16:56:01.886470",
     "status": "completed"
    },
    "tags": []
   },
   "outputs": [],
   "source": [
    "lifetime_csv = pd.DataFrame()\n",
    "\n",
    "lifetime_csv[\"Channel Id\"] = np.arange(5)\n",
    "\n",
    "lifetime_csv[\" Channel Name\"] = df_lifetime[\"channel_title\"]\n",
    "lifetime_csv[\" Days on YouTube\"] = df_lifetime[\"days_since_joined\"]\n",
    "lifetime_csv[\" Total Views\"] = df_lifetime[\"total_views\"]\n",
    "lifetime_csv[\" Views per Day\"] = (\n",
    "    lifetime_csv[\" Total Views\"] / lifetime_csv[\" Days on YouTube\"]\n",
    ")\n",
    "lifetime_csv[\" Total Subscribers\"] = df_lifetime[\"total_subs\"]\n",
    "lifetime_csv[\" Subscribers per Day\"] = (\n",
    "    lifetime_csv[\" Total Subscribers\"] / lifetime_csv[\" Days on YouTube\"]\n",
    ")\n",
    "lifetime_csv[\" Total Uploads\"] = df_lifetime[\"total_videos\"]\n",
    "lifetime_csv[\" Uploads per Month\"] = lifetime_csv[\" Total Uploads\"] / (\n",
    "    lifetime_csv[\" Days on YouTube\"] / 30\n",
    ")\n",
    "lifetime_csv[\"\"] = np.arange(5)\n",
    "\n",
    "lifetime_csv.to_csv(base_path + \"Lifetime_.csv\", index=False, decimal=\",\")"
   ]
  },
  {
   "cell_type": "code",
   "execution_count": 14,
   "id": "1a0f94dd",
   "metadata": {
    "execution": {
     "iopub.execute_input": "2023-12-05T16:56:01.960474Z",
     "iopub.status.busy": "2023-12-05T16:56:01.960474Z",
     "iopub.status.idle": "2023-12-05T16:56:01.998475Z",
     "shell.execute_reply": "2023-12-05T16:56:01.997468Z"
    },
    "papermill": {
     "duration": 0.053005,
     "end_time": "2023-12-05T16:56:02.001497",
     "exception": false,
     "start_time": "2023-12-05T16:56:01.948492",
     "status": "completed"
    },
    "tags": []
   },
   "outputs": [],
   "source": [
    "videos = pd.read_parquet(f\"{base_path}videos.parquet\")\n",
    "top_videos = pd.read_parquet(f\"{base_path}top_videos.parquet\")"
   ]
  },
  {
   "cell_type": "code",
   "execution_count": 15,
   "id": "0abdf766",
   "metadata": {
    "execution": {
     "iopub.execute_input": "2023-12-05T16:56:02.023494Z",
     "iopub.status.busy": "2023-12-05T16:56:02.023494Z",
     "iopub.status.idle": "2023-12-05T16:56:02.046470Z",
     "shell.execute_reply": "2023-12-05T16:56:02.045507Z"
    },
    "papermill": {
     "duration": 0.036996,
     "end_time": "2023-12-05T16:56:02.048490",
     "exception": false,
     "start_time": "2023-12-05T16:56:02.011494",
     "status": "completed"
    },
    "tags": []
   },
   "outputs": [],
   "source": [
    "videos = videos.assign(title_canal=lambda d: d[\"channel_name\"] + \" - \" + d[\"title\"])\n",
    "\n",
    "top_videos = top_videos.assign(\n",
    "    title_canal=lambda d: d[\"channel_name\"] + \" - \" + d[\"title\"]\n",
    ")"
   ]
  },
  {
   "cell_type": "code",
   "execution_count": 16,
   "id": "6ada389d",
   "metadata": {
    "execution": {
     "iopub.execute_input": "2023-12-05T16:56:02.070474Z",
     "iopub.status.busy": "2023-12-05T16:56:02.070474Z",
     "iopub.status.idle": "2023-12-05T16:56:02.094471Z",
     "shell.execute_reply": "2023-12-05T16:56:02.093467Z"
    },
    "papermill": {
     "duration": 0.037987,
     "end_time": "2023-12-05T16:56:02.097497",
     "exception": false,
     "start_time": "2023-12-05T16:56:02.059510",
     "status": "completed"
    },
    "tags": []
   },
   "outputs": [],
   "source": [
    "videos_aux = pd.DataFrame()\n",
    "\n",
    "\n",
    "videos_aux[\"Channel Id\"] = np.arange(1, len(videos) + 1)\n",
    "videos_aux[\" Channel Name\"] = videos[\"channel_name\"]\n",
    "videos_aux[\" Video Id\"] = np.arange(1, len(videos) + 1)\n",
    "videos_aux[\" VideoUrl\"] = np.arange(1, len(videos) + 1)\n",
    "videos_aux[\" Title\"] = videos[\"title_canal\"]\n",
    "videos_aux[\" Published Date\"] = videos[\"date\"]\n",
    "videos_aux[\" Views\"] = videos[\"views\"]\n",
    "videos_aux[\" Likes\"] = videos[\"likes\"]\n",
    "videos_aux[\" Dislikes\"] = np.arange(1, len(videos) + 1)\n",
    "videos_aux[\" Comments\"] = videos[\"comments_amount\"]\n",
    "videos_aux[\" Engagement %\"] = np.arange(1, len(videos) + 1)"
   ]
  },
  {
   "cell_type": "code",
   "execution_count": 17,
   "id": "c0eb6490",
   "metadata": {
    "execution": {
     "iopub.execute_input": "2023-12-05T16:56:02.119471Z",
     "iopub.status.busy": "2023-12-05T16:56:02.118499Z",
     "iopub.status.idle": "2023-12-05T16:56:02.141470Z",
     "shell.execute_reply": "2023-12-05T16:56:02.140490Z"
    },
    "papermill": {
     "duration": 0.037002,
     "end_time": "2023-12-05T16:56:02.144495",
     "exception": false,
     "start_time": "2023-12-05T16:56:02.107493",
     "status": "completed"
    },
    "tags": []
   },
   "outputs": [],
   "source": [
    "videos_aux.to_csv(base_path + \"RecentUploads.csv\", index=False)"
   ]
  },
  {
   "cell_type": "code",
   "execution_count": 18,
   "id": "bba8bb72",
   "metadata": {
    "execution": {
     "iopub.execute_input": "2023-12-05T16:56:02.165480Z",
     "iopub.status.busy": "2023-12-05T16:56:02.165480Z",
     "iopub.status.idle": "2023-12-05T16:56:02.189477Z",
     "shell.execute_reply": "2023-12-05T16:56:02.188491Z"
    },
    "papermill": {
     "duration": 0.037993,
     "end_time": "2023-12-05T16:56:02.192492",
     "exception": false,
     "start_time": "2023-12-05T16:56:02.154499",
     "status": "completed"
    },
    "tags": []
   },
   "outputs": [],
   "source": [
    "videos_aux = pd.DataFrame()\n",
    "\n",
    "\n",
    "videos_aux[\"Channel Id\"] = np.arange(1, len(videos) + 1)\n",
    "videos_aux[\" Channel Name\"] = top_videos[\"channel_name\"]\n",
    "videos_aux[\" Video Id\"] = np.arange(1, len(videos) + 1)\n",
    "videos_aux[\" VideoUrl\"] = np.arange(1, len(videos) + 1)\n",
    "videos_aux[\" Title\"] = top_videos[\"title_canal\"]\n",
    "videos_aux[\" Published Date\"] = top_videos[\"date\"]\n",
    "videos_aux[\" Views\"] = top_videos[\"views\"]\n",
    "videos_aux[\" Likes\"] = top_videos[\"likes\"]\n",
    "videos_aux[\" Dislikes\"] = np.arange(1, len(videos) + 1)\n",
    "videos_aux[\" Comments\"] = top_videos[\"comments_amount\"]\n",
    "videos_aux[\" Engagement %\"] = np.arange(1, len(videos) + 1)"
   ]
  },
  {
   "cell_type": "code",
   "execution_count": 19,
   "id": "4493c75d",
   "metadata": {
    "execution": {
     "iopub.execute_input": "2023-12-05T16:56:02.215473Z",
     "iopub.status.busy": "2023-12-05T16:56:02.214471Z",
     "iopub.status.idle": "2023-12-05T16:56:02.237057Z",
     "shell.execute_reply": "2023-12-05T16:56:02.236056Z"
    },
    "papermill": {
     "duration": 0.037591,
     "end_time": "2023-12-05T16:56:02.240059",
     "exception": false,
     "start_time": "2023-12-05T16:56:02.202468",
     "status": "completed"
    },
    "tags": []
   },
   "outputs": [],
   "source": [
    "videos_aux.to_csv(base_path + \"TopUploads.csv\", index=False)"
   ]
  },
  {
   "attachments": {},
   "cell_type": "markdown",
   "id": "b07de1c8",
   "metadata": {
    "papermill": {
     "duration": 0.012,
     "end_time": "2023-12-05T16:56:02.263058",
     "exception": false,
     "start_time": "2023-12-05T16:56:02.251058",
     "status": "completed"
    },
    "tags": []
   },
   "source": [
    "last 30 days"
   ]
  },
  {
   "cell_type": "code",
   "execution_count": 20,
   "id": "b6d50769",
   "metadata": {
    "execution": {
     "iopub.execute_input": "2023-12-05T16:56:02.288056Z",
     "iopub.status.busy": "2023-12-05T16:56:02.287056Z",
     "iopub.status.idle": "2023-12-05T16:56:02.315056Z",
     "shell.execute_reply": "2023-12-05T16:56:02.314058Z"
    },
    "papermill": {
     "duration": 0.043998,
     "end_time": "2023-12-05T16:56:02.318057",
     "exception": false,
     "start_time": "2023-12-05T16:56:02.274059",
     "status": "completed"
    },
    "tags": []
   },
   "outputs": [],
   "source": [
    "# read channel IDs\n",
    "\n",
    "with open(\"canais.txt\", \"r\") as f:\n",
    "    canais = f.readlines()\n",
    "\n",
    "\n",
    "canais = [c.strip() for c in canais]\n",
    "# take only the string after the last slash\n",
    "canais = [c.split(\"/\")[-1] for c in canais]\n",
    "\n",
    "# print(canais)\n",
    "\n",
    "base_url = \"https://socialblade.com/youtube/channel/\"\n",
    "\n",
    "last_30days = pd.read_parquet(f'data/{canais[0].split(\"@\")[-1]}/last_30_days.parquet')\n",
    "\n",
    "\n",
    "def fix_views(view: pd.Series) -> pd.Series:\n",
    "    view = view.str.replace(\"+\", \"\").str.replace(\",\", \"\")\n",
    "    # print(view)\n",
    "\n",
    "    view = view.apply(lambda x: float(x.replace(\"K\", \"\")) * 1000 if \"K\" in x else x)\n",
    "    view = view.apply(\n",
    "        lambda x: float(x.replace(\"M\", \"\")) * 1000000 if \"M\" in str(x) else x\n",
    "    )\n",
    "\n",
    "    return view\n",
    "\n",
    "\n",
    "last_30days = last_30days.assign(\n",
    "    views=lambda x: fix_views(x[\"views\"]), subs=lambda x: fix_views(x[\"subs\"])\n",
    ")\n",
    "\n",
    "# Replace '---' with NaN in the 'subs' column\n",
    "last_30days[\"subs\"] = last_30days[\"subs\"].replace(\"--\", np.nan)"
   ]
  },
  {
   "cell_type": "code",
   "execution_count": 21,
   "id": "f5224e2b",
   "metadata": {
    "execution": {
     "iopub.execute_input": "2023-12-05T16:56:02.342057Z",
     "iopub.status.busy": "2023-12-05T16:56:02.341058Z",
     "iopub.status.idle": "2023-12-05T16:56:02.361058Z",
     "shell.execute_reply": "2023-12-05T16:56:02.360056Z"
    },
    "papermill": {
     "duration": 0.034999,
     "end_time": "2023-12-05T16:56:02.364057",
     "exception": false,
     "start_time": "2023-12-05T16:56:02.329058",
     "status": "completed"
    },
    "tags": []
   },
   "outputs": [],
   "source": [
    "last_30days = last_30days.astype({\"views\": \"float64\", \"subs\": \"float64\"})"
   ]
  },
  {
   "cell_type": "code",
   "execution_count": 22,
   "id": "e81ab0cf",
   "metadata": {
    "execution": {
     "iopub.execute_input": "2023-12-05T16:56:02.387062Z",
     "iopub.status.busy": "2023-12-05T16:56:02.387062Z",
     "iopub.status.idle": "2023-12-05T16:56:02.409059Z",
     "shell.execute_reply": "2023-12-05T16:56:02.408086Z"
    },
    "papermill": {
     "duration": 0.037999,
     "end_time": "2023-12-05T16:56:02.412058",
     "exception": false,
     "start_time": "2023-12-05T16:56:02.374059",
     "status": "completed"
    },
    "tags": []
   },
   "outputs": [],
   "source": [
    "last_30_days_aux = pd.DataFrame()\n",
    "\n",
    "\n",
    "last_30_days_aux[\"Channel Id\"] = np.arange(5)\n",
    "last_30_days_aux[\" Channel Name\"] = df_lifetime[\"channel_title\"]\n",
    "last_30_days_aux[\"  Views Last 30 Days\"] = last_30days[\"views\"]\n",
    "last_30_days_aux[\" Views per Day\"] = last_30_days_aux[\"  Views Last 30 Days\"] / 30\n",
    "last_30_days_aux[\" Total Subscribers Last 30 Days\"] = last_30days[\"subs\"]\n",
    "last_30_days_aux[\" Subscribers per Day\"] = (\n",
    "    last_30_days_aux[\" Total Subscribers Last 30 Days\"] / 30\n",
    ")\n",
    "last_30_days_aux[\" Total Uploads Last 30 Days\"] = [\n",
    "    \"ATUALIZAR\",\n",
    "    \"ATUALIZAR\",\n",
    "    \"ATUALIZAR\",\n",
    "    \"ATUALIZAR\",\n",
    "    \"ATUALIZAR\",\n",
    "]\n",
    "last_30_days_aux[\" Uploads per Week\"] = np.arange(5)\n",
    "last_30_days_aux[\"\"] = np.arange(5)"
   ]
  },
  {
   "cell_type": "code",
   "execution_count": 23,
   "id": "b82b13dd",
   "metadata": {
    "execution": {
     "iopub.execute_input": "2023-12-05T16:56:02.435059Z",
     "iopub.status.busy": "2023-12-05T16:56:02.435059Z",
     "iopub.status.idle": "2023-12-05T16:56:02.456064Z",
     "shell.execute_reply": "2023-12-05T16:56:02.455064Z"
    },
    "papermill": {
     "duration": 0.037023,
     "end_time": "2023-12-05T16:56:02.459082",
     "exception": false,
     "start_time": "2023-12-05T16:56:02.422059",
     "status": "completed"
    },
    "tags": []
   },
   "outputs": [
    {
     "data": {
      "text/html": [
       "<div>\n",
       "<style scoped>\n",
       "    .dataframe tbody tr th:only-of-type {\n",
       "        vertical-align: middle;\n",
       "    }\n",
       "\n",
       "    .dataframe tbody tr th {\n",
       "        vertical-align: top;\n",
       "    }\n",
       "\n",
       "    .dataframe thead th {\n",
       "        text-align: right;\n",
       "    }\n",
       "</style>\n",
       "<table border=\"1\" class=\"dataframe\">\n",
       "  <thead>\n",
       "    <tr style=\"text-align: right;\">\n",
       "      <th></th>\n",
       "      <th>Channel Id</th>\n",
       "      <th>Channel Name</th>\n",
       "      <th>Views Last 30 Days</th>\n",
       "      <th>Views per Day</th>\n",
       "      <th>Total Subscribers Last 30 Days</th>\n",
       "      <th>Subscribers per Day</th>\n",
       "      <th>Total Uploads Last 30 Days</th>\n",
       "      <th>Uploads per Week</th>\n",
       "      <th></th>\n",
       "    </tr>\n",
       "  </thead>\n",
       "  <tbody>\n",
       "    <tr>\n",
       "      <th>0</th>\n",
       "      <td>0</td>\n",
       "      <td>Espaçolaser</td>\n",
       "      <td>15125.0</td>\n",
       "      <td>504.166667</td>\n",
       "      <td>200.0</td>\n",
       "      <td>6.666667</td>\n",
       "      <td>ATUALIZAR</td>\n",
       "      <td>0</td>\n",
       "      <td>0</td>\n",
       "    </tr>\n",
       "    <tr>\n",
       "      <th>1</th>\n",
       "      <td>1</td>\n",
       "      <td>GiOlaser | Inspirada em você</td>\n",
       "      <td>1406.0</td>\n",
       "      <td>46.866667</td>\n",
       "      <td>12.0</td>\n",
       "      <td>0.400000</td>\n",
       "      <td>ATUALIZAR</td>\n",
       "      <td>1</td>\n",
       "      <td>1</td>\n",
       "    </tr>\n",
       "    <tr>\n",
       "      <th>2</th>\n",
       "      <td>2</td>\n",
       "      <td>Onodera Estética</td>\n",
       "      <td>47.0</td>\n",
       "      <td>1.566667</td>\n",
       "      <td>1.0</td>\n",
       "      <td>0.033333</td>\n",
       "      <td>ATUALIZAR</td>\n",
       "      <td>2</td>\n",
       "      <td>2</td>\n",
       "    </tr>\n",
       "    <tr>\n",
       "      <th>3</th>\n",
       "      <td>3</td>\n",
       "      <td>NaN</td>\n",
       "      <td>NaN</td>\n",
       "      <td>NaN</td>\n",
       "      <td>NaN</td>\n",
       "      <td>NaN</td>\n",
       "      <td>ATUALIZAR</td>\n",
       "      <td>3</td>\n",
       "      <td>3</td>\n",
       "    </tr>\n",
       "    <tr>\n",
       "      <th>4</th>\n",
       "      <td>4</td>\n",
       "      <td>NaN</td>\n",
       "      <td>NaN</td>\n",
       "      <td>NaN</td>\n",
       "      <td>NaN</td>\n",
       "      <td>NaN</td>\n",
       "      <td>ATUALIZAR</td>\n",
       "      <td>4</td>\n",
       "      <td>4</td>\n",
       "    </tr>\n",
       "  </tbody>\n",
       "</table>\n",
       "</div>"
      ],
      "text/plain": [
       "   Channel Id                  Channel Name    Views Last 30 Days  \\\n",
       "0           0                   Espaçolaser               15125.0   \n",
       "1           1  GiOlaser | Inspirada em você                1406.0   \n",
       "2           2              Onodera Estética                  47.0   \n",
       "3           3                           NaN                   NaN   \n",
       "4           4                           NaN                   NaN   \n",
       "\n",
       "    Views per Day   Total Subscribers Last 30 Days   Subscribers per Day  \\\n",
       "0      504.166667                            200.0              6.666667   \n",
       "1       46.866667                             12.0              0.400000   \n",
       "2        1.566667                              1.0              0.033333   \n",
       "3             NaN                              NaN                   NaN   \n",
       "4             NaN                              NaN                   NaN   \n",
       "\n",
       "   Total Uploads Last 30 Days   Uploads per Week     \n",
       "0                   ATUALIZAR                  0  0  \n",
       "1                   ATUALIZAR                  1  1  \n",
       "2                   ATUALIZAR                  2  2  \n",
       "3                   ATUALIZAR                  3  3  \n",
       "4                   ATUALIZAR                  4  4  "
      ]
     },
     "execution_count": 23,
     "metadata": {},
     "output_type": "execute_result"
    }
   ],
   "source": [
    "last_30_days_aux"
   ]
  },
  {
   "cell_type": "code",
   "execution_count": 24,
   "id": "e9c46b09",
   "metadata": {
    "execution": {
     "iopub.execute_input": "2023-12-05T16:56:02.483059Z",
     "iopub.status.busy": "2023-12-05T16:56:02.482059Z",
     "iopub.status.idle": "2023-12-05T16:56:02.501186Z",
     "shell.execute_reply": "2023-12-05T16:56:02.500210Z"
    },
    "papermill": {
     "duration": 0.034124,
     "end_time": "2023-12-05T16:56:02.504182",
     "exception": false,
     "start_time": "2023-12-05T16:56:02.470058",
     "status": "completed"
    },
    "tags": []
   },
   "outputs": [],
   "source": [
    "last_30_days_aux.to_csv(base_path + \"Last30Days.csv\", index=False, decimal=\",\")"
   ]
  },
  {
   "cell_type": "code",
   "execution_count": 25,
   "id": "5ac8726e",
   "metadata": {
    "execution": {
     "iopub.execute_input": "2023-12-05T16:56:02.525189Z",
     "iopub.status.busy": "2023-12-05T16:56:02.524185Z",
     "iopub.status.idle": "2023-12-05T16:56:02.533301Z",
     "shell.execute_reply": "2023-12-05T16:56:02.532267Z"
    },
    "papermill": {
     "duration": 0.022091,
     "end_time": "2023-12-05T16:56:02.535274",
     "exception": false,
     "start_time": "2023-12-05T16:56:02.513183",
     "status": "completed"
    },
    "tags": []
   },
   "outputs": [],
   "source": [
    "# last_30days.to_csv(f'data/{canais[0].split(\"@\")[-1]}/last_30days.csv', index=False)"
   ]
  },
  {
   "cell_type": "code",
   "execution_count": null,
   "id": "9e7a8414",
   "metadata": {
    "papermill": {
     "duration": 0.01,
     "end_time": "2023-12-05T16:56:02.554274",
     "exception": false,
     "start_time": "2023-12-05T16:56:02.544274",
     "status": "completed"
    },
    "tags": []
   },
   "outputs": [],
   "source": []
  },
  {
   "cell_type": "code",
   "execution_count": 26,
   "id": "3cb6e071",
   "metadata": {
    "execution": {
     "iopub.execute_input": "2023-12-05T16:56:02.575274Z",
     "iopub.status.busy": "2023-12-05T16:56:02.575274Z",
     "iopub.status.idle": "2023-12-05T16:56:02.596274Z",
     "shell.execute_reply": "2023-12-05T16:56:02.595271Z"
    },
    "papermill": {
     "duration": 0.034,
     "end_time": "2023-12-05T16:56:02.598274",
     "exception": false,
     "start_time": "2023-12-05T16:56:02.564274",
     "status": "completed"
    },
    "tags": []
   },
   "outputs": [
    {
     "name": "stdout",
     "output_type": "stream",
     "text": [
      "[0, 1, 2, 3, 4, 5]\n"
     ]
    }
   ],
   "source": [
    "def A(x):\n",
    "    return len(x)\n",
    "\n",
    "\n",
    "def B(x):\n",
    "    vetor = []\n",
    "    for i in range(x):\n",
    "        vetor.append(i)\n",
    "\n",
    "    return vetor\n",
    "\n",
    "\n",
    "lista = [-1, 1, -2, 3, -5, 8]\n",
    "print(B(A(lista)))"
   ]
  }
 ],
 "metadata": {
  "kernelspec": {
   "display_name": "venv",
   "language": "python",
   "name": "python3"
  },
  "language_info": {
   "codemirror_mode": {
    "name": "ipython",
    "version": 3
   },
   "file_extension": ".py",
   "mimetype": "text/x-python",
   "name": "python",
   "nbconvert_exporter": "python",
   "pygments_lexer": "ipython3",
   "version": "3.10.9"
  },
  "papermill": {
   "default_parameters": {},
   "duration": 6.072163,
   "end_time": "2023-12-05T16:56:02.961975",
   "environment_variables": {},
   "exception": null,
   "input_path": "transform.ipynb",
   "output_path": "transform.ipynb",
   "parameters": {},
   "start_time": "2023-12-05T16:55:56.889812",
   "version": "2.4.0"
  }
 },
 "nbformat": 4,
 "nbformat_minor": 5
}